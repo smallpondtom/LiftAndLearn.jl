{
 "cells": [
  {
   "cell_type": "markdown",
   "metadata": {},
   "source": [
    "# KSE EP-OpInf Tests"
   ]
  },
  {
   "cell_type": "code",
   "execution_count": null,
   "metadata": {},
   "outputs": [],
   "source": [
    "using DataFrames\n",
    "using FileIO\n",
    "using JLD2\n",
    "using LaTeXStrings\n",
    "using LinearAlgebra\n",
    "using Plots\n",
    "using Plots.PlotMeasures\n",
    "using ProgressMeter\n",
    "using StatsBase\n",
    "\n",
    "include(\"../src/model/KS.jl\")\n",
    "include(\"../src/LiftAndLearn.jl\")\n",
    "const LnL = LiftAndLearn\n",
    "\n",
    "# Settings for the KS equation\n",
    "KSE = KS(\n",
    "    [0.0, 22.0], [0.0, 300.0], [1.0, 1.0],\n",
    "    512, 0.001, 1, \"ep\"\n",
    ")\n",
    "\n",
    "# WARNING:DO YOU WANT TO SAVE DATA?\n",
    "save_data = true\n",
    "\n",
    "# Create file name to save data\n",
    "datafile = \"data/kse_data_L22.jld2\"\n",
    "testdatafile = \"data/kse_test_data_L22.jld2\"\n",
    "opfile = \"data/kse_operators_L22.jld2\"\n",
    "resultfile = \"data/kse_results_L22.jld2\"\n",
    "testresultfile = \"data/kse_test_results_L22.jld2\"\n",
    "\n",
    "# Downsampling rate\n",
    "DS = 100\n",
    "\n",
    "# Down-sampled dimension of the time data\n",
    "Tdim_ds = size(1:DS:KSE.Tdim, 1)  # downsampled time dimension\n",
    "\n",
    "# Number of random test inputs\n",
    "num_test_ic = 50\n",
    ";"
   ]
  },
  {
   "cell_type": "code",
   "execution_count": null,
   "metadata": {},
   "outputs": [],
   "source": [
    "# Parameterized function for the initial condition\n",
    "L = KSE.Omega[2] - KSE.Omega[1]  # length of the domain\n",
    "u0 = (a,b) -> a * cos.((2*π*KSE.x)/L) .+ b * cos.((4*π*KSE.x)/L)  # initial condition\n",
    ";  "
   ]
  },
  {
   "cell_type": "code",
   "execution_count": null,
   "metadata": {},
   "outputs": [],
   "source": [
    "DATA = load(datafile);\n",
    "TEST_DATA = load(testdatafile);\n",
    "OPS = load(opsfile);"
   ]
  },
  {
   "cell_type": "code",
   "execution_count": null,
   "metadata": {},
   "outputs": [],
   "source": []
  },
  {
   "cell_type": "markdown",
   "metadata": {},
   "source": [
    "## Test 1 "
   ]
  },
  {
   "cell_type": "code",
   "execution_count": null,
   "metadata": {},
   "outputs": [],
   "source": [
    "# Setup the results\n",
    "TEST_RES = Dict{String, Any}()\n",
    "TEST_RES[\"test1_AC\"] = Dict(\n",
    "    :int   => Array{Array{Float64}}(undef, length(ro), KSE.Pdim),\n",
    "    :LS    => Array{Array{Float64}}(undef, length(ro), KSE.Pdim),\n",
    "    :ephec => Array{Array{Float64}}(undef, length(ro), KSE.Pdim),\n",
    "    :fom   => Array{Array{Float64}}(undef, KSE.Pdim)\n",
    ")\n",
    "TEST_RES[\"test2_AC\"] = Dict(\n",
    "    :int   => Array{Array{Float64}}(undef, length(ro), KSE.Pdim),\n",
    "    :LS    => Array{Array{Float64}}(undef, length(ro), KSE.Pdim),\n",
    "    :ephec => Array{Array{Float64}}(undef, length(ro), KSE.Pdim),\n",
    "    :fom   => Array{Array{Float64}}(undef, KSE.Pdim)\n",
    ")\n",
    "TEST_RES[\"test1_LE\"] = Dict(\n",
    "    :int   => Array{Array{Float64}}(undef, length(ro), KSE.Pdim),\n",
    "    :LS    => Array{Array{Float64}}(undef, length(ro), KSE.Pdim),\n",
    "    :ephec => Array{Array{Float64}}(undef, length(ro), KSE.Pdim),\n",
    "    :epsic => Array{Array{Float64}}(undef, length(ro), KSE.Pdim),\n",
    "    :epp   => Array{Array{Float64}}(undef, length(ro), KSE.Pdim),\n",
    "    :fom   => Array{Array{Float64}}(undef, KSE.Pdim)\n",
    ")\n",
    "TEST_RES[\"test2_LE\"] = Dict(\n",
    "    :int   => Array{Array{Float64}}(undef, length(ro), KSE.Pdim),\n",
    "    :LS    => Array{Array{Float64}}(undef, length(ro), KSE.Pdim),\n",
    "    :ephec => Array{Array{Float64}}(undef, length(ro), KSE.Pdim),\n",
    "    :epsic => Array{Array{Float64}}(undef, length(ro), KSE.Pdim),\n",
    "    :epp   => Array{Array{Float64}}(undef, length(ro), KSE.Pdim),\n",
    "    :fom   => Array{Array{Float64}}(undef, KSE.Pdim)\n",
    ")\n",
    "TEST_RES[\"test1_DKY\"] = Dict(\n",
    "    :int   => Array{Float64}(undef, length(ro), KSE.Pdim),\n",
    "    :LS    => Array{Float64}(undef, length(ro), KSE.Pdim),\n",
    "    :ephec => Array{Float64}(undef, length(ro), KSE.Pdim),\n",
    "    :epsic => Array{Float64}(undef, length(ro), KSE.Pdim),\n",
    "    :epp   => Array{Float64}(undef, length(ro), KSE.Pdim),\n",
    "    :fom   => Array{Float64}(undef, KSE.Pdim)\n",
    ")\n",
    "TEST_RES[\"test2_DKY\"] = Dict(\n",
    "    :int   => Array{Float64}(undef, length(ro), KSE.Pdim),\n",
    "    :LS    => Array{Float64}(undef, length(ro), KSE.Pdim),\n",
    "    :ephec => Array{Float64}(undef, length(ro), KSE.Pdim),\n",
    "    :epsic => Array{Float64}(undef, length(ro), KSE.Pdim),\n",
    "    :epp   => Array{Float64}(undef, length(ro), KSE.Pdim),\n",
    "    :fom   => Array{Float64}(undef, KSE.Pdim)\n",
    ")\n",
    "TEST_RES[\"test1_LE_all\"] = Dict(\n",
    "    :int   => Array{Array{Float64}}(undef, length(ro), KSE.Pdim),\n",
    "    :LS    => Array{Array{Float64}}(undef, length(ro), KSE.Pdim),\n",
    "    :ephec => Array{Array{Float64}}(undef, length(ro), KSE.Pdim),\n",
    "    :epsic => Array{Array{Float64}}(undef, length(ro), KSE.Pdim),\n",
    "    :epp   => Array{Array{Float64}}(undef, length(ro), KSE.Pdim),\n",
    "    :fom   => Array{Array{Float64}}(undef, KSE.Pdim)\n",
    ")\n",
    "TEST_RES[\"test2_LE_all\"] = Dict(\n",
    "    :int   => Array{Array{Float64}}(undef, length(ro), KSE.Pdim),\n",
    "    :LS    => Array{Array{Float64}}(undef, length(ro), KSE.Pdim),\n",
    "    :ephec => Array{Array{Float64}}(undef, length(ro), KSE.Pdim),\n",
    "    :epsic => Array{Array{Float64}}(undef, length(ro), KSE.Pdim),\n",
    "    :epp   => Array{Array{Float64}}(undef, length(ro), KSE.Pdim),\n",
    "    :fom   => Array{Array{Float64}}(undef, KSE.Pdim)\n",
    ")\n",
    ";"
   ]
  },
  {
   "cell_type": "code",
   "execution_count": null,
   "metadata": {},
   "outputs": [],
   "source": [
    "lags = 0:KSE_data.DS:Int(floor(KSE.Tdim));"
   ]
  },
  {
   "cell_type": "code",
   "execution_count": null,
   "metadata": {},
   "outputs": [],
   "source": [
    "# FOM\n",
    "foo = zeros(length(lags))\n",
    "bar = length(TEST_DATA[\"ic_a_rand_in\"])\n",
    "prog = Progress(bar)\n",
    "for i in 1:bar\n",
    "    foo .+= analyze_autocorr(KSE, TEST_DATA[\"Xtest_in\"], i, lags)[1]\n",
    "    next!(prog)\n",
    "end\n",
    "TEST_RES[\"test1_AC\"][:fom][1] = foo / bar"
   ]
  },
  {
   "cell_type": "code",
   "execution_count": null,
   "metadata": {},
   "outputs": [],
   "source": [
    "# Least-squares\n",
    "foo = zeros(length(lags), length(DATA[\"ro\"]))\n",
    "bar = length(TEST_DATA[\"ic_a_rand_in\"])\n",
    "prog = Progress(bar)\n",
    "for i in 1:bar\n",
    "    a = TEST_DATA[\"ic_a_rand_in\"][i]\n",
    "    b = TEST_DATA[\"ic_b_rand_in\"][i]\n",
    "\n",
    "    tmp = analyze_autocorr(OPS[\"op_LS\"], KSE, DATA[\"Vr\"], u0(a,b), DATA[\"ro\"], KSE.integrate_FD, lags)\n",
    "    for j in eachindex(DATA[\"ro\"])\n",
    "        foo[:,j] .+= tmp[j,1]\n",
    "    end\n",
    "    next!(prog)\n",
    "end\n",
    "\n",
    "for j in eachindex(DATA[\"ro\"])\n",
    "    TEST_RES[\"test1_AC\"][:LS][j,1] = foo[:,j] / bar\n",
    "end"
   ]
  },
  {
   "cell_type": "code",
   "execution_count": null,
   "metadata": {},
   "outputs": [],
   "source": [
    "# intrusive\n",
    "foo = zeros(length(lags), length(DATA[\"ro\"]))\n",
    "bar = length(TEST_DATA[\"ic_a_rand_in\"])\n",
    "prog = Progress(bar)\n",
    "for i in 1:bar\n",
    "    a = TEST_DATA[\"ic_a_rand_in\"][i]\n",
    "    b = TEST_DATA[\"ic_b_rand_in\"][i]\n",
    "\n",
    "    tmp = analyze_autocorr(OPS[\"op_int\"], KSE, DATA[\"Vr\"], u0(a,b), DATA[\"ro\"], KSE.integrate_FD, lags)\n",
    "    for j in eachindex(DATA[\"ro\"])\n",
    "        foo[:,j] .+= tmp[j,1]\n",
    "    end\n",
    "    next!(prog)\n",
    "end\n",
    "\n",
    "for j in eachindex(DATA[\"ro\"])\n",
    "    TEST_RES[\"test1_AC\"][:int][j,1] = foo[:,j] / bar\n",
    "end"
   ]
  },
  {
   "cell_type": "code",
   "execution_count": null,
   "metadata": {},
   "outputs": [],
   "source": [
    "# ep-opinf\n",
    "foo = zeros(length(lags), length(DATA[\"ro\"]))\n",
    "bar = length(TEST_DATA[\"ic_a_rand_in\"])\n",
    "prog = Progress(bar)\n",
    "for i in 1:bar\n",
    "    a = TEST_DATA[\"ic_a_rand_in\"][i]\n",
    "    b = TEST_DATA[\"ic_b_rand_in\"][i]\n",
    "\n",
    "    tmp = analyze_autocorr(OPS[\"op_ephec\"], KSE, DATA[\"Vr\"], u0(a,b), DATA[\"ro\"], KSE.integrate_FD, lags)\n",
    "    for j in eachindex(DATA[\"ro\"])\n",
    "        foo[:,j] .+= tmp[j,1]\n",
    "    end\n",
    "    next!(prog)\n",
    "end\n",
    "\n",
    "for j in eachindex(DATA[\"ro\"])\n",
    "    TEST_RES[\"test1_AC\"][:ephec][j,1] = foo[:,j] / bar\n",
    "end"
   ]
  },
  {
   "cell_type": "code",
   "execution_count": null,
   "metadata": {},
   "outputs": [],
   "source": [
    "lags_t = collect(lags) .* KSE.Δt\n",
    "idx = length(lags_t) ÷ 2\n",
    "lout = @layout [grid(2,2)]\n",
    "p = plot(layout=lout, size=(1000, 500))\n",
    "for (plot_id, ri) in enumerate([1, 2, 5, 7])\n",
    "    plot!(p[plot_id], lags_t[1:idx], TEST_RES[\"test1_AC\"][:LS][ri][1:idx], c=:black, label=\"opinf\")\n",
    "    plot!(p[plot_id], lags_t[1:idx], TEST_RES[\"test1_AC\"][:int][ri][1:idx], c=:orange, label=\"intrusive\")\n",
    "    plot!(p[plot_id], lags_t[1:idx], TEST_RES[\"test1_AC\"][:ephec][ri][1:idx], c=:blue, ls=:dash, lw=2, label=\"ephec-opinf\")\n",
    "    # plot!(p[plot_id], lags_t, TEST_RES[\"test1_AC\"][:epsic][ri], c=:purple, ls=:dot, label=\"epsic-opinf\")\n",
    "    # plot!(p[plot_id], lags_t, TEST_RES[\"test1_AC\"][:epp][ri], c=:red, lw=1, ls=:dash, label=\"epp-opinf\")\n",
    "    plot!(p[plot_id], lags_t[1:idx], TEST_RES[\"test1_AC\"][:fom][1][1:idx], c=:green, lw=1, ls=:dash, label=\"fom\")\n",
    "    plot!(p[plot_id], fontfamily=\"Computer Modern\", guidefontsize=12, tickfontsize=13)\n",
    "    plot!(p[plot_id], title=\"r = $(DATA[\"ro\"][ri])\", titlefontsize=14, titlefontfamily=\"Computer Modern\")\n",
    "    # xlabel!(p[plot_id], \"lag\")\n",
    "    # ylabel!(p[plot_id], \"normalized autocorrelation\")\n",
    "    yticks!(p[plot_id], [-0.2, 0.0, 0.2, 0.4, 0.6, 0.8, 1.0])\n",
    "\n",
    "    if plot_id == 4\n",
    "        plot!(p[plot_id], legend=:topright, legend_column=2, legendfontsize=12)\n",
    "    else\n",
    "        plot!(p[plot_id], legend=false)\n",
    "    end\n",
    "end\n",
    "plot!(p[1], left_margin=9mm)\n",
    "plot!(p[3], bottom_margin=9mm, left_margin=9mm)\n",
    "plot!(p[4], bottom_margin=9mm)\n",
    "annotate!(p[4], -20, -0.48, \"time lag\", annotationfontsize=16)\n",
    "annotate!(p[1], -30, -0.4, Plots.text(\"normalized autocorrelation\", 16, rotation=90, \"Computer Modern\"))\n",
    "display(p)"
   ]
  },
  {
   "cell_type": "code",
   "execution_count": null,
   "metadata": {},
   "outputs": [],
   "source": [
    "LS_AC_over_r = autocorr_rel_err(RES[\"test1_AC\"][:LS], RES[\"test1_AC\"][:fom])\n",
    "int_AC_over_r = autocorr_rel_err(RES[\"test1_AC\"][:int], RES[\"test1_AC\"][:fom])\n",
    "ephec_AC_over_r = autocorr_rel_err(RES[\"test1_AC\"][:ephec], RES[\"test1_AC\"][:fom])\n",
    ";"
   ]
  },
  {
   "cell_type": "code",
   "execution_count": null,
   "metadata": {},
   "outputs": [],
   "source": [
    "plot(DATA[\"ro\"], LS_AC_over_r, c=:black, marker=(:circle, 3.5, :black), label=\"opinf\")\n",
    "plot!(DATA[\"ro\"], int_AC_over_r, c=:orange, marker=(:cross, 8, :orange), label=\"intrusive\")\n",
    "plot!(DATA[\"ro\"], ephec_AC_over_r, c=:blue, markerstrokecolor=:blue, marker=(:rect, 3), ls=:dash, lw=2, label=\"ep-opinf\")\n",
    "\n",
    "plot!(majorgrid=true, legend=:topright)\n",
    "xlabel!(\"reduced model dimension \" * L\" r\")\n",
    "ylabel!(\"error of normalized autocorrelation\")\n",
    "# yticks!([1e-0, 1e-1, 1e-2, 1e-3])\n",
    "xticks!(DATA[\"ro\"][1]:2:DATA[\"ro\"][end])\n",
    "plot!(left_margin=2mm)\n",
    "plot!(fontfamily=\"Computer Modern\", guidefontsize=13, tickfontsize=13,  legendfontsize=13)\n"
   ]
  },
  {
   "cell_type": "markdown",
   "metadata": {},
   "source": [
    "## Test 2"
   ]
  },
  {
   "cell_type": "code",
   "execution_count": null,
   "metadata": {},
   "outputs": [],
   "source": [
    "lags = 0:KSE_data.DS:Int(floor(KSE.Tdim));"
   ]
  },
  {
   "cell_type": "code",
   "execution_count": null,
   "metadata": {},
   "outputs": [],
   "source": [
    "# FOM\n",
    "foo = zeros(length(lags))\n",
    "bar = length(TEST_DATA[\"ic_a_rand_out\"])\n",
    "prog = Progress(bar)\n",
    "for i in 1:bar\n",
    "    foo .+= analyze_autocorr(KSE, TEST_DATA[\"Xtest_out\"], i, lags)[1]\n",
    "    next!(prog)\n",
    "end\n",
    "TEST_RES[\"test2_AC\"][:fom][1] = foo / bar\n"
   ]
  },
  {
   "cell_type": "code",
   "execution_count": null,
   "metadata": {},
   "outputs": [],
   "source": [
    "# Least-squares\n",
    "foo = zeros(length(lags), length(DATA[\"ro\"]))\n",
    "bar = length(TEST_DATA[\"ic_a_rand_out\"])\n",
    "prog = Progress(bar)\n",
    "for i in 1:bar\n",
    "    a = TEST_DATA[\"ic_a_rand_out\"][i]\n",
    "    b = TEST_DATA[\"ic_b_rand_out\"][i]\n",
    "\n",
    "    tmp = analyze_autocorr(OPS[\"op_LS\"], KSE, DATA[\"Vr\"], u0(a,b), DATA[\"ro\"], KSE.integrate_FD, lags)\n",
    "    for j in eachindex(DATA[\"ro\"])\n",
    "        foo[:,j] .+= tmp[j,1]\n",
    "    end\n",
    "    next!(prog)\n",
    "end\n",
    "\n",
    "for j in eachindex(DATA[\"ro\"])\n",
    "    TEST_RES[\"test2_AC\"][:LS][j,1] = foo[:,j] / bar\n",
    "end\n"
   ]
  },
  {
   "cell_type": "code",
   "execution_count": null,
   "metadata": {},
   "outputs": [],
   "source": [
    "# intrusive\n",
    "foo = zeros(length(lags), length(DATA[\"ro\"]))\n",
    "bar = length(TEST_DATA[\"ic_a_rand_out\"])\n",
    "prog = Progress(bar)\n",
    "for i in 1:bar\n",
    "    a = TEST_DATA[\"ic_a_rand_out\"][i]\n",
    "    b = TEST_DATA[\"ic_b_rand_out\"][i]\n",
    "\n",
    "    tmp = analyze_autocorr(OPS[\"op_int\"], KSE, DATA[\"Vr\"], u0(a,b), DATA[\"ro\"], KSE.integrate_FD, lags)\n",
    "    for j in eachindex(DATA[\"ro\"])\n",
    "        foo[:,j] .+= tmp[j,1]\n",
    "    end\n",
    "    next!(prog)\n",
    "end\n",
    "\n",
    "for j in eachindex(DATA[\"ro\"])\n",
    "    TEST_RES[\"test2_AC\"][:int][j,1] = foo[:,j] / bar\n",
    "end"
   ]
  },
  {
   "cell_type": "code",
   "execution_count": null,
   "metadata": {},
   "outputs": [],
   "source": [
    "# ep-opinf\n",
    "foo = zeros(length(lags), length(DATA[\"ro\"]))\n",
    "bar = length(TEST_DATA[\"ic_a_rand_out\"])\n",
    "prog = Progress(bar)\n",
    "for i in 1:bar\n",
    "    a = TEST_DATA[\"ic_a_rand_out\"][i]\n",
    "    b = TEST_DATA[\"ic_b_rand_out\"][i]\n",
    "\n",
    "    tmp = analyze_autocorr(OPS[\"op_ephec\"], KSE, DATA[\"Vr\"], u0(a,b), DATA[\"ro\"], KSE.integrate_FD, lags)\n",
    "    for j in eachindex(DATA[\"ro\"])\n",
    "        foo[:,j] .+= tmp[j,1]\n",
    "    end\n",
    "    next!(prog)\n",
    "end\n",
    "\n",
    "for j in eachindex(DATA[\"ro\"])\n",
    "    TEST_RES[\"test2_AC\"][:ephec][j,1] = foo[:,j] / bar\n",
    "end\n"
   ]
  },
  {
   "cell_type": "code",
   "execution_count": null,
   "metadata": {},
   "outputs": [],
   "source": [
    "lags_t = collect(lags) .* KSE.Δt\n",
    "idx = length(lags_t) ÷ 2\n",
    "lout = @layout [grid(2,2)]\n",
    "p = plot(layout=lout, size=(1000, 500))\n",
    "for (plot_id, ri) in enumerate([1, 2, 5, 7])\n",
    "    plot!(p[plot_id], lags_t[1:idx], TEST_RES[\"test2_AC\"][:LS][ri][1:idx], c=:black, label=\"opinf\")\n",
    "    plot!(p[plot_id], lags_t[1:idx], TEST_RES[\"test2_AC\"][:int][ri][1:idx], c=:orange, label=\"intrusive\")\n",
    "    plot!(p[plot_id], lags_t[1:idx], TEST_RES[\"test2_AC\"][:ephec][ri][1:idx], c=:blue, ls=:dash, lw=2, label=\"ephec-opinf\")\n",
    "    # plot!(p[plot_id], lags_t, TEST_RES[\"test2_AC\"][:epsic][ri], c=:purple, ls=:dot, label=\"epsic-opinf\")\n",
    "    # plot!(p[plot_id], lags_t, TEST_RES[\"test2_AC\"][:epp][ri], c=:red, lw=1, ls=:dash, label=\"epp-opinf\")\n",
    "    plot!(p[plot_id], lags_t[1:idx], TEST_RES[\"test2_AC\"][:fom][1][1:idx], c=:green, lw=1, ls=:dash, label=\"fom\")\n",
    "    plot!(p[plot_id], fontfamily=\"Computer Modern\", guidefontsize=12, tickfontsize=13)\n",
    "    plot!(p[plot_id], title=\"r = $(DATA[\"ro\"][ri])\", titlefontsize=14, titlefontfamily=\"Computer Modern\")\n",
    "    # xlabel!(p[plot_id], \"lag\")\n",
    "    # ylabel!(p[plot_id], \"normalized autocorrelation\")\n",
    "    yticks!(p[plot_id], [-0.2, 0.0, 0.2, 0.4, 0.6, 0.8, 1.0])\n",
    "\n",
    "    if plot_id == 4\n",
    "        plot!(p[plot_id], legend=:topright, legend_column=2, legendfontsize=12)\n",
    "    else\n",
    "        plot!(p[plot_id], legend=false)\n",
    "    end\n",
    "end\n",
    "plot!(p[1], left_margin=9mm)\n",
    "plot!(p[3], bottom_margin=9mm, left_margin=9mm)\n",
    "plot!(p[4], bottom_margin=9mm)\n",
    "annotate!(p[4], -20, -0.48, \"time lag\", annotationfontsize=16)\n",
    "annotate!(p[1], -30, -0.4, Plots.text(\"normalized autocorrelation\", 16, rotation=90, \"Computer Modern\"))\n",
    "display(p)\n"
   ]
  },
  {
   "cell_type": "code",
   "execution_count": null,
   "metadata": {},
   "outputs": [],
   "source": [
    "LS_AC_over_r = autocorr_rel_err(RES[\"test2_AC\"][:LS], RES[\"test2_AC\"][:fom])\n",
    "int_AC_over_r = autocorr_rel_err(RES[\"test2_AC\"][:int], RES[\"test2_AC\"][:fom])\n",
    "ephec_AC_over_r = autocorr_rel_err(RES[\"test2_AC\"][:ephec], RES[\"test2_AC\"][:fom])\n",
    ";"
   ]
  },
  {
   "cell_type": "code",
   "execution_count": null,
   "metadata": {},
   "outputs": [],
   "source": [
    "plot(DATA[\"ro\"], LS_AC_over_r, c=:black, marker=(:circle, 3.5, :black), label=\"opinf\")\n",
    "plot!(DATA[\"ro\"], int_AC_over_r, c=:orange, marker=(:cross, 8, :orange), label=\"intrusive\")\n",
    "plot!(DATA[\"ro\"], ephec_AC_over_r, c=:blue, markerstrokecolor=:blue, marker=(:rect, 3), ls=:dash, lw=2, label=\"ep-opinf\")\n",
    "\n",
    "plot!(majorgrid=true, legend=:topright)\n",
    "xlabel!(\"reduced model dimension \" * L\" r\")\n",
    "ylabel!(\"error of normalized autocorrelation\")\n",
    "# yticks!([1e-0, 1e-1, 1e-2, 1e-3])\n",
    "xticks!(DATA[\"ro\"][1]:2:DATA[\"ro\"][end])\n",
    "plot!(left_margin=2mm)\n",
    "plot!(fontfamily=\"Computer Modern\", guidefontsize=13, tickfontsize=13,  legendfontsize=13)"
   ]
  }
 ],
 "metadata": {
  "kernelspec": {
   "display_name": "Julia 1.8.5",
   "language": "julia",
   "name": "julia-1.8"
  },
  "language_info": {
   "name": "julia"
  }
 },
 "nbformat": 4,
 "nbformat_minor": 2
}
