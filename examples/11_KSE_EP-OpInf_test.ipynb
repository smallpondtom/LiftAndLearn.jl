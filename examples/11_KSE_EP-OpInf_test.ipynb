{
 "cells": [
  {
   "cell_type": "markdown",
   "metadata": {},
   "source": [
    "# KSE EP-OpInf Tests"
   ]
  },
  {
   "cell_type": "code",
   "execution_count": 1,
   "metadata": {},
   "outputs": [],
   "source": [
    "using DataFrames\n",
    "using FileIO\n",
    "using JLD2\n",
    "using LaTeXStrings\n",
    "using LinearAlgebra\n",
    "using Plots\n",
    "using Plots.PlotMeasures\n",
    "using ProgressMeter\n",
    "using StatsBase\n",
    "\n",
    "include(\"../src/model/KS.jl\")\n",
    "include(\"../src/LiftAndLearn.jl\")\n",
    "const LnL = LiftAndLearn\n",
    "\n",
    "# Settings for the KS equation\n",
    "KSE = KS(\n",
    "    [0.0, 22.0], [0.0, 300.0], [1.0, 1.0],\n",
    "    512, 0.001, 1, \"ep\"\n",
    ")\n",
    "\n",
    "# Create file name to save data\n",
    "datafile = \"data/kse_data_L22.jld2\"\n",
    "opfile = \"data/kse_operators_L22.jld2\"\n",
    "resultfile = \"data/kse_results_L22.jld2\"\n",
    "testresultfile = \"data/kse_test_results_L22.jld2\"\n",
    "testicfile = \"data/kse_test_ics_L22.jld2\"\n",
    "\n",
    "# Downsampling rate\n",
    "DS = 100\n",
    "\n",
    "# Down-sampled dimension of the time data\n",
    "Tdim_ds = size(1:DS:KSE.Tdim, 1)  # downsampled time dimension\n",
    "\n",
    "# Number of random test inputs\n",
    "num_test_ic = 50\n",
    "\n",
    "# Training initial conditions\n",
    "ic_a = [0.8, 1.0, 1.2]\n",
    "ic_b = [0.2, 0.4, 0.6]\n",
    ";"
   ]
  },
  {
   "cell_type": "code",
   "execution_count": 2,
   "metadata": {},
   "outputs": [],
   "source": [
    "# Parameterized function for the initial condition\n",
    "L = KSE.Omega[2] - KSE.Omega[1]  # length of the domain\n",
    "u0 = (a,b) -> a * cos.((2*π*KSE.x)/L) .+ b * cos.((4*π*KSE.x)/L)  # initial condition\n",
    ";  "
   ]
  },
  {
   "cell_type": "code",
   "execution_count": null,
   "metadata": {},
   "outputs": [],
   "source": [
    "TEST_RES = load(testresultfile)\n",
    ";"
   ]
  },
  {
   "cell_type": "code",
   "execution_count": 3,
   "metadata": {},
   "outputs": [],
   "source": [
    "DATA = load(datafile)\n",
    "OPS = load(opfile)\n",
    ";"
   ]
  },
  {
   "cell_type": "markdown",
   "metadata": {},
   "source": [
    "## Functions"
   ]
  },
  {
   "cell_type": "code",
   "execution_count": 4,
   "metadata": {},
   "outputs": [],
   "source": [
    "function analyze_autocorr(op, model, Vr_all, IC, ro, integrator, lags)\n",
    "\n",
    "    # auto_correletion\n",
    "    auto_correlation = Array{Array{Float64}}(undef, length(ro), model.Pdim)\n",
    "\n",
    "    for i in eachindex(model.μs)\n",
    "        Threads.@threads for (j,r) in collect(enumerate(ro))\n",
    "            Vr = Vr_all[i][:, 1:r]\n",
    "\n",
    "            Fextract = LnL.extractF(op[i].F, r)\n",
    "            X = integrator(op[i].A[1:r, 1:r], Fextract, model.t, Vr' * IC)\n",
    "            Xrecon = Vr * X\n",
    "            @inbounds auto_correlation[j, i] = tmean_autocorr(Xrecon, lags)\n",
    "        end\n",
    "    end\n",
    "    return auto_correlation\n",
    "end\n",
    "\n",
    "\n",
    "function tmean_autocorr(X::AbstractArray, lags::AbstractVector)\n",
    "    N, K = size(X)\n",
    "    M = length(lags)\n",
    "    Cx = zeros((N, M))\n",
    "    \n",
    "    for i in 1:N  # normalzied autocorrelation\n",
    "        @inbounds Cx[i,:] = autocor(X[i,:], lags)\n",
    "    end\n",
    "    return vec(mean(Cx, dims=1))\n",
    "end\n",
    ";"
   ]
  },
  {
   "cell_type": "markdown",
   "metadata": {},
   "source": [
    "## Test 1 "
   ]
  },
  {
   "cell_type": "code",
   "execution_count": 5,
   "metadata": {},
   "outputs": [],
   "source": [
    "# Setup the results\n",
    "TEST_RES = Dict{String, Any}()\n",
    "TEST_RES[\"test1_AC\"] = Dict(\n",
    "    :int   => Array{Array{Float64}}(undef, length(DATA[\"ro\"]), KSE.Pdim),\n",
    "    :LS    => Array{Array{Float64}}(undef, length(DATA[\"ro\"]), KSE.Pdim),\n",
    "    :ephec => Array{Array{Float64}}(undef, length(DATA[\"ro\"]), KSE.Pdim),\n",
    "    :fom   => Array{Array{Float64}}(undef, KSE.Pdim)\n",
    ")\n",
    "TEST_RES[\"test1_AC_ERR\"] = Dict(\n",
    "    :int   => Array{Float64}(undef, length(DATA[\"ro\"]), KSE.Pdim),\n",
    "    :LS    => Array{Float64}(undef, length(DATA[\"ro\"]), KSE.Pdim),\n",
    "    :ephec => Array{Float64}(undef, length(DATA[\"ro\"]), KSE.Pdim),\n",
    ");"
   ]
  },
  {
   "cell_type": "code",
   "execution_count": 6,
   "metadata": {},
   "outputs": [
    {
     "name": "stderr",
     "output_type": "stream",
     "text": [
      "\r\u001b[32mProgress:   4%|██                                       |  ETA: 1 days, 13:07:24\u001b[39m\u001b[K\r\u001b[32mProgress:  22%|██████████                               |  ETA: 7:11:02\u001b[39m\u001b[K\r\u001b[32mProgress:  24%|██████████                               |  ETA: 6:31:00\u001b[39m\u001b[K"
     ]
    },
    {
     "name": "stderr",
     "output_type": "stream",
     "text": [
      "\r"
     ]
    },
    {
     "name": "stderr",
     "output_type": "stream",
     "text": [
      "\u001b[32mProgress:  26%|███████████                              |  ETA: 10:22:21\u001b[39m\u001b[K"
     ]
    },
    {
     "name": "stderr",
     "output_type": "stream",
     "text": [
      "\r\u001b[32mProgress:  42%|██████████████████                       |  ETA: 5:36:07\u001b[39m\u001b[K\r\u001b[32mProgress:  44%|███████████████████                      |  ETA: 5:10:15\u001b[39m\u001b[K\r\u001b[32mProgress:  46%|███████████████████                      |  ETA: 4:46:30\u001b[39m\u001b[K"
     ]
    },
    {
     "name": "stderr",
     "output_type": "stream",
     "text": [
      "\r\u001b[32mProgress:  48%|████████████████████                     |  ETA: 4:24:35\u001b[39m\u001b[K"
     ]
    },
    {
     "name": "stderr",
     "output_type": "stream",
     "text": [
      "\r\u001b[32mProgress:  50%|█████████████████████                    |  ETA: 5:28:41\u001b[39m"
     ]
    },
    {
     "name": "stderr",
     "output_type": "stream",
     "text": [
      "\u001b[K"
     ]
    },
    {
     "name": "stderr",
     "output_type": "stream",
     "text": [
      "\r"
     ]
    },
    {
     "name": "stderr",
     "output_type": "stream",
     "text": [
      "\u001b[32mProgress:  74%|███████████████████████████████          |  ETA: 2:35:01\u001b[39m"
     ]
    },
    {
     "name": "stderr",
     "output_type": "stream",
     "text": [
      "\u001b[K"
     ]
    },
    {
     "name": "stderr",
     "output_type": "stream",
     "text": [
      "\r\u001b[32mProgress:  98%|█████████████████████████████████████████|  ETA: 0:09:50\u001b[39m\u001b[K"
     ]
    },
    {
     "name": "stderr",
     "output_type": "stream",
     "text": [
      "\r\u001b[32mProgress: 100%|█████████████████████████████████████████| Time: 8:02:44\u001b[39m\u001b[K\n"
     ]
    }
   ],
   "source": [
    "# Generate random initial condition parameters\n",
    "ic_a_rand_in = (maximum(ic_a) - minimum(ic_a)) .* rand(num_test_ic) .+ minimum(ic_a)\n",
    "ic_b_rand_in = (maximum(ic_b) - minimum(ic_b)) .* rand(num_test_ic) .+ minimum(ic_b)\n",
    "\n",
    "i = 1\n",
    "μ = KSE.μs[i]\n",
    "\n",
    "# Generate the FOM system matrices (ONLY DEPENDS ON μ)\n",
    "A = DATA[\"op_fom_tr\"][i].A\n",
    "F = DATA[\"op_fom_tr\"][i].F\n",
    "\n",
    "# lag for autocorrelation\n",
    "lags = 0:DS:(KSE.Tdim ÷ 2)\n",
    "idx = length(lags)\n",
    "\n",
    "# Store some arrays\n",
    "fom_ac1 = zeros(length(lags))\n",
    "int_ac1 = zeros(length(lags), length(DATA[\"ro\"]))\n",
    "LS_ac1 = zeros(length(lags), length(DATA[\"ro\"]))\n",
    "ephec_ac1 = zeros(length(lags), length(DATA[\"ro\"]))\n",
    "\n",
    "int_ac_err1 = zeros(length(DATA[\"ro\"]))\n",
    "LS_ac_err1 = zeros(length(DATA[\"ro\"]))\n",
    "ephec_ac_err1 = zeros(length(DATA[\"ro\"]))\n",
    "\n",
    "# Generate the data for all combinations of the initial condition parameters\n",
    "prog = Progress(num_test_ic)\n",
    "Threads.@threads for j in 1:num_test_ic  \n",
    "    # generate test 1 data\n",
    "    a = ic_a_rand_in[j]\n",
    "    b = ic_b_rand_in[j]\n",
    "    IC = u0(a,b)\n",
    "    Xtest_in = KSE.integrate_FD(A, F, KSE.t, IC)\n",
    "\n",
    "    # compute autocorrelation of FOM\n",
    "    fom_ac_j = tmean_autocorr(Xtest_in, lags)\n",
    "    fom_ac1 .+= fom_ac_j\n",
    "\n",
    "    # compute autocorrelation of ROMs\n",
    "    int_ac_tmp = analyze_autocorr(OPS[\"op_int\"], KSE, DATA[\"Vr\"], IC, DATA[\"ro\"], KSE.integrate_FD, lags)\n",
    "    LS_ac_tmp = analyze_autocorr(OPS[\"op_LS\"], KSE, DATA[\"Vr\"], IC, DATA[\"ro\"], KSE.integrate_FD, lags)\n",
    "    ephec_ac_tmp = analyze_autocorr(OPS[\"op_ephec\"], KSE, DATA[\"Vr\"], IC, DATA[\"ro\"], KSE.integrate_FD, lags)\n",
    "    for r in eachindex(DATA[\"ro\"])\n",
    "        int_ac_err1[r] += norm(int_ac_tmp[r,1] - fom_ac_j, 2) / norm(fom_ac_j, 2)\n",
    "        int_ac1[:,r] .+= int_ac_tmp[r,1]\n",
    "\n",
    "        LS_ac_err1[r] += norm(LS_ac_tmp[r,1] - fom_ac_j, 2) / norm(fom_ac_j, 2)\n",
    "        LS_ac1[:,r] .+= LS_ac_tmp[r,1]\n",
    "\n",
    "        ephec_ac_err1[r] += norm(ephec_ac_tmp[r,1] - fom_ac_j, 2) / norm(fom_ac_j, 2)\n",
    "        ephec_ac1[:,r] .+= ephec_ac_tmp[r,1]\n",
    "    end\n",
    "    next!(prog)\n",
    "end\n",
    "\n",
    "# Compute the average of all initial conditions as the final result\n",
    "TEST_RES[\"test1_AC\"][:fom][1] = fom_ac1 ./ num_test_ic\n",
    "for r in eachindex(DATA[\"ro\"])\n",
    "    TEST_RES[\"test1_AC\"][:int][r,1] = int_ac1[:,r] / num_test_ic\n",
    "    TEST_RES[\"test1_AC\"][:LS][r,1] = LS_ac1[:,r] / num_test_ic\n",
    "    TEST_RES[\"test1_AC\"][:ephec][r,1] = ephec_ac1[:,r] / num_test_ic\n",
    "\n",
    "    TEST_RES[\"test1_AC_ERR\"][:int][r,1] = int_ac_err1[r] / num_test_ic\n",
    "    TEST_RES[\"test1_AC_ERR\"][:LS][r,1] = LS_ac_err1[r] / num_test_ic\n",
    "    TEST_RES[\"test1_AC_ERR\"][:ephec][r,1] = ephec_ac_err1[r] / num_test_ic\n",
    "end"
   ]
  },
  {
   "cell_type": "code",
   "execution_count": 5,
   "metadata": {},
   "outputs": [],
   "source": [
    "save(testresultfile, TEST_RES)"
   ]
  },
  {
   "cell_type": "code",
   "execution_count": 67,
   "metadata": {},
   "outputs": [
    {
     "data": {
      "text/plain": [
       "\"c:\\\\Users\\\\tkoike3\\\\Code\\\\LiftAndLearn.jl\\\\examples\\\\test1_ac4.pdf\""
      ]
     },
     "metadata": {},
     "output_type": "display_data"
    }
   ],
   "source": [
    "lags_t = collect(lags) .* KSE.Δt\n",
    "idx = length(lags_t)\n",
    "lout = @layout [grid(2,2)]\n",
    "p = plot(layout=lout, size=(1000, 500), plot_title=\"Test 1: interpolation\")\n",
    "for (plot_id, ri) in enumerate([1, 2, 5, 7])\n",
    "    plot!(p[plot_id], lags_t[1:idx], TEST_RES[\"test1_AC\"][:LS][ri][1:idx], c=:black, label=\"opinf\")\n",
    "    plot!(p[plot_id], lags_t[1:idx], TEST_RES[\"test1_AC\"][:int][ri][1:idx], c=:orange, label=\"intrusive\")\n",
    "    plot!(p[plot_id], lags_t[1:idx], TEST_RES[\"test1_AC\"][:ephec][ri][1:idx], c=:blue, ls=:dash, lw=2, label=\"ep-opinf\")\n",
    "    # plot!(p[plot_id], lags_t, TEST_RES[\"test1_AC\"][:epsic][ri], c=:purple, ls=:dot, label=\"epsic-opinf\")\n",
    "    # plot!(p[plot_id], lags_t, TEST_RES[\"test1_AC\"][:epp][ri], c=:red, lw=1, ls=:dash, label=\"epp-opinf\")\n",
    "    plot!(p[plot_id], lags_t[1:idx], TEST_RES[\"test1_AC\"][:fom][1][1:idx], c=:green, lw=1, ls=:dash, label=\"full\")\n",
    "    plot!(p[plot_id], fontfamily=\"Computer Modern\", guidefontsize=12, tickfontsize=13)\n",
    "    plot!(p[plot_id], title=\"r = $(DATA[\"ro\"][ri])\", titlefontsize=14, titlefontfamily=\"Computer Modern\")\n",
    "    # xlabel!(p[plot_id], \"lag\")\n",
    "    # ylabel!(p[plot_id], \"normalized autocorrelation\")\n",
    "    yticks!(p[plot_id], [-0.2, 0.0, 0.2, 0.4, 0.6, 0.8, 1.0])\n",
    "\n",
    "    if plot_id == 4\n",
    "        plot!(p[plot_id], legend=:topright, legend_column=2, legendfontsize=13)\n",
    "    else\n",
    "        plot!(p[plot_id], legend=false)\n",
    "    end\n",
    "end\n",
    "plot!(p[1], left_margin=9mm)\n",
    "plot!(p[3], bottom_margin=10mm, left_margin=9mm)\n",
    "plot!(p[4], bottom_margin=10mm)\n",
    "annotate!(p[4], -20, -0.45, \"time lag\", annotationfontsize=16)\n",
    "annotate!(p[1], -30, -0.40, Plots.text(\"average normalized autocorrelation\", 16, rotation=90, \"Computer Modern\"))\n",
    "savefig(p, \"test1_ac4.pdf\")"
   ]
  },
  {
   "cell_type": "code",
   "execution_count": 33,
   "metadata": {},
   "outputs": [
    {
     "data": {
      "text/plain": [
       "\"c:\\\\Users\\\\tkoike3\\\\Code\\\\LiftAndLearn.jl\\\\examples\\\\test1_ac_err.pdf\""
      ]
     },
     "metadata": {},
     "output_type": "display_data"
    }
   ],
   "source": [
    "p = plot(DATA[\"ro\"], TEST_RES[\"test1_AC_ERR\"][:LS], c=:black, marker=(:circle, 3.5, :black), label=\"opinf\")\n",
    "plot!(DATA[\"ro\"], TEST_RES[\"test1_AC_ERR\"][:int], c=:orange, marker=(:cross, 8, :orange), label=\"intrusive\")\n",
    "plot!(DATA[\"ro\"], TEST_RES[\"test1_AC_ERR\"][:ephec], c=:blue, markerstrokecolor=:blue, marker=(:rect, 3), ls=:dash, lw=2, label=\"ep-opinf\")\n",
    "\n",
    "plot!(majorgrid=true, legend=:topright)\n",
    "xlabel!(\"reduced model dimension \" * L\" r\")\n",
    "ylabel!(\"avg normalized autocorrelation error\")\n",
    "# yticks!([1e-0, 1e-1, 1e-2, 1e-3])\n",
    "title!(\"Test 1: interpolation\")\n",
    "xticks!(DATA[\"ro\"][1]:2:DATA[\"ro\"][end])\n",
    "ylims!((0.2, 0.75))\n",
    "plot!(left_margin=2mm)\n",
    "plot!(fontfamily=\"Computer Modern\", guidefontsize=13, tickfontsize=13,  legendfontsize=13)\n",
    "savefig(p, \"test1_ac_err.pdf\")"
   ]
  },
  {
   "cell_type": "code",
   "execution_count": 63,
   "metadata": {},
   "outputs": [
    {
     "name": "stdout",
     "output_type": "stream",
     "text": [
      "a = 1.1140757304907225, b = 0.5134537566333595\n"
     ]
    },
    {
     "data": {
      "text/plain": [
       "24×300001 Matrix{Float64}:\n",
       "  -5.18837       -5.19193       -5.19549      …  -4.87138     -4.87126\n",
       "   0.0525354      0.0548358      0.05714         -9.00266     -9.00416\n",
       "  -6.0728        -6.07244       -6.07207         14.8551      14.8545\n",
       "  -2.83411       -2.83154       -2.82897          6.43634      6.43653\n",
       "  -0.0635653     -0.0625823     -0.0615945       -9.9037      -9.90336\n",
       "  -1.85246       -1.85189       -1.85133      …   0.466549     0.465661\n",
       " -17.1913       -17.1933       -17.1953           2.65         2.64939\n",
       "   3.69899        3.69779        3.69659         -1.47896     -1.47883\n",
       "  -0.644672      -0.644977      -0.645281         0.0459288    0.0462565\n",
       "  -0.377107      -0.377143      -0.377182        -3.03733     -3.03787\n",
       "   ⋮                                          ⋱                ⋮\n",
       "   0.0449145      0.0449086      0.0449027    …  -0.113901    -0.113948\n",
       "   0.0207714      0.0207694      0.0207675       -0.0113709   -0.0113458\n",
       "  -0.00149496    -0.00149317    -0.00149139      -0.12359     -0.123606\n",
       "   0.00374782     0.00374641     0.003745         0.0211372    0.021136\n",
       "   0.00751046     0.00751244     0.00751444      -0.0243875   -0.024371\n",
       "  -0.00127868    -0.0012799     -0.00128106   …   0.019413     0.0194108\n",
       "  -2.66545e-5    -2.7312e-5     -2.79167e-5       0.0193797    0.019384\n",
       "  -0.000951569   -0.000951796   -0.000952001      0.00096414   0.000962162\n",
       "  -0.00052207    -0.00052202    -0.000522038     -0.00222143  -0.00222002"
      ]
     },
     "metadata": {},
     "output_type": "display_data"
    }
   ],
   "source": [
    "i = 25\n",
    "r = DATA[\"ro\"][end]\n",
    "\n",
    "# Random input within the training region\n",
    "println(\"a = $(ic_a_rand_in[i]), b = $(ic_b_rand_in[i])\")\n",
    "ic = u0(ic_a_rand_in[i], ic_b_rand_in[i])\n",
    "\n",
    "Vr = DATA[\"Vr\"][1][:, 1:r]\n",
    "\n",
    "X_fom = KSE.integrate_FD(DATA[\"op_fom_tr\"][1].A, DATA[\"op_fom_tr\"][1].F, KSE.t, ic)\n",
    "X_int = KSE.integrate_FD(OPS[\"op_int\"][1].A[1:r, 1:r], LnL.extractF(OPS[\"op_int\"][1].F, r), KSE.t, Vr' * ic)\n",
    "X_LS = KSE.integrate_FD(OPS[\"op_LS\"][1].A[1:r, 1:r], LnL.extractF(OPS[\"op_LS\"][1].F, r), KSE.t, Vr' * ic)\n",
    "X_ephec = KSE.integrate_FD(OPS[\"op_ephec\"][1].A[1:r, 1:r], LnL.extractF(OPS[\"op_ephec\"][1].F, r), KSE.t, Vr' * ic)\n",
    "# X_epsic = KSE.integrate_FD(OPS[\"op_epsic\"][1].A[1:r, 1:r], LnL.extractF(OPS[\"op_epsic\"][1].F, r), KSE.t, Vr' * ic)\n",
    "# X_epp = KSE.integrate_FD(OPS[\"op_epp\"][1].A[1:r, 1:r], LnL.extractF(OPS[\"op_epp\"][1].F, r), KSE.t, Vr' * ic)\n",
    ";"
   ]
  },
  {
   "cell_type": "code",
   "execution_count": null,
   "metadata": {},
   "outputs": [],
   "source": [
    "# lout = @layout [a{0.3h}; [grid(2,2)]]\n",
    "lout = @layout [grid(4,2)]\n",
    "p_fom = plot(\n",
    "    contourf(KSE.t[1:DS:end], KSE.x, X_fom[:, 1:DS:end], lw=0,), \n",
    "    colorbar_ticks=(-3:3), yticks=(0:5:20), ylims=(0,22), \n",
    "    #right_margin=-3mm, left_margin=3mm, \n",
    "    left_margin=7mm,\n",
    "    ylabel=\"full\" * \"\\n\" * L\"x\"\n",
    ")\n",
    "pblank = plot(\n",
    "    legend=false,grid=false,foreground_color_subplot=:white, \n",
    "    left_margin=-3mm, right_margin=-3mm,\n",
    ")\n",
    "p_int = plot(\n",
    "    contourf(KSE.t[1:DS:end], KSE.x, Vr * X_int[:, 1:DS:end], lw=0), \n",
    "    colorbar_ticks=(-3:3), yticks=(0:5:20), ylims=(0,22), \n",
    "    #right_margin=-3mm, left_margin=3mm, top_margin=-2mm,\n",
    "    left_margin=7mm,\n",
    "    ylabel=\"intrusive\" * \"\\n\" * L\"x\", \n",
    ")\n",
    "p_int_err = plot(\n",
    "    contourf(KSE.t[1:DS:end], KSE.x, abs.(X_fom[:, 1:DS:end] .- Vr * X_int[:, 1:DS:end]), lw=0, color=:roma), \n",
    "    yticks=(0:5:20), ylims=(0,22), colorbar_ticks=(0:0.5:5), clim=(0,5), \n",
    "    #left_margin=-3mm, right_margin=-3mm,\n",
    ")\n",
    "p_LS = plot(\n",
    "    contourf(KSE.t[1:DS:end], KSE.x, Vr * X_LS[:, 1:DS:end], lw=0), \n",
    "    colorbar_ticks=(-3:3), yticks=(0:5:20), ylims=(0,22), \n",
    "    #right_margin=-3mm, left_margin=3mm, top_margin=-2mm,\n",
    "    left_margin=7mm,\n",
    "    ylabel=\"opinf\" * \"\\n\" * L\"x\",\n",
    ")\n",
    "p_LS_err = plot(\n",
    "    contourf(KSE.t[1:DS:end], KSE.x, abs.(X_fom[:, 1:DS:end] .- Vr * X_LS[:, 1:DS:end]), lw=0, color=:roma), \n",
    "    yticks=(0:5:20), ylims=(0,22),  colorbar_ticks=(0:0.5:5), clim=(0,5), \n",
    "    #left_margin=-3mm, right_margin=-3mm, top_margin=-2mm\n",
    ")\n",
    "p_ephec = plot(\n",
    "    contourf(KSE.t[1:DS:end], KSE.x, Vr * X_ephec[:, 1:DS:end], lw=0), \n",
    "    colorbar_ticks=(-3:3), yticks=(0:5:20), ylims=(0,22), \n",
    "    #right_margin=-3mm, left_margin=3mm,  bottom_margin=7mm, top_margin=-2mm,\n",
    "    bottom_margin=5mm, left_margin=7mm,\n",
    "    ylabel=\"ep-opinf\" * \"\\n\" * L\"x\", xlabel=L\"t\"\n",
    ")\n",
    "p_ephec_err = plot(\n",
    "    contourf(KSE.t[1:DS:end], KSE.x, abs.(X_fom[:, 1:DS:end] .- Vr * X_ephec[:, 1:DS:end]), lw=0, color=:roma), \n",
    "    yticks=(0:5:20), ylims=(0,22), colorbar_ticks=(0:0.5:5), clim=(0,5), \n",
    "    #left_margin=-3mm, right_margin=-3mm, bottom_margin=7mm,  top_margin=-2mm,\n",
    "    bottom_margin=5mm,\n",
    "    xlabel=L\"t\", \n",
    ")\n",
    "# p_epsic = plot(contourf(KSE.t[1:DS:end], KSE.x, Vr * X_epsic[:, 1:DS:end], lw=0), colorbar_ticks=(-3:3), clim=(-3,3), yticks=(0:5:20), ylims=(0,20))\n",
    "# p_epsic_err = plot(contourf(KSE.t[1:DS:end], KSE.x, abs.(DATA[\"Xtr_all\"][i][:, 1:DS:end] .- Vr * X_epsic[:, 1:DS:end]), lw=0, color=:roma), yticks=(0:5:20), ylims=(0,20), colorbar_ticks=(0:0.5:5), clim=(0,5))\n",
    "# p_epp = plot(contourf(KSE.t[1:DS:end], KSE.x, Vr * X_epp[:, 1:DS:end], lw=0), colorbar_ticks=(-3:3), clim=(-3,3), yticks=(0:5:20), ylims=(0,20))\n",
    "# p_epp_err = plot(contourf(KSE.t[1:DS:end], KSE.x, abs.(DATA[\"Xtr_all\"][i][:, 1:DS:end] .- Vr * X_epp[:, 1:DS:end]), lw=0, color=:roma), yticks=(0:5:20), ylims=(0,20), colorbar_ticks=(0:0.5:5), clim=(0,5))\n",
    "\n",
    "plot(\n",
    "    p_fom, pblank, \n",
    "    p_int, p_int_err,\n",
    "    p_LS, p_LS_err,\n",
    "    p_ephec, p_ephec_err,\n",
    "    # p_epsic, p_epsic_err,\n",
    "    # p_epp, p_epp_err, \n",
    "    fontfamily=\"Computer Modern\", layout=lout, \n",
    "    size=(1200, 650),\n",
    "    guidefontsize=14, tickfontsize=10,\n",
    "    plot_title=\"Test 1: interpolation\"\n",
    ")"
   ]
  },
  {
   "cell_type": "markdown",
   "metadata": {},
   "source": [
    "## Test 2"
   ]
  },
  {
   "cell_type": "code",
   "execution_count": 8,
   "metadata": {},
   "outputs": [],
   "source": [
    "TEST_RES[\"test2_AC\"] = Dict(\n",
    "    :int   => Array{Array{Float64}}(undef, length(DATA[\"ro\"]), KSE.Pdim),\n",
    "    :LS    => Array{Array{Float64}}(undef, length(DATA[\"ro\"]), KSE.Pdim),\n",
    "    :ephec => Array{Array{Float64}}(undef, length(DATA[\"ro\"]), KSE.Pdim),\n",
    "    :fom   => Array{Array{Float64}}(undef, KSE.Pdim)\n",
    ")\n",
    "TEST_RES[\"test2_AC_ERR\"] = Dict(\n",
    "    :int   => Array{Float64}(undef, length(DATA[\"ro\"]), KSE.Pdim),\n",
    "    :LS    => Array{Float64}(undef, length(DATA[\"ro\"]), KSE.Pdim),\n",
    "    :ephec => Array{Float64}(undef, length(DATA[\"ro\"]), KSE.Pdim),\n",
    ");"
   ]
  },
  {
   "cell_type": "code",
   "execution_count": 9,
   "metadata": {},
   "outputs": [
    {
     "name": "stderr",
     "output_type": "stream",
     "text": [
      "\r\u001b[32mProgress:   4%|██                                       |  ETA: 1 days, 16:19:21\u001b[39m"
     ]
    },
    {
     "name": "stderr",
     "output_type": "stream",
     "text": [
      "\u001b[K"
     ]
    },
    {
     "name": "stderr",
     "output_type": "stream",
     "text": [
      "\r"
     ]
    },
    {
     "name": "stderr",
     "output_type": "stream",
     "text": [
      "\u001b[32mProgress:  26%|███████████                              |  ETA: 9:24:44\u001b[39m\u001b[K"
     ]
    },
    {
     "name": "stderr",
     "output_type": "stream",
     "text": [
      "\r"
     ]
    },
    {
     "name": "stderr",
     "output_type": "stream",
     "text": [
      "\u001b[32mProgress:  50%|█████████████████████                    |  ETA: 5:10:16\u001b[39m"
     ]
    },
    {
     "name": "stderr",
     "output_type": "stream",
     "text": [
      "\u001b[K"
     ]
    },
    {
     "name": "stderr",
     "output_type": "stream",
     "text": [
      "\r"
     ]
    },
    {
     "name": "stderr",
     "output_type": "stream",
     "text": [
      "\u001b[32mProgress:  74%|███████████████████████████████          |  ETA: 2:23:16\u001b[39m"
     ]
    },
    {
     "name": "stderr",
     "output_type": "stream",
     "text": [
      "\u001b[K"
     ]
    },
    {
     "name": "stderr",
     "output_type": "stream",
     "text": [
      "\r\u001b[32mProgress:  98%|█████████████████████████████████████████|  ETA: 0:09:26\u001b[39m\u001b[K"
     ]
    },
    {
     "name": "stderr",
     "output_type": "stream",
     "text": [
      "\r\u001b[32mProgress: 100%|█████████████████████████████████████████| Time: 7:45:14\u001b[39m\u001b[K\n"
     ]
    }
   ],
   "source": [
    "# Generate random initial condition parameters\n",
    "ic_a_out = [0.0, 2.0]\n",
    "ic_b_out = [0.0, 0.8]\n",
    "ϵ=1e-2\n",
    "half_num_test_ic = Int(num_test_ic/2)\n",
    "ic_a_rand_out = ((minimum(ic_a) - ϵ) - ic_a_out[1]) .* rand(half_num_test_ic) .+ ic_a_out[1]\n",
    "append!(ic_a_rand_out, (ic_a_out[2] - (maximum(ic_a) + ϵ)) .* rand(half_num_test_ic) .+ (maximum(ic_a) + ϵ))\n",
    "ic_b_rand_out = ((minimum(ic_b) - ϵ) - ic_b_out[1]) .* rand(half_num_test_ic) .+ ic_b_out[1]\n",
    "append!(ic_b_rand_out, (ic_b_out[2] - (maximum(ic_b) + ϵ)) .* rand(half_num_test_ic) .+ (maximum(ic_b) + ϵ))\n",
    "\n",
    "i = 1\n",
    "μ = KSE.μs[i]\n",
    "\n",
    "# Generate the FOM system matrices (ONLY DEPENDS ON μ)\n",
    "A = DATA[\"op_fom_tr\"][i].A\n",
    "F = DATA[\"op_fom_tr\"][i].F\n",
    "\n",
    "# lag for autocorrelation\n",
    "lags = 0:DS:(KSE.Tdim ÷ 2)\n",
    "idx = length(lags)\n",
    "\n",
    "# Store some arrays\n",
    "fom_ac2 = zeros(length(lags))\n",
    "int_ac2 = zeros(length(lags), length(DATA[\"ro\"]))\n",
    "LS_ac2 = zeros(length(lags), length(DATA[\"ro\"]))\n",
    "ephec_ac2 = zeros(length(lags), length(DATA[\"ro\"]))\n",
    "\n",
    "int_ac_err2 = zeros(length(DATA[\"ro\"]))\n",
    "LS_ac_err2 = zeros(length(DATA[\"ro\"]))\n",
    "ephec_ac_err2 = zeros(length(DATA[\"ro\"]))\n",
    "\n",
    "# Generate the data for all combinations of the initial condition parameters\n",
    "prog = Progress(num_test_ic)\n",
    "Threads.@threads for j in 1:num_test_ic  \n",
    "    # generate test 1 data\n",
    "    a = ic_a_rand_out[j]\n",
    "    b = ic_b_rand_out[j]\n",
    "    IC = u0(a,b)\n",
    "    Xtest_out = KSE.integrate_FD(A, F, KSE.t, IC)\n",
    "\n",
    "    # compute autocorrelation of FOM\n",
    "    fom_ac_j = tmean_autocorr(Xtest_out, lags)\n",
    "    fom_ac2 .+= fom_ac_j\n",
    "\n",
    "    # compute autocorrelation of ROMs\n",
    "    int_ac_tmp = analyze_autocorr(OPS[\"op_int\"], KSE, DATA[\"Vr\"], IC, DATA[\"ro\"], KSE.integrate_FD, lags)\n",
    "    LS_ac_tmp = analyze_autocorr(OPS[\"op_LS\"], KSE, DATA[\"Vr\"], IC, DATA[\"ro\"], KSE.integrate_FD, lags)\n",
    "    ephec_ac_tmp = analyze_autocorr(OPS[\"op_ephec\"], KSE, DATA[\"Vr\"], IC, DATA[\"ro\"], KSE.integrate_FD, lags)\n",
    "    for r in eachindex(DATA[\"ro\"])\n",
    "        int_ac_err2[r] += norm(int_ac_tmp[r,1] - fom_ac_j, 2) / norm(fom_ac_j, 2)\n",
    "        int_ac2[:,r] .+= int_ac_tmp[r,1]\n",
    "\n",
    "        LS_ac_err2[r] += norm(LS_ac_tmp[r,1] - fom_ac_j, 2) / norm(fom_ac_j, 2)\n",
    "        LS_ac2[:,r] .+= LS_ac_tmp[r,1]\n",
    "\n",
    "        ephec_ac_err2[r] += norm(ephec_ac_tmp[r,1] - fom_ac_j, 2) / norm(fom_ac_j, 2)\n",
    "        ephec_ac2[:,r] .+= ephec_ac_tmp[r,1]\n",
    "    end\n",
    "\n",
    "    next!(prog)\n",
    "end\n",
    "\n",
    "TEST_RES[\"test2_AC\"][:fom][1] = fom_ac2 ./ num_test_ic\n",
    "for r in eachindex(DATA[\"ro\"])\n",
    "    TEST_RES[\"test2_AC\"][:int][r,1] = int_ac2[:,r] / num_test_ic\n",
    "    TEST_RES[\"test2_AC\"][:LS][r,1] = LS_ac2[:,r] / num_test_ic\n",
    "    TEST_RES[\"test2_AC\"][:ephec][r,1] = ephec_ac2[:,r] / num_test_ic\n",
    "\n",
    "    TEST_RES[\"test2_AC_ERR\"][:int][r,1] = int_ac_err2[r] / num_test_ic\n",
    "    TEST_RES[\"test2_AC_ERR\"][:LS][r,1] = LS_ac_err2[r] / num_test_ic\n",
    "    TEST_RES[\"test2_AC_ERR\"][:ephec][r,1] = ephec_ac_err2[r] / num_test_ic\n",
    "end"
   ]
  },
  {
   "cell_type": "code",
   "execution_count": 73,
   "metadata": {},
   "outputs": [],
   "source": [
    "save(testresultfile, \"TEST_RES\", TEST_RES)"
   ]
  },
  {
   "cell_type": "code",
   "execution_count": 66,
   "metadata": {},
   "outputs": [
    {
     "data": {
      "text/plain": [
       "\"c:\\\\Users\\\\tkoike3\\\\Code\\\\LiftAndLearn.jl\\\\examples\\\\test2_ac4.pdf\""
      ]
     },
     "metadata": {},
     "output_type": "display_data"
    }
   ],
   "source": [
    "lags_t = collect(lags) .* KSE.Δt\n",
    "idx = length(lags_t)\n",
    "lout = @layout [grid(2,2)]\n",
    "p = plot(layout=lout, size=(1000, 500), plot_title=\"Test 2: extrapolation\")\n",
    "for (plot_id, ri) in enumerate([1, 2, 5, 7])\n",
    "    plot!(p[plot_id], lags_t[1:idx], TEST_RES[\"test2_AC\"][:LS][ri][1:idx], c=:black, label=\"opinf\")\n",
    "    plot!(p[plot_id], lags_t[1:idx], TEST_RES[\"test2_AC\"][:int][ri][1:idx], c=:orange, label=\"intrusive\")\n",
    "    plot!(p[plot_id], lags_t[1:idx], TEST_RES[\"test2_AC\"][:ephec][ri][1:idx], c=:blue, ls=:dash, lw=2, label=\"ep-opinf\")\n",
    "    # plot!(p[plot_id], lags_t, TEST_RES[\"test2_AC\"][:epsic][ri], c=:purple, ls=:dot, label=\"epsic-opinf\")\n",
    "    # plot!(p[plot_id], lags_t, TEST_RES[\"test2_AC\"][:epp][ri], c=:red, lw=1, ls=:dash, label=\"epp-opinf\")\n",
    "    plot!(p[plot_id], lags_t[1:idx], TEST_RES[\"test2_AC\"][:fom][1][1:idx], c=:green, lw=1, ls=:dash, label=\"fom\")\n",
    "    plot!(p[plot_id], fontfamily=\"Computer Modern\", guidefontsize=12, tickfontsize=13)\n",
    "    plot!(p[plot_id], title=\"r = $(DATA[\"ro\"][ri])\", titlefontsize=14, titlefontfamily=\"Computer Modern\")\n",
    "    # xlabel!(p[plot_id], \"lag\")\n",
    "    # ylabel!(p[plot_id], \"normalized autocorrelation\")\n",
    "    yticks!(p[plot_id], [-0.2, 0.0, 0.2, 0.4, 0.6, 0.8, 1.0])\n",
    "\n",
    "    if plot_id == 4\n",
    "        plot!(p[plot_id], legend=:topright, legend_column=2, legendfontsize=12)\n",
    "    else\n",
    "        plot!(p[plot_id], legend=false)\n",
    "    end\n",
    "end\n",
    "plot!(p[1], left_margin=9mm)\n",
    "plot!(p[3], bottom_margin=10mm, left_margin=9mm)\n",
    "plot!(p[4], bottom_margin=10mm)\n",
    "annotate!(p[4], -20, -0.48, \"time lag\", annotationfontsize=16)\n",
    "annotate!(p[1], -30, -0.4, Plots.text(\"average normalized autocorrelation\", 16, rotation=90, \"Computer Modern\"))\n",
    "savefig(p, \"test2_ac4.pdf\")\n"
   ]
  },
  {
   "cell_type": "code",
   "execution_count": null,
   "metadata": {},
   "outputs": [],
   "source": [
    "p = plot(DATA[\"ro\"], TEST_RES[\"test2_AC_ERR\"][:LS], c=:black, marker=(:circle, 3.5, :black), label=\"opinf\")\n",
    "plot!(DATA[\"ro\"], TEST_RES[\"test2_AC_ERR\"][:int], c=:orange, marker=(:cross, 8, :orange), label=\"intrusive\")\n",
    "plot!(DATA[\"ro\"], TEST_RES[\"test2_AC_ERR\"][:ephec], c=:blue, markerstrokecolor=:blue, marker=(:rect, 3), ls=:dash, lw=2, label=\"ep-opinf\")\n",
    "\n",
    "plot!(majorgrid=true, legend=:topright)\n",
    "xlabel!(\"reduced model dimension \" * L\" r\")\n",
    "ylabel!(\"avg normalized autocorrelation error\")\n",
    "# yticks!([1e-0, 1e-1, 1e-2, 1e-3])\n",
    "title!(\"Test 2: extrapolation\")\n",
    "ylims!((0.2, 0.75))\n",
    "xticks!(DATA[\"ro\"][1]:2:DATA[\"ro\"][end])\n",
    "plot!(left_margin=2mm)\n",
    "plot!(fontfamily=\"Computer Modern\", guidefontsize=13, tickfontsize=13,  legendfontsize=13)"
   ]
  },
  {
   "cell_type": "code",
   "execution_count": 69,
   "metadata": {},
   "outputs": [
    {
     "name": "stdout",
     "output_type": "stream",
     "text": [
      "a = 0.5054669434644398, b = 0.030834677937429816"
     ]
    },
    {
     "name": "stdout",
     "output_type": "stream",
     "text": [
      "\n"
     ]
    }
   ],
   "source": [
    "i = 25\n",
    "r = DATA[\"ro\"][end]\n",
    "\n",
    "# Random input outside the training region\n",
    "println(\"a = $(ic_a_rand_out[i]), b = $(ic_b_rand_out[i])\")\n",
    "ic = u0(ic_a_rand_out[i], ic_b_rand_out[i])\n",
    "\n",
    "Vr = DATA[\"Vr\"][1][:, 1:r]\n",
    "\n",
    "X_fom = KSE.integrate_FD(DATA[\"op_fom_tr\"][1].A, DATA[\"op_fom_tr\"][1].F, KSE.t, ic)\n",
    "X_int = KSE.integrate_FD(OPS[\"op_int\"][1].A[1:r, 1:r], LnL.extractF(OPS[\"op_int\"][1].F, r), KSE.t, Vr' * ic)\n",
    "X_LS = KSE.integrate_FD(OPS[\"op_LS\"][1].A[1:r, 1:r], LnL.extractF(OPS[\"op_LS\"][1].F, r), KSE.t, Vr' * ic)\n",
    "X_ephec = KSE.integrate_FD(OPS[\"op_ephec\"][1].A[1:r, 1:r], LnL.extractF(OPS[\"op_ephec\"][1].F, r), KSE.t, Vr' * ic)\n",
    "# X_epsic = KSE.integrate_FD(OPS[\"op_epsic\"][1].A[1:r, 1:r], LnL.extractF(OPS[\"op_epsic\"][1].F, r), KSE.t, Vr' * ic)\n",
    "# X_epp = KSE.integrate_FD(OPS[\"op_epp\"][1].A[1:r, 1:r], LnL.extractF(OPS[\"op_epp\"][1].F, r), KSE.t, Vr' * ic)\n",
    ";"
   ]
  },
  {
   "cell_type": "code",
   "execution_count": null,
   "metadata": {},
   "outputs": [],
   "source": [
    "# lout = @layout [a{0.3h}; [grid(2,2)]]\n",
    "lout = @layout [grid(4,2)]\n",
    "p_fom = plot(\n",
    "    contourf(KSE.t[1:DS:end], KSE.x, X_fom[:, 1:DS:end], lw=0,), \n",
    "    colorbar_ticks=(-3:3), clim=(-3.1,3.01), yticks=(0:5:20), ylims=(0,22), \n",
    "    #right_margin=-3mm, left_margin=3mm, \n",
    "    left_margin=7mm,\n",
    "    ylabel=\"full\" * \"\\n\" * L\"x\"\n",
    ")\n",
    "pblank = plot(\n",
    "    legend=false,grid=false,foreground_color_subplot=:white, left_margin=-3mm, right_margin=-3mm,\n",
    ")\n",
    "p_int = plot(\n",
    "    contourf(KSE.t[1:DS:end], KSE.x, Vr * X_int[:, 1:DS:end], lw=0), \n",
    "    colorbar_ticks=(-3:3), clim=(-3.1,3.01), yticks=(0:5:20), ylims=(0,22), \n",
    "    #right_margin=-3mm, left_margin=3mm, top_margin=-2mm,\n",
    "    left_margin=7mm,\n",
    "    ylabel=\"intrusive\" * \"\\n\" * L\"x\", \n",
    ")\n",
    "p_int_err = plot(\n",
    "    contourf(KSE.t[1:DS:end], KSE.x, abs.(X_fom[:, 1:DS:end] .- Vr * X_int[:, 1:DS:end]), lw=0, color=:roma), \n",
    "    yticks=(0:5:20), ylims=(0,22), colorbar_ticks=(0:0.5:5), clim=(0,5), \n",
    "    #left_margin=-3mm, right_margin=-3mm, top_margin=-2mm\n",
    ")\n",
    "p_LS = plot(\n",
    "    contourf(KSE.t[1:DS:end], KSE.x, Vr * X_LS[:, 1:DS:end], lw=0), \n",
    "    colorbar_ticks=(-3:3), yticks=(0:5:20), ylims=(0,22), \n",
    "    #right_margin=-3mm, left_margin=3mm, top_margin=-2mm,\n",
    "    left_margin=7mm,\n",
    "    ylabel=\"opinf\" * \"\\n\" * L\"x\",\n",
    ")\n",
    "p_LS_err = plot(\n",
    "    contourf(KSE.t[1:DS:end], KSE.x, abs.(X_fom[:, 1:DS:end] .- Vr * X_LS[:, 1:DS:end]), lw=0, color=:roma), \n",
    "    yticks=(0:5:20), ylims=(0,22),  colorbar_ticks=(0:0.5:5), clim=(0,5), \n",
    "    #left_margin=-3mm, right_margin=-3mm, top_margin=-2mm\n",
    ")\n",
    "p_ephec = plot(\n",
    "    contourf(KSE.t[1:DS:end], KSE.x, Vr * X_ephec[:, 1:DS:end], lw=0), \n",
    "    colorbar_ticks=(-3:3), yticks=(0:5:20), ylims=(0,22), \n",
    "    #right_margin=-3mm, left_margin=3mm,  bottom_margin=7mm, top_margin=-2mm,\n",
    "    bottom_margin=5mm, left_margin=7mm,\n",
    "    ylabel=\"ep-opinf\" * \"\\n\" * L\"x\", xlabel=L\"t\"\n",
    ")\n",
    "p_ephec_err = plot(\n",
    "    contourf(KSE.t[1:DS:end], KSE.x, abs.(X_fom[:, 1:DS:end] .- Vr * X_ephec[:, 1:DS:end]), lw=0, color=:roma), \n",
    "    yticks=(0:5:20), ylims=(0,22), colorbar_ticks=(0:0.5:5), clim=(0,5), \n",
    "    #left_margin=-3mm, right_margin=-3mm, bottom_margin=7mm,  top_margin=-2mm,\n",
    "    bottom_margin=5mm,\n",
    "    xlabel=L\"t\", \n",
    ")\n",
    "# p_epsic = plot(contourf(KSE.t[1:DS:end], KSE.x, Vr * X_epsic[:, 1:DS:end], lw=0), colorbar_ticks=(-3:3), clim=(-3,3), yticks=(0:5:20), ylims=(0,20))\n",
    "# p_epsic_err = plot(contourf(KSE.t[1:DS:end], KSE.x, abs.(DATA[\"Xtr_all\"][i][:, 1:DS:end] .- Vr * X_epsic[:, 1:DS:end]), lw=0, color=:roma), yticks=(0:5:20), ylims=(0,20), colorbar_ticks=(0:0.5:5), clim=(0,5))\n",
    "# p_epp = plot(contourf(KSE.t[1:DS:end], KSE.x, Vr * X_epp[:, 1:DS:end], lw=0), colorbar_ticks=(-3:3), clim=(-3,3), yticks=(0:5:20), ylims=(0,20))\n",
    "# p_epp_err = plot(contourf(KSE.t[1:DS:end], KSE.x, abs.(DATA[\"Xtr_all\"][i][:, 1:DS:end] .- Vr * X_epp[:, 1:DS:end]), lw=0, color=:roma), yticks=(0:5:20), ylims=(0,20), colorbar_ticks=(0:0.5:5), clim=(0,5))\n",
    "\n",
    "p = plot(\n",
    "    p_fom, pblank, \n",
    "    p_int, p_int_err,\n",
    "    p_LS, p_LS_err,\n",
    "    p_ephec, p_ephec_err,\n",
    "    # p_epsic, p_epsic_err,\n",
    "    # p_epp, p_epp_err, \n",
    "    fontfamily=\"Computer Modern\", layout=lout, \n",
    "    size=(1200, 650),\n",
    "    guidefontsize=14, tickfontsize=10,\n",
    "    plot_title=\"Test 2: extrapolation\"\n",
    ")"
   ]
  },
  {
   "cell_type": "code",
   "execution_count": 74,
   "metadata": {},
   "outputs": [],
   "source": [
    "save(\"data/kse_test_ics_L22.jld2\", \n",
    "    Dict(\n",
    "        \"ic_a_rand_in\" => ic_a_rand_in,\n",
    "        \"ic_b_rand_in\" => ic_b_rand_in,\n",
    "        \"ic_a_rand_out\" => ic_a_rand_out,\n",
    "        \"ic_b_rand_out\" => ic_b_rand_out\n",
    "    )\n",
    ")"
   ]
  },
  {
   "cell_type": "code",
   "execution_count": null,
   "metadata": {},
   "outputs": [],
   "source": [
    "# TEST_RES[\"test1_LE\"] = Dict(\n",
    "#     :int   => Array{Array{Float64}}(undef, length(DATA[\"ro\"]), KSE.Pdim),\n",
    "#     :LS    => Array{Array{Float64}}(undef, length(DATA[\"ro\"]), KSE.Pdim),\n",
    "#     :ephec => Array{Array{Float64}}(undef, length(DATA[\"ro\"]), KSE.Pdim),\n",
    "#     :epsic => Array{Array{Float64}}(undef, length(DATA[\"ro\"]), KSE.Pdim),\n",
    "#     :epp   => Array{Array{Float64}}(undef, length(DATA[\"ro\"]), KSE.Pdim),\n",
    "#     :fom   => Array{Array{Float64}}(undef, KSE.Pdim)\n",
    "# )\n",
    "# TEST_RES[\"test2_LE\"] = Dict(\n",
    "#     :int   => Array{Array{Float64}}(undef, length(DATA[\"ro\"]), KSE.Pdim),\n",
    "#     :LS    => Array{Array{Float64}}(undef, length(DATA[\"ro\"]), KSE.Pdim),\n",
    "#     :ephec => Array{Array{Float64}}(undef, length(DATA[\"ro\"]), KSE.Pdim),\n",
    "#     :epsic => Array{Array{Float64}}(undef, length(DATA[\"ro\"]), KSE.Pdim),\n",
    "#     :epp   => Array{Array{Float64}}(undef, length(DATA[\"ro\"]), KSE.Pdim),\n",
    "#     :fom   => Array{Array{Float64}}(undef, KSE.Pdim)\n",
    "# )\n",
    "# TEST_RES[\"test1_DKY\"] = Dict(\n",
    "#     :int   => Array{Float64}(undef, length(DATA[\"ro\"]), KSE.Pdim),\n",
    "#     :LS    => Array{Float64}(undef, length(DATA[\"ro\"]), KSE.Pdim),\n",
    "#     :ephec => Array{Float64}(undef, length(DATA[\"ro\"]), KSE.Pdim),\n",
    "#     :epsic => Array{Float64}(undef, length(DATA[\"ro\"]), KSE.Pdim),\n",
    "#     :epp   => Array{Float64}(undef, length(DATA[\"ro\"]), KSE.Pdim),\n",
    "#     :fom   => Array{Float64}(undef, KSE.Pdim)\n",
    "# )\n",
    "# TEST_RES[\"test2_DKY\"] = Dict(\n",
    "#     :int   => Array{Float64}(undef, length(DATA[\"ro\"]), KSE.Pdim),\n",
    "#     :LS    => Array{Float64}(undef, length(DATA[\"ro\"]), KSE.Pdim),\n",
    "#     :ephec => Array{Float64}(undef, length(DATA[\"ro\"]), KSE.Pdim),\n",
    "#     :epsic => Array{Float64}(undef, length(DATA[\"ro\"]), KSE.Pdim),\n",
    "#     :epp   => Array{Float64}(undef, length(DATA[\"ro\"]), KSE.Pdim),\n",
    "#     :fom   => Array{Float64}(undef, KSE.Pdim)\n",
    "# )\n",
    "# TEST_RES[\"test1_LE_all\"] = Dict(\n",
    "#     :int   => Array{Array{Float64}}(undef, length(DATA[\"ro\"]), KSE.Pdim),\n",
    "#     :LS    => Array{Array{Float64}}(undef, length(DATA[\"ro\"]), KSE.Pdim),\n",
    "#     :ephec => Array{Array{Float64}}(undef, length(DATA[\"ro\"]), KSE.Pdim),\n",
    "#     :epsic => Array{Array{Float64}}(undef, length(DATA[\"ro\"]), KSE.Pdim),\n",
    "#     :epp   => Array{Array{Float64}}(undef, length(DATA[\"ro\"]), KSE.Pdim),\n",
    "#     :fom   => Array{Array{Float64}}(undef, KSE.Pdim)\n",
    "# )\n",
    "# TEST_RES[\"test2_LE_all\"] = Dict(\n",
    "#     :int   => Array{Array{Float64}}(undef, length(DATA[\"ro\"]), KSE.Pdim),\n",
    "#     :LS    => Array{Array{Float64}}(undef, length(DATA[\"ro\"]), KSE.Pdim),\n",
    "#     :ephec => Array{Array{Float64}}(undef, length(DATA[\"ro\"]), KSE.Pdim),\n",
    "#     :epsic => Array{Array{Float64}}(undef, length(DATA[\"ro\"]), KSE.Pdim),\n",
    "#     :epp   => Array{Array{Float64}}(undef, length(DATA[\"ro\"]), KSE.Pdim),\n",
    "#     :fom   => Array{Array{Float64}}(undef, KSE.Pdim)\n",
    "# )\n",
    ";"
   ]
  }
 ],
 "metadata": {
  "kernelspec": {
   "display_name": "Julia 1.8.5",
   "language": "julia",
   "name": "julia-1.8"
  },
  "language_info": {
   "file_extension": ".jl",
   "mimetype": "application/julia",
   "name": "julia",
   "version": "1.8.5"
  }
 },
 "nbformat": 4,
 "nbformat_minor": 2
}
