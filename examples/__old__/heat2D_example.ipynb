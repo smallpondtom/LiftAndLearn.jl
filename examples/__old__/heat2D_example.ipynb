{
 "cells": [
  {
   "cell_type": "code",
   "execution_count": null,
   "id": "41e555a4-4377-4b24-ba89-fa764a0b3636",
   "metadata": {},
   "outputs": [],
   "source": [
    "import numpy as np\n",
    "import numba as nb\n",
    "import matplotlib.pyplot as plt\n",
    "import matplotlib.animation as animation\n",
    "from matplotlib.animation import FuncAnimation\n",
    "\n",
    "plate_length = 50\n",
    "max_iter_time = 750\n",
    "\n",
    "alpha = 2\n",
    "delta_x = 1\n",
    "\n",
    "delta_t = (delta_x ** 2)/(4 * alpha)\n",
    "gamma = (alpha * delta_t) / (delta_x ** 2) \n",
    "# Initialize solution: the grid of u(k, i, j)\n",
    "u = np.empty((max_iter_time, plate_length, plate_length))\n",
    "\n",
    "# Initial condition everywhere inside the grid\n",
    "u_initial = 0\n",
    "\n",
    "# Boundary conditions\n",
    "u_top = 100.0\n",
    "u_left = 10.0\n",
    "u_bottom = 60.0\n",
    "u_right = 0.0\n",
    "\n",
    "# Set the initial condition\n",
    "u.fill(u_initial)\n",
    "\n",
    "# Set the boundary conditions\n",
    "u[:, (plate_length-1):, :] = u_top\n",
    "u[:, :, :1] = u_left\n",
    "u[:, :1, 1:] = u_bottom\n",
    "u[:, :, (plate_length-1):] = u_right\n",
    "\n",
    "\n",
    "@nb.njit(parallel=True, fastmath=True)\n",
    "def calculate(u):\n",
    "    for k in nb.prange(max_iter_time-1):\n",
    "        for i in range(1, plate_length-1, delta_x):\n",
    "            for j in range(1, plate_length-1, delta_x):\n",
    "                u[k + 1, i, j] = gamma * (u[k][i+1][j] + u[k][i-1][j] + u[k][i][j+1] + u[k][i][j-1] - 4*u[k][i][j]) + u[k][i][j]\n",
    "    return u\n",
    "\n",
    "\n",
    "def plotheatmap(u_k, k):\n",
    "    # Clear the current plot figure\n",
    "    plt.clf()\n",
    "\n",
    "    plt.title(f\"Temperature at t = {k*delta_t:.3f} unit time\")\n",
    "    plt.xlabel(\"x\")\n",
    "    plt.ylabel(\"y\")\n",
    "\n",
    "    # This is to plot u_k (u at time-step k)\n",
    "    plt.pcolormesh(u_k, cmap=plt.cm.jet, vmin=0, vmax=100)\n",
    "    plt.colorbar()\n",
    "\n",
    "    return plt\n",
    "\n",
    "# Do the calculation here\n",
    "u = calculate(u)\n",
    "\n",
    "def animate(k):\n",
    "    plotheatmap(u[k], k)\n",
    "\n",
    "anim = animation.FuncAnimation(plt.figure(), animate, interval=1, frames=max_iter_time, repeat=False)\n",
    "anim.save(\"plots/heat_equation_solution.gif\")"
   ]
  },
  {
   "cell_type": "markdown",
   "id": "dfc21fe8-3576-444e-b80a-f769eff2bb68",
   "metadata": {},
   "source": [
    "![SegmentLocal](heat_equation_solution.gif \"segment\")"
   ]
  }
 ],
 "metadata": {
  "kernelspec": {
   "display_name": "Python 3 (ipykernel)",
   "language": "python",
   "name": "python3"
  },
  "language_info": {
   "codemirror_mode": {
    "name": "ipython",
    "version": 3
   },
   "file_extension": ".py",
   "mimetype": "text/x-python",
   "name": "python",
   "nbconvert_exporter": "python",
   "pygments_lexer": "ipython3",
   "version": "3.10.10"
  }
 },
 "nbformat": 4,
 "nbformat_minor": 5
}
