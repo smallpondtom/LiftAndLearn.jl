{
 "cells": [
  {
   "attachments": {},
   "cell_type": "markdown",
   "metadata": {},
   "source": [
    "# Kuramoto-Sivashinky Equation Model\n"
   ]
  },
  {
   "cell_type": "code",
   "execution_count": 1,
   "metadata": {},
   "outputs": [],
   "source": [
    "using FFTW\n",
    "using LaTeXStrings\n",
    "using LinearAlgebra\n",
    "using Plots\n",
    "using SparseArrays\n",
    "\n",
    "include(\"../src/model/KS.jl\")\n",
    "include(\"../src/LiftAndLearn.jl\")\n",
    "const LnL = LiftAndLearn\n",
    ";"
   ]
  },
  {
   "attachments": {},
   "cell_type": "markdown",
   "metadata": {},
   "source": [
    "\n",
    "## Kuramoto-Sivashinsky (KS) Equation\n",
    "The Kuramoto-Sivashinsky (KS) equation is a partial differential equation that describes the dynamics of certain spatiotemporal patterns in various physical systems, particularly in fluid dynamics and combustion processes. It was introduced by Yoshiki Kuramoto and Grigoriĭ Isaakovich Sivashinsky independently in the 1970s.\n",
    "\n",
    "The equation is given by:\n",
    "\n",
    "$$\n",
    "\\begin{gather*}\n",
    "    u_t + uu_x + u_{xx} + \\mu u_{xxxx} = 0,  \\qquad x \\in (-\\infty, \\infty) \\\\\n",
    "    u(x,t) = u(x+L,t), \\quad u_x(x,t) = u_x(x+L,t), \\quad t \\geq 0 \n",
    "\\end{gather*}\n",
    "$$\n",
    "\n",
    "where:\n",
    "- $u(x, t)$ represents the spatially and temporally varying quantity being modeled (e.g., the amplitude of certain patterns in a fluid or combustion system).\n",
    "- $t$ is time.\n",
    "- $x$ is a spatial coordinate.\n",
    "\n",
    "The terms in the equation have the following meanings:\n",
    "- $u_t$: Represents the time rate of change of the quantity u.\n",
    "- $uu_x$: Represents advection, describing how the quantity u is transported along the spatial coordinate x by its own gradient.\n",
    "- $u_{xx}$: Represents diffusion, describing how the quantity u diffuses or spreads out over space.\n",
    "- $u_{xxxx}$: Represents a fourth-order spatial derivative that accounts for certain nonlinear interactions and dispersion effects.\n",
    "- $\\mu$: Viscosity parameter.\n",
    "\n",
    "The Kuramoto-Sivashinsky equation is known for producing a rich variety of complex spatiotemporal patterns, including traveling waves, oscillations, and turbulence-like behavior. It has applications in understanding and modeling various physical phenomena, such as the dynamics of flames, fluid interfaces, and certain chemical reactions. The equation's complexity and the diversity of patterns it can exhibit make it a subject of study in nonlinear dynamics and chaos theory.\n",
    "\n",
    "For our analysis, we will construct a numerical model by descretizing the original PDE and separating the system into the linear and nonlinear components in the form of \n",
    "\n",
    "$$\n",
    "\\begin{gather*}\n",
    "    \\dot{\\mathbf u} = \\mathbf A \\mathbf u + \\mathbf F \\mathbf u^{\\langle 2\\rangle}\n",
    "\\end{gather*}\n",
    "$$\n",
    "\n",
    "where $\\mathbf A$, $\\mathbf F$ are the linear and nonlinear operators respectively."
   ]
  },
  {
   "cell_type": "markdown",
   "metadata": {},
   "source": [
    "\n",
    "## Numerical Integration\n",
    "\n",
    "Once we have the numerical model, we integrate it using the Adam-Bashforth and Crank-Nicolson Implicit scheme. The method is as follows.\n",
    "\n",
    "$$\n",
    "\\begin{gather*}\n",
    "    \\dot{\\mathbf u} = \\mathbf A \\mathbf u + \\mathbf F \\mathbf u^{\\langle 2\\rangle} \\\\\n",
    "    \\frac{\\mathbf u^{k+1} - \\mathbf u^k}{\\Delta t} = \\mathbf A \\left(\\frac{\\mathbf u^{k+1} + \\mathbf u^k}{2}\\right) + \\left[ \\frac{3}{2}\\mathbf F \\left( \\mathbf u^k \\right)^{\\langle 2\\rangle} -\\frac{1}{2}\\mathbf F\\left( u^{k-1} \\right)^{\\langle 2 \\rangle } \\right] \n",
    "\\end{gather*}\n",
    "$$\n",
    "\n",
    "Hence \n",
    "\n",
    "$$\n",
    "\\begin{gather*}\n",
    "    \\mathbf u^{k+1} = \n",
    "    \\begin{cases} \n",
    "        \\left(\\mathbf I - \\frac{\\Delta t}{2}\\mathbf A \\right)^{-1}\\left[ \\left( \\mathbf I + \\frac{\\Delta t}{2}\\mathbf A \\right)\\mathbf u^k + \\Delta t\\mathbf F \\left( \\mathbf u^k \\right)^{\\langle 2\\rangle} \\right] \\qquad  k = 1 \\\\[0.3cm]\n",
    "        \\left(\\mathbf I - \\frac{\\Delta t}{2}\\mathbf A \\right)^{-1}\\left[ \\left( \\mathbf I + \\frac{\\Delta t}{2}\\mathbf A \\right)\\mathbf u^k + \\frac{3\\Delta t}{2}\\mathbf F \\left( \\mathbf u^k \\right)^{\\langle 2\\rangle} -\\frac{\\Delta t}{2}\\mathbf F\\left( u^{k-1} \\right)^{\\langle 2 \\rangle }\\right] \\qquad  k \\geq 2\n",
    "    \\end{cases}\n",
    "\\end{gather*}\n",
    "$$"
   ]
  },
  {
   "cell_type": "markdown",
   "metadata": {},
   "source": [
    "\n",
    "## Numerical Model\n"
   ]
  },
  {
   "cell_type": "code",
   "execution_count": 2,
   "metadata": {},
   "outputs": [],
   "source": [
    "# Settings for the KS equation\n",
    "KSE = KS(\n",
    "    [0.0, 25.0], [0.0, 200.0], [1.0, 1.0],\n",
    "    512, 0.001, 1, \"nc\"\n",
    ")\n",
    "\n",
    "DS = 100\n",
    "L = KSE.Omega[2]\n",
    "\n",
    "# Initial condition\n",
    "u0 = cos.((2*π*KSE.x)/L) + 0.1*cos.((4*π*KSE.x)/L)  # initial condition version 1\n",
    "# u0 = cos.(2*π*KSE.x / L) .* (1 .+ sin.(2*π*KSE.x / L))  # initial condition version 2\n",
    ";"
   ]
  },
  {
   "attachments": {},
   "cell_type": "markdown",
   "metadata": {},
   "source": [
    "### Finite Difference Method\n",
    "\n",
    "Similar to the discretization of the [1D Heat equation](01_heat1D_OpInf_LS.ipynb), [1D Burgers' equation](02_burgers_OpInf_LS.ipynb), and [Fitzhugh-Nagumo equation](03_fhn_LnL_LS.ipynb) we discretize the PDE using finite difference approach. In order to discretize in the spatial and temporal domains we definte the grid size $\\Delta x$ and time-step $\\Delta t$. Furthermore, let the subscript and superscript indicate the spatial and temporal indices respectively, i.e., $u_{i}^k$. Then we show how we discretize each term below.\n",
    "\n",
    "$$\n",
    "\\begin{align*}\n",
    "    u_{xxxx} &\\approx \\frac{1}{\\Delta x^4} \\left( u_{i+2} - 4u_{i+1} + 6u_i - 4u_{i-1} + u_{i-2} \\right) \\\\\n",
    "    u_{xx} &\\approx \\frac{1}{\\Delta x^2} \\left( u_{i+1} - 2u_i + u_{i-1} \\right) \\\\\n",
    "    u_x &\\approx \\frac{1}{2\\Delta x} \\left( u_{i+1} - u_{i-1} \\right) \\quad .\n",
    "\\end{align*}\n",
    "$$\n",
    "\n",
    "Then we can represent the KS equation model with distinct linear and nonlinear terms\n",
    "\n",
    "$$\n",
    "\\begin{gather*}\n",
    "    \\dot u_i = \\underbrace{ \\left[ -\\frac{\\mu}{\\Delta x^4} (u_{i+2} + u_{i-2}) + \\left( \\frac{4\\mu}{\\Delta x^4}-\\frac{1}{\\Delta x^2} \\right)(u_{i+1} + u_{i-1}) + \\left( \\frac{2}{\\Delta x^2}-\\frac{6\\mu}{\\Delta x^4} \\right)u_i \\right] }_{\\text{linear}}\n",
    "    + \\underbrace{\\frac{1}{2\\Delta x}\\left( u_iu_{i-1} - u_iu_{i+1} \\right)}_{\\text{nonlinear}}\n",
    "\\end{gather*}\n",
    "$$\n",
    "\n",
    "Thus, assuming we have periodic boundary conditions, we can represent the KS equation as a linear-quadratic ODE with respect to time by expanding the above expression to all of the spatial grid:\n",
    "\n",
    "$$\n",
    "\\begin{gather*}\n",
    "    \\mathbf{\\dot u}(t) = \\mathbf{A}\\mathbf u(t) + \\mathbf{F} \\mathbf u^{\\langle 2 \\rangle}(t)\n",
    "\\end{gather*}\n",
    "$$\n",
    "\n",
    "where $\\mathbf A \\in \\mathbb R^{N\\times N}$ is the linear operator, $\\mathbf F \\in \\mathbb R^{N \\times N(N+1)/2}$ is the quadratic operator, and  $\\mathbf u^{\\langle 2\\rangle} \\in \\mathbb R^{N(N+1)/2}$ represents the quadratic states with no redundancy. The matrix $\\mathbf A$ would be a toeplitz matrix (except for the periodic terms) and the $\\mathbf F$ would be a sparse matrix.\n"
   ]
  },
  {
   "cell_type": "code",
   "execution_count": null,
   "metadata": {},
   "outputs": [],
   "source": [
    "# Generate the operators\n",
    "A, F = KSE.model_FD(KSE, KSE.μs[1])\n",
    ";"
   ]
  },
  {
   "cell_type": "code",
   "execution_count": null,
   "metadata": {},
   "outputs": [],
   "source": [
    "# Integrate\n",
    "u_FD = KSE.integrate_FD(A, F, KSE.t, u0; const_stepsize=true)\n",
    ";"
   ]
  },
  {
   "cell_type": "code",
   "execution_count": null,
   "metadata": {},
   "outputs": [],
   "source": [
    "plot(contourf(KSE.t[1:100:end], KSE.x, u_FD[:, 1:100:end], lw=0), xlabel=L\"t, \\mathrm{time}\",\n",
    "    ylabel=L\"x, \\mathrm{space}\", zlabel=L\"u(x,t)\", size=(680, 400))\n",
    "plot!(guidefontsize=16, tickfontsize=8,  legendfontsize=13)"
   ]
  },
  {
   "cell_type": "code",
   "execution_count": null,
   "metadata": {},
   "outputs": [],
   "source": [
    "p1 = plot(fontfamily=\"Computer Modern\")\n",
    "for i in 1:1000:KSE.Tdim\n",
    "    plot!(p1, KSE.x, u_FD[:, i])\n",
    "end\n",
    "plot!(p1, xlabel=L\"x\", ylabel=L\"u(x,t)\", grid=true,\n",
    "    minorgrid=true, legend=false)\n",
    "plot!(guidefontsize=16, tickfontsize=8,  legendfontsize=13)"
   ]
  },
  {
   "attachments": {},
   "cell_type": "markdown",
   "metadata": {},
   "source": [
    "### Spectral Method\n",
    "\n",
    "We consider a periodic domain $[0,L]$ for the solution of the Kuramoto-Sivashinsky equation. Our periodic grid has $N$ points $\\{x_n\\}_{n=1}^N$, where $x_n = n\\Delta x$ and $\\Delta x = L/N$. With $N$ degrees of freedom we can write the solution $u(x,t)$ as a truncated Fourier expansion with $N$ modes:\n",
    "$$\n",
    "\\begin{align*}\n",
    "u(x,t) = \\int_{-\\infty}^\\infty \\hat u_k(t)\\exp\\left(\\frac{2\\pi j kx}{L}\\right)dk \\approx \\sum_{k=-N/2}^{N/2-1}\\hat{u}_k(t)\\exp\\left(\\frac{2\\pi jkx}{L}\\right).\n",
    "\\end{align*}\n",
    "$$\n",
    "\n",
    "Now from here, we introduce two possible methods using the Fourier transform. The first method, uses the Fast Fourier Transform (FFT) or Pseudo-Spectral (PS) method to deal with the nonlinear term. In contrast, the second method directly uses the Fourier Mode by formulating the problem with the Spectral Galerkin (SG) method.\n",
    "\n",
    "#### Pseudo-Spectral Method\n",
    "\n",
    "We begin by plugging the approximate Fourier transform of $u(x,t)$ back into the original PDE which give us \n",
    "\n",
    "$$\n",
    "\\begin{align*}\n",
    "    \\dot u(x,t) &\\approx \\sum_{k=-N/2}^{N/2-1} \\dot{\\hat u_k}(t)\\exp\\left( \\frac{2\\pi jkx}{L} \\right) \\\\\n",
    "    \\mu u_{xxxx} + u_{xx} &\\approx  \\sum_{k=-N/2}^{N/2-1}\\mu\\left( \\frac{2\\pi j k}{L} \\right)^4 \\hat u_k(t) \\exp\\left( \\frac{2\\pi j k x}{L} \\right) + \\sum_{k=-N/2}^{N/2-1}\\left( \\frac{2\\pi j k}{L} \\right)^2  \\hat u_k(t) \\exp\\left( \\frac{2\\pi j kx}{L} \\right) = -\\sum_{k=-N/2}^{N/2-1} \\left[ \\left( \\frac{2\\pi k}{L} \\right)^2 - \\mu\\left( \\frac{2\\pi  k}{L} \\right)^4 \\right] \\hat u_k(t) \\exp\\left( \\frac{2\\pi j kx}{L} \\right) \\\\\n",
    "    uu_x &= \\frac{1}{2}\\left( u^2 \\right)_x \\approx \\frac{1}{2} \\frac{2\\pi j k}{L}\\left( \\hat u^2 \\right)_k = \\frac{1}{2} \\frac{2\\pi j k }{L} ~\\left(\\mathrm{FFT}\\left[ u^2(t) \\right]\\right)_k\n",
    "\\end{align*}\n",
    "$$\n",
    "\n",
    "Then if we collect the terms within the summation and multiplied by $\\exp(2\\pi jk x/L )$ we have\n",
    "\n",
    "$$\n",
    "\\begin{gather*}\n",
    "    \\dot{\\hat u}_k(t) = \\underbrace{\\left[ \\left( \\frac{2\\pi k}{L}\\right)^2 - \\mu\\left( \\frac{2\\pi k}{L} \\right)^4 \\right]\\hat u_k(t)}_{\\text{linear}} - \\underbrace{\\frac{\\pi j k}{L}~\\left(\\mathrm{FFT}\\left[ u^2(t) \\right]\\right)_k}_{\\text{nonlinear}}\n",
    "\\end{gather*}\n",
    "$$\n",
    "\n",
    "For more detail on the derivation, refer to [this paper](http://pubs.sciepub.com/ajna/2/3/5/abstract.html) by Gentian Zavalani. If write this in the form of $\\mathbf{\\dot u}(t) = \\mathbf{A}\\mathbf u(t) + \\mathbf{F} \\mathbf u^{\\langle 2 \\rangle}(t)$ we will have a diagonal matrix of $\\mathbf A$ and for $\\mathbf F$. The original states $u(t)$ of the KS equation can be retained by performing the inverse FFT (iFFT) on the states $\\hat u(t)$.\n",
    "\n",
    "Or you could let $\\mathbf A$ and $\\mathbf F$ be a vector and do element-wise multiplications to speed-up the integration process."
   ]
  },
  {
   "cell_type": "code",
   "execution_count": null,
   "metadata": {},
   "outputs": [],
   "source": [
    "# Generate the operators\n",
    "A, F = KSE.model_PS(KSE, KSE.μs[1])\n",
    ";"
   ]
  },
  {
   "cell_type": "code",
   "execution_count": null,
   "metadata": {},
   "outputs": [],
   "source": [
    "# Integrate\n",
    "u_PS, _ = KSE.integrate_PS(A, F, KSE.t, u0)\n",
    ";"
   ]
  },
  {
   "cell_type": "code",
   "execution_count": null,
   "metadata": {},
   "outputs": [],
   "source": [
    "plot(contourf(KSE.t[1:DS:end], KSE.x, u_PS[:, 1:DS:end], lw=0), xlabel=L\"t, \\mathrm{time}\",\n",
    "    ylabel=L\"x, \\mathrm{space}\", zlabel=L\"u(x,t)\", size=(680, 400))\n",
    "plot!(guidefontsize=16, tickfontsize=8,  legendfontsize=13)"
   ]
  },
  {
   "cell_type": "code",
   "execution_count": null,
   "metadata": {},
   "outputs": [],
   "source": [
    "p1 = plot()\n",
    "for i in 1:1000:KSE.Tdim\n",
    "    plot!(p1, KSE.x, u_PS[:, i])\n",
    "end\n",
    "plot!(p1, xlabel=L\"x\", ylabel=L\"u(x,t)\", grid=true,\n",
    "    minorgrid=true, legend=false)\n",
    "plot!(guidefontsize=16, tickfontsize=8,  legendfontsize=13)"
   ]
  },
  {
   "attachments": {},
   "cell_type": "markdown",
   "metadata": {},
   "source": [
    "#### Spectral Galerkin (SP) Method\n",
    "\n",
    "In the SP method, you take the inner product between the Fourier transformed expression and the exponential to retrieve the Fourier coefficient with the orthogonality condition. For example, for the $-u_{xx}$ term\n",
    "\n",
    "$$\n",
    "\\begin{align*}\n",
    "    \\left\\langle -\\partial_x u, \\partial_x u\\right\\rangle &= \\left\\langle -\\partial_x \\sum_{l=-N/2}^{N/2-1}\\hat u_l(t) \\exp\\left(\\frac{2\\pi j l}{L}x\\right), ~\\partial_x\\exp\\left( \\frac{2\\pi j k}{L}x\\right) \\right\\rangle \\\\\n",
    "    &= \\left\\langle - \\sum_{l=-N/2}^{N/2-1} \\frac{2\\pi j l}{L} \\hat u_l(t) \\exp\\left(\\frac{2\\pi j l}{L}x\\right), ~ \\frac{2\\pi jk}{L} \\exp\\left( \\frac{2\\pi j k}{L}x\\right) \\right\\rangle \\\\\n",
    "    &{\\xrightarrow{l=k}} \\left( \\frac{2\\pi k }{L} \\right)^2 \\hat u_k(t)\n",
    "\\end{align*}\n",
    "$$\n",
    "\n",
    "For $u_{xxxx}$ we obtain the same expression as the previous pseudo-spectral method, and therefore, the linear part of the model is exactly the same. However, we take a different route for the nonlinear term. If we consider the conservative advection nonlinearity, the spectral Galerkin would be as follows. \n",
    "\n",
    "$$\n",
    "\\begin{align*}\n",
    "    \\left\\langle -\\frac{1}{2}u^2, ~\\partial_x\\exp\\left( \\frac{2\\pi jk}{L}x\\right)\\right\\rangle &= \\left\\langle  -\\frac{1}{2}\\left[\\sum_{p=-N/2}^{N/2-1}\\hat u_p(t) \\exp\\left(\\frac{2\\pi j p}{L}x\\right)\\right]\\left[\\sum_{q=-N/2}^{N/2-1}\\hat u_q(t) \\exp\\left(\\frac{2\\pi j q}{L}x\\right) \\right], ~\\frac{2\\pi jk}{L}\\exp\\left( \\frac{2\\pi jk}{L} \\right) \\right\\rangle \\\\\n",
    "    &=\\left\\langle  -\\frac{1}{2} \\sum_{p=-N/2}^{N/2-1}\\sum_{q=-N/2}^{N/2-1}\\hat u_p(t) \\hat u_q(t) \\exp\\left[\\frac{2\\pi j (p+q)}{L}x\\right], ~\\frac{2\\pi jk}{L}\\exp\\left( \\frac{2\\pi jk}{L} \\right) \\right\\rangle \\\\\n",
    "    &\\xrightarrow{p+q~=~k} -\\frac{\\pi jk}{L}\\sum_{p+q=k} \\hat u_p(t) \\hat u_q(t)\n",
    "\\end{align*}\n",
    "$$\n",
    "\n",
    "\n",
    "<!-- $$\n",
    "\\begin{align*}\n",
    "    uu_x & \\approx \\left[ \\sum_{k=-N/2}^{N/2-1} \\hat u_k(t) \\exp\\left( \\frac{2\\pi jkx}{L} \\right) \\right] \\left[ \\sum_{l=-N/2}^{N/2-1} \\left( \\frac{2\\pi j l}{L} \\right) \\hat u_l(t) \\exp\\left( \\frac{2\\pi jlx}{L} \\right) \\right] \\\\\n",
    "    &=  \\sum_{k,l=-N/2}^{N/2-1} \\left( \\frac{2\\pi j l}{L} \\right) \\hat u_k(t) \\hat u_l(t) \\exp\\left( \\frac{2\\pi j(k+l)x}{L} \\right)   \\\\\n",
    "\\end{align*}\n",
    "$$\n",
    "\n",
    "Let $k = m$ and $l = k - m$, then\n",
    "\n",
    "$$\n",
    "\\begin{align*}\n",
    "    uu_x &\\approx  \\sum_{m,k-m=-N/2}^{N/2-1} \\frac{2\\pi j(k-m)}{L} \\hat u_m(t) \\hat u_{k-m}(t) \\exp\\left( \\frac{2\\pi jkx}{L} \\right) \n",
    "\\end{align*}\n",
    "$$ -->\n",
    "\n",
    "With the linear and nonlinear terms together, we have\n",
    "\n",
    "$$\n",
    "\\begin{gather*}\n",
    "    \\dot{\\hat u}_k(t) = \\underbrace{\\left[ \\left( \\frac{2\\pi k}{L}\\right)^2 - \\mu\\left( \\frac{2\\pi k}{L} \\right)^4 \\right]}_{\\text{linear}}\\hat u_k(t) +  \\underbrace{\\frac{-\\pi jk}{L} \\sum_{p+q=k}\\hat u_p(t) \\hat u_q(t)}_{\\text{nonlinear}} ~ .\n",
    "\\end{gather*}\n",
    "$$\n",
    "\n",
    "<!-- To change the index $k-m$, we first let $p=k-m$ and then $p \\rightarrow m$, which leads to the following expression:\n",
    "\n",
    "$$\n",
    "\\begin{gather*}\n",
    "    \\dot{\\hat u}_k(t) = \\underbrace{\\left[ \\left( \\frac{2\\pi k}{L}\\right)^2 - \\mu\\left( \\frac{2\\pi k}{L} \\right)^4 \\right]\\hat u_k(t)}_{\\text{linear}} + \\underbrace{\\sum_{m=-N/2}^{N/2-1} \\left(-\\frac{2\\pi jm}{L}\\right)  \\hat u_m(t) \\hat u_{k-m}(t)}_{\\text{nonlinear}} \\quad .\n",
    "\\end{gather*}\n",
    "$$ -->\n",
    "\n",
    "Assume $\\hat u_k$ is pure imaginary. Then let us define  $\\hat u_k(t) = j\\hat v_k(t)$, where $v_k(t) \\in \\mathbb R^N$, to limit the model in the real space, which brings us to\n",
    "\n",
    "$$\n",
    "\\begin{gather*}\n",
    "    \\dot{\\hat v}_k(t) = \\underbrace{\\left[ \\left( \\frac{2\\pi k}{L}\\right)^2 - \\mu\\left( \\frac{2\\pi k}{L} \\right)^4 \\right]\\hat v_k(t)}_{\\text{linear}} + \\underbrace{\\frac{-\\pi k}{L} \\sum_{p+q=k}\\hat v_p(t) \\hat v_q(t)}_{\\text{nonlinear}} \\quad .\n",
    "\\end{gather*}\n",
    "$$\n",
    "\n",
    "Thus, in the real Fourier space, the model can be expressed as \n",
    "\n",
    "$$\n",
    "\\begin{gather*}\n",
    "    \\dot{\\hat{\\mathbf{v}}}(t) = \\mathbf{A}\\hat{\\mathbf v}(t) + \\mathbf{F} \\hat{\\mathbf v}^{\\langle 2 \\rangle}(t) \\quad .\n",
    "\\end{gather*}\n",
    "$$\n",
    "\n",
    "Now, since the Fourier transform $\\mathcal F$ is a linear operator, so is the inverse Fourier transform $\\mathcal F^{-1}$. Hence, the KS model in the time domain is expressed as \n",
    "\n",
    "$$\n",
    "\\begin{gather*}\n",
    "    \\mathcal F^{-1}\\left[ \\dot{\\hat{\\mathbf{v}}}(t) \\right] = \\mathbf{A}~\\mathcal F^{-1} \\left[\\hat{\\mathbf v}(t)\\right] + \\mathbf{F} ~\\mathcal F^{-1}\\left[\\hat{\\mathbf v}^{\\langle 2 \\rangle}(t) \\right] \\quad .\n",
    "\\end{gather*}\n",
    "$$\n",
    "\n",
    "where the linear and quadratic operators do not change. For more details consult [this paper](https://dx.doi.org/10.1088/0951-7715/10/1/004). \n",
    "\n",
    "However if we would not want to assume $\\hat u_k$ to be pure imaginary then we will just let \n",
    "\n",
    "$$\n",
    "\\begin{gather*}\n",
    "    \\dot{\\hat{\\mathbf{u}}}(t) = \\mathbf{A}\\hat{\\mathbf u}(t) + \\mathbf{F} \\hat{\\mathbf u}^{\\langle 2 \\rangle}(t) \\quad ,\n",
    "\\end{gather*}\n",
    "$$\n",
    "\n",
    "where $\\mathbf F$ would have complex valued entries. To acquire the original states $u(t)$ of the KS equation we will have to perform the inverse FFT (iFFT) on the state data in the Fourier space.\n"
   ]
  },
  {
   "cell_type": "code",
   "execution_count": null,
   "metadata": {},
   "outputs": [],
   "source": [
    "# Generate the operators\n",
    "A, F = KSE.model_SG(KSE, KSE.μs[1])\n",
    ";"
   ]
  },
  {
   "cell_type": "code",
   "execution_count": null,
   "metadata": {},
   "outputs": [],
   "source": [
    "# Integrate\n",
    "u_SG, _ = KSE.integrate_SG(A, F, KSE.t, u0)\n",
    ";"
   ]
  },
  {
   "cell_type": "code",
   "execution_count": null,
   "metadata": {},
   "outputs": [],
   "source": [
    "plot(contourf(KSE.t, KSE.x, u_SG, lw=0), xlabel=L\"t, \\mathrm{time}\",\n",
    "    ylabel=L\"x, \\mathrm{space}\", zlabel=L\"u(x,t)\", size=(680, 400))\n",
    "plot!(guidefontsize=16, tickfontsize=8,  legendfontsize=13)"
   ]
  },
  {
   "cell_type": "code",
   "execution_count": null,
   "metadata": {},
   "outputs": [],
   "source": [
    "p1 = plot()\n",
    "for i in 1:1000:KSE.Tdim\n",
    "    plot!(p1, KSE.x, u_SG[:, i])\n",
    "end\n",
    "plot!(p1, xlabel=L\"x\", ylabel=L\"u(x,t)\", grid=true,\n",
    "    minorgrid=true, legend=false)\n",
    "plot!(guidefontsize=16, tickfontsize=8,  legendfontsize=13)"
   ]
  },
  {
   "cell_type": "markdown",
   "metadata": {},
   "source": [
    "## Animation"
   ]
  },
  {
   "cell_type": "code",
   "execution_count": null,
   "metadata": {},
   "outputs": [],
   "source": [
    "@gif for i ∈ 2:KSE.Tdim\n",
    "    plot(KSE.x, u_FD[:,i], xlabel=\"x\", ylabel=\"u(x,t)\", fontfamily=\"Modern Computer\", label=\"\")\n",
    "    plot!(KSE.x, u_FD[:,1], label=\"\")\n",
    "    ylims!(-4,4)\n",
    "end every 10"
   ]
  }
 ],
 "metadata": {
  "kernelspec": {
   "display_name": "Julia 1.8.5",
   "language": "julia",
   "name": "julia-1.8"
  },
  "language_info": {
   "file_extension": ".jl",
   "mimetype": "application/julia",
   "name": "julia",
   "version": "1.8.5"
  },
  "orig_nbformat": 4
 },
 "nbformat": 4,
 "nbformat_minor": 2
}
