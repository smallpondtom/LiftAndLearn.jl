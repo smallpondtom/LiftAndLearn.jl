{
 "cells": [
  {
   "cell_type": "markdown",
   "metadata": {},
   "source": [
    "# Kuramoto-Sivashinsky Equation Energy-Preserving Operator Inference"
   ]
  },
  {
   "cell_type": "code",
   "execution_count": null,
   "metadata": {},
   "outputs": [],
   "source": [
    "using FFTW\n",
    "using FileIO\n",
    "using JLD2\n",
    "using LaTeXStrings\n",
    "using LinearAlgebra\n",
    "using Plots\n",
    "using ProgressMeter\n",
    "using SparseArrays\n",
    "using Statistics\n",
    "\n",
    "include(\"../src/model/KS.jl\")\n",
    "include(\"../src/LiftAndLearn.jl\")\n",
    "const LnL = LiftAndLearn\n",
    "\n",
    "# Settings for the KS equation\n",
    "KSE = KS(\n",
    "    [0.0, 100.0], [0.0, 200.0], [1.0, 1.0],\n",
    "    512, 0.001, 1, \"ep\"\n",
    ")\n",
    "\n",
    "# WARNING: DO YOU WANT TO SAVE DATA?\n",
    "save_data = true\n",
    "\n",
    "# Create file name to save data\n",
    "datafile = \"data/kse_data.jld2\"\n",
    "opfile = \"data/kse_operators.jld2\"\n",
    "resultfile = \"data/kse_results.jld2\"\n",
    "\n",
    "# Settings for Operator Inference\n",
    "KSE_system = LnL.sys_struct(\n",
    "    is_lin=true,\n",
    "    is_quad=true,\n",
    ")\n",
    "KSE_vars = LnL.vars(\n",
    "    N=1,\n",
    ")\n",
    "KSE_data = LnL.data(\n",
    "    Δt=KSE.Δt,\n",
    "    DS=100,\n",
    ")\n",
    "KSE_optim = LnL.opt_settings(\n",
    "    verbose=false,\n",
    "    initial_guess=false,\n",
    "    max_iter=1000,\n",
    "    reproject=false,\n",
    "    SIGE=false,\n",
    ")\n",
    "\n",
    "options = LnL.LS_options(\n",
    "    system=KSE_system,\n",
    "    vars=KSE_vars,\n",
    "    data=KSE_data,\n",
    "    optim=KSE_optim,\n",
    ")\n",
    "\n",
    "# Downsampling rate\n",
    "DS = KSE_data.DS\n",
    "\n",
    "# Down-sampled dimension of the time data\n",
    "Tdim_ds = size(1:DS:KSE.Tdim, 1)  # downsampled time dimension\n",
    "\n",
    "# Number of random test inputs\n",
    "num_test_ic = 50\n",
    "\n",
    ";\n"
   ]
  },
  {
   "cell_type": "markdown",
   "metadata": {},
   "source": [
    "## Generate Training Data\n",
    "\n",
    "We use the initial condition of \n",
    "\n",
    "$$\n",
    "\\begin{gather*}\n",
    "    u(x,0) = a\\cos\\left( \\frac{2\\pi x}{L} \\right) + b\\cos\\left( \\frac{4\\pi x}{L} \\right)\n",
    "\\end{gather*}\n",
    "$$\n",
    "\n",
    "where $a, b$ are parameters that vary"
   ]
  },
  {
   "cell_type": "code",
   "execution_count": null,
   "metadata": {},
   "outputs": [],
   "source": [
    "# Parameters of the initial condition\n",
    "ic_a = [0.5, 1.0, 1.5]\n",
    "ic_b = [0.1, 0.2, 0.3]\n",
    "\n",
    "ic_a_out = [-1.0, 3.0]\n",
    "ic_b_out = [-1.0, 1.0]\n",
    "num_ic_params = Int(length(ic_a) * length(ic_b))\n",
    "\n",
    "# Parameterized function for the initial condition\n",
    "u0 = (a,b) -> a * cos.((2*π*KSE.x)/KSE.Xdim) .+ b * cos.((4*π*KSE.x)/KSE.Xdim)  # initial condition\n",
    ";  "
   ]
  },
  {
   "cell_type": "code",
   "execution_count": null,
   "metadata": {},
   "outputs": [],
   "source": [
    "# Store values\n",
    "Xtr = Vector{Matrix{Float64}}(undef, KSE.Pdim)  # training state data 10x1\n",
    "Rtr = Vector{Matrix{Float64}}(undef, KSE.Pdim)  # training derivative data 10x1\n",
    "Xtr_all = Matrix{Matrix{Float64}}(undef, KSE.Pdim, num_ic_params)  # all training data 10x27\n",
    "IC_train = Vector{Vector{Float64}}(undef, num_ic_params)  # all initial conditions \n",
    "Vr = Vector{Matrix{Float64}}(undef, KSE.Pdim)  # POD basis 10x1\n",
    "Σr = Vector{Vector{Float64}}(undef, KSE.Pdim)  # singular values 10x1\n",
    "op_fom_tr = Vector{LnL.operators}(undef, KSE.Pdim)  # FOM operators 10x1\n",
    "\n",
    "@info \"Generate the FOM system matrices and training data.\"\n",
    "@showprogress for i in eachindex(KSE.μs)\n",
    "    μ = KSE.μs[i]\n",
    "\n",
    "    # Generate the FOM system matrices (ONLY DEPENDS ON μ)\n",
    "    A, F = KSE.model_FD(KSE, μ)\n",
    "    op_fom_tr[i] = LnL.operators(A=A, F=F)\n",
    "\n",
    "    # Store the training data \n",
    "    Xall = Vector{Matrix{Float64}}(undef, num_ic_params)\n",
    "    Xdotall = Vector{Matrix{Float64}}(undef, num_ic_params)\n",
    "    \n",
    "    # Generate the data for all combinations of the initial condition parameters\n",
    "    ct = 1  # set/reset counter\n",
    "    # for a in ic_a, b in ic_b, c in ic_c\n",
    "    for a in ic_a, b in ic_b\n",
    "        if i == 1\n",
    "            # IC_train[ct] = u0(a, b, c)\n",
    "            IC_train[ct] = u0(a, b)\n",
    "        end\n",
    "\n",
    "        # A_FFT, F_FFT = KSE.model_FFT_ew(KSE, μ)\n",
    "        # states, _ = KSE.integrate_FFT_ew(A_FFT, F_FFT, KSE.t, IC_train[ct])\n",
    "\n",
    "        states = KSE.integrate_FD(A, F, KSE.t, IC_train[ct])\n",
    "        Xtr_all[i,ct] = states\n",
    "        \n",
    "        tmp = states[:, 2:end]\n",
    "        Xall[ct] = tmp[:, 1:DS:end]  # downsample data\n",
    "        tmp = (states[:, 2:end] - states[:, 1:end-1]) / KSE.Δt\n",
    "        Xdotall[ct] = tmp[:, 1:DS:end]  # downsample data\n",
    "\n",
    "        ct += 1  # increment counter\n",
    "    end\n",
    "    # Combine all initial condition data to form on big training data matrix\n",
    "    Xtr[i] = reduce(hcat, Xall) \n",
    "    Rtr[i] = reduce(hcat, Xdotall)\n",
    "    \n",
    "    # Compute the POD basis from the training data\n",
    "    tmp = svd(Xtr[i])\n",
    "    Vr[i] = tmp.U\n",
    "    Σr[i] = tmp.S\n",
    "end\n"
   ]
  },
  {
   "cell_type": "markdown",
   "metadata": {},
   "source": [
    "### Check Energy-Levels from SVD and Decide Reduced Orders"
   ]
  },
  {
   "cell_type": "code",
   "execution_count": null,
   "metadata": {},
   "outputs": [],
   "source": [
    "nice_orders_all = Vector{Vector{Int}}(undef, KSE.Pdim)\n",
    "energy_level_all = Vector{Vector{Float64}}(undef, KSE.Pdim)\n",
    "\n",
    "for i in eachindex(KSE.μs)\n",
    "    nice_orders_all[i], energy_level_all[i] = LnL.choose_ro(Σr[i]; en_low=-12)\n",
    "end\n",
    "nice_orders = Int.(round.(mean(nice_orders_all)))\n",
    "energy_level = mean(energy_level_all)\n",
    ";"
   ]
  },
  {
   "cell_type": "code",
   "execution_count": null,
   "metadata": {},
   "outputs": [],
   "source": [
    "plot(energy_level[1:nice_orders[end]], yaxis=:log10, label=\"Energy Level\", fontfamily=\"Computer Modern\",\n",
    "    ylabel=\"Mean Relative Energy Loss from Truncation\", xlabel=\"Number of retained modes\", legend=:topright)\n",
    "plot!(nice_orders, energy_level[nice_orders], seriestype=:scatter, label=nothing)\n",
    "for i in 1:length(nice_orders)\n",
    "    annotate!([(nice_orders[i]+5.0, energy_level[nice_orders[i]], text(nice_orders[i], :bottom, 10, \"Computer Modern\"))])\n",
    "end\n",
    "yticks!(10.0 .^ (0:-2:-10))\n",
    "plot!(fg_legend=:false)\n",
    "plot!(guidefontsize=11, tickfontsize=10,  legendfontsize=13)"
   ]
  },
  {
   "cell_type": "markdown",
   "metadata": {},
   "source": [
    "**Based on the energy levels we select an appropriate reduced-order**"
   ]
  },
  {
   "cell_type": "code",
   "execution_count": null,
   "metadata": {},
   "outputs": [],
   "source": [
    "# Minimum and maximum dimensions\n",
    "ro = nice_orders[3:8]\n",
    ";"
   ]
  },
  {
   "cell_type": "markdown",
   "metadata": {},
   "source": [
    "## Generate Test Data (Inside Training Region)\n",
    "\n",
    "Generate random initial condition parameters from the training region for $\\mu \\in M$."
   ]
  },
  {
   "cell_type": "code",
   "execution_count": null,
   "metadata": {},
   "outputs": [],
   "source": [
    "# Store values\n",
    "Xtest_in = Matrix{Matrix{Float64}}(undef, KSE.Pdim, num_test_ic)  # all training data \n",
    "IC_test_in = Vector{Vector{Float64}}(undef, num_test_ic)  # all initial conditions\n",
    "\n",
    "@info \"Generate test data for parameters within the training region.\"\n",
    "\n",
    "# Generate 10 random initial condition parameters\n",
    "ic_a_rand_in = (maximum(ic_a) - minimum(ic_a)) .* rand(num_test_ic) .+ minimum(ic_a)\n",
    "ic_b_rand_in = (maximum(ic_b) - minimum(ic_b)) .* rand(num_test_ic) .+ minimum(ic_b)\n",
    "ic_c_rand_in = (maximum(ic_c) - minimum(ic_c)) .* rand(num_test_ic) .+ minimum(ic_c)\n",
    "\n",
    "@showprogress for i in eachindex(KSE.μs)\n",
    "    μ = KSE.μs[i]\n",
    "\n",
    "    # Generate the FOM system matrices (ONLY DEPENDS ON μ)\n",
    "    A = op_fom_tr[i].A\n",
    "    F = op_fom_tr[i].F\n",
    "\n",
    "    # Generate the data for all combinations of the initial condition parameters\n",
    "    for j in 1:num_test_ic  \n",
    "        a = ic_a_rand_in[j]\n",
    "        b = ic_b_rand_in[j]\n",
    "        c = ic_c_rand_in[j]\n",
    "\n",
    "        if i == 1\n",
    "            IC_test_in[j] = u0(a, b, c)\n",
    "        end\n",
    "        Xtest_in[i,j] = KSE.integrate_FD(A, F, KSE.t, IC_test_in[j])\n",
    "    end\n",
    "end\n",
    "\n",
    "# if save_data\n",
    "#     Data[\"Xtest_in\"] = Xtest_in\n",
    "#     Data[\"IC_test_in\"] = IC_test_in\n",
    "#     @save filename Data\n",
    "# end"
   ]
  },
  {
   "cell_type": "markdown",
   "metadata": {},
   "source": [
    "## Generate Test Data (Outside Training Region)\n",
    "\n",
    "Generate random initial condition parameters outside of the training region for $\\mu \\in M$."
   ]
  },
  {
   "cell_type": "code",
   "execution_count": null,
   "metadata": {},
   "outputs": [],
   "source": [
    "# Store values\n",
    "Xtest_out = Matrix{Matrix{Float64}}(undef, KSE.Pdim, num_test_ic)  # all training data \n",
    "IC_test_out = Vector{Vector{Float64}}(undef, num_test_ic)  # all initial conditions\n",
    "\n",
    "@info \"Generate test data for parameters outside the training region.\"\n",
    "\n",
    "# Generate 10 random initial condition parameters outside the training region\n",
    "ϵ=1e-2\n",
    "half_num_test_ic = Int(num_test_ic/2)\n",
    "ic_a_rand_out = ((minimum(ic_a) - ϵ) - ic_a_out[1]) .* rand(half_num_test_ic) .+ ic_a_out[1]\n",
    "append!(ic_a_rand_out, (ic_a_out[2] - (maximum(ic_a) + ϵ)) .* rand(half_num_test_ic) .+ (maximum(ic_a) + ϵ))\n",
    "ic_b_rand_out = ((minimum(ic_b) - ϵ) - ic_b_out[1]) .* rand(half_num_test_ic) .+ ic_b_out[1]\n",
    "append!(ic_b_rand_out, (ic_b_out[2] - (maximum(ic_b) + ϵ)) .* rand(half_num_test_ic) .+ (maximum(ic_b) + ϵ))\n",
    "ic_c_rand_out = ((minimum(ic_c) - ϵ) - ic_c_out[1]) .* rand(half_num_test_ic) .+ ic_c_out[1]\n",
    "append!(ic_c_rand_out, (ic_c_out[2] - (maximum(ic_c) + ϵ)) .* rand(half_num_test_ic) .+ (maximum(ic_c) + ϵ))\n",
    "\n",
    "@showprogress for i in eachindex(KSE.μs)\n",
    "    μ = KSE.μs[i]\n",
    "\n",
    "    # Generate the FOM system matrices (ONLY DEPENDS ON μ)\n",
    "    A = op_fom_tr[i].A\n",
    "    F = op_fom_tr[i].F\n",
    "\n",
    "    # Generate the data for all combinations of the initial condition parameters\n",
    "    for j in 1:num_test_ic\n",
    "        a = ic_a_rand_out[j]\n",
    "        b = ic_b_rand_out[j]\n",
    "        c = ic_c_rand_out[j]\n",
    "\n",
    "        if i == 1\n",
    "            IC_test_out[j] = u0(a, b, c)\n",
    "        end\n",
    "        Xtest_out[i,j] = KSE.integrate_FD(A, F, KSE.t, IC_test_out[j])\n",
    "    end\n",
    "end\n",
    "\n",
    "# if save_data\n",
    "#     Data[\"Xtest_out\"] = Xtest_out\n",
    "#     Data[\"IC_test_out\"] = IC_test_out\n",
    "#     @save filename Data\n",
    "# end"
   ]
  },
  {
   "cell_type": "markdown",
   "metadata": {},
   "source": [
    "### Save data"
   ]
  },
  {
   "cell_type": "code",
   "execution_count": null,
   "metadata": {},
   "outputs": [],
   "source": [
    "if save_data\n",
    "    save(\n",
    "        datafile,\n",
    "        Dict(\"Xtr\" => Xtr, \"Rtr\" => Rtr, \"Vr\" => Vr, \n",
    "            \"op_fom_tr\" => op_fom_tr, \n",
    "            \"Xtr_all\" => Xtr_all, \"IC_train\" => IC_train)\n",
    "    )\n",
    "end"
   ]
  },
  {
   "cell_type": "markdown",
   "metadata": {},
   "source": [
    "## Obtain Operators using Least-Squares (Vanilla) Operator Inference"
   ]
  },
  {
   "cell_type": "code",
   "execution_count": null,
   "metadata": {},
   "outputs": [],
   "source": [
    "@info \"Compute the Least Squares solution.\"\n",
    "\n",
    "options = LnL.LS_options(\n",
    "    system=KSE_system,\n",
    "    vars=KSE_vars,\n",
    "    data=KSE_data,\n",
    "    optim=KSE_optim,\n",
    "    pinv_tol = 1e-4,   # tolerance for pseudo-inverse\n",
    ")\n",
    "\n",
    "# Store values\n",
    "op_LS = Array{LnL.operators}(undef, KSE.Pdim)\n",
    "\n",
    "@showprogress for i in eachindex(KSE.μs)\n",
    "    op_LS[i] = LnL.inferOp(Xtr[i], zeros(Tdim_ds,1), zeros(Tdim_ds,1), Vr[i][:, 1:ro[end]], Vr[i][:, 1:ro[end]]' * Rtr[i], options)\n",
    "end"
   ]
  },
  {
   "cell_type": "markdown",
   "metadata": {},
   "source": [
    "## Compute intrusive operators"
   ]
  },
  {
   "cell_type": "code",
   "execution_count": null,
   "metadata": {},
   "outputs": [],
   "source": [
    "@info \"Compute the intrusive model\"\n",
    "\n",
    "# Store values\n",
    "op_int = Array{LnL.operators}(undef, KSE.Pdim)\n",
    "\n",
    "for i in eachindex(KSE.μs)\n",
    "    # Compute the values for the intrusive model from the basis of the training data\n",
    "    op_int[i] = LnL.intrusiveMR(op_fom_tr[i], Vr[i][:, 1:ro[end]], options)\n",
    "    @info \"Loop $(i) out of $(KSE.Pdim) completed...\"\n",
    "end"
   ]
  },
  {
   "cell_type": "markdown",
   "metadata": {},
   "source": [
    "## Computer EPHEC-OpInf operators"
   ]
  },
  {
   "cell_type": "code",
   "execution_count": null,
   "metadata": {},
   "outputs": [],
   "source": [
    "@info \"Compute the EPHEC model\"\n",
    "\n",
    "options = LnL.EPHEC_options(\n",
    "    system=KSE_system,\n",
    "    vars=KSE_vars,\n",
    "    data=KSE_data,\n",
    "    optim=KSE_optim,\n",
    ")\n",
    "op_ephec =  Array{LnL.operators}(undef, KSE.Pdim)\n",
    "\n",
    "for i in eachindex(KSE.μs)\n",
    "    op_ephec[i] = LnL.inferOp(Xtr[i], zeros(Tdim_ds,1), zeros(Tdim_ds,1), Vr[i], Vr[i]' * Rtr[i], options)\n",
    "    @info \"Loop $(i) out of $(KSE.Pdim) completed...\"\n",
    "end"
   ]
  },
  {
   "cell_type": "markdown",
   "metadata": {},
   "source": [
    "## Compute EPSIC-Opinf operators"
   ]
  },
  {
   "cell_type": "code",
   "execution_count": null,
   "metadata": {},
   "outputs": [],
   "source": [
    "@info \"Compute the EPSIC OpInf.\"\n",
    "\n",
    "options = LnL.EPSIC_options(\n",
    "    system=KSE_system,\n",
    "    vars=KSE_vars,\n",
    "    data=KSE_data,\n",
    "    optim=KSE_optim,\n",
    "    ϵ=1e-3,\n",
    ")\n",
    "op_epsic = Array{LnL.operators}(undef, KSE.Pdim)\n",
    "\n",
    "for i in eachindex(KSE.μs)\n",
    "    op_epsic[i] = LnL.inferOp(Xtr[i], zeros(Tdim_ds,1), zeros(Tdim_ds,1), Vr[i], Vr[i]' * Rtr[i], options)\n",
    "    @info \"Loop $(i) out of $(KSE.Pdim) completed...\"\n",
    "end"
   ]
  },
  {
   "cell_type": "markdown",
   "metadata": {},
   "source": [
    "## Compute EPP-OpInf operators"
   ]
  },
  {
   "cell_type": "code",
   "execution_count": null,
   "metadata": {},
   "outputs": [],
   "source": [
    "@info \"Compute the EPUC OpInf.\"\n",
    "\n",
    "options = LnL.EPP_options(\n",
    "    system=KSE_system,\n",
    "    vars=KSE_vars,\n",
    "    data=KSE_data,\n",
    "    optim=KSE_optim,\n",
    "    α=1e6,\n",
    ")\n",
    "op_epp =  Array{LnL.operators}(undef, KSE.Pdim)\n",
    "\n",
    "for i in eachindex(KSE.μs)\n",
    "    op_epp[i] = LnL.inferOp(Xtr[i], zeros(Tdim_ds,1), zeros(Tdim_ds,1), Vr[i], Vr[i]' * Rtr[i], options)\n",
    "    @info \"Loop $(i) out of $(KSE.Pdim) completed...\"\n",
    "end"
   ]
  },
  {
   "cell_type": "markdown",
   "metadata": {},
   "source": [
    "### Save the operators"
   ]
  },
  {
   "cell_type": "code",
   "execution_count": null,
   "metadata": {},
   "outputs": [],
   "source": [
    "if save_data\n",
    "    save(\n",
    "        opfile,\n",
    "        Dict(\"op_LS\" => op_LS, \"op_int\" => op_int, \"op_ephec\" => op_ephec, \n",
    "            \"op_epsic\" => op_epsic, \"op_epp\" => op_epp)\n",
    "    )\n",
    "end"
   ]
  },
  {
   "cell_type": "markdown",
   "metadata": {},
   "source": [
    "## Analyze Training Results"
   ]
  },
  {
   "cell_type": "markdown",
   "metadata": {},
   "source": [
    "### Load the data"
   ]
  },
  {
   "cell_type": "code",
   "execution_count": null,
   "metadata": {},
   "outputs": [],
   "source": [
    "DATA = load(datafile)\n",
    "OPS = load(opfile)"
   ]
  },
  {
   "cell_type": "code",
   "execution_count": null,
   "metadata": {},
   "outputs": [],
   "source": [
    "RES = load(resultfile)\n",
    "RES = Dict{String, Any}(RES) # convert type to avoid errors"
   ]
  },
  {
   "cell_type": "code",
   "execution_count": null,
   "metadata": {},
   "outputs": [],
   "source": [
    "# Setup the results\n",
    "RES[\"train_proj_err\"] = Array{Float64}(undef, length(ro), KSE.Pdim) \n",
    "RES[\"train_state_err\"] = Dict(\n",
    "    :int => Array{Float64}(undef, length(ro), KSE.Pdim),\n",
    "    :LS => Array{Float64}(undef, length(ro), KSE.Pdim),\n",
    "    :ephec => Array{Float64}(undef, length(ro), KSE.Pdim),\n",
    "    :epsic => Array{Float64}(undef, length(ro), KSE.Pdim),\n",
    "    :epp => Array{Float64}(undef, length(ro), KSE.Pdim),\n",
    ")\n",
    "RES[\"train_CR\"] = Dict(\n",
    "    :int => Array{Float64}(undef, length(ro), KSE.Pdim),\n",
    "    :LS => Array{Float64}(undef, length(ro), KSE.Pdim),\n",
    "    :ephec => Array{Float64}(undef, length(ro), KSE.Pdim),\n",
    "    :epsic => Array{Float64}(undef, length(ro), KSE.Pdim),\n",
    "    :epp => Array{Float64}(undef, length(ro), KSE.Pdim),\n",
    "    :fom => Array{Float64}(undef, KSE.Pdim)\n",
    ")"
   ]
  },
  {
   "cell_type": "code",
   "execution_count": null,
   "metadata": {},
   "outputs": [],
   "source": [
    "function analyze_proj_err(X_all, Vr_all, IC, ro)\n",
    "    num_ic_params = length(IC)\n",
    "    PE_all = Array{Float64}(undef, ro_dim, model.Pdim) \n",
    "    \n",
    "    @showprogress for i in eachindex(model.μs)\n",
    "        for (j,r) in enumerate(ro)\n",
    "            PE = Array{Float64}(undef, num_ic_params)  \n",
    "            Vr = Vr_all[i][:, 1:r]\n",
    "            for (ct, ic) in enumerate(IC)\n",
    "                PE[ct] = LnL.compProjError(X_all[i,ct], Vr)\n",
    "            end\n",
    "            PE_all[j, i] = mean(PE)\n",
    "        end\n",
    "    end\n",
    "    return PE_all\n",
    "end"
   ]
  },
  {
   "cell_type": "code",
   "execution_count": null,
   "metadata": {},
   "outputs": [],
   "source": [
    "function analyze_rse(op, model, X_all, Vr_all, IC, ro, integrator)\n",
    "    # Relative state error\n",
    "    RSE_all = Array{Float64}(undef, length(ro), model.Pdim)\n",
    "    num_ic_params = length(IC)\n",
    "    DS = model.DS\n",
    "\n",
    "    @showprogress for i in eachindex(model.μs)\n",
    "        for (j,r) in enumerate(ro)\n",
    "            Vr = Vr_all[i][:, 1:r]\n",
    "            RSE = Array{Float64}(undef, num_ic_params)\n",
    "\n",
    "            for (ct, ic) in enumerate(IC)\n",
    "                Fextract = LnL.extractF(op[i].F, r)\n",
    "                X = integrator(op[i].A[1:r, 1:r], Fextract, model.t, Vr' * ic)\n",
    "                RSE[ct] = LnL.compStateError(X_all[i,ct][:, 1:DS:end], X[:, 1:DS:end], Vr)\n",
    "            end\n",
    "            RSE_all[j, i] = mean(RSE)\n",
    "        end\n",
    "    end\n",
    "    return RSE_all\n",
    "end"
   ]
  },
  {
   "cell_type": "code",
   "execution_count": null,
   "metadata": {},
   "outputs": [],
   "source": [
    "function analyze_cr(op, ForH, model, ro)\n",
    "    CR_all = Array{Float64}(undef, length(ro), model.Pdim)\n",
    "    num_ic_params = length(IC)\n",
    "\n",
    "    @showprogress for i in eachindex(model.μs)\n",
    "        for (j,r) in enumerate(ro)\n",
    "            CR = Vector{Float64}(undef, num_ic_params)\n",
    "\n",
    "            for (ct, ic) in enumerate(IC)\n",
    "                Fextract = LnL.extractF(op[i].F, r)\n",
    "                CR[ct], _ =  LnL.constraintResidual(Fextract, r, ForH)\n",
    "            end\n",
    "            CR_all[j, i] = mean(CR)\n",
    "        end\n",
    "    end\n",
    "    return CR_all\n",
    "end"
   ]
  },
  {
   "cell_type": "code",
   "execution_count": null,
   "metadata": {},
   "outputs": [],
   "source": [
    "function fom_CR(op, ForH, model)\n",
    "    CR = Array{Float64}(undef, model.Pdim)\n",
    "    @showprogress for i in 1:length(model.μs)\n",
    "        F_full = op[i].F\n",
    "        CR[i], _ = LnL.constraintResidual(F_full, size(F_full, 1), ForH)\n",
    "    end\n",
    "    return CR\n",
    "end"
   ]
  },
  {
   "cell_type": "code",
   "execution_count": null,
   "metadata": {},
   "outputs": [],
   "source": [
    "# Compute CR of full order model\n",
    "RES[\"train_CR\"][:fom] = fom_CR(DATA[\"op_fom_tr\"], \"F\", KSE)"
   ]
  },
  {
   "cell_type": "markdown",
   "metadata": {},
   "source": [
    "### __old__"
   ]
  },
  {
   "cell_type": "code",
   "execution_count": null,
   "metadata": {},
   "outputs": [],
   "source": [
    "function EP_analyze(Data, model, integrator, options, X_all, IC; rmin=1, rmax=10, ro=nothing)\n",
    "\n",
    "    # Projection error\n",
    "    if isnothing(ro)\n",
    "        ro_dim = rmax - (rmin - 1)\n",
    "    else\n",
    "        ro_dim = length(ro)\n",
    "    end\n",
    "\n",
    "    PE_all = Array{Float64}(undef, ro_dim, model.Pdim) \n",
    "    # Relative state error\n",
    "    SE_all = Dict(\n",
    "        :int => Array{Float64}(undef, ro_dim, model.Pdim),\n",
    "        :LS => Array{Float64}(undef, ro_dim, model.Pdim),\n",
    "        :ephec => Array{Float64}(undef, ro_dim, model.Pdim),\n",
    "        :epsic => Array{Float64}(undef, ro_dim, model.Pdim),\n",
    "        :epp => Array{Float64}(undef, ro_dim, model.Pdim),\n",
    "    )\n",
    "    # Energy \n",
    "    EN_all = Dict(\n",
    "        :int => Array{VecOrMat{Float64}}(undef, ro_dim, model.Pdim),\n",
    "        :LS => Array{VecOrMat{Float64}}(undef, ro_dim, model.Pdim),\n",
    "        :ephec => Array{VecOrMat{Float64}}(undef, ro_dim, model.Pdim),\n",
    "        :epsic => Array{VecOrMat{Float64}}(undef, ro_dim, model.Pdim),\n",
    "        :epp => Array{VecOrMat{Float64}}(undef, ro_dim, model.Pdim),\n",
    "        :fom => Array{VecOrMat{Float64}}(undef, model.Pdim)\n",
    "    )\n",
    "    # Constraint Residual\n",
    "    CR_all = Dict(\n",
    "        :int => Array{Float64}(undef, ro_dim, model.Pdim),\n",
    "        :LS => Array{Float64}(undef, ro_dim, model.Pdim),\n",
    "        :ephec => Array{Float64}(undef, ro_dim, model.Pdim),\n",
    "        :epsic => Array{Float64}(undef, ro_dim, model.Pdim),\n",
    "        :epp => Array{Float64}(undef, ro_dim, model.Pdim),\n",
    "        :fom => Array{Float64}(undef, model.Pdim)\n",
    "    )\n",
    "    # Momentum\n",
    "    MMT_all = Dict(\n",
    "        :int => Array{Float64}(undef, ro_dim, model.Pdim),\n",
    "        :LS => Array{Float64}(undef, ro_dim, model.Pdim),\n",
    "        :ephec => Array{Float64}(undef, ro_dim, model.Pdim),\n",
    "        :epsic => Array{Float64}(undef, ro_dim, model.Pdim),\n",
    "        :epp => Array{Float64}(undef, ro_dim, model.Pdim),\n",
    "        :fom => Array{Float64}(undef, model.Pdim)\n",
    "    )\n",
    "    # Constraint Violation\n",
    "    CV_all = Dict(\n",
    "        :int => Array{VecOrMat{Float64}}(undef, ro_dim, model.Pdim),\n",
    "        :LS => Array{VecOrMat{Float64}}(undef, ro_dim, model.Pdim),\n",
    "        :ephec => Array{VecOrMat{Float64}}(undef, ro_dim, model.Pdim),\n",
    "        :epsic => Array{VecOrMat{Float64}}(undef, ro_dim, model.Pdim),\n",
    "        :epp => Array{VecOrMat{Float64}}(undef, ro_dim, model.Pdim),\n",
    "        :fom => Array{VecOrMat{Float64}}(undef, model.Pdim)\n",
    "    )\n",
    "\n",
    "    # Load values\n",
    "    op_LS = Data[\"op_LS\"]\n",
    "    op_int = Data[\"op_int\"]\n",
    "    # op_ephec = Data[\"op_ephec\"]\n",
    "    # op_epsic = Data[\"op_epsic\"]\n",
    "    # op_epp = Data[\"op_epp\"]\n",
    "    Vrmax = Data[\"Vr\"]\n",
    "\n",
    "    num_ic_params = length(IC)\n",
    "\n",
    "    @info \"Analyze the operators with training data...\"\n",
    "    @showprogress for i in 1:length(model.μs)\n",
    "\n",
    "        # Energy, constraint residual, and constraint violation of the FOM\n",
    "        EN_all[:fom][i] = norm.(eachcol(X_all[i]), 2)\n",
    "        F_full = Data[\"op_fom_tr\"][i].F\n",
    "        CR_all[:fom][i], MMT_all[:fom][i] = LnL.constraintResidual(F_full, size(F_full, 1), options.optim.which_quad_term)\n",
    "        CV_all[:fom][i] = LnL.constraintViolation(X_all[i], F_full, options.optim.which_quad_term)\n",
    "\n",
    "        if isnothing(ro)\n",
    "            ro = rmin:rmax\n",
    "        end\n",
    "        \n",
    "        for (j,r) in enumerate(ro)\n",
    "            Vr = Vrmax[i][:, 1:r]\n",
    "\n",
    "            # Temporary data storage\n",
    "            PE = Array{Float64}(undef, num_ic_params)  # projection error\n",
    "            SE = Dict(\n",
    "                :int => Array{Float64}(undef, num_ic_params),\n",
    "                :LS => Array{Float64}(undef, num_ic_params),\n",
    "                :ephec => Array{Float64}(undef, num_ic_params),\n",
    "                :epsic => Array{Float64}(undef, num_ic_params),\n",
    "                :epp => Array{Float64}(undef, num_ic_params),\n",
    "            )\n",
    "            En = Dict(\n",
    "                :int => Matrix{Float64}(undef, num_ic_params, model.Tdim),\n",
    "                :LS => Matrix{Float64}(undef, num_ic_params, model.Tdim),\n",
    "                :ephec => Matrix{Float64}(undef, num_ic_params, model.Tdim),\n",
    "                :epsic => Matrix{Float64}(undef, num_ic_params, model.Tdim),\n",
    "                :epp => Matrix{Float64}(undef, num_ic_params, model.Tdim),\n",
    "            )\n",
    "            CR = Dict(\n",
    "                :int => Vector{Float64}(undef, num_ic_params),\n",
    "                :LS => Vector{Float64}(undef, num_ic_params),\n",
    "                :ephec => Vector{Float64}(undef, num_ic_params),\n",
    "                :epsic => Vector{Float64}(undef, num_ic_params),\n",
    "                :epp => Vector{Float64}(undef, num_ic_params),\n",
    "            )\n",
    "            mmt = Dict(\n",
    "                :int => Vector{Float64}(undef, num_ic_params),\n",
    "                :LS => Vector{Float64}(undef, num_ic_params),\n",
    "                :ephec => Vector{Float64}(undef, num_ic_params),\n",
    "                :epsic => Vector{Float64}(undef, num_ic_params),\n",
    "                :epp => Vector{Float64}(undef, num_ic_params),\n",
    "            )\n",
    "            CV = Dict(\n",
    "                :int => Matrix{Float64}(undef, num_ic_params, model.Tdim),\n",
    "                :LS => Matrix{Float64}(undef, num_ic_params, model.Tdim),\n",
    "                :ephec => Matrix{Float64}(undef, num_ic_params, model.Tdim),\n",
    "                :epsic => Matrix{Float64}(undef, num_ic_params, model.Tdim),\n",
    "                :epp => Matrix{Float64}(undef, num_ic_params, model.Tdim),\n",
    "            )\n",
    "\n",
    "            for (ct, ic) in enumerate(IC)\n",
    "\n",
    "                # Integrate the LS operator inference model\n",
    "                Finf_extract_LS = LnL.extractF(op_LS[i].F, r)\n",
    "                Xinf_LS = integrator(op_LS[i].A[1:r, 1:r], Finf_extract_LS, KSE.t, Vr' * ic)\n",
    "\n",
    "                # Integrate the intrusive model\n",
    "                Fint_extract = LnL.extractF(op_int[i].F, r)\n",
    "                Xint = integrator(op_int[i].A[1:r, 1:r], Fint_extract, KSE.t, Vr' * ic)\n",
    "                \n",
    "                # if options.optim.SIGE\n",
    "                #     # Integrate the energy-preserving hard equality constraint operator inference model\n",
    "                #     Finf_extract_ephec = op_ephec[i,j].F\n",
    "                #     Xinf_ephec = integrator(op_ephec[i,j].A, op_ephec[i,j].F, KSE.t, Vr' * ic)\n",
    "                #     # Finf_extract_ephec = LnL.extractF(op_ephec[i,rmax].F, r)\n",
    "                #     # Xinf_ephec = integrator(op_ephec[i,rmax].A[1:r, 1:r], Finf_extract_ephec, KSE.t, Vr' * ic)\n",
    "                    \n",
    "                #     # Integrate the energy-preserving soft inequality constraint operator inference model\n",
    "                #     Finf_extract_epsic = op_epsic[i,j].F\n",
    "                #     Xinf_epsic = integrator(op_epsic[i,j].A, op_epsic[i,j].F, KSE.t, Vr' * ic)\n",
    "                #     # Finf_extract_epsic = LnL.extractF(op_epsic[i,rmax].F, r)\n",
    "                #     # Xinf_epsic = integrator(op_epsic[i,rmax].A[1:r, 1:r], Finf_extract_epsic, KSE.t, Vr' * ic)\n",
    "\n",
    "                #     # Integrate the energy-preserving unconstrained operator inference model\n",
    "                #     Finf_extract_epp = op_epp[i,j].F\n",
    "                #     Xinf_epp = integrator(op_epp[i,j].A, op_epp[i,j].F, KSE.t, Vr' * ic)\n",
    "                #     # Finf_extract_epuc = LnL.extractF(op_epuc[i,rmax].F, r)\n",
    "                #     # Xinf_epuc = integrator(op_epuc[i,rmax].A[1:r, 1:r], Finf_extract_epuc, KSE.t, Vr' * ic)\n",
    "                # else\n",
    "                #     # Integrate the energy-preserving hard equality constraint operator inference model\n",
    "                #     Finf_extract_ephec = LnL.extractF(op_ephec[i].F, r)\n",
    "                #     Xinf_ephec = integrator(op_ephec[i].A[1:r, 1:r], Finf_extract_ephec, KSE.t, Vr' * ic)\n",
    "                    \n",
    "                #     # Integrate the energy-preserving soft inequality constraint operator inference model\n",
    "                #     Finf_extract_epsic = LnL.extractF(op_epsic[i].F, r)\n",
    "                #     Xinf_epsic = integrator(op_epsic[i].A[1:r, 1:r], Finf_extract_epsic, KSE.t, Vr' * ic)\n",
    "\n",
    "                #     # Integrate the energy-preserving unconstrained operator inference model\n",
    "                #     Finf_extract_epp = LnL.extractF(op_epp[i].F, r)\n",
    "                #     Xinf_epp = integrator(op_epp[i].A[1:r, 1:r], Finf_extract_epp, KSE.t, Vr' * ic)\n",
    "                # end\n",
    "\n",
    "                # Compute the projection error\n",
    "                PE[ct] = LnL.compProjError(X_all[i,ct], Vr)\n",
    "\n",
    "                # Compute the relative state error\n",
    "                SE[:LS][ct] = LnL.compStateError(X_all[i,ct][:, 1:DS:end], Xinf_LS[:, 1:DS:end], Vr)\n",
    "                SE[:int][ct] = LnL.compStateError(X_all[i,ct][:, 1:DS:end], Xint[:, 1:DS:end], Vr)\n",
    "                # SE[:ephec][ct] = LnL.compStateError(X_all[i,ct][:, 1:DS:end], Xinf_ephec[:, 1:DS:end], Vr)\n",
    "                # SE[:epsic][ct] = LnL.compStateError(X_all[i,ct][:, 1:DS:end], Xinf_epsic[:, 1:DS:end], Vr)\n",
    "                # SE[:epp][ct] = LnL.compStateError(X_all[i,ct][:, 1:DS:end], Xinf_epp[:, 1:DS:end], Vr)\n",
    "\n",
    "                # Compute the energy\n",
    "                En[:LS][ct, :] .= norm.(eachcol(Vr * Xinf_LS), 2)\n",
    "                En[:int][ct, :] .= norm.(eachcol(Vr * Xint), 2)\n",
    "                # En[:ephec][ct, :] .= norm.(eachcol(Vr * Xinf_ephec), 2)\n",
    "                # En[:epsic][ct, :] .= norm.(eachcol(Vr * Xinf_epsic), 2)\n",
    "                # En[:epp][ct, :] .= norm.(eachcol(Vr * Xinf_epp), 2)\n",
    "\n",
    "                # Compute the constraint residual and momentum\n",
    "                CR[:LS][ct], mmt[:LS][ct] =  LnL.constraintResidual(Finf_extract_LS, r, options.optim.which_quad_term)\n",
    "                CR[:int][ct], mmt[:int][ct] = LnL.constraintResidual(Fint_extract, r, options.optim.which_quad_term)\n",
    "                # CR[:ephec][ct], mmt[:ephec][ct] = LnL.constraintResidual(Finf_extract_ephec, r, options.optim.which_quad_term)\n",
    "                # CR[:epsic][ct], mmt[:epsic][ct] = LnL.constraintResidual(Finf_extract_epsic, r, options.optim.which_quad_term)\n",
    "                # CR[:epp][ct], mmt[:epp][ct] = LnL.constraintResidual(Finf_extract_epp, r, options.optim.which_quad_term)\n",
    "\n",
    "                # Compute the constraint violation\n",
    "                CV[:LS][ct, :] .= LnL.constraintViolation(Xinf_LS, Finf_extract_LS, options.optim.which_quad_term)\n",
    "                CV[:int][ct, :] .= LnL.constraintViolation(Xint, Fint_extract, options.optim.which_quad_term)\n",
    "                # CV[:ephec][ct, :] .= LnL.constraintViolation(Xinf_ephec, Finf_extract_ephec, options.optim.which_quad_term)\n",
    "                # CV[:epsic][ct, :] .= LnL.constraintViolation(Xinf_epsic, Finf_extract_epsic, options.optim.which_quad_term)\n",
    "                # CV[:epp][ct, :] .= LnL.constraintViolation(Xinf_epp, Finf_extract_epp, options.optim.which_quad_term)\n",
    "            end\n",
    "\n",
    "            # Compute errors\n",
    "            PE_all[j, i] = mean(PE)\n",
    "            SE_all[:LS][j, i] = mean(SE[:LS])\n",
    "            SE_all[:int][j, i] = mean(SE[:int])\n",
    "            # SE_all[:ephec][j, i] = mean(SE[:ephec])\n",
    "            # SE_all[:epsic][j, i] = mean(SE[:epsic])\n",
    "            # SE_all[:epp][j, i] = mean(SE[:epp])\n",
    "            \n",
    "            # Compute energy \n",
    "            EN_all[:LS][j, i] = mean(En[:LS], dims=1)\n",
    "            EN_all[:int][j, i] = mean(En[:int], dims=1)\n",
    "            # EN_all[:ephec][j, i] = mean(En[:ephec], dims=1)\n",
    "            # EN_all[:epsic][j, i] = mean(En[:epsic], dims=1)\n",
    "            # EN_all[:epp][j, i] = mean(En[:epp], dims=1)\n",
    "            \n",
    "            # Compute the CR and momentum\n",
    "            CR_all[:LS][j, i] = mean(CR[:LS])\n",
    "            CR_all[:int][j, i] = mean(CR[:int])\n",
    "            # CR_all[:ephec][j, i] = mean(CR[:ephec])\n",
    "            # CR_all[:epsic][j, i] = mean(CR[:epsic])\n",
    "            # CR_all[:epp][j, i] = mean(CR[:epp])\n",
    "\n",
    "            MMT_all[:LS][j, i] = mean(mmt[:LS])\n",
    "            MMT_all[:int][j, i] = mean(mmt[:int])\n",
    "            # MMT_all[:ephec][j, i] = mean(mmt[:ephec])\n",
    "            # MMT_all[:epsic][j, i] = mean(mmt[:epsic])\n",
    "            # MMT_all[:epp][j, i] = mean(mmt[:epp])\n",
    "\n",
    "            # Compute constraint violations\n",
    "            CV_all[:LS][j, i] = mean(CV[:LS], dims=1)\n",
    "            CV_all[:int][j, i] = mean(CV[:int], dims=1)\n",
    "            # CV_all[:ephec][j, i] = mean(CV[:ephec], dims=1)\n",
    "            # CV_all[:epsic][j, i] = mean(CV[:epsic], dims=1)\n",
    "            # CV_all[:epp][j, i] = mean(CV[:epp], dims=1)\n",
    "        end\n",
    "    end\n",
    "\n",
    "    Data = Dict{String, Any}(Data)  # convert type to avoid errors\n",
    "    Data[\"train_proj_err\"] = PE_all\n",
    "    Data[\"train_state_err\"] = SE_all\n",
    "    Data[\"train_En\"] = EN_all\n",
    "    Data[\"train_CR\"] = CR_all\n",
    "    Data[\"train_mmt\"] = MMT_all\n",
    "    Data[\"train_CV\"] = CV_all\n",
    "\n",
    "    return Data\n",
    "end\n",
    ";\n"
   ]
  },
  {
   "cell_type": "code",
   "execution_count": null,
   "metadata": {},
   "outputs": [],
   "source": [
    "# Data[\"train_proj_err\"], Data[\"train_state_err\"], Data[\"train_En\"], Data[\"train_CR\"], Data[\"train_mmt\"], Data[\"train_CV\"] = EP_analyze(Data,KSE,KSE.integrate_FD,options,Data[\"Xtr_all\"],Data[\"IC_train\"],rmin,rmax)\n",
    "Data = EP_analyze(Data,KSE,KSE.integrate_FD,options,Data[\"Xtr_all\"],Data[\"IC_train\"];ro=Data[\"ro\"])"
   ]
  },
  {
   "cell_type": "markdown",
   "metadata": {},
   "source": [
    "### Projection error"
   ]
  },
  {
   "cell_type": "code",
   "execution_count": null,
   "metadata": {},
   "outputs": [],
   "source": [
    "RES[\"train_proj_err\"] = analyze_proj_err(DATA[\"X_all\"], DATA[\"Vr\"], DATA[\"IC_train\"], DATA[\"ro\"]);"
   ]
  },
  {
   "cell_type": "code",
   "execution_count": null,
   "metadata": {},
   "outputs": [],
   "source": [
    "# Training data\n",
    "mean_train_proj_err = mean(Data[\"train_proj_err\"], dims=2)\n",
    "plot(Data[\"ro\"], mean_train_proj_err, marker=(:rect))\n",
    "plot!(yscale=:log10, majorgrid=true, legend=false)\n",
    "# tmp = log10.(mean_train_proj_err)\n",
    "# yticks!([10.0^i for i in floor(minimum(tmp))-1:ceil(maximum(tmp))+1])\n",
    "# xticks!()\n",
    "xlabel!(L\"\\mathrm{reduced~model~dimension~} r\")\n",
    "ylabel!(L\"\\mathrm{average~~projection~~error}\")\n",
    "plot!(guidefontsize=16, tickfontsize=13,  legendfontsize=13)"
   ]
  },
  {
   "cell_type": "markdown",
   "metadata": {},
   "source": [
    "### Relative state error"
   ]
  },
  {
   "cell_type": "code",
   "execution_count": null,
   "metadata": {},
   "outputs": [],
   "source": [
    "# Least-squares\n",
    "RES[\"train_state_err\"][:LS] = analyze_rse(OPS[\"op_LS\"], KSE, DATA[\"X_all\"], DATA[\"Vr\"], DATA[\"IC_train\"], DATA[\"ro\"], KSE.integrate_FD);"
   ]
  },
  {
   "cell_type": "code",
   "execution_count": null,
   "metadata": {},
   "outputs": [],
   "source": [
    "# Intrusive\n",
    "RES[\"train_state_err\"][:int] = analyze_rse(OPS[\"op_int\"], KSE, DATA[\"X_all\"], DATA[\"Vr\"], DATA[\"IC_train\"], DATA[\"ro\"], KSE.integrate_FD);"
   ]
  },
  {
   "cell_type": "code",
   "execution_count": null,
   "metadata": {},
   "outputs": [],
   "source": [
    "# EPHEC\n",
    "RES[\"train_state_err\"][:ephec] = analyze_rse(OPS[\"op_ephec\"], KSE, DATA[\"X_all\"], DATA[\"Vr\"], DATA[\"IC_train\"], DATA[\"ro\"], KSE.integrate_FD);"
   ]
  },
  {
   "cell_type": "code",
   "execution_count": null,
   "metadata": {},
   "outputs": [],
   "source": [
    "# EPSIC\n",
    "RES[\"train_state_err\"][:epsic] = analyze_rse(OPS[\"op_epsic\"], KSE, DATA[\"X_all\"], DATA[\"Vr\"], DATA[\"IC_train\"], DATA[\"ro\"], KSE.epsicegrate_FD);"
   ]
  },
  {
   "cell_type": "code",
   "execution_count": null,
   "metadata": {},
   "outputs": [],
   "source": [
    "# EPP\n",
    "RES[\"train_state_err\"][:epp] = analyze_rse(OPS[\"op_epp\"], KSE, DATA[\"X_all\"], DATA[\"Vr\"], DATA[\"IC_train\"], DATA[\"ro\"], KSE.eppegrate_FD);"
   ]
  },
  {
   "cell_type": "code",
   "execution_count": null,
   "metadata": {},
   "outputs": [],
   "source": [
    "mean_LS_state_err = mean(RES[\"train_state_err\"][:LS], dims=2)\n",
    "mean_int_state_err = mean(RES[\"train_state_err\"][:int], dims=2)\n",
    "mean_ephec_state_err = mean(RES[\"train_state_err\"][:ephec], dims=2)\n",
    "mean_epsic_state_err = mean(RES[\"train_state_err\"][:epsic], dims=2)\n",
    "mean_epp_state_err = mean(RES[\"train_state_err\"][:epp], dims=2)\n",
    "\n",
    "plot(Data[\"ro\"], mean_LS_state_err, c=:black, marker=(:circle, 3.5, :black), label=L\"\\mathrm{opinf}\")\n",
    "plot!(Data[\"ro\"], mean_int_state_err, c=:orange, marker=(:cross, 8, :orange), label=L\"\\mathrm{intrusive}\")\n",
    "plot!(Data[\"ro\"], mean_ephec_state_err, c=:blue, markerstrokecolor=:blue, marker=(:rect, 3), ls=:dash, lw=2, label=L\"\\mathrm{ephec}\\rm{-}\\mathrm{opinf}\")\n",
    "plot!(Data[\"ro\"], mean_epsic_state_err, c=:purple, markerstrokecolor=:purple, marker=(:dtriangle, 5), ls=:dot, label=L\"\\mathrm{epsic}\\rm{-}\\mathrm{opinf}\")\n",
    "plot!(Data[\"ro\"], mean_epp_state_err, c=:red, markerstrokecolor=:red, marker=(:star, 4), lw=1, ls=:dash, label=L\"\\mathrm{epp}\\rm{-}\\mathrm{opinf}\")\n",
    "plot!(yscale=:log10, majorgrid=true, legend=:bottomleft)\n",
    "# tmp = log10.(mean_int_state_err)\n",
    "# yticks!([10.0^i for i in floor(minimum(tmp))-1:ceil(maximum(tmp))+1])\n",
    "# xticks!(rmin:rmax)\n",
    "xlabel!(L\"\\mathrm{reduced~model~dimension~} r\")\n",
    "ylabel!(L\"\\mathrm{average~~relative~~state~~error}\")\n",
    "plot!(guidefontsize=16, tickfontsize=13,  legendfontsize=13)\n"
   ]
  },
  {
   "cell_type": "markdown",
   "metadata": {},
   "source": [
    "### Constraint Residual"
   ]
  },
  {
   "cell_type": "code",
   "execution_count": null,
   "metadata": {},
   "outputs": [],
   "source": [
    "# Least-squares\n",
    "RES[\"train_CR\"][:LS] = analyze_cr(OPS[\"op_LS\"], \"F\", KSE, DATA[\"ro\"])"
   ]
  },
  {
   "cell_type": "code",
   "execution_count": null,
   "metadata": {},
   "outputs": [],
   "source": [
    "# Intrusive\n",
    "RES[\"train_CR\"][:int] = analyze_cr(OPS[\"op_int\"], \"F\", KSE, DATA[\"ro\"])"
   ]
  },
  {
   "cell_type": "code",
   "execution_count": null,
   "metadata": {},
   "outputs": [],
   "source": [
    "# EPHEC\n",
    "RES[\"train_CR\"][:ephec] = analyze_cr(OPS[\"op_ephec\"], \"F\", KSE, DATA[\"ro\"])"
   ]
  },
  {
   "cell_type": "code",
   "execution_count": null,
   "metadata": {},
   "outputs": [],
   "source": [
    "# EPSIC\n",
    "RES[\"train_CR\"][:epsic] = analyze_cr(OPS[\"op_epsic\"], \"F\", KSE, DATA[\"ro\"])"
   ]
  },
  {
   "cell_type": "code",
   "execution_count": null,
   "metadata": {},
   "outputs": [],
   "source": [
    "# EPP\n",
    "RES[\"train_CR\"][:epp] = analyze_cr(OPS[\"op_epp\"], \"F\", KSE, DATA[\"ro\"])"
   ]
  },
  {
   "cell_type": "code",
   "execution_count": null,
   "metadata": {},
   "outputs": [],
   "source": [
    "mean_LS_CR_tr = mean(RES[\"train_CR\"][:LS], dims=2)\n",
    "mean_int_CR_tr = mean(RES[\"train_CR\"][:int], dims=2)\n",
    "mean_ephec_CR_tr = mean(RES[\"train_CR\"][:ephec], dims=2)\n",
    "mean_epsic_CR_tr = mean(RES[\"train_CR\"][:epsic], dims=2)\n",
    "mean_epp_CR_tr = mean(RES[\"train_CR\"][:epp], dims=2)\n",
    "mean_fom_CR_tr = mean(RES[\"train_CR\"][:fom])\n",
    "\n",
    "plot(Data[\"ro\"], mean_LS_CR_tr, marker=(:circle, 3.5), c=:black, label=L\"\\mathrm{opinf}\")\n",
    "plot!(Data[\"ro\"], mean_int_CR_tr, c=:orange, marker=(:cross, 8), label=L\"\\mathrm{intrusive}\")\n",
    "plot!(rmin:rmax, mean_ephec_CR_tr, c=:blue, markerstrokecolor=:blue, marker=(:rect, 3), lw=2, ls=:dash, label=L\"\\mathrm{ephec}\\rm{-}\\mathrm{opinf}\")\n",
    "plot!(rmin:rmax, mean_epsic_CR_tr, c=:purple, markerstrokecolor=:purple, marker=(:dtriangle, 5), ls=:dot, label=L\"\\mathrm{epsic}\\rm{-}\\mathrm{opinf}\")\n",
    "plot!(rmin:rmax, mean_epp_CR_tr, c=:red, markerstrokecolor=:red, marker=(:star, 4), ls=:dash, lw=1, label=L\"\\mathrm{epp}\\rm{-}\\mathrm{opinf}\")\n",
    "plot!(yscale=:log10, majorgrid=true, legend=:bottomright, minorgridalpha=0.03)\n",
    "yticks!(10.0 .^ [-15, -12, -9, -6, -3, 0, 3])\n",
    "xlabel!(L\"\\mathrm{reduced~model~dimension}~r\")\n",
    "ylabel!(L\"\\mathrm{constraint~~residual}\")\n",
    "plot!(guidefontsize=16, tickfontsize=13,  legendfontsize=11)"
   ]
  }
 ],
 "metadata": {
  "kernelspec": {
   "display_name": "Julia 1.8.5",
   "language": "julia",
   "name": "julia-1.8"
  },
  "language_info": {
   "file_extension": ".jl",
   "mimetype": "application/julia",
   "name": "julia",
   "version": "1.8.5"
  },
  "orig_nbformat": 4
 },
 "nbformat": 4,
 "nbformat_minor": 2
}
