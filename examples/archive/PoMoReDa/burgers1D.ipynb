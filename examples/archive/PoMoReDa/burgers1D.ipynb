{
 "cells": [
  {
   "attachments": {},
   "cell_type": "markdown",
   "metadata": {},
   "source": [
    "# Generate Matrices for Burgers Equation\n",
    "\n",
    "- Spatial domain $\\Omega \\in [0,1.0]$\n",
    "- Time domain $\\mathcal T \\in [0,1.0]$\n",
    "- Dirichlet BC\n",
    "    - $x(0,t) = 1.0$\n",
    "    - $x(1,t) = -1.0$\n",
    "- Zero initial condition\n",
    "- Quadratic\n",
    "- Output\n",
    "    - $\\mathbf C = \\frac{1}{n} \\begin{bmatrix} 1 & 1 & 1 & \\cdots & 1 \\end{bmatrix}$  where $n$ is the state dimension\n",
    "- Reference input vector of 1\n",
    "- Integrated with semi-implicit Euler scheme with time step of $\\Delta t = 1e\\text{-}4$"
   ]
  },
  {
   "cell_type": "code",
   "execution_count": 1,
   "metadata": {},
   "outputs": [],
   "source": [
    "using CSV\n",
    "using LinearAlgebra\n",
    "using Tables"
   ]
  },
  {
   "cell_type": "code",
   "execution_count": 2,
   "metadata": {},
   "outputs": [],
   "source": [
    "include(\"../../src/model/Burgers.jl\")\n",
    ";"
   ]
  },
  {
   "cell_type": "code",
   "execution_count": 3,
   "metadata": {},
   "outputs": [],
   "source": [
    "# First order Burger's equation setup\n",
    "burger = Burgers(\n",
    "    [0.0, 1.0], [0.0, 1.0], [0.1, 1.0],\n",
    "    2^(-7), 1e-4, 10, \"dirichlet\"\n",
    ")\n",
    ";"
   ]
  },
  {
   "cell_type": "code",
   "execution_count": 6,
   "metadata": {},
   "outputs": [],
   "source": [
    "μ = 1.0\n",
    "A, B, F = burger.generateABFmatrix(burger, μ)\n",
    "C = ones(1, burger.Xdim) / burger.Xdim\n",
    "U = ones(burger.Tdim - 1, 1); \n",
    "X = burger.semiImplicitEuler(A, B, F, U, burger.t, burger.IC)\n",
    "Y = C * X\n",
    "\n",
    "CSV.write(\"A.csv\",  Tables.table(A), writeheader=false)\n",
    "CSV.write(\"B.csv\",  Tables.table(B), writeheader=false)\n",
    "CSV.write(\"F.csv\",  Tables.table(F), writeheader=false)\n",
    "CSV.write(\"C.csv\",  Tables.table(C), writeheader=false)\n",
    "CSV.write(\"states.csv\",  Tables.table(X), writeheader=false)\n",
    "CSV.write(\"outputs.csv\",  Tables.table(Y), writeheader=false)\n",
    ";"
   ]
  }
 ],
 "metadata": {
  "kernelspec": {
   "display_name": "Julia 1.8.5",
   "language": "julia",
   "name": "julia-1.8"
  },
  "language_info": {
   "file_extension": ".jl",
   "mimetype": "application/julia",
   "name": "julia",
   "version": "1.8.5"
  },
  "orig_nbformat": 4
 },
 "nbformat": 4,
 "nbformat_minor": 2
}
