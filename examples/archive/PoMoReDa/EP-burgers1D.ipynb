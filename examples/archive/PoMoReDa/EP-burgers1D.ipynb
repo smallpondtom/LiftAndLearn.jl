{
 "cells": [
  {
   "attachments": {},
   "cell_type": "markdown",
   "metadata": {},
   "source": [
    "# Generate Matrices for Energy Preserving Burgers Equation\n",
    "\n",
    "- Spatial domain $\\Omega \\in [0,1.0]$\n",
    "- Time domain $\\mathcal T \\in [0,1.0]$\n",
    "- Periodic BC\n",
    "- Sine Wave initial condition: $\\sin(2\\pi x)$\n",
    "- Quadratic\n",
    "- No input\n",
    "- No output\n",
    "- Integrated with semi-implicit Euler scheme with timestep $\\Delta t=1e\\text{-}4$"
   ]
  },
  {
   "cell_type": "code",
   "execution_count": 1,
   "metadata": {},
   "outputs": [],
   "source": [
    "using CSV\n",
    "using LinearAlgebra\n",
    "using Tables"
   ]
  },
  {
   "cell_type": "code",
   "execution_count": 2,
   "metadata": {},
   "outputs": [],
   "source": [
    "include(\"../../src/model/Burgers.jl\")\n",
    ";"
   ]
  },
  {
   "cell_type": "code",
   "execution_count": 6,
   "metadata": {},
   "outputs": [],
   "source": [
    "# First order Burger's equation setup\n",
    "burger = Burgers(\n",
    "    [0.0, 1.0], [0.0, 1.0], [0.1, 1.0],\n",
    "    2^(-7), 1e-4, 10, \"periodic\"\n",
    ")\n",
    "burger.IC = sin.(2 * pi * burger.x)  \n",
    ";"
   ]
  },
  {
   "cell_type": "code",
   "execution_count": 12,
   "metadata": {},
   "outputs": [],
   "source": [
    "μ = 0.15\n",
    "A, F = burger.generateEPmatrix(burger, μ)\n",
    "X = burger.semiImplicitEuler(A, F, burger.t, burger.IC)\n",
    "CSV.write(\"A.csv\",  Tables.table(A), writeheader=false)\n",
    "CSV.write(\"F.csv\",  Tables.table(F), writeheader=false)\n",
    "CSV.write(\"states.csv\",  Tables.table(X), writeheader=false)\n",
    ";"
   ]
  }
 ],
 "metadata": {
  "kernelspec": {
   "display_name": "Julia 1.8.5",
   "language": "julia",
   "name": "julia-1.8"
  },
  "language_info": {
   "file_extension": ".jl",
   "mimetype": "application/julia",
   "name": "julia",
   "version": "1.8.5"
  },
  "orig_nbformat": 4
 },
 "nbformat": 4,
 "nbformat_minor": 2
}
