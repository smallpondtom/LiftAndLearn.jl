{
 "cells": [
  {
   "attachments": {},
   "cell_type": "markdown",
   "metadata": {},
   "source": [
    "# Data Generation for Fitzhugh-Nagumo Equation"
   ]
  },
  {
   "cell_type": "code",
   "execution_count": 1,
   "metadata": {},
   "outputs": [],
   "source": [
    "using CSV\n",
    "using LinearAlgebra\n",
    "using Tables"
   ]
  },
  {
   "cell_type": "code",
   "execution_count": 2,
   "metadata": {},
   "outputs": [
    {
     "name": "stderr",
     "output_type": "stream",
     "text": [
      "┌ Warning: Replacing docs for `Main.LiftAndLearn.F2Hs :: Tuple{Any}` in module `Main.LiftAndLearn`\n",
      "└ @ Base.Docs docs\\Docs.jl:240\n"
     ]
    }
   ],
   "source": [
    "include(\"../../src/model/FHN.jl\")\n",
    "include(\"../../src/LiftAndLearn.jl\")\n",
    "const LnL = LiftAndLearn\n",
    ";"
   ]
  },
  {
   "cell_type": "code",
   "execution_count": 3,
   "metadata": {},
   "outputs": [
    {
     "data": {
      "text/plain": [
       "\"C.csv\""
      ]
     },
     "metadata": {},
     "output_type": "display_data"
    }
   ],
   "source": [
    "fhn = FHN(\n",
    "    [0.0, 1.0], [0.0, 4.0], [500, 50000], [10, 15], 2^(-9), 1e-4\n",
    ")\n",
    "\n",
    "# grid points\n",
    "gp = Int(1 / fhn.Δx)\n",
    "\n",
    "# Get the full-order model operators for intrusive model\n",
    "A, B, C, H, N, K = fhn.generateFHNmatrices(gp, fhn.Ω[2])\n",
    "CSV.write(\"A.csv\",  Tables.table(A), writeheader=false)\n",
    "CSV.write(\"B.csv\",  Tables.table(B), writeheader=false)\n",
    "CSV.write(\"F.csv\",  Tables.table(LnL.H2F(H)), writeheader=false)\n",
    "CSV.write(\"H.csv\",  Tables.table(H), writeheader=false)\n",
    "CSV.write(\"N.csv\",  Tables.table(N), writeheader=false)\n",
    "CSV.write(\"K.csv\",  Tables.table(K), writeheader=false)\n",
    "CSV.write(\"C.csv\",  Tables.table(C), writeheader=false)"
   ]
  }
 ],
 "metadata": {
  "kernelspec": {
   "display_name": "Julia 1.8.5",
   "language": "julia",
   "name": "julia-1.8"
  },
  "language_info": {
   "file_extension": ".jl",
   "mimetype": "application/julia",
   "name": "julia",
   "version": "1.8.5"
  },
  "orig_nbformat": 4
 },
 "nbformat": 4,
 "nbformat_minor": 2
}
