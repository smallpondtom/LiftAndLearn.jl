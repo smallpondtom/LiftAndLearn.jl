{
 "cells": [
  {
   "attachments": {},
   "cell_type": "markdown",
   "id": "07ed1b66-3d3f-4463-952c-8ca49edd83bc",
   "metadata": {},
   "source": [
    "# Operator Inference with Optimization for Burger's Equation\n",
    "\n",
    "Here we implment the operator inference solved with a non-constrained optimization approach rather than a linear least square approach shown in [Notebook 02](02_burgers_OpInf_LS.ipynb). This is the reproduction of the results from [Peherstorfer and Willcox](https://www.sciencedirect.com/science/article/pii/S0045782516301104?via%3Dihub)."
   ]
  },
  {
   "cell_type": "markdown",
   "id": "fe6be2a9-ad7f-4460-b9ab-94f3b9e96f39",
   "metadata": {},
   "source": [
    "## Initial Setup"
   ]
  },
  {
   "cell_type": "code",
   "execution_count": 1,
   "id": "cec9e9ca-dfa7-401e-bfe7-9a2d84c640b5",
   "metadata": {
    "tags": []
   },
   "outputs": [],
   "source": [
    "using DataFrames\n",
    "using LinearAlgebra\n",
    "using Plots\n",
    "using Random\n",
    "using SparseArrays\n",
    "using Statistics\n",
    "using NaNStatistics\n",
    "\n",
    "include(\"../src/model/Burgers.jl\")\n",
    "include(\"../src/LiftAndLearn.jl\")\n",
    "const LnL = LiftAndLearn\n",
    "\n",
    "# First order Burger's equation setup\n",
    "burger = Burgers(\n",
    "    [0.0, 1.0], [0.0, 1.0], [0.1, 1.0],\n",
    "    2^(-7), 1e-4, 10, \"dirichlet\"\n",
    ");"
   ]
  },
  {
   "cell_type": "markdown",
   "id": "c3368d39-3a8b-488a-95cb-82eab4c017df",
   "metadata": {},
   "source": [
    "## Non-Constrained Optimization"
   ]
  },
  {
   "cell_type": "code",
   "execution_count": 2,
   "id": "53c3510e",
   "metadata": {},
   "outputs": [
    {
     "name": "stdout",
     "output_type": "stream",
     "text": [
      "[INFO] Compute inferred and intrusive operators and calculate the errors"
     ]
    },
    {
     "name": "stdout",
     "output_type": "stream",
     "text": [
      "\n"
     ]
    },
    {
     "name": "stderr",
     "output_type": "stream",
     "text": [
      "┌ Info: Initialize optimization model.\n",
      "└ @ Main.LiftAndLearn c:\\Users\\tkoike3\\Code\\LiftAndLearn.jl\\src\\optimizer\\NC_Optimize.jl:24\n"
     ]
    },
    {
     "name": "stderr",
     "output_type": "stream",
     "text": [
      "┌ Info: Done.\n",
      "└ @ Main.LiftAndLearn c:\\Users\\tkoike3\\Code\\LiftAndLearn.jl\\src\\optimizer\\NC_Optimize.jl:101\n",
      "┌ Info: Optimize model.\n",
      "└ @ Main.LiftAndLearn c:\\Users\\tkoike3\\Code\\LiftAndLearn.jl\\src\\optimizer\\NC_Optimize.jl:104\n"
     ]
    }
   ],
   "source": [
    "num_inputs = 10\n",
    "rmax = 15\n",
    "\n",
    "options = LnL.NC_options(\n",
    "    system=LnL.sys_struct(\n",
    "        is_lin=true,\n",
    "        is_quad=true,\n",
    "        has_control=true,\n",
    "        has_output=true,\n",
    "    ),\n",
    "    vars=LnL.vars(\n",
    "        N=1,\n",
    "    ),\n",
    "    data=LnL.data(\n",
    "        Δt=1e-4,\n",
    "        deriv_type=\"SI\",\n",
    "        DS=100,\n",
    "    ),\n",
    "    optim=LnL.opt_settings(\n",
    "        verbose=false,\n",
    "        initial_guess=false,\n",
    "    ),\n",
    ")\n",
    "\n",
    "Utest = ones(burger.Tdim - 1, 1);  # Reference input/boundary condition for OpInf testing \n",
    "\n",
    "# Error Values \n",
    "k = 3\n",
    "proj_err = zeros(rmax - k, burger.Pdim)\n",
    "intru_state_err = zeros(rmax - k, burger.Pdim)\n",
    "opinf_state_err = zeros(rmax - k, burger.Pdim)\n",
    "intru_output_err = zeros(rmax - k, burger.Pdim)\n",
    "opinf_output_err = zeros(rmax - k, burger.Pdim)\n",
    "\n",
    "# Downsampling rate\n",
    "DS = options.data.DS\n",
    "\n",
    "println(\"[INFO] Compute inferred and intrusive operators and calculate the errors\")\n",
    "for i in 1:length(burger.μs)\n",
    "    μ = burger.μs[i]\n",
    "\n",
    "    ## Create testing data\n",
    "    A, B, F = burger.generateABFmatrix(burger, μ)\n",
    "    C = ones(1, burger.Xdim) / burger.Xdim\n",
    "    Xtest = LnL.semiImplicitEuler(A, B, F, Utest, burger.t, burger.IC)\n",
    "    Ytest = C * Xtest\n",
    "\n",
    "    op_burger = LnL.operators(A=A, B=B, C=C, F=F)\n",
    "\n",
    "    ## training data for inferred dynamical models\n",
    "    Urand = rand(burger.Tdim - 1, num_inputs)\n",
    "    Xall = Vector{Matrix{Float64}}(undef, num_inputs)\n",
    "    Xdotall = Vector{Matrix{Float64}}(undef, num_inputs)\n",
    "    for j in 1:num_inputs\n",
    "        states = burger.semiImplicitEuler(A, B, F, Urand[:, j], burger.t, burger.IC)\n",
    "        tmp = states[:, 2:end]\n",
    "        Xall[j] = tmp[:, 1:DS:end]  # downsample data\n",
    "        tmp = (states[:, 2:end] - states[:, 1:end-1]) / burger.Δt\n",
    "        Xdotall[j] = tmp[:, 1:DS:end]  # downsample data\n",
    "    end\n",
    "    X = reduce(hcat, Xall)\n",
    "    R = reduce(hcat, Xdotall)\n",
    "    Urand = Urand[1:DS:end, :]  # downsample data\n",
    "    U = vec(Urand)[:,:]  # vectorize\n",
    "    Y = C * X\n",
    "\n",
    "    # compute the POD basis from the training data\n",
    "    tmp = svd(X)\n",
    "    Vrmax = tmp.U[:, 1:rmax]\n",
    "\n",
    "    # Compute the values for the intrusive model from the basis of the training data\n",
    "    op_int = LnL.intrusiveMR(op_burger, Vrmax, options)\n",
    "\n",
    "    # Compute the inferred operators from the training data\n",
    "    if options.optim.reproject\n",
    "        op_inf = LnL.inferOp(X, U, Y, Vrmax, op_burger, options, op_int)  # Using Reprojection\n",
    "    else\n",
    "        op_inf = LnL.inferOp(X, U, Y, Vrmax, Vrmax' * R, options, op_int)  # without reprojection\n",
    "    end\n",
    "\n",
    "    for j = 1+k:rmax\n",
    "        Vr = Vrmax[:, 1:j]  # basis\n",
    "        \n",
    "        # Integrate the intrusive model\n",
    "        Fint_extract = LnL.extractF(op_int.F, j)\n",
    "        Xint = burger.semiImplicitEuler(op_int.A[1:j, 1:j], op_int.B[1:j, :], Fint_extract, Utest, burger.t, Vr' * burger.IC)  # use F\n",
    "        Yint = op_int.C[1:1, 1:j] * Xint\n",
    "        \n",
    "        # Integrate the inferred model\n",
    "        Finf_extract = LnL.extractF(op_inf.F, j)\n",
    "        Xinf = burger.semiImplicitEuler(op_inf.A[1:j, 1:j], op_inf.B[1:j, :], Finf_extract, Utest, burger.t, Vr' * burger.IC)  # use F\n",
    "        Yinf = op_inf.C[1:1, 1:j] * Xinf\n",
    "\n",
    "        # Compute errors\n",
    "        PE, ISE, IOE, OSE, OOE = LnL.compError(Xtest, Ytest, Xint, Yint, Xinf, Yinf, Vr)\n",
    "\n",
    "        # Sum of error values\n",
    "        proj_err[j-k, i] = PE\n",
    "        intru_state_err[j-k, i] = ISE\n",
    "        intru_output_err[j-k, i] = IOE\n",
    "        opinf_state_err[j-k, i] = OSE\n",
    "        opinf_output_err[j-k, i] = OOE\n",
    "    end\n",
    "end"
   ]
  },
  {
   "cell_type": "markdown",
   "id": "d85a5aaf-c7f0-4ba4-85c9-1e9269412769",
   "metadata": {},
   "source": [
    "## Results"
   ]
  },
  {
   "cell_type": "code",
   "execution_count": null,
   "id": "a162cc56-ca38-441b-8133-0b9447e6c381",
   "metadata": {
    "tags": []
   },
   "outputs": [],
   "source": [
    "proj_err_mean = nanmean(proj_err, dims=2)\n",
    "intru_state_err_mean = nanmean(intru_state_err, dims=2)\n",
    "intru_output_err_mean = nanmean(intru_output_err, dims=2)\n",
    "opinf_state_err_mean = nanmean(opinf_state_err, dims=2)\n",
    "opinf_output_err_mean = nanmean(opinf_output_err, dims=2)\n",
    "\n",
    "df = DataFrame(\n",
    "    order=1+k:rmax,\n",
    "    projection_err=vec(proj_err_mean),\n",
    "    intrusive_state_err=vec(intru_state_err_mean),\n",
    "    intrusive_output_err=vec(intru_output_err_mean),\n",
    "    inferred_state_err=vec(opinf_state_err_mean),\n",
    "    inferred_output_err=vec(opinf_output_err_mean)\n",
    ")"
   ]
  },
  {
   "cell_type": "code",
   "execution_count": null,
   "id": "36bcef67-e67d-4983-a69e-00c51fd8043e",
   "metadata": {
    "tags": []
   },
   "outputs": [],
   "source": [
    "# Projection error\n",
    "plot(df.order, df.projection_err, marker=(:rect))\n",
    "plot!(yscale=:log10, majorgrid=true, minorgrid=true, legend=false)\n",
    "tmp = log10.(df.projection_err)\n",
    "yticks!([10.0^i for i in floor(minimum(tmp))-1:ceil(maximum(tmp))+1])\n",
    "xticks!(df.order)\n",
    "xlabel!(\"dimension n\")\n",
    "ylabel!(\"avg projection error\")"
   ]
  },
  {
   "cell_type": "code",
   "execution_count": null,
   "id": "b8face82-a995-410b-981d-eb01aa51a2e8",
   "metadata": {
    "tags": []
   },
   "outputs": [],
   "source": [
    "# State errors\n",
    "plot(df.order, df.intrusive_state_err, marker=(:cross, 10), label=\"intru\")\n",
    "plot!(df.order, df.inferred_state_err, marker=(:circle), ls=:dash, label=\"opinf\")\n",
    "plot!(yscale=:log10, majorgrid=true, minorgrid=true)\n",
    "\n",
    "yticks!([10.0^i for i in floor(minimum(tmp))-1:ceil(maximum(tmp))+1])\n",
    "xticks!(df.order)\n",
    "xlabel!(\"dimension n\")\n",
    "ylabel!(\"avg error of states\")"
   ]
  },
  {
   "cell_type": "code",
   "execution_count": null,
   "id": "2ba2da02-9fd1-412a-915e-3514b6eb990e",
   "metadata": {
    "tags": []
   },
   "outputs": [],
   "source": [
    "# Output errors\n",
    "plot(df.order, df.intrusive_output_err, marker=(:cross, 10), label=\"intru\")\n",
    "plot!(df.order, df.inferred_output_err, marker=(:circle), ls=:dash, label=\"opinf\")\n",
    "plot!(majorgrid=true, minorgrid=true, legend=:right)\n",
    "xticks!(df.order)\n",
    "xlabel!(\"dimension n\")\n",
    "ylabel!(\"avg error of outputs\")"
   ]
  }
 ],
 "metadata": {
  "@webio": {
   "lastCommId": "76df507b-5fab-4566-aecb-03aad23cae62",
   "lastKernelId": "cd40797f-e344-4d41-afeb-4a50b7de1755"
  },
  "kernelspec": {
   "display_name": "Julia 1.8.5",
   "language": "julia",
   "name": "julia-1.8"
  },
  "language_info": {
   "file_extension": ".jl",
   "mimetype": "application/julia",
   "name": "julia",
   "version": "1.8.5"
  }
 },
 "nbformat": 4,
 "nbformat_minor": 5
}
