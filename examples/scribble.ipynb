{
 "cells": [
  {
   "cell_type": "code",
   "execution_count": 1,
   "metadata": {},
   "outputs": [],
   "source": [
    "using ChaosTools\n",
    "using DynamicalSystems\n",
    "using FileIO\n",
    "using JLD2\n",
    "using LinearAlgebra\n",
    "using Random\n",
    "using StaticArrays"
   ]
  },
  {
   "cell_type": "code",
   "execution_count": 5,
   "metadata": {},
   "outputs": [
    {
     "data": {
      "text/plain": [
       "3×3 Matrix{Float64}:\n",
       " 0.88497    0.673282   0.362362\n",
       " 0.307727   0.793662   0.342498\n",
       " 0.0431697  0.0558996  0.413685"
      ]
     },
     "metadata": {},
     "output_type": "display_data"
    }
   ],
   "source": [
    "a = rand(3,3)"
   ]
  },
  {
   "cell_type": "code",
   "execution_count": 8,
   "metadata": {},
   "outputs": [
    {
     "data": {
      "text/plain": [
       "3-element Vector{Float64}:\n",
       " 0.08416026638917305\n",
       " 0.09920773660872192\n",
       " 0.006987447241892639"
      ]
     },
     "metadata": {},
     "output_type": "display_data"
    }
   ],
   "source": [
    "a[:,2] /= 2"
   ]
  },
  {
   "cell_type": "code",
   "execution_count": 2,
   "metadata": {},
   "outputs": [
    {
     "data": {
      "text/plain": [
       "Main.LiftAndLearn"
      ]
     },
     "metadata": {},
     "output_type": "display_data"
    }
   ],
   "source": [
    "include(\"../src/model/KS.jl\")\n",
    "include(\"../src/LiftAndLearn.jl\")\n",
    "const LnL = LiftAndLearn"
   ]
  },
  {
   "cell_type": "code",
   "execution_count": null,
   "metadata": {},
   "outputs": [],
   "source": [
    "DATA = load(\"data/kse_data_L22.jld2\");\n",
    "OPS = load(\"data/kse_operators_L22.jld2\");"
   ]
  },
  {
   "cell_type": "code",
   "execution_count": 7,
   "metadata": {},
   "outputs": [],
   "source": [
    "@inline @inbounds function kse(x, p, t)\n",
    "    A = p[1]\n",
    "    H = p[2]\n",
    "    N = size(A,1)\n",
    "    xdot = A*x + H * kron(x,x)\n",
    "    return SVector{N}(xdot...)\n",
    "end\n",
    "\n",
    "@inline @inbounds function kse_jacobian(x, p, t)\n",
    "    A = p[1]\n",
    "    H = p[2]\n",
    "    N = size(A,1)\n",
    "    J = A + H * kron(1.0I(N), x) + H * kron(x, 1.0I(N))\n",
    "    return SMatrix{N,N}(J)\n",
    "end\n",
    ";"
   ]
  },
  {
   "cell_type": "code",
   "execution_count": 10,
   "metadata": {},
   "outputs": [],
   "source": [
    "# Settings for the KS equation\n",
    "KSE = KS(\n",
    "    [0.0, 22.0], [0.0, 300.0], [1.0, 1.0],\n",
    "    512, 0.001, 1, \"ep\"\n",
    ")\n",
    "\n",
    "ic_a = [0.8, 1.0, 1.2]\n",
    "ic_b = [0.2, 0.4, 0.6]\n",
    "\n",
    "L = KSE.Omega[2] - KSE.Omega[1]  # length of the domain\n",
    "u0 = (a,b) -> a * cos.((2*π*KSE.x)/L) .+ b * cos.((4*π*KSE.x)/L)  # initial condition\n",
    ";  "
   ]
  },
  {
   "cell_type": "code",
   "execution_count": 16,
   "metadata": {},
   "outputs": [],
   "source": [
    "ds = DeterministicIteratedMap(kse, DATA[\"Vr\"][1][:,1:DATA[\"ro\"][end]]' * u0(ic_a[1],ic_b[1]), [OPS[\"op_int\"][1].A, OPS[\"op_int\"][1].H])\n",
    "tands = TangentDynamicalSystem(ds; J=kse_jacobian)\n",
    ";"
   ]
  },
  {
   "cell_type": "code",
   "execution_count": 19,
   "metadata": {},
   "outputs": [],
   "source": [
    "λs = lyapunovspectrum(tands, 1000; Ttr=1000, Δt=0.05, show_progress=true)"
   ]
  }
 ],
 "metadata": {
  "kernelspec": {
   "display_name": "Julia 1.8.5",
   "language": "julia",
   "name": "julia-1.8"
  },
  "language_info": {
   "file_extension": ".jl",
   "mimetype": "application/julia",
   "name": "julia",
   "version": "1.8.5"
  }
 },
 "nbformat": 4,
 "nbformat_minor": 5
}
