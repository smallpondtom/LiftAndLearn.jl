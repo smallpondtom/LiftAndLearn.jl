{
 "cells": [
  {
   "cell_type": "code",
   "execution_count": null,
   "metadata": {},
   "outputs": [],
   "source": [
    "using DynamicalSystems\n",
    "using ChaosTools\n",
    "using LinearAlgebra\n",
    "using Random"
   ]
  },
  {
   "cell_type": "code",
   "execution_count": null,
   "metadata": {},
   "outputs": [],
   "source": [
    "OPS = load(\"data/kse_operators_L22.jld2\");"
   ]
  },
  {
   "cell_type": "code",
   "execution_count": null,
   "metadata": {},
   "outputs": [],
   "source": [
    "@inline @inbounds function kse(x, p, t)\n",
    "    A = p[1]\n",
    "    H = p[2]\n",
    "    N = size(A,1)\n",
    "    xdot = A*x + H * kron(x,x)\n",
    "    return SVector{N}(xdot...)\n",
    "end\n",
    "\n",
    "@inline @inbounds function kse_jacobian(x, p, t)\n",
    "    A = p[1]\n",
    "    H = p[2]\n",
    "    N = size(A,1)\n",
    "    J = @SMatrix A + H * kron(1.0I(N), x) + H * kron(x, 1.0I(N))\n",
    "    return J\n",
    "end"
   ]
  }
 ],
 "metadata": {
  "kernelspec": {
   "display_name": "Julia 1.8.5",
   "language": "julia",
   "name": "julia-1.8"
  },
  "language_info": {
   "file_extension": ".jl",
   "mimetype": "application/julia",
   "name": "julia",
   "version": "1.8.5"
  }
 },
 "nbformat": 4,
 "nbformat_minor": 5
}
