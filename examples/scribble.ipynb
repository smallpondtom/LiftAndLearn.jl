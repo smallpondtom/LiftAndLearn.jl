{
 "cells": [
  {
   "cell_type": "code",
   "execution_count": 1,
   "id": "64262add-8310-4bfc-a276-6306bb71d28f",
   "metadata": {
    "tags": []
   },
   "outputs": [],
   "source": [
    "using LinearAlgebra\n",
    "using SparseArrays\n",
    "using BenchmarkTools\n",
    "using Random"
   ]
  },
  {
   "cell_type": "code",
   "execution_count": null,
   "id": "c4253a9e",
   "metadata": {},
   "outputs": [],
   "source": [
    "# Projection error\n",
    "train_proj_err = zeros(rmax - (rmin-1), burger.Pdim) \n",
    "# Relative state error\n",
    "train_state_err = Dict(\n",
    "    :int => zeros(rmax-rmin+1, burger.Pdim),\n",
    "    :LS => zeros(rmax-rmin+1, burger.Pdim),\n",
    "    :ephec => zeros(rmax-rmin+1, burger.Pdim),\n",
    "    :epsic => zeros(rmax-rmin+1, burger.Pdim),\n",
    "    :epuc => zeros(rmax-rmin+1, burger.Pdim),\n",
    ")\n",
    "# Energy \n",
    "train_En = Dict(\n",
    "    :int => Array{VecOrMat{Float64}}(undef, rmax - (rmin - 1), burger.Pdim),\n",
    "    :LS => Array{VecOrMat{Float64}}(undef, rmax - (rmin - 1), burger.Pdim),\n",
    "    :ephec => Array{VecOrMat{Float64}}(undef, rmax - (rmin - 1), burger.Pdim),\n",
    "    :epsic => Array{VecOrMat{Float64}}(undef, rmax - (rmin - 1), burger.Pdim),\n",
    "    :epuc => Array{VecOrMat{Float64}}(undef, rmax - (rmin - 1), burger.Pdim),\n",
    "    :fom => Array{VecOrMat{Float64}}(undef, burger.Pdim)\n",
    ")\n",
    "# Constraint Residual\n",
    "train_CR = Dict(\n",
    "    :int => Array{Float64}(undef, rmax - (rmin - 1), burger.Pdim),\n",
    "    :LS => Array{Float64}(undef, rmax - (rmin - 1), burger.Pdim),\n",
    "    :ephec => Array{Float64}(undef, rmax - (rmin - 1), burger.Pdim),\n",
    "    :epsic => Array{Float64}(undef, rmax - (rmin - 1), burger.Pdim),\n",
    "    :epuc => Array{Float64}(undef, rmax - (rmin - 1), burger.Pdim),\n",
    "    :fom => Array{Float64}(undef, burger.Pdim)\n",
    ")\n",
    "# Momentum\n",
    "train_mmt = Dict(\n",
    "    :int => Array{Float64}(undef, rmax - (rmin - 1), burger.Pdim),\n",
    "    :LS => Array{Float64}(undef, rmax - (rmin - 1), burger.Pdim),\n",
    "    :ephec => Array{Float64}(undef, rmax - (rmin - 1), burger.Pdim),\n",
    "    :epsic => Array{Float64}(undef, rmax - (rmin - 1), burger.Pdim),\n",
    "    :epuc => Array{Float64}(undef, rmax - (rmin - 1), burger.Pdim),\n",
    "    :fom => Array{Float64}(undef, burger.Pdim)\n",
    ")\n",
    "# Constraint Violation\n",
    "train_CV = Dict(\n",
    "    :int => Array{VecOrMat{Float64}}(undef, rmax - (rmin - 1), burger.Pdim),\n",
    "    :LS => Array{VecOrMat{Float64}}(undef, rmax - (rmin - 1), burger.Pdim),\n",
    "    :ephec => Array{VecOrMat{Float64}}(undef, rmax - (rmin - 1), burger.Pdim),\n",
    "    :epsic => Array{VecOrMat{Float64}}(undef, rmax - (rmin - 1), burger.Pdim),\n",
    "    :epuc => Array{VecOrMat{Float64}}(undef, rmax - (rmin - 1), burger.Pdim),\n",
    "    :fom => Array{VecOrMat{Float64}}(undef, burger.Pdim)\n",
    ")\n",
    "\n",
    "# Load the data dictionary\n",
    "if !(@isdefined Data)\n",
    "    @info \"Loading data from $(filename)\"\n",
    "    if !isfile(filename)\n",
    "        error(\"Run the cell above to generate the data first!\")\n",
    "    end\n",
    "    Data = load(filename)\n",
    "    op_LS = Data[\"op_LS\"]\n",
    "    op_int = Data[\"op_int\"]\n",
    "    op_ephec = Data[\"op_ephec\"]\n",
    "    op_epsic = Data[\"op_epsic\"]\n",
    "    op_epuc = Data[\"op_epuc\"]\n",
    "    \n",
    "    Xtr_all = Data[\"Xtr_all\"]\n",
    "    Vrmax = Data[\"Vrmax\"]\n",
    "    @info \"Data loaded.\"\n",
    "end\n",
    "\n",
    "@info \"Analyze the operators with training data...\"\n",
    "@showprogress for i in 1:length(burger.μs)\n",
    "\n",
    "    # Energy, constraint residual, and constraint violation of the FOM\n",
    "    train_En[:fom][i] = norm.(eachcol(Xtr_all[i]), 2)\n",
    "    F_full = Data[\"op_fom_tr\"][i].F\n",
    "    train_CR[:fom][i], train_mmt[:fom][i] = LnL.constraintResidual(F_full, size(F_full, 1), options.optim.which_quad_term)\n",
    "    train_CV[:fom][i] = LnL.constraintViolation(Xtr_all[i], F_full, options.optim.which_quad_term)\n",
    "    \n",
    "    for (j,r) in enumerate(rmin:rmax)\n",
    "        Vr = Vrmax[i][:, 1:r]\n",
    "\n",
    "        # Temporary data storage\n",
    "        PE = zeros(num_ic_params)  # projection error\n",
    "        SE = Dict(\n",
    "            :int => zeros(num_ic_params),\n",
    "            :LS => zeros(num_ic_params),\n",
    "            :ephec => zeros(num_ic_params),\n",
    "            :epsic => zeros(num_ic_params),\n",
    "            :epuc => zeros(num_ic_params),\n",
    "        )\n",
    "        En = Dict(\n",
    "            :int => Array{Float64}(undef, num_ic_params, burger.Tdim),\n",
    "            :LS => Array{Float64}(undef, num_ic_params, burger.Tdim),\n",
    "            :ephec => Array{Float64}(undef, num_ic_params, burger.Tdim),\n",
    "            :epsic => Array{Float64}(undef, num_ic_params, burger.Tdim),\n",
    "            :epuc => Array{Float64}(undef, num_ic_params, burger.Tdim),\n",
    "        )\n",
    "        CR = Dict(\n",
    "            :int => Array{Float64}(undef, num_ic_params),\n",
    "            :LS => Array{Float64}(undef, num_ic_params),\n",
    "            :ephec => Array{Float64}(undef, num_ic_params),\n",
    "            :epsic => Array{Float64}(undef, num_ic_params),\n",
    "            :epuc => Array{Float64}(undef, num_ic_params),\n",
    "        )\n",
    "        mmt = Dict(\n",
    "            :int => Array{Float64}(undef, num_ic_params),\n",
    "            :LS => Array{Float64}(undef, num_ic_params),\n",
    "            :ephec => Array{Float64}(undef, num_ic_params),\n",
    "            :epsic => Array{Float64}(undef, num_ic_params),\n",
    "            :epuc => Array{Float64}(undef, num_ic_params),\n",
    "        )\n",
    "        CV = Dict(\n",
    "            :int => Array{Float64}(undef, num_ic_params, burger.Tdim),\n",
    "            :LS => Array{Float64}(undef, num_ic_params, burger.Tdim),\n",
    "            :ephec => Array{Float64}(undef, num_ic_params, burger.Tdim),\n",
    "            :epsic => Array{Float64}(undef, num_ic_params, burger.Tdim),\n",
    "            :epuc => Array{Float64}(undef, num_ic_params, burger.Tdim),\n",
    "        )\n",
    "\n",
    "        ct = 1  # set/reset counter\n",
    "        for amp in AMP, freq in FREQ, phase in PHASE\n",
    "            IC = init_wave(amp, freq, phase)\n",
    "\n",
    "            # Integrate the LS operator inference model\n",
    "            Finf_extract_LS = LnL.extractF(op_LS[i].F, r)\n",
    "            Xinf_LS = burger.semiImplicitEuler(op_LS[i].A[1:r, 1:r], Finf_extract_LS, burger.t, Vr' * IC)\n",
    "\n",
    "            # Integrate the intrusive model\n",
    "            Fint_extract = LnL.extractF(op_int[i].F, r)\n",
    "            Xint = burger.semiImplicitEuler(op_int[i].A[1:r, 1:r], Fint_extract, burger.t, Vr' * IC)\n",
    "            \n",
    "            if options.optim.SIGE\n",
    "                # Integrate the energy-preserving hard equality constraint operator inference model\n",
    "                Finf_extract_ephec = op_ephec[i,j].F\n",
    "                Xinf_ephec = burger.semiImplicitEuler(op_ephec[i,j].A, op_ephec[i,j].F, burger.t, Vr' * IC)\n",
    "                # Finf_extract_ephec = LnL.extractF(op_ephec[i,rmax].F, r)\n",
    "                # Xinf_ephec = burger.semiImplicitEuler(op_ephec[i,rmax].A[1:r, 1:r], Finf_extract_ephec, burger.t, Vr' * IC)\n",
    "                \n",
    "                # Integrate the energy-preserving soft inequality constraint operator inference model\n",
    "                Finf_extract_epsic = op_epsic[i,j].F\n",
    "                Xinf_epsic = burger.semiImplicitEuler(op_epsic[i,j].A, op_epsic[i,j].F, burger.t, Vr' * IC)\n",
    "                # Finf_extract_epsic = LnL.extractF(op_epsic[i,rmax].F, r)\n",
    "                # Xinf_epsic = burger.semiImplicitEuler(op_epsic[i,rmax].A[1:r, 1:r], Finf_extract_epsic, burger.t, Vr' * IC)\n",
    "\n",
    "                # Integrate the energy-preserving unconstrained operator inference model\n",
    "                Finf_extract_epuc = op_epuc[i,j].F\n",
    "                Xinf_epuc = burger.semiImplicitEuler(op_epuc[i,j].A, op_epuc[i,j].F, burger.t, Vr' * IC)\n",
    "                # Finf_extract_epuc = LnL.extractF(op_epuc[i,rmax].F, r)\n",
    "                # Xinf_epuc = burger.semiImplicitEuler(op_epuc[i,rmax].A[1:r, 1:r], Finf_extract_epuc, burger.t, Vr' * IC)\n",
    "            else\n",
    "                # Integrate the energy-preserving hard equality constraint operator inference model\n",
    "                Finf_extract_ephec = LnL.extractF(op_ephec[i].F, r)\n",
    "                Xinf_ephec = burger.semiImplicitEuler(op_ephec[i].A[1:r, 1:r], Finf_extract_ephec, burger.t, Vr' * IC)\n",
    "                \n",
    "                # Integrate the energy-preserving soft inequality constraint operator inference model\n",
    "                Finf_extract_epsic = LnL.extractF(op_epsic[i].F, r)\n",
    "                Xinf_epsic = burger.semiImplicitEuler(op_epsic[i].A[1:r, 1:r], Finf_extract_epsic, burger.t, Vr' * IC)\n",
    "\n",
    "                # Integrate the energy-preserving unconstrained operator inference model\n",
    "                Finf_extract_epuc = LnL.extractF(op_epuc[i].F, r)\n",
    "                Xinf_epuc = burger.semiImplicitEuler(op_epuc[i].A[1:r, 1:r], Finf_extract_epuc, burger.t, Vr' * IC)\n",
    "            end\n",
    "\n",
    "            # Compute the projection error\n",
    "            PE[ct] = LnL.compProjError(Xtr_all[i,ct], Vr)\n",
    "\n",
    "            # Compute the relative state error\n",
    "            SE[:LS][ct] = LnL.compStateError(Xtr_all[i,ct][:, 1:DS:end], Xinf_LS[:, 1:DS:end], Vr)\n",
    "            SE[:int][ct] = LnL.compStateError(Xtr_all[i,ct][:, 1:DS:end], Xint[:, 1:DS:end], Vr)\n",
    "            SE[:ephec][ct] = LnL.compStateError(Xtr_all[i,ct][:, 1:DS:end], Xinf_ephec[:, 1:DS:end], Vr)\n",
    "            SE[:epsic][ct] = LnL.compStateError(Xtr_all[i,ct][:, 1:DS:end], Xinf_epsic[:, 1:DS:end], Vr)\n",
    "            SE[:epuc][ct] = LnL.compStateError(Xtr_all[i,ct][:, 1:DS:end], Xinf_epuc[:, 1:DS:end], Vr)\n",
    "\n",
    "            # Compute the energy\n",
    "            En[:LS][ct, :] .= norm.(eachcol(Vr * Xinf_LS), 2)\n",
    "            En[:int][ct, :] .= norm.(eachcol(Vr * Xint), 2)\n",
    "            En[:ephec][ct, :] .= norm.(eachcol(Vr * Xinf_ephec), 2)\n",
    "            En[:epsic][ct, :] .= norm.(eachcol(Vr * Xinf_epsic), 2)\n",
    "            En[:epuc][ct, :] .= norm.(eachcol(Vr * Xinf_epuc), 2)\n",
    "\n",
    "            # Compute the constraint residual and momentum\n",
    "            CR[:LS][ct], mmt[:LS][ct] =  LnL.constraintResidual(Finf_extract_LS, r, options.optim.which_quad_term)\n",
    "            CR[:int][ct], mmt[:int][ct] = LnL.constraintResidual(Fint_extract, r, options.optim.which_quad_term)\n",
    "            CR[:ephec][ct], mmt[:ephec][ct] = LnL.constraintResidual(Finf_extract_ephec, r, options.optim.which_quad_term)\n",
    "            CR[:epsic][ct], mmt[:epsic][ct] = LnL.constraintResidual(Finf_extract_epsic, r, options.optim.which_quad_term)\n",
    "            CR[:epuc][ct], mmt[:epuc][ct] = LnL.constraintResidual(Finf_extract_epuc, r, options.optim.which_quad_term)\n",
    "\n",
    "            # Compute the constraint violation\n",
    "            CV[:LS][ct, :] .= LnL.constraintViolation(Xinf_LS, Finf_extract_LS, options.optim.which_quad_term)\n",
    "            CV[:int][ct, :] .= LnL.constraintViolation(Xint, Fint_extract, options.optim.which_quad_term)\n",
    "            CV[:ephec][ct, :] .= LnL.constraintViolation(Xinf_ephec, Finf_extract_ephec, options.optim.which_quad_term)\n",
    "            CV[:epsic][ct, :] .= LnL.constraintViolation(Xinf_epsic, Finf_extract_epsic, options.optim.which_quad_term)\n",
    "            CV[:epuc][ct, :] .= LnL.constraintViolation(Xinf_epuc, Finf_extract_epuc, options.optim.which_quad_term)\n",
    "\n",
    "            # Increment counter\n",
    "            ct += 1\n",
    "        end\n",
    "\n",
    "        # Compute errors\n",
    "        train_proj_err[j, i] = mean(PE)\n",
    "        train_state_err[:LS][j, i] = mean(SE[:LS])\n",
    "        train_state_err[:int][j, i] = mean(SE[:int])\n",
    "        train_state_err[:ephec][j, i] = mean(SE[:ephec])\n",
    "        train_state_err[:epsic][j, i] = mean(SE[:epsic])\n",
    "        train_state_err[:epuc][j, i] = mean(SE[:epuc])\n",
    "        \n",
    "        # Compute energy \n",
    "        train_En[:LS][j, i] = mean(En[:LS], dims=1)\n",
    "        train_En[:int][j, i] = mean(En[:int], dims=1)\n",
    "        train_En[:ephec][j, i] = mean(En[:ephec], dims=1)\n",
    "        train_En[:epsic][j, i] = mean(En[:epsic], dims=1)\n",
    "        train_En[:epuc][j, i] = mean(En[:epuc], dims=1)\n",
    "        \n",
    "        # Compute the CR and momentum\n",
    "        train_CR[:LS][j, i] = mean(CR[:LS])\n",
    "        train_CR[:int][j, i] = mean(CR[:int])\n",
    "        train_CR[:ephec][j, i] = mean(CR[:ephec])\n",
    "        train_CR[:epsic][j, i] = mean(CR[:epsic])\n",
    "        train_CR[:epuc][j, i] = mean(CR[:epuc])\n",
    "\n",
    "        train_mmt[:LS][j, i] = mean(mmt[:LS])\n",
    "        train_mmt[:int][j, i] = mean(mmt[:int])\n",
    "        train_mmt[:ephec][j, i] = mean(mmt[:ephec])\n",
    "        train_mmt[:epsic][j, i] = mean(mmt[:epsic])\n",
    "        train_mmt[:epuc][j, i] = mean(mmt[:epuc])\n",
    "\n",
    "        # Compute constraint violations\n",
    "        train_CV[:LS][j, i] = mean(CV[:LS], dims=1)\n",
    "        train_CV[:int][j, i] = mean(CV[:int], dims=1)\n",
    "        train_CV[:ephec][j, i] = mean(CV[:ephec], dims=1)\n",
    "        train_CV[:epsic][j, i] = mean(CV[:epsic], dims=1)\n",
    "        train_CV[:epuc][j, i] = mean(CV[:epuc], dims=1)\n",
    "    end\n",
    "end\n",
    "\n",
    "# Save data\n",
    "Data[\"train_proj_err\"] = train_proj_err\n",
    "Data[\"train_state_err\"] = train_state_err\n",
    "Data[\"train_En\"] = train_En\n",
    "Data[\"train_CR\"] = train_CR\n",
    "Data[\"train_mmt\"] = train_mmt\n",
    "Data[\"train_CV\"] = train_CV\n",
    "save(filename, Data)"
   ]
  },
  {
   "cell_type": "code",
   "execution_count": 2,
   "id": "800e635b",
   "metadata": {},
   "outputs": [
    {
     "data": {
      "text/plain": [
       "3×4×5 Array{Float64, 3}:\n",
       "[:, :, 1] =\n",
       " 9.64019e-312  9.64019e-312  9.64019e-312  9.64019e-312\n",
       " 9.64019e-312  9.64019e-312  9.64019e-312  9.64019e-312\n",
       " 9.64019e-312  9.64019e-312  9.64019e-312  9.64019e-312\n",
       "\n",
       "[:, :, 2] =\n",
       " 9.64019e-312  9.64019e-312  9.64019e-312  9.64019e-312\n",
       " 9.64019e-312  9.64019e-312  9.64019e-312  9.64019e-312\n",
       " 9.64019e-312  9.64019e-312  9.64019e-312  9.64019e-312\n",
       "\n",
       "[:, :, 3] =\n",
       " 9.64019e-312  9.64019e-312  9.64019e-312  9.64019e-312\n",
       " 9.64019e-312  9.64019e-312  9.64019e-312  9.64019e-312\n",
       " 9.64019e-312  9.64019e-312  9.64019e-312  9.64019e-312\n",
       "\n",
       "[:, :, 4] =\n",
       " 9.64019e-312  9.64019e-312  9.64019e-312  9.64019e-312\n",
       " 9.64019e-312  9.64019e-312  9.64019e-312  9.64019e-312\n",
       " 9.64019e-312  9.64019e-312  9.64019e-312  9.64019e-312\n",
       "\n",
       "[:, :, 5] =\n",
       " 9.64019e-312  9.64019e-312  9.64019e-312  0.0\n",
       " 9.64019e-312  9.64019e-312  9.64019e-312  0.0\n",
       " 9.64019e-312  9.64019e-312  0.0           0.0"
      ]
     },
     "metadata": {},
     "output_type": "display_data"
    }
   ],
   "source": [
    "A = Array{Float64}(undef, 3, 4, 5)"
   ]
  },
  {
   "cell_type": "code",
   "execution_count": 11,
   "id": "72c57672",
   "metadata": {},
   "outputs": [],
   "source": [
    "V = Vector{Vector{Float64}}(undef, 3)\n",
    "for i in 1:3\n",
    "    V[i] = rand(3)\n",
    "end"
   ]
  },
  {
   "cell_type": "code",
   "execution_count": 12,
   "id": "d1d89107",
   "metadata": {},
   "outputs": [
    {
     "name": "stdout",
     "output_type": "stream",
     "text": [
      "1\n",
      "[0.377605558178562, 0.07934021678374625, 0.44499476993820564]\n",
      "2\n",
      "[0.29923360746252226, 0.33290373171816634, 0.9013376284026704]\n",
      "3\n",
      "[0.857420757230221, 0.05447472960431976, 0.5917774617947198]\n"
     ]
    }
   ],
   "source": [
    "for (i, v) in enumerate(V)\n",
    "    println(i)\n",
    "    println(v)\n",
    "end"
   ]
  },
  {
   "cell_type": "code",
   "execution_count": 8,
   "id": "231d5a63",
   "metadata": {},
   "outputs": [
    {
     "data": {
      "text/plain": [
       "5×3 Matrix{Float64}:\n",
       " 0.0  0.1  0.4\n",
       " 0.8  0.7  0.2\n",
       " 0.9  0.3  0.1\n",
       " 0.4  0.4  0.4\n",
       " 0.4  1.0  0.8"
      ]
     },
     "metadata": {},
     "output_type": "display_data"
    }
   ],
   "source": [
    "A[:,[1,3,5]] = round.(rand(5,3), digits=1)"
   ]
  },
  {
   "cell_type": "code",
   "execution_count": 6,
   "id": "6163ef4e",
   "metadata": {},
   "outputs": [
    {
     "data": {
      "text/plain": [
       "1×10 Matrix{Float64}:\n",
       " 0.829963  0.540114  0.313887  0.521348  …  0.497592  0.718996  0.481919"
      ]
     },
     "metadata": {},
     "output_type": "display_data"
    }
   ],
   "source": [
    "foo = rand(5,10)\n",
    "bar = Dict(\n",
    "    :pac => foo,\n",
    "    :pux => ones(10,1)\n",
    ")\n",
    "mean(bar[:pac], dims=1)"
   ]
  },
  {
   "cell_type": "code",
   "execution_count": 9,
   "id": "6094c0b3",
   "metadata": {},
   "outputs": [
    {
     "data": {
      "text/plain": [
       "5×5 Matrix{Float64}:\n",
       " 0.0  0.619186  0.1  0.278075   0.4\n",
       " 0.8  0.255611  0.7  0.305068   0.2\n",
       " 0.9  0.343694  0.3  0.0618997  0.1\n",
       " 0.4  0.476888  0.4  0.590959   0.4\n",
       " 0.4  0.519326  1.0  0.292222   0.8"
      ]
     },
     "metadata": {},
     "output_type": "display_data"
    }
   ],
   "source": [
    "A"
   ]
  },
  {
   "cell_type": "code",
   "execution_count": 11,
   "id": "3d3f5e4a",
   "metadata": {},
   "outputs": [
    {
     "data": {
      "text/plain": [
       "6×6 Matrix{Float64}:\n",
       " 0.0  0.619186  0.1  0.278075   0.4  0.0\n",
       " 0.8  0.255611  0.7  0.305068   0.2  0.0\n",
       " 0.9  0.343694  0.3  0.0618997  0.1  0.0\n",
       " 0.4  0.476888  0.4  0.590959   0.4  0.0\n",
       " 0.4  0.519326  1.0  0.292222   0.8  0.0\n",
       " 0.0  0.0       0.0  0.0        0.0  0.0"
      ]
     },
     "metadata": {},
     "output_type": "display_data"
    }
   ],
   "source": [
    "[A zeros(5,1); zeros(1,6)]"
   ]
  },
  {
   "cell_type": "code",
   "execution_count": 22,
   "id": "77887b05",
   "metadata": {},
   "outputs": [
    {
     "ename": "MethodError",
     "evalue": "MethodError: objects of type Vector{Nothing} are not callable\nUse square brackets [] for indexing an Array.",
     "output_type": "error",
     "traceback": [
      "MethodError: objects of type Vector{Nothing} are not callable\n",
      "Use square brackets [] for indexing an Array.\n",
      "\n",
      "Stacktrace:\n",
      " [1] top-level scope\n",
      "   @ c:\\Users\\tkoike3\\Code\\LiftAndLearn.jl\\examples\\scribble.ipynb:9"
     ]
    }
   ],
   "source": [
    "using JuMP\n",
    "using Ipopt\n",
    "using Pipe\n",
    "\n",
    "i = 2\n",
    "model = Model(Ipopt.Optimizer; add_bridges=false)\n",
    "@variable(model, x[1:5])\n",
    "\n",
    "@pipe x |> [JuMP.delete(model, x), JuMP.unregister(model, :x)]\n",
    "@show JuMP.is_valid(model, x)"
   ]
  },
  {
   "cell_type": "code",
   "execution_count": 2,
   "id": "5a5ba19f-8f74-40e0-99fc-ea7c097670f2",
   "metadata": {},
   "outputs": [
    {
     "data": {
      "text/plain": [
       "Elemat"
      ]
     },
     "execution_count": 2,
     "metadata": {},
     "output_type": "execute_result"
    }
   ],
   "source": [
    "struct elemat{T} <: AbstractVector{T}\n",
    "    n::Int\n",
    "    i::Int\n",
    "\n",
    "    function elemat(n::Int, i::Int)\n",
    "        @boundscheck n >= i || throw(ArgumentError(\"$i is larger than the size $n\"))\n",
    "        e = spzeros(n,1)\n",
    "        e[i] = 1\n",
    "        return e\n",
    "    end\n",
    "end\n",
    "\n",
    "\"\"\"\n",
    "    elemat(n,i,j)\n",
    "\"\"\"\n",
    "\n",
    "struct Elemat{T} <: AbstractMatrix{T}\n",
    "    m :: Int\n",
    "    n :: Int\n",
    "    i :: Int\n",
    "    j :: Int\n",
    "    \n",
    "    function Elemat(m::Integer, n::Integer, i::Integer, j::Integer)\n",
    "        return elemat(m,i) * elemat(n,j)'\n",
    "    end\n",
    "end\n",
    "\n",
    "Elemat(m::Integer, i::Integer, j::Integer) = Elemat(m, m, i, j)"
   ]
  },
  {
   "cell_type": "code",
   "execution_count": 3,
   "id": "52d526f0-5c7d-4e1d-ae63-8a0b96aa6c2e",
   "metadata": {
    "tags": []
   },
   "outputs": [
    {
     "data": {
      "text/plain": [
       "nommat"
      ]
     },
     "execution_count": 3,
     "metadata": {},
     "output_type": "execute_result"
    }
   ],
   "source": [
    "# Kronecker delta\n",
    "function delta(i::Int, j::Int)\n",
    "    return Int(i == j)\n",
    "end\n",
    "\n",
    "\"\"\"\n",
    "    commat(n,i,j)\n",
    "\"\"\"\n",
    "\n",
    "struct commat{T} <: AbstractMatrix{T}\n",
    "    m::Int\n",
    "    n::Int\n",
    "\n",
    "    function commat(m::Integer, n::Integer)\n",
    "        v = [m * (j-1) + i for i in 1:m, j in 1:n]'[:]\n",
    "        # apply this permutation to the rows (i.e. to each column) of identity matrix\n",
    "        K = [[delta(i, j) for j in 1:(m*n)] for i in 1:(m*n)]\n",
    "        tmp = [K[i] for i in v]\n",
    "        return sparse(reduce(vcat, tmp'))\n",
    "    end\n",
    "end\n",
    "\n",
    "commat(m::Integer) = commat(m, m)\n",
    "\n",
    "\n",
    "\"\"\"\n",
    "    nommat(n,i,j)\n",
    "\"\"\"\n",
    "\n",
    "struct nommat{T} <: AbstractMatrix{T}\n",
    "    m::Int\n",
    "    n::Int\n",
    "\n",
    "    function nommat(m::Integer, n::Integer)\n",
    "        mn = Int(m * n)\n",
    "        return 0.5 * (sparse(1.0I, mn, mn) + commat(m, n))\n",
    "    end\n",
    "end\n",
    "\n",
    "nommat(m::Integer) = nommat(m, m)"
   ]
  },
  {
   "cell_type": "code",
   "execution_count": 4,
   "id": "4bef121e-2b58-46fa-a974-13cda4abab4c",
   "metadata": {
    "tags": []
   },
   "outputs": [
    {
     "data": {
      "text/plain": [
       "vech (generic function with 1 method)"
      ]
     },
     "execution_count": 4,
     "metadata": {},
     "output_type": "execute_result"
    }
   ],
   "source": [
    "function vech(A::AbstractMatrix{T}) where {T}\n",
    "    m = LinearAlgebra.checksquare(A)\n",
    "    v = Vector{T}(undef, Int(m * (m + 1) /2))\n",
    "    k = 0\n",
    "    for j = 1:m, i = j:m\n",
    "        @inbounds v[k+=1] = A[i, j]\n",
    "    end\n",
    "    return v\n",
    "end"
   ]
  },
  {
   "cell_type": "code",
   "execution_count": 5,
   "id": "ec63d364-982e-4d3a-9b08-4bc8163a878b",
   "metadata": {
    "tags": []
   },
   "outputs": [],
   "source": [
    "struct unit_DL{T} <: AbstractVector{T}\n",
    "    n::Int\n",
    "    i::Int\n",
    "    j::Int\n",
    "\n",
    "    function unit_DL(n::Integer, i::Integer, j::Integer)\n",
    "        @boundscheck i >= j || throw(ArgumentError(\"Does not satisfy i >= j\"))\n",
    "        u = spzeros(Int(0.5 * n * (n+1)), 1)\n",
    "        u[Int( (j-1)*n + i - 0.5*j*(j-1) )] = 1.0\n",
    "        return u\n",
    "    end\n",
    "end"
   ]
  },
  {
   "cell_type": "code",
   "execution_count": 6,
   "id": "ad63d241-0828-40fa-8250-d1540a7d07ab",
   "metadata": {
    "tags": []
   },
   "outputs": [],
   "source": [
    "struct elimat{T} <: AbstractMatrix{T}\n",
    "    m::Int\n",
    "    \n",
    "    function elimat(m::Integer)\n",
    "        T = tril(ones(m, m)) # Lower triangle of 1's\n",
    "        f = findall(x -> x == 1, T[:]) # Get linear indexes of 1's\n",
    "        k = m * (m + 1) / 2 # Row size of L\n",
    "        m2 = m * m # Colunm size of L\n",
    "        x = f + m2 * (0:k-1) # Linear indexes of the 1's within L'\n",
    "\n",
    "        row = [mod(a, m2) != 0 ? mod(a, m2) : m2 for a in x]\n",
    "        col = [mod(a, m2) != 0 ? div(a, m2) + 1 : div(a, m2) for a in x]\n",
    "        L = sparse(row, col, ones(length(x)), m2, k)\n",
    "        L = L' # Now transpose to actual L\n",
    "        return L\n",
    "    end\n",
    "end"
   ]
  },
  {
   "cell_type": "code",
   "execution_count": 11,
   "id": "027b74f8-22e0-45c0-816c-6a3df0493178",
   "metadata": {
    "tags": []
   },
   "outputs": [
    {
     "data": {
      "text/plain": [
       "4-element Vector{Float64}:\n",
       "  1.0\n",
       "  1.0\n",
       " -1.0\n",
       " -1.0"
      ]
     },
     "execution_count": 11,
     "metadata": {},
     "output_type": "execute_result"
    }
   ],
   "source": [
    "N = 3\n",
    "Δx = 0.5\n",
    "S = Int(N * (N + 1) / 2)\n",
    "Fval = repeat([1.0, 1.0, -1.0, -1.0], outer=N - 2)"
   ]
  },
  {
   "cell_type": "code",
   "execution_count": 12,
   "id": "32ecef7e-678f-4aef-9ea4-f517a132e97f",
   "metadata": {
    "tags": []
   },
   "outputs": [
    {
     "data": {
      "text/plain": [
       "4-element Vector{Int64}:\n",
       " 2\n",
       " 2\n",
       " 2\n",
       " 2"
      ]
     },
     "execution_count": 12,
     "metadata": {},
     "output_type": "execute_result"
    }
   ],
   "source": [
    "row_i = repeat(2:(N-1), inner=4)"
   ]
  },
  {
   "cell_type": "code",
   "execution_count": 14,
   "id": "6343bea5-3cb7-468a-a6d6-a6ee154abdd8",
   "metadata": {
    "tags": []
   },
   "outputs": [
    {
     "data": {
      "text/plain": [
       "3-element Vector{Int64}:\n",
       " 2\n",
       " 6\n",
       " 9"
      ]
     },
     "execution_count": 14,
     "metadata": {},
     "output_type": "execute_result"
    }
   ],
   "source": [
    "N = 4\n",
    "seq = Int.([2 + (N + 1) * (x - 1) - x * (x - 1) / 2 for x in 1:(N-1)])"
   ]
  },
  {
   "cell_type": "code",
   "execution_count": null,
   "id": "c9146c0b-8f3c-47ff-9605-7a7417ed7746",
   "metadata": {},
   "outputs": [],
   "source": [
    "col_i = vcat(seq[1], repeat(seq[2:end-1], inner=2), seq[end])"
   ]
  },
  {
   "cell_type": "code",
   "execution_count": null,
   "id": "3fe5055c-8607-47a9-a0b4-7b922e45a812",
   "metadata": {},
   "outputs": [],
   "source": [
    "F = sparse(row_i, col_i, Fval, N, S) / 2 / Δx"
   ]
  },
  {
   "cell_type": "code",
   "execution_count": 54,
   "id": "f9b71cc7-f542-426e-bad0-ea4b517c2c8d",
   "metadata": {
    "tags": []
   },
   "outputs": [
    {
     "data": {
      "text/plain": [
       "4×10 SparseMatrixCSC{Float64, Int64} with 12 stored entries:\n",
       "  ⋅   -1.0   ⋅    ⋅   -1.0    ⋅    ⋅     ⋅     ⋅     ⋅ \n",
       " 1.0   1.0   ⋅    ⋅     ⋅   -1.0   ⋅   -1.0    ⋅     ⋅ \n",
       "  ⋅     ⋅    ⋅    ⋅    1.0   1.0   ⋅     ⋅   -1.0  -1.0\n",
       "  ⋅     ⋅    ⋅    ⋅     ⋅     ⋅    ⋅    1.0   1.0    ⋅ "
      ]
     },
     "execution_count": 54,
     "metadata": {},
     "output_type": "execute_result"
    }
   ],
   "source": [
    "N = 4\n",
    "S = N*(N+1)/2\n",
    "dx = 1/6\n",
    "\n",
    "ii = repeat(2:(N-1), inner=4)\n",
    "m = 2:N-1\n",
    "mi = Int.([N*(N+1)/2 - (N-m)*(N-m+1)/2 - (N-m) for m in 2:N-1])               # this is where the xi^2 term is\n",
    "mm = Int.([N*(N+1)/2 - (N-m).*(N-m+1)/2 - (N-m) - (N-(m-2)) for m in 2:N-1])  # this is where the x_{i-1}^2 term is\n",
    "mp = Int.([N*(N+1)/2 - (N-m).*(N-m+1)/2 - (N-m) + (N-(m-1)) for m in 2:N-1])  # this is where the x_{i+1}^2 term is\n",
    "jp = mi .+ 1  # this is the index of the x_{i+1}*x_i term\n",
    "jm = mm .+ 1  # this is the index of the x_{i-1}*x_i term\n",
    "jj = reshape([mp'; mm'; jp'; jm'],4*N-8);\n",
    "vv = reshape([-ones(1,N-2); ones(1,N-2); -ones(1,N-2); ones(1,N-2)],4*N-8)/(6*dx);\n",
    "F = sparse(ii,jj,vv,N,N*(N+1)/2)\n",
    "# Boundary conditions\n",
    "F[1,2] = -1/6/dx\n",
    "F[1,N+1] = -1/6/dx\n",
    "F[N,end-1] = 1/6/dx\n",
    "F[N,end-2] = 1/6/dx\n",
    "F"
   ]
  },
  {
   "cell_type": "code",
   "execution_count": 64,
   "id": "ad724e81-e31a-40db-91e1-e654a1bbbd0c",
   "metadata": {
    "tags": []
   },
   "outputs": [
    {
     "data": {
      "text/plain": [
       "0.8:0.044444444444444446:1.2"
      ]
     },
     "execution_count": 64,
     "metadata": {},
     "output_type": "execute_result"
    }
   ],
   "source": [
    "a = range(0.8,1.2,10)"
   ]
  },
  {
   "cell_type": "code",
   "execution_count": 67,
   "id": "5b3214c4-73b0-4101-9fbf-11eb05febaf5",
   "metadata": {
    "tags": []
   },
   "outputs": [
    {
     "data": {
      "text/plain": [
       "5×5 Matrix{Float64}:\n",
       " 0.0  0.0  0.0  0.0  0.0\n",
       " 0.0  0.0  0.0  0.0  0.0\n",
       " 0.0  0.0  0.0  0.0  0.0\n",
       " 0.0  0.0  0.0  0.0  0.0\n",
       " 0.0  0.0  0.0  0.0  0.0"
      ]
     },
     "execution_count": 67,
     "metadata": {},
     "output_type": "execute_result"
    }
   ],
   "source": [
    "zeros(1,1) .* rand(5,5)"
   ]
  },
  {
   "cell_type": "code",
   "execution_count": 78,
   "id": "55691b6c-bec8-4a5d-8bb1-0fc34c056167",
   "metadata": {
    "tags": []
   },
   "outputs": [
    {
     "data": {
      "text/plain": [
       "0"
      ]
     },
     "execution_count": 78,
     "metadata": {},
     "output_type": "execute_result"
    }
   ],
   "source": [
    "a  = zeros(1,1)\n",
    "a[1] == 0\n",
    "a = size(a)==(1,1) && a[1]==0 ? 0 : 1"
   ]
  },
  {
   "cell_type": "code",
   "execution_count": 86,
   "id": "a895c996-22ac-45e2-8195-356cfeb87fc5",
   "metadata": {
    "tags": []
   },
   "outputs": [
    {
     "data": {
      "text/plain": [
       "true"
      ]
     },
     "execution_count": 86,
     "metadata": {},
     "output_type": "execute_result"
    }
   ],
   "source": [
    "typeof(NaN) == Float64"
   ]
  },
  {
   "cell_type": "code",
   "execution_count": 3,
   "id": "698398bc",
   "metadata": {},
   "outputs": [
    {
     "name": "stderr",
     "output_type": "stream",
     "text": [
      "┌ Info: \n",
      "│ Constraint        = Non-Constrained\n",
      "│ order              = 10\n",
      "│ termination_status = 1\n",
      "│ primal_status      = 2\n",
      "│ objective_value    = 3\n",
      "└ @ Main c:\\Users\\tkoike3\\Code\\LiftAndLearn.jl\\examples\\scribble.ipynb:5\n"
     ]
    }
   ],
   "source": [
    "a = 1 \n",
    "b = 2\n",
    "c = 3 \n",
    "n = 10\n",
    "@info \"\"\"\n",
    "\n",
    "Constraint         = Non-Constrained\n",
    "order              = $(n)\n",
    "termination_status = $(a)\n",
    "primal_status      = $(b)\n",
    "objective_value    = $(c)\n",
    "\"\"\""
   ]
  },
  {
   "cell_type": "code",
   "execution_count": 21,
   "id": "b03b00a1",
   "metadata": {},
   "outputs": [
    {
     "data": {
      "text/plain": [
       "generateEPmatrix (generic function with 1 method)"
      ]
     },
     "metadata": {},
     "output_type": "display_data"
    }
   ],
   "source": [
    "function generateEPmatrix(N, Δx, μ::Float64)\n",
    "    # Create A matrix\n",
    "    A = diagm(0 => (-2) * ones(N), 1 => ones(N - 1), -1 => ones(N - 1)) * μ / Δx^2\n",
    "    A[1, N] = μ / Δx^2\n",
    "    A[N, 1] = μ / Δx^2\n",
    "\n",
    "    # Create F matrix\n",
    "    S = Int(N * (N + 1) / 2)\n",
    "    if N >= 3\n",
    "        ii = repeat(2:(N-1), inner=4)\n",
    "        m = 2:N-1\n",
    "        mi = Int.([N*(N+1)/2 - (N-m)*(N-m+1)/2 - (N-m) for m in 2:N-1])               # this is where the xi^2 term is\n",
    "        mm = Int.([N*(N+1)/2 - (N-m).*(N-m+1)/2 - (N-m) - (N-(m-2)) for m in 2:N-1])  # this is where the x_{i-1}^2 term is\n",
    "        mp = Int.([N*(N+1)/2 - (N-m).*(N-m+1)/2 - (N-m) + (N-(m-1)) for m in 2:N-1])  # this is where the x_{i+1}^2 term is\n",
    "        jp = mi .+ 1  # this is the index of the x_{i+1}*x_i term\n",
    "        jm = mm .+ 1  # this is the index of the x_{i-1}*x_i term\n",
    "        jj = reshape([mp'; mm'; jp'; jm'],4*N-8);\n",
    "        vv = reshape([-ones(1,N-2); ones(1,N-2); -ones(1,N-2); ones(1,N-2)],4*N-8)/(6*Δx);\n",
    "        F = sparse(ii,jj,vv,N,S)\n",
    "\n",
    "        # Boundary conditions\n",
    "        F[1,2] = -1/6/Δx\n",
    "        F[1,N+1] = -1/6/Δx\n",
    "        F[1,N] = 1/6/Δx\n",
    "        F[1,end] = 1/6/Δx\n",
    "        F[N,end-1] = 1/6/Δx\n",
    "        F[N,end-2] = 1/6/Δx\n",
    "        F[N,1] = -1/6/Δx\n",
    "        F[N,N] = -1/6/Δx\n",
    "    else\n",
    "        F = zeros(N, S)\n",
    "    end\n",
    "\n",
    "    return A, F\n",
    "end"
   ]
  },
  {
   "cell_type": "code",
   "execution_count": 24,
   "id": "698ebd4e",
   "metadata": {},
   "outputs": [
    {
     "data": {
      "text/plain": [
       "([-72.0 36.0 0.0 36.0; 36.0 -72.0 36.0 0.0; 0.0 36.0 -72.0 36.0; 36.0 0.0 36.0 -72.0], sparse([2, 4, 1, 2, 1, 4, 1, 3, 2, 3, 2, 4, 3, 4, 1, 3], [1, 1, 2, 2, 4, 4, 5, 5, 6, 6, 8, 8, 9, 9, 10, 10], [1.0, -1.0, -1.0, 1.0, 1.0, -1.0, -1.0, 1.0, -1.0, 1.0, -1.0, 1.0, -1.0, 1.0, 1.0, -1.0], 4, 10))"
      ]
     },
     "metadata": {},
     "output_type": "display_data"
    }
   ],
   "source": [
    "A, F = generateEPmatrix(4, 1/6, 1.0)"
   ]
  },
  {
   "cell_type": "code",
   "execution_count": 25,
   "id": "3e1d4770",
   "metadata": {},
   "outputs": [
    {
     "data": {
      "text/plain": [
       "4×10 SparseMatrixCSC{Float64, Int64} with 16 stored entries:\n",
       "   ⋅   -1.0   ⋅    1.0  -1.0    ⋅    ⋅     ⋅     ⋅    1.0\n",
       "  1.0   1.0   ⋅     ⋅     ⋅   -1.0   ⋅   -1.0    ⋅     ⋅ \n",
       "   ⋅     ⋅    ⋅     ⋅    1.0   1.0   ⋅     ⋅   -1.0  -1.0\n",
       " -1.0    ⋅    ⋅   -1.0    ⋅     ⋅    ⋅    1.0   1.0    ⋅ "
      ]
     },
     "metadata": {},
     "output_type": "display_data"
    }
   ],
   "source": [
    "F"
   ]
  },
  {
   "cell_type": "code",
   "execution_count": 20,
   "id": "e6c758ba",
   "metadata": {},
   "outputs": [
    {
     "data": {
      "text/plain": [
       "5×5 Matrix{Float64}:\n",
       " -72.0   36.0    0.0    0.0   36.0\n",
       "  36.0  -72.0   36.0    0.0    0.0\n",
       "   0.0   36.0  -72.0   36.0    0.0\n",
       "   0.0    0.0   36.0  -72.0   36.0\n",
       "  36.0    0.0    0.0   36.0  -72.0"
      ]
     },
     "metadata": {},
     "output_type": "display_data"
    }
   ],
   "source": [
    "A"
   ]
  }
 ],
 "metadata": {
  "kernelspec": {
   "display_name": "Julia 1.8.5",
   "language": "julia",
   "name": "julia-1.8"
  },
  "language_info": {
   "file_extension": ".jl",
   "mimetype": "application/julia",
   "name": "julia",
   "version": "1.8.5"
  }
 },
 "nbformat": 4,
 "nbformat_minor": 5
}
