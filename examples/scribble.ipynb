{
 "cells": [
  {
   "cell_type": "code",
   "execution_count": 3,
   "metadata": {},
   "outputs": [],
   "source": [
    "using LinearAlgebra\n",
    "using Random"
   ]
  },
  {
   "cell_type": "code",
   "execution_count": 6,
   "metadata": {},
   "outputs": [],
   "source": [
    "function posDiag_QR!(Q::AbstractMatrix, R::AbstractMatrix)\n",
    "    @assert size(Q, 2) == size(R, 2) \"Q and R must have the same number of columns\"\n",
    "\n",
    "    m = size(Q, 2)\n",
    "    for i in 1:m\n",
    "        if R[i,i] < 0\n",
    "            Q[:,i] = -Q[:,i]\n",
    "            R[i,:] = -R[i,:]\n",
    "        end\n",
    "    end\n",
    "end\n",
    ";"
   ]
  },
  {
   "cell_type": "code",
   "execution_count": 17,
   "metadata": {},
   "outputs": [
    {
     "data": {
      "text/plain": [
       "5×5 Matrix{Float64}:\n",
       " -1.27411  -0.851139  -0.805523  -0.824441  -1.27194\n",
       "  0.0      -0.828778  -0.929622  -0.839446  -0.163666\n",
       "  0.0       0.0        0.510812   0.368615   0.659117\n",
       "  0.0       0.0        0.0       -0.560692   0.283219\n",
       "  0.0       0.0        0.0        0.0        0.440528"
      ]
     },
     "metadata": {},
     "output_type": "display_data"
    }
   ],
   "source": [
    "N = 5\n",
    "A = rand(N, N)\n",
    "foo = qr(A)\n",
    "Q = foo.Q \n",
    "R = foo.R\n",
    "# posDiag_QR!(Matrix(Q), R)\n",
    "R"
   ]
  }
 ],
 "metadata": {
  "kernelspec": {
   "display_name": "Julia 1.8.5",
   "language": "julia",
   "name": "julia-1.8"
  },
  "language_info": {
   "file_extension": ".jl",
   "mimetype": "application/julia",
   "name": "julia",
   "version": "1.8.5"
  }
 },
 "nbformat": 4,
 "nbformat_minor": 5
}
