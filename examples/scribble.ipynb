{
 "cells": [
  {
   "cell_type": "code",
   "execution_count": 6,
   "id": "64262add-8310-4bfc-a276-6306bb71d28f",
   "metadata": {
    "tags": []
   },
   "outputs": [],
   "source": [
    "using LinearAlgebra\n",
    "using SparseArrays\n",
    "using BenchmarkTools\n",
    "using Random"
   ]
  },
  {
   "cell_type": "code",
   "execution_count": 7,
   "id": "800e635b",
   "metadata": {},
   "outputs": [
    {
     "data": {
      "text/plain": [
       "5×5 Matrix{Float64}:\n",
       " 0.642467   0.619186  0.247908  0.278075   0.876818\n",
       " 0.489676   0.255611  0.307874  0.305068   0.95236\n",
       " 0.91608    0.343694  0.93914   0.0618997  0.593948\n",
       " 0.598057   0.476888  0.500134  0.590959   0.38941\n",
       " 0.0934844  0.519326  0.145475  0.292222   0.946516"
      ]
     },
     "metadata": {},
     "output_type": "display_data"
    }
   ],
   "source": [
    "A = rand(5,5)"
   ]
  },
  {
   "cell_type": "code",
   "execution_count": 8,
   "id": "231d5a63",
   "metadata": {},
   "outputs": [
    {
     "data": {
      "text/plain": [
       "5×3 Matrix{Float64}:\n",
       " 0.0  0.1  0.4\n",
       " 0.8  0.7  0.2\n",
       " 0.9  0.3  0.1\n",
       " 0.4  0.4  0.4\n",
       " 0.4  1.0  0.8"
      ]
     },
     "metadata": {},
     "output_type": "display_data"
    }
   ],
   "source": [
    "A[:,[1,3,5]] = round.(rand(5,3), digits=1)"
   ]
  },
  {
   "cell_type": "code",
   "execution_count": 9,
   "id": "6094c0b3",
   "metadata": {},
   "outputs": [
    {
     "data": {
      "text/plain": [
       "5×5 Matrix{Float64}:\n",
       " 0.0  0.619186  0.1  0.278075   0.4\n",
       " 0.8  0.255611  0.7  0.305068   0.2\n",
       " 0.9  0.343694  0.3  0.0618997  0.1\n",
       " 0.4  0.476888  0.4  0.590959   0.4\n",
       " 0.4  0.519326  1.0  0.292222   0.8"
      ]
     },
     "metadata": {},
     "output_type": "display_data"
    }
   ],
   "source": [
    "A"
   ]
  },
  {
   "cell_type": "code",
   "execution_count": 11,
   "id": "3d3f5e4a",
   "metadata": {},
   "outputs": [
    {
     "data": {
      "text/plain": [
       "6×6 Matrix{Float64}:\n",
       " 0.0  0.619186  0.1  0.278075   0.4  0.0\n",
       " 0.8  0.255611  0.7  0.305068   0.2  0.0\n",
       " 0.9  0.343694  0.3  0.0618997  0.1  0.0\n",
       " 0.4  0.476888  0.4  0.590959   0.4  0.0\n",
       " 0.4  0.519326  1.0  0.292222   0.8  0.0\n",
       " 0.0  0.0       0.0  0.0        0.0  0.0"
      ]
     },
     "metadata": {},
     "output_type": "display_data"
    }
   ],
   "source": [
    "[A zeros(5,1); zeros(1,6)]"
   ]
  },
  {
   "cell_type": "code",
   "execution_count": 22,
   "id": "77887b05",
   "metadata": {},
   "outputs": [
    {
     "ename": "MethodError",
     "evalue": "MethodError: objects of type Vector{Nothing} are not callable\nUse square brackets [] for indexing an Array.",
     "output_type": "error",
     "traceback": [
      "MethodError: objects of type Vector{Nothing} are not callable\n",
      "Use square brackets [] for indexing an Array.\n",
      "\n",
      "Stacktrace:\n",
      " [1] top-level scope\n",
      "   @ c:\\Users\\tkoike3\\Code\\LiftAndLearn.jl\\examples\\scribble.ipynb:9"
     ]
    }
   ],
   "source": [
    "using JuMP\n",
    "using Ipopt\n",
    "using Pipe\n",
    "\n",
    "i = 2\n",
    "model = Model(Ipopt.Optimizer; add_bridges=false)\n",
    "@variable(model, x[1:5])\n",
    "\n",
    "@pipe x |> [JuMP.delete(model, x), JuMP.unregister(model, :x)]\n",
    "@show JuMP.is_valid(model, x)"
   ]
  },
  {
   "cell_type": "code",
   "execution_count": 2,
   "id": "5a5ba19f-8f74-40e0-99fc-ea7c097670f2",
   "metadata": {},
   "outputs": [
    {
     "data": {
      "text/plain": [
       "Elemat"
      ]
     },
     "execution_count": 2,
     "metadata": {},
     "output_type": "execute_result"
    }
   ],
   "source": [
    "struct elemat{T} <: AbstractVector{T}\n",
    "    n::Int\n",
    "    i::Int\n",
    "\n",
    "    function elemat(n::Int, i::Int)\n",
    "        @boundscheck n >= i || throw(ArgumentError(\"$i is larger than the size $n\"))\n",
    "        e = spzeros(n,1)\n",
    "        e[i] = 1\n",
    "        return e\n",
    "    end\n",
    "end\n",
    "\n",
    "\"\"\"\n",
    "    elemat(n,i,j)\n",
    "\"\"\"\n",
    "\n",
    "struct Elemat{T} <: AbstractMatrix{T}\n",
    "    m :: Int\n",
    "    n :: Int\n",
    "    i :: Int\n",
    "    j :: Int\n",
    "    \n",
    "    function Elemat(m::Integer, n::Integer, i::Integer, j::Integer)\n",
    "        return elemat(m,i) * elemat(n,j)'\n",
    "    end\n",
    "end\n",
    "\n",
    "Elemat(m::Integer, i::Integer, j::Integer) = Elemat(m, m, i, j)"
   ]
  },
  {
   "cell_type": "code",
   "execution_count": 3,
   "id": "52d526f0-5c7d-4e1d-ae63-8a0b96aa6c2e",
   "metadata": {
    "tags": []
   },
   "outputs": [
    {
     "data": {
      "text/plain": [
       "nommat"
      ]
     },
     "execution_count": 3,
     "metadata": {},
     "output_type": "execute_result"
    }
   ],
   "source": [
    "# Kronecker delta\n",
    "function delta(i::Int, j::Int)\n",
    "    return Int(i == j)\n",
    "end\n",
    "\n",
    "\"\"\"\n",
    "    commat(n,i,j)\n",
    "\"\"\"\n",
    "\n",
    "struct commat{T} <: AbstractMatrix{T}\n",
    "    m::Int\n",
    "    n::Int\n",
    "\n",
    "    function commat(m::Integer, n::Integer)\n",
    "        v = [m * (j-1) + i for i in 1:m, j in 1:n]'[:]\n",
    "        # apply this permutation to the rows (i.e. to each column) of identity matrix\n",
    "        K = [[delta(i, j) for j in 1:(m*n)] for i in 1:(m*n)]\n",
    "        tmp = [K[i] for i in v]\n",
    "        return sparse(reduce(vcat, tmp'))\n",
    "    end\n",
    "end\n",
    "\n",
    "commat(m::Integer) = commat(m, m)\n",
    "\n",
    "\n",
    "\"\"\"\n",
    "    nommat(n,i,j)\n",
    "\"\"\"\n",
    "\n",
    "struct nommat{T} <: AbstractMatrix{T}\n",
    "    m::Int\n",
    "    n::Int\n",
    "\n",
    "    function nommat(m::Integer, n::Integer)\n",
    "        mn = Int(m * n)\n",
    "        return 0.5 * (sparse(1.0I, mn, mn) + commat(m, n))\n",
    "    end\n",
    "end\n",
    "\n",
    "nommat(m::Integer) = nommat(m, m)"
   ]
  },
  {
   "cell_type": "code",
   "execution_count": 4,
   "id": "4bef121e-2b58-46fa-a974-13cda4abab4c",
   "metadata": {
    "tags": []
   },
   "outputs": [
    {
     "data": {
      "text/plain": [
       "vech (generic function with 1 method)"
      ]
     },
     "execution_count": 4,
     "metadata": {},
     "output_type": "execute_result"
    }
   ],
   "source": [
    "function vech(A::AbstractMatrix{T}) where {T}\n",
    "    m = LinearAlgebra.checksquare(A)\n",
    "    v = Vector{T}(undef, Int(m * (m + 1) /2))\n",
    "    k = 0\n",
    "    for j = 1:m, i = j:m\n",
    "        @inbounds v[k+=1] = A[i, j]\n",
    "    end\n",
    "    return v\n",
    "end"
   ]
  },
  {
   "cell_type": "code",
   "execution_count": 5,
   "id": "ec63d364-982e-4d3a-9b08-4bc8163a878b",
   "metadata": {
    "tags": []
   },
   "outputs": [],
   "source": [
    "struct unit_DL{T} <: AbstractVector{T}\n",
    "    n::Int\n",
    "    i::Int\n",
    "    j::Int\n",
    "\n",
    "    function unit_DL(n::Integer, i::Integer, j::Integer)\n",
    "        @boundscheck i >= j || throw(ArgumentError(\"Does not satisfy i >= j\"))\n",
    "        u = spzeros(Int(0.5 * n * (n+1)), 1)\n",
    "        u[Int( (j-1)*n + i - 0.5*j*(j-1) )] = 1.0\n",
    "        return u\n",
    "    end\n",
    "end"
   ]
  },
  {
   "cell_type": "code",
   "execution_count": 6,
   "id": "ad63d241-0828-40fa-8250-d1540a7d07ab",
   "metadata": {
    "tags": []
   },
   "outputs": [],
   "source": [
    "struct elimat{T} <: AbstractMatrix{T}\n",
    "    m::Int\n",
    "    \n",
    "    function elimat(m::Integer)\n",
    "        T = tril(ones(m, m)) # Lower triangle of 1's\n",
    "        f = findall(x -> x == 1, T[:]) # Get linear indexes of 1's\n",
    "        k = m * (m + 1) / 2 # Row size of L\n",
    "        m2 = m * m # Colunm size of L\n",
    "        x = f + m2 * (0:k-1) # Linear indexes of the 1's within L'\n",
    "\n",
    "        row = [mod(a, m2) != 0 ? mod(a, m2) : m2 for a in x]\n",
    "        col = [mod(a, m2) != 0 ? div(a, m2) + 1 : div(a, m2) for a in x]\n",
    "        L = sparse(row, col, ones(length(x)), m2, k)\n",
    "        L = L' # Now transpose to actual L\n",
    "        return L\n",
    "    end\n",
    "end"
   ]
  },
  {
   "cell_type": "code",
   "execution_count": 11,
   "id": "027b74f8-22e0-45c0-816c-6a3df0493178",
   "metadata": {
    "tags": []
   },
   "outputs": [
    {
     "data": {
      "text/plain": [
       "4-element Vector{Float64}:\n",
       "  1.0\n",
       "  1.0\n",
       " -1.0\n",
       " -1.0"
      ]
     },
     "execution_count": 11,
     "metadata": {},
     "output_type": "execute_result"
    }
   ],
   "source": [
    "N = 3\n",
    "Δx = 0.5\n",
    "S = Int(N * (N + 1) / 2)\n",
    "Fval = repeat([1.0, 1.0, -1.0, -1.0], outer=N - 2)"
   ]
  },
  {
   "cell_type": "code",
   "execution_count": 12,
   "id": "32ecef7e-678f-4aef-9ea4-f517a132e97f",
   "metadata": {
    "tags": []
   },
   "outputs": [
    {
     "data": {
      "text/plain": [
       "4-element Vector{Int64}:\n",
       " 2\n",
       " 2\n",
       " 2\n",
       " 2"
      ]
     },
     "execution_count": 12,
     "metadata": {},
     "output_type": "execute_result"
    }
   ],
   "source": [
    "row_i = repeat(2:(N-1), inner=4)"
   ]
  },
  {
   "cell_type": "code",
   "execution_count": 14,
   "id": "6343bea5-3cb7-468a-a6d6-a6ee154abdd8",
   "metadata": {
    "tags": []
   },
   "outputs": [
    {
     "data": {
      "text/plain": [
       "3-element Vector{Int64}:\n",
       " 2\n",
       " 6\n",
       " 9"
      ]
     },
     "execution_count": 14,
     "metadata": {},
     "output_type": "execute_result"
    }
   ],
   "source": [
    "N = 4\n",
    "seq = Int.([2 + (N + 1) * (x - 1) - x * (x - 1) / 2 for x in 1:(N-1)])"
   ]
  },
  {
   "cell_type": "code",
   "execution_count": null,
   "id": "c9146c0b-8f3c-47ff-9605-7a7417ed7746",
   "metadata": {},
   "outputs": [],
   "source": [
    "col_i = vcat(seq[1], repeat(seq[2:end-1], inner=2), seq[end])"
   ]
  },
  {
   "cell_type": "code",
   "execution_count": null,
   "id": "3fe5055c-8607-47a9-a0b4-7b922e45a812",
   "metadata": {},
   "outputs": [],
   "source": [
    "F = sparse(row_i, col_i, Fval, N, S) / 2 / Δx"
   ]
  },
  {
   "cell_type": "code",
   "execution_count": 54,
   "id": "f9b71cc7-f542-426e-bad0-ea4b517c2c8d",
   "metadata": {
    "tags": []
   },
   "outputs": [
    {
     "data": {
      "text/plain": [
       "4×10 SparseMatrixCSC{Float64, Int64} with 12 stored entries:\n",
       "  ⋅   -1.0   ⋅    ⋅   -1.0    ⋅    ⋅     ⋅     ⋅     ⋅ \n",
       " 1.0   1.0   ⋅    ⋅     ⋅   -1.0   ⋅   -1.0    ⋅     ⋅ \n",
       "  ⋅     ⋅    ⋅    ⋅    1.0   1.0   ⋅     ⋅   -1.0  -1.0\n",
       "  ⋅     ⋅    ⋅    ⋅     ⋅     ⋅    ⋅    1.0   1.0    ⋅ "
      ]
     },
     "execution_count": 54,
     "metadata": {},
     "output_type": "execute_result"
    }
   ],
   "source": [
    "N = 4\n",
    "S = N*(N+1)/2\n",
    "dx = 1/6\n",
    "\n",
    "ii = repeat(2:(N-1), inner=4)\n",
    "m = 2:N-1\n",
    "mi = Int.([N*(N+1)/2 - (N-m)*(N-m+1)/2 - (N-m) for m in 2:N-1])               # this is where the xi^2 term is\n",
    "mm = Int.([N*(N+1)/2 - (N-m).*(N-m+1)/2 - (N-m) - (N-(m-2)) for m in 2:N-1])  # this is where the x_{i-1}^2 term is\n",
    "mp = Int.([N*(N+1)/2 - (N-m).*(N-m+1)/2 - (N-m) + (N-(m-1)) for m in 2:N-1])  # this is where the x_{i+1}^2 term is\n",
    "jp = mi .+ 1  # this is the index of the x_{i+1}*x_i term\n",
    "jm = mm .+ 1  # this is the index of the x_{i-1}*x_i term\n",
    "jj = reshape([mp'; mm'; jp'; jm'],4*N-8);\n",
    "vv = reshape([-ones(1,N-2); ones(1,N-2); -ones(1,N-2); ones(1,N-2)],4*N-8)/(6*dx);\n",
    "F = sparse(ii,jj,vv,N,N*(N+1)/2)\n",
    "# Boundary conditions\n",
    "F[1,2] = -1/6/dx\n",
    "F[1,N+1] = -1/6/dx\n",
    "F[N,end-1] = 1/6/dx\n",
    "F[N,end-2] = 1/6/dx\n",
    "F"
   ]
  },
  {
   "cell_type": "code",
   "execution_count": 64,
   "id": "ad724e81-e31a-40db-91e1-e654a1bbbd0c",
   "metadata": {
    "tags": []
   },
   "outputs": [
    {
     "data": {
      "text/plain": [
       "0.8:0.044444444444444446:1.2"
      ]
     },
     "execution_count": 64,
     "metadata": {},
     "output_type": "execute_result"
    }
   ],
   "source": [
    "a = range(0.8,1.2,10)"
   ]
  },
  {
   "cell_type": "code",
   "execution_count": 67,
   "id": "5b3214c4-73b0-4101-9fbf-11eb05febaf5",
   "metadata": {
    "tags": []
   },
   "outputs": [
    {
     "data": {
      "text/plain": [
       "5×5 Matrix{Float64}:\n",
       " 0.0  0.0  0.0  0.0  0.0\n",
       " 0.0  0.0  0.0  0.0  0.0\n",
       " 0.0  0.0  0.0  0.0  0.0\n",
       " 0.0  0.0  0.0  0.0  0.0\n",
       " 0.0  0.0  0.0  0.0  0.0"
      ]
     },
     "execution_count": 67,
     "metadata": {},
     "output_type": "execute_result"
    }
   ],
   "source": [
    "zeros(1,1) .* rand(5,5)"
   ]
  },
  {
   "cell_type": "code",
   "execution_count": 78,
   "id": "55691b6c-bec8-4a5d-8bb1-0fc34c056167",
   "metadata": {
    "tags": []
   },
   "outputs": [
    {
     "data": {
      "text/plain": [
       "0"
      ]
     },
     "execution_count": 78,
     "metadata": {},
     "output_type": "execute_result"
    }
   ],
   "source": [
    "a  = zeros(1,1)\n",
    "a[1] == 0\n",
    "a = size(a)==(1,1) && a[1]==0 ? 0 : 1"
   ]
  },
  {
   "cell_type": "code",
   "execution_count": 86,
   "id": "a895c996-22ac-45e2-8195-356cfeb87fc5",
   "metadata": {
    "tags": []
   },
   "outputs": [
    {
     "data": {
      "text/plain": [
       "true"
      ]
     },
     "execution_count": 86,
     "metadata": {},
     "output_type": "execute_result"
    }
   ],
   "source": [
    "typeof(NaN) == Float64"
   ]
  },
  {
   "cell_type": "code",
   "execution_count": 3,
   "id": "698398bc",
   "metadata": {},
   "outputs": [
    {
     "name": "stderr",
     "output_type": "stream",
     "text": [
      "┌ Info: \n",
      "│ Constraint        = Non-Constrained\n",
      "│ order              = 10\n",
      "│ termination_status = 1\n",
      "│ primal_status      = 2\n",
      "│ objective_value    = 3\n",
      "└ @ Main c:\\Users\\tkoike3\\Code\\LiftAndLearn.jl\\examples\\scribble.ipynb:5\n"
     ]
    }
   ],
   "source": [
    "a = 1 \n",
    "b = 2\n",
    "c = 3 \n",
    "n = 10\n",
    "@info \"\"\"\n",
    "\n",
    "Constraint         = Non-Constrained\n",
    "order              = $(n)\n",
    "termination_status = $(a)\n",
    "primal_status      = $(b)\n",
    "objective_value    = $(c)\n",
    "\"\"\""
   ]
  }
 ],
 "metadata": {
  "kernelspec": {
   "display_name": "Julia 1.8.5",
   "language": "julia",
   "name": "julia-1.8"
  },
  "language_info": {
   "file_extension": ".jl",
   "mimetype": "application/julia",
   "name": "julia",
   "version": "1.8.5"
  }
 },
 "nbformat": 4,
 "nbformat_minor": 5
}
