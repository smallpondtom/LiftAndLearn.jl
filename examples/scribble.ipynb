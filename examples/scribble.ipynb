{
 "cells": [
  {
   "cell_type": "code",
   "execution_count": 6,
   "id": "64262add-8310-4bfc-a276-6306bb71d28f",
   "metadata": {
    "tags": []
   },
   "outputs": [],
   "source": [
    "using LinearAlgebra\n",
    "using SparseArrays\n",
    "using BenchmarkTools\n",
    "using Random\n",
    "using Distributions\n",
    "using Plots"
   ]
  },
  {
   "cell_type": "code",
   "execution_count": 104,
   "id": "8d9cdbfe",
   "metadata": {},
   "outputs": [
    {
     "name": "stdout",
     "output_type": "stream",
     "text": [
      "ct1 = 0\n",
      "ct2 = 0\n"
     ]
    }
   ],
   "source": [
    "ct1 = 0\n",
    "ct2 = 0\n",
    "for _ in 1:10000\n",
    "    foo = rand(Uniform(-10,10), 4, 4)\n",
    "    l1, _ = eigen(foo)\n",
    "    l1 = real.(l1)\n",
    "    l1_min = minimum(l1)\n",
    "    l1_max = maximum(l1)\n",
    "\n",
    "    bar = (foo + foo')/2\n",
    "    l2, _ = eigen(bar)\n",
    "    l2_min = minimum(l2)\n",
    "    l2_max = maximum(l2)\n",
    "\n",
    "    ct1 += Int(l1_min < l2_min)\n",
    "    ct2 += Int(l2_max < l1_max)\n",
    "end\n",
    "println(\"ct1 = \", ct1)\n",
    "println(\"ct2 = \", ct2)"
   ]
  },
  {
   "cell_type": "code",
   "execution_count": 105,
   "id": "a4bbae0d",
   "metadata": {},
   "outputs": [
    {
     "data": {
      "text/plain": [
       "4×4 Matrix{Float64}:\n",
       "  0.210726   -0.0982325  0.113304    0.111711\n",
       " -0.0982325   7.25141    0.0570213  -3.6207\n",
       "  0.113304    0.0570213  0.219455    0.0357768\n",
       "  0.111711   -3.6207     0.0357768   1.96825"
      ]
     },
     "metadata": {},
     "output_type": "display_data"
    }
   ],
   "source": [
    "foo = rand(Uniform(-10,10), 4, 4)\n",
    "bar = (foo + foo')/2\n",
    "pac = (foo - foo')/2\n",
    "\n",
    "γ = 0.1\n",
    "λp, v = eigen(bar)\n",
    "# N_neg = count(i->(real(i) < 0.0), λp)\n",
    "λp[real.(λp) .< 0] .= γ  # .+ (rand(N_neg) .* γ/10)\n",
    "# N_img = count(i->(imag(i) != 0.0), λp)\n",
    "# λp[imag.(λp) .!= 0.0] .= real.(λp[imag.(λp) .!= 0.0]) #+ rand(N_img) \n",
    "zap = v * Diagonal(λp) * (v\\1.0I)"
   ]
  },
  {
   "cell_type": "code",
   "execution_count": 14,
   "id": "9fdf1476",
   "metadata": {},
   "outputs": [
    {
     "data": {
      "text/plain": [
       "1"
      ]
     },
     "metadata": {},
     "output_type": "display_data"
    }
   ],
   "source": [
    "a = [1 -1 0 -2]\n",
    "b = any(a .< -3) + any(a .> 1) + any(a .> 0.1)"
   ]
  },
  {
   "cell_type": "code",
   "execution_count": 12,
   "id": "1e5783b4",
   "metadata": {},
   "outputs": [
    {
     "data": {
      "text/plain": [
       "0.005000000000000001"
      ]
     },
     "metadata": {},
     "output_type": "display_data"
    }
   ],
   "source": [
    "10^floor(log10(0.055)) / 2"
   ]
  },
  {
   "cell_type": "code",
   "execution_count": 3,
   "id": "c54a6231",
   "metadata": {},
   "outputs": [
    {
     "data": {
      "text/plain": [
       "0.0:0.007874015748031496:1.0"
      ]
     },
     "metadata": {},
     "output_type": "display_data"
    }
   ],
   "source": [
    "x = range(0,1,2^7)"
   ]
  },
  {
   "cell_type": "code",
   "execution_count": 4,
   "id": "ff6c6d4b",
   "metadata": {},
   "outputs": [
    {
     "data": {
      "text/plain": [
       "#11 (generic function with 1 method)"
      ]
     },
     "metadata": {},
     "output_type": "display_data"
    }
   ],
   "source": [
    "train_wave = (a,b,c) -> a .* sin.(2*π*ceil(b) .* x .+ c)"
   ]
  },
  {
   "cell_type": "code",
   "execution_count": 14,
   "id": "74821ca4",
   "metadata": {},
   "outputs": [
    {
     "data": {
      "text/plain": [
       "4.781962917924284"
      ]
     },
     "metadata": {},
     "output_type": "display_data"
    }
   ],
   "source": [
    "norm(train_wave(0.6,7,3))"
   ]
  },
  {
   "cell_type": "code",
   "execution_count": 5,
   "id": "1b05a47b",
   "metadata": {},
   "outputs": [],
   "source": [
    "if (@isdefined a) && (@isdefined b) && (@isdefined c)\n",
    "    println(\"a and b are defined\")\n",
    "end"
   ]
  },
  {
   "cell_type": "code",
   "execution_count": 15,
   "id": "dd6f7000",
   "metadata": {},
   "outputs": [
    {
     "data": {
      "text/plain": [
       "#13 (generic function with 1 method)"
      ]
     },
     "metadata": {},
     "output_type": "display_data"
    }
   ],
   "source": [
    "train_wave = (a,b,c) -> exp.(-a * cos.(π .* x .+ b).^2) .- c"
   ]
  },
  {
   "cell_type": "code",
   "execution_count": 45,
   "id": "af76246c",
   "metadata": {},
   "outputs": [
    {
     "data": {
      "text/plain": [
       "#19 (generic function with 1 method)"
      ]
     },
     "metadata": {},
     "output_type": "display_data"
    }
   ],
   "source": [
    "train_wave3 = (a,b,c) -> exp.(-a * cos.(π .* x).^2 .+ b .* sin.(4*π .* x .+ π/3).^2 .- c .* cos.(3*π .* x).^2) "
   ]
  },
  {
   "cell_type": "code",
   "execution_count": 74,
   "id": "5ba449c6",
   "metadata": {},
   "outputs": [
    {
     "data": {
      "text/plain": [
       "7.1809556661202025"
      ]
     },
     "metadata": {},
     "output_type": "display_data"
    }
   ],
   "source": [
    "norm(train_wave3(1,0.5,1))"
   ]
  },
  {
   "cell_type": "code",
   "execution_count": 106,
   "id": "c75b097d",
   "metadata": {},
   "outputs": [
    {
     "data": {
      "text/plain": [
       "Eigen{Float64, Float64, Matrix{Float64}, Vector{Float64}}\n",
       "values:\n",
       "4-element Vector{Float64}:\n",
       " 0.09999999999999949\n",
       " 0.09999999999999963\n",
       " 0.35584024650442625\n",
       " 9.093994817808978\n",
       "vectors:\n",
       "4×4 Matrix{Float64}:\n",
       "  0.758565   0.0937271  -0.651413  -0.0155071\n",
       " -0.11616    0.391881   -0.156486   0.891311\n",
       " -0.586409  -0.504641   -0.682957   0.00370225\n",
       " -0.259249   0.763532   -0.291107  -0.453113"
      ]
     },
     "metadata": {},
     "output_type": "display_data"
    }
   ],
   "source": [
    "eigen(zap)"
   ]
  },
  {
   "cell_type": "code",
   "execution_count": 107,
   "id": "f8cae958",
   "metadata": {},
   "outputs": [
    {
     "data": {
      "text/plain": [
       "Eigen{Float64, Float64, Matrix{Float64}, Vector{Float64}}\n",
       "values:\n",
       "4-element Vector{Float64}:\n",
       " -15.291019624856911\n",
       "  -7.09950814662783\n",
       "   0.35584024650442636\n",
       "   9.093994817808985\n",
       "vectors:\n",
       "4×4 Matrix{Float64}:\n",
       "  0.703379   0.28404   0.651413   0.0155071\n",
       " -0.260996   0.336093  0.156486  -0.891311\n",
       " -0.380669  -0.623416  0.682957  -0.00370225\n",
       " -0.540583   0.646309  0.291107   0.453113"
      ]
     },
     "metadata": {},
     "output_type": "display_data"
    }
   ],
   "source": [
    "eigen(bar)"
   ]
  },
  {
   "cell_type": "code",
   "execution_count": 10,
   "id": "c4ee51db",
   "metadata": {},
   "outputs": [
    {
     "data": {
      "text/plain": [
       "4-element Vector{ComplexF64}:\n",
       "               0.1 + 0.0im\n",
       "               0.1 + 0.0im\n",
       " 12.33193892302421 - 3.479711733044939im\n",
       " 12.33193892302421 + 3.479711733044939im"
      ]
     },
     "metadata": {},
     "output_type": "display_data"
    }
   ],
   "source": [
    "s"
   ]
  },
  {
   "cell_type": "code",
   "execution_count": 15,
   "id": "21763517",
   "metadata": {},
   "outputs": [
    {
     "data": {
      "text/plain": [
       "4×4 Matrix{ComplexF64}:\n",
       "  7.39597+4.0359e-16im   6.96738+2.62968e-15im  …   5.47594-7.06443e-16im\n",
       " -1.13444+2.30578e-16im  3.05888-1.18363e-15im     -3.99011+1.22111e-15im\n",
       "  2.31802+4.66593e-16im  6.21741+3.06297e-16im     -1.36905+9.12678e-16im\n",
       "  6.30664+1.25411e-16im  4.80703+2.06405e-15im      5.77726-8.21851e-16im"
      ]
     },
     "metadata": {},
     "output_type": "display_data"
    }
   ],
   "source": [
    "v * diagm(s) * v^(-1)"
   ]
  },
  {
   "cell_type": "code",
   "execution_count": 10,
   "id": "d7394fe4",
   "metadata": {},
   "outputs": [
    {
     "name": "stdout",
     "output_type": "stream",
     "text": [
      "f(-2.23606797749979) = -16.000000000000004\n",
      "f(0.0) = 9.0\n",
      "f(2.23606797749979) = -16.000000000000004\n"
     ]
    }
   ],
   "source": [
    "M = [0 0 0 -9;\n",
    "    1 0 0 0;\n",
    "    0 1 0 10;\n",
    "    0 0 1 0]\n",
    "s, v = eigen(M)\n",
    "\n",
    "N = [0 0 0; 1 0 5; 0 1 0]\n",
    "s, v = eigen(N)\n",
    "\n",
    "f = (x) -> x.^4 -10 .* x.^2 .+ 9\n",
    "for si in s\n",
    "    val = f(si)\n",
    "    println(\"f($si) = $val\")\n",
    "end"
   ]
  },
  {
   "cell_type": "code",
   "execution_count": 13,
   "id": "cf003e58",
   "metadata": {},
   "outputs": [
    {
     "data": {
      "image/png": "[encoded data removed]",
      "image/svg+xml": [
       "<?xml version=\"1.0\" encoding=\"utf-8\"?>\n",
       "<svg xmlns=\"http://www.w3.org/2000/svg\" xmlns:xlink=\"http://www.w3.org/1999/xlink\" width=\"600\" height=\"400\" viewBox=\"0 0 2400 1600\">\n",
       "<defs>\n",
       "  <clipPath id=\"clip350\">\n",
       "    <rect x=\"0\" y=\"0\" width=\"2400\" height=\"1600\"/>\n",
       "  </clipPath>\n",
       "</defs>\n",
       "<path clip-path=\"url(#clip350)\" d=\"M0 1600 L2400 1600 L2400 0 L0 0  Z\" fill=\"#ffffff\" fill-rule=\"evenodd\" fill-opacity=\"1\"/>\n",
       "<defs>\n",
       "  <clipPath id=\"clip351\">\n",
       "    <rect x=\"480\" y=\"0\" width=\"1681\" height=\"1600\"/>\n",
       "  </clipPath>\n",
       "</defs>\n",
       "<path clip-path=\"url(#clip350)\" d=\"M170.857 1486.45 L2352.76 1486.45 L2352.76 47.2441 L170.857 47.2441  Z\" fill=\"#ffffff\" fill-rule=\"evenodd\" fill-opacity=\"1\"/>\n",
       "<defs>\n",
       "  <clipPath id=\"clip352\">\n",
       "    <rect x=\"170\" y=\"47\" width=\"2183\" height=\"1440\"/>\n",
       "  </clipPath>\n",
       "</defs>\n",
       "<polyline clip-path=\"url(#clip352)\" style=\"stroke:#000000; stroke-linecap:round; stroke-linejoin:round; stroke-width:2; stroke-opacity:0.1; fill:none\" points=\"438.449,1486.45 438.449,47.2441 \"/>\n",
       "<polyline clip-path=\"url(#clip352)\" style=\"stroke:#000000; stroke-linecap:round; stroke-linejoin:round; stroke-width:2; stroke-opacity:0.1; fill:none\" points=\"850.128,1486.45 850.128,47.2441 \"/>\n",
       "<polyline clip-path=\"url(#clip352)\" style=\"stroke:#000000; stroke-linecap:round; stroke-linejoin:round; stroke-width:2; stroke-opacity:0.1; fill:none\" points=\"1261.81,1486.45 1261.81,47.2441 \"/>\n",
       "<polyline clip-path=\"url(#clip352)\" style=\"stroke:#000000; stroke-linecap:round; stroke-linejoin:round; stroke-width:2; stroke-opacity:0.1; fill:none\" points=\"1673.49,1486.45 1673.49,47.2441 \"/>\n",
       "<polyline clip-path=\"url(#clip352)\" style=\"stroke:#000000; stroke-linecap:round; stroke-linejoin:round; stroke-width:2; stroke-opacity:0.1; fill:none\" points=\"2085.16,1486.45 2085.16,47.2441 \"/>\n",
       "<polyline clip-path=\"url(#clip350)\" style=\"stroke:#000000; stroke-linecap:round; stroke-linejoin:round; stroke-width:4; stroke-opacity:1; fill:none\" points=\"170.857,1486.45 2352.76,1486.45 \"/>\n",
       "<polyline clip-path=\"url(#clip350)\" style=\"stroke:#000000; stroke-linecap:round; stroke-linejoin:round; stroke-width:4; stroke-opacity:1; fill:none\" points=\"438.449,1486.45 438.449,1467.55 \"/>\n",
       "<polyline clip-path=\"url(#clip350)\" style=\"stroke:#000000; stroke-linecap:round; stroke-linejoin:round; stroke-width:4; stroke-opacity:1; fill:none\" points=\"850.128,1486.45 850.128,1467.55 \"/>\n",
       "<polyline clip-path=\"url(#clip350)\" style=\"stroke:#000000; stroke-linecap:round; stroke-linejoin:round; stroke-width:4; stroke-opacity:1; fill:none\" points=\"1261.81,1486.45 1261.81,1467.55 \"/>\n",
       "<polyline clip-path=\"url(#clip350)\" style=\"stroke:#000000; stroke-linecap:round; stroke-linejoin:round; stroke-width:4; stroke-opacity:1; fill:none\" points=\"1673.49,1486.45 1673.49,1467.55 \"/>\n",
       "<polyline clip-path=\"url(#clip350)\" style=\"stroke:#000000; stroke-linecap:round; stroke-linejoin:round; stroke-width:4; stroke-opacity:1; fill:none\" points=\"2085.16,1486.45 2085.16,1467.55 \"/>\n",
       "<path clip-path=\"url(#clip350)\" d=\"M407.349 1532.02 L437.025 1532.02 L437.025 1535.95 L407.349 1535.95 L407.349 1532.02 Z\" fill=\"#000000\" fill-rule=\"nonzero\" fill-opacity=\"1\" /><path clip-path=\"url(#clip350)\" d=\"M459.965 1518.36 L448.159 1536.81 L459.965 1536.81 L459.965 1518.36 M458.738 1514.29 L464.618 1514.29 L464.618 1536.81 L469.548 1536.81 L469.548 1540.7 L464.618 1540.7 L464.618 1548.85 L459.965 1548.85 L459.965 1540.7 L444.363 1540.7 L444.363 1536.19 L458.738 1514.29 Z\" fill=\"#000000\" fill-rule=\"nonzero\" fill-opacity=\"1\" /><path clip-path=\"url(#clip350)\" d=\"M820.07 1532.02 L849.746 1532.02 L849.746 1535.95 L820.07 1535.95 L820.07 1532.02 Z\" fill=\"#000000\" fill-rule=\"nonzero\" fill-opacity=\"1\" /><path clip-path=\"url(#clip350)\" d=\"M863.866 1544.91 L880.185 1544.91 L880.185 1548.85 L858.241 1548.85 L858.241 1544.91 Q860.903 1542.16 865.486 1537.53 Q870.093 1532.88 871.273 1531.53 Q873.519 1529.01 874.398 1527.27 Q875.301 1525.51 875.301 1523.82 Q875.301 1521.07 873.357 1519.33 Q871.435 1517.6 868.334 1517.6 Q866.135 1517.6 863.681 1518.36 Q861.25 1519.13 858.473 1520.68 L858.473 1515.95 Q861.297 1514.82 863.75 1514.24 Q866.204 1513.66 868.241 1513.66 Q873.611 1513.66 876.806 1516.35 Q880 1519.03 880 1523.52 Q880 1525.65 879.19 1527.57 Q878.403 1529.47 876.297 1532.07 Q875.718 1532.74 872.616 1535.95 Q869.514 1539.15 863.866 1544.91 Z\" fill=\"#000000\" fill-rule=\"nonzero\" fill-opacity=\"1\" /><path clip-path=\"url(#clip350)\" d=\"M1261.81 1517.37 Q1258.2 1517.37 1256.37 1520.93 Q1254.56 1524.47 1254.56 1531.6 Q1254.56 1538.71 1256.37 1542.27 Q1258.2 1545.82 1261.81 1545.82 Q1265.44 1545.82 1267.25 1542.27 Q1269.08 1538.71 1269.08 1531.6 Q1269.08 1524.47 1267.25 1520.93 Q1265.44 1517.37 1261.81 1517.37 M1261.81 1513.66 Q1267.62 1513.66 1270.67 1518.27 Q1273.75 1522.85 1273.75 1531.6 Q1273.75 1540.33 1270.67 1544.94 Q1267.62 1549.52 1261.81 1549.52 Q1256 1549.52 1252.92 1544.94 Q1249.86 1540.33 1249.86 1531.6 Q1249.86 1522.85 1252.92 1518.27 Q1256 1513.66 1261.81 1513.66 Z\" fill=\"#000000\" fill-rule=\"nonzero\" fill-opacity=\"1\" /><path clip-path=\"url(#clip350)\" d=\"M1668.14 1544.91 L1684.46 1544.91 L1684.46 1548.85 L1662.51 1548.85 L1662.51 1544.91 Q1665.18 1542.16 1669.76 1537.53 Q1674.37 1532.88 1675.55 1531.53 Q1677.79 1529.01 1678.67 1527.27 Q1679.57 1525.51 1679.57 1523.82 Q1679.57 1521.07 1677.63 1519.33 Q1675.71 1517.6 1672.61 1517.6 Q1670.41 1517.6 1667.95 1518.36 Q1665.52 1519.13 1662.74 1520.68 L1662.74 1515.95 Q1665.57 1514.82 1668.02 1514.24 Q1670.48 1513.66 1672.51 1513.66 Q1677.88 1513.66 1681.08 1516.35 Q1684.27 1519.03 1684.27 1523.52 Q1684.27 1525.65 1683.46 1527.57 Q1682.68 1529.47 1680.57 1532.07 Q1679.99 1532.74 1676.89 1535.95 Q1673.79 1539.15 1668.14 1544.91 Z\" fill=\"#000000\" fill-rule=\"nonzero\" fill-opacity=\"1\" /><path clip-path=\"url(#clip350)\" d=\"M2088.17 1518.36 L2076.37 1536.81 L2088.17 1536.81 L2088.17 1518.36 M2086.95 1514.29 L2092.83 1514.29 L2092.83 1536.81 L2097.76 1536.81 L2097.76 1540.7 L2092.83 1540.7 L2092.83 1548.85 L2088.17 1548.85 L2088.17 1540.7 L2072.57 1540.7 L2072.57 1536.19 L2086.95 1514.29 Z\" fill=\"#000000\" fill-rule=\"nonzero\" fill-opacity=\"1\" /><polyline clip-path=\"url(#clip352)\" style=\"stroke:#000000; stroke-linecap:round; stroke-linejoin:round; stroke-width:2; stroke-opacity:0.1; fill:none\" points=\"170.857,1391.41 2352.76,1391.41 \"/>\n",
       "<polyline clip-path=\"url(#clip352)\" style=\"stroke:#000000; stroke-linecap:round; stroke-linejoin:round; stroke-width:2; stroke-opacity:0.1; fill:none\" points=\"170.857,1051.97 2352.76,1051.97 \"/>\n",
       "<polyline clip-path=\"url(#clip352)\" style=\"stroke:#000000; stroke-linecap:round; stroke-linejoin:round; stroke-width:2; stroke-opacity:0.1; fill:none\" points=\"170.857,712.537 2352.76,712.537 \"/>\n",
       "<polyline clip-path=\"url(#clip352)\" style=\"stroke:#000000; stroke-linecap:round; stroke-linejoin:round; stroke-width:2; stroke-opacity:0.1; fill:none\" points=\"170.857,373.102 2352.76,373.102 \"/>\n",
       "<polyline clip-path=\"url(#clip350)\" style=\"stroke:#000000; stroke-linecap:round; stroke-linejoin:round; stroke-width:4; stroke-opacity:1; fill:none\" points=\"170.857,1486.45 170.857,47.2441 \"/>\n",
       "<polyline clip-path=\"url(#clip350)\" style=\"stroke:#000000; stroke-linecap:round; stroke-linejoin:round; stroke-width:4; stroke-opacity:1; fill:none\" points=\"170.857,1391.41 189.755,1391.41 \"/>\n",
       "<polyline clip-path=\"url(#clip350)\" style=\"stroke:#000000; stroke-linecap:round; stroke-linejoin:round; stroke-width:4; stroke-opacity:1; fill:none\" points=\"170.857,1051.97 189.755,1051.97 \"/>\n",
       "<polyline clip-path=\"url(#clip350)\" style=\"stroke:#000000; stroke-linecap:round; stroke-linejoin:round; stroke-width:4; stroke-opacity:1; fill:none\" points=\"170.857,712.537 189.755,712.537 \"/>\n",
       "<polyline clip-path=\"url(#clip350)\" style=\"stroke:#000000; stroke-linecap:round; stroke-linejoin:round; stroke-width:4; stroke-opacity:1; fill:none\" points=\"170.857,373.102 189.755,373.102 \"/>\n",
       "<path clip-path=\"url(#clip350)\" d=\"M122.913 1377.21 Q119.302 1377.21 117.473 1380.77 Q115.668 1384.31 115.668 1391.44 Q115.668 1398.55 117.473 1402.11 Q119.302 1405.65 122.913 1405.65 Q126.547 1405.65 128.353 1402.11 Q130.182 1398.55 130.182 1391.44 Q130.182 1384.31 128.353 1380.77 Q126.547 1377.21 122.913 1377.21 M122.913 1373.5 Q128.723 1373.5 131.779 1378.11 Q134.857 1382.69 134.857 1391.44 Q134.857 1400.17 131.779 1404.78 Q128.723 1409.36 122.913 1409.36 Q117.103 1409.36 114.024 1404.78 Q110.969 1400.17 110.969 1391.44 Q110.969 1382.69 114.024 1378.11 Q117.103 1373.5 122.913 1373.5 Z\" fill=\"#000000\" fill-rule=\"nonzero\" fill-opacity=\"1\" /><path clip-path=\"url(#clip350)\" d=\"M53.3995 1065.32 L61.0384 1065.32 L61.0384 1038.95 L52.7282 1040.62 L52.7282 1036.36 L60.9921 1034.69 L65.668 1034.69 L65.668 1065.32 L73.3068 1065.32 L73.3068 1069.25 L53.3995 1069.25 L53.3995 1065.32 Z\" fill=\"#000000\" fill-rule=\"nonzero\" fill-opacity=\"1\" /><path clip-path=\"url(#clip350)\" d=\"M92.7512 1037.77 Q89.1401 1037.77 87.3114 1041.34 Q85.5058 1044.88 85.5058 1052.01 Q85.5058 1059.11 87.3114 1062.68 Q89.1401 1066.22 92.7512 1066.22 Q96.3854 1066.22 98.1909 1062.68 Q100.02 1059.11 100.02 1052.01 Q100.02 1044.88 98.1909 1041.34 Q96.3854 1037.77 92.7512 1037.77 M92.7512 1034.07 Q98.5613 1034.07 101.617 1038.67 Q104.696 1043.26 104.696 1052.01 Q104.696 1060.73 101.617 1065.34 Q98.5613 1069.92 92.7512 1069.92 Q86.941 1069.92 83.8623 1065.34 Q80.8068 1060.73 80.8068 1052.01 Q80.8068 1043.26 83.8623 1038.67 Q86.941 1034.07 92.7512 1034.07 Z\" fill=\"#000000\" fill-rule=\"nonzero\" fill-opacity=\"1\" /><path clip-path=\"url(#clip350)\" d=\"M122.913 1037.77 Q119.302 1037.77 117.473 1041.34 Q115.668 1044.88 115.668 1052.01 Q115.668 1059.11 117.473 1062.68 Q119.302 1066.22 122.913 1066.22 Q126.547 1066.22 128.353 1062.68 Q130.182 1059.11 130.182 1052.01 Q130.182 1044.88 128.353 1041.34 Q126.547 1037.77 122.913 1037.77 M122.913 1034.07 Q128.723 1034.07 131.779 1038.67 Q134.857 1043.26 134.857 1052.01 Q134.857 1060.73 131.779 1065.34 Q128.723 1069.92 122.913 1069.92 Q117.103 1069.92 114.024 1065.34 Q110.969 1060.73 110.969 1052.01 Q110.969 1043.26 114.024 1038.67 Q117.103 1034.07 122.913 1034.07 Z\" fill=\"#000000\" fill-rule=\"nonzero\" fill-opacity=\"1\" /><path clip-path=\"url(#clip350)\" d=\"M56.6171 725.882 L72.9365 725.882 L72.9365 729.817 L50.9921 729.817 L50.9921 725.882 Q53.6541 723.127 58.2375 718.498 Q62.8439 713.845 64.0245 712.502 Q66.2698 709.979 67.1494 708.243 Q68.0522 706.484 68.0522 704.794 Q68.0522 702.039 66.1078 700.303 Q64.1865 698.567 61.0847 698.567 Q58.8856 698.567 56.4319 699.331 Q54.0014 700.095 51.2236 701.646 L51.2236 696.924 Q54.0477 695.789 56.5014 695.211 Q58.955 694.632 60.9921 694.632 Q66.3624 694.632 69.5568 697.317 Q72.7513 700.002 72.7513 704.493 Q72.7513 706.623 71.9411 708.544 Q71.1541 710.442 69.0476 713.035 Q68.4689 713.706 65.367 716.923 Q62.2652 720.118 56.6171 725.882 Z\" fill=\"#000000\" fill-rule=\"nonzero\" fill-opacity=\"1\" /><path clip-path=\"url(#clip350)\" d=\"M92.7512 698.336 Q89.1401 698.336 87.3114 701.9 Q85.5058 705.442 85.5058 712.572 Q85.5058 719.678 87.3114 723.243 Q89.1401 726.785 92.7512 726.785 Q96.3854 726.785 98.1909 723.243 Q100.02 719.678 100.02 712.572 Q100.02 705.442 98.1909 701.9 Q96.3854 698.336 92.7512 698.336 M92.7512 694.632 Q98.5613 694.632 101.617 699.238 Q104.696 703.822 104.696 712.572 Q104.696 721.298 101.617 725.905 Q98.5613 730.488 92.7512 730.488 Q86.941 730.488 83.8623 725.905 Q80.8068 721.298 80.8068 712.572 Q80.8068 703.822 83.8623 699.238 Q86.941 694.632 92.7512 694.632 Z\" fill=\"#000000\" fill-rule=\"nonzero\" fill-opacity=\"1\" /><path clip-path=\"url(#clip350)\" d=\"M122.913 698.336 Q119.302 698.336 117.473 701.9 Q115.668 705.442 115.668 712.572 Q115.668 719.678 117.473 723.243 Q119.302 726.785 122.913 726.785 Q126.547 726.785 128.353 723.243 Q130.182 719.678 130.182 712.572 Q130.182 705.442 128.353 701.9 Q126.547 698.336 122.913 698.336 M122.913 694.632 Q128.723 694.632 131.779 699.238 Q134.857 703.822 134.857 712.572 Q134.857 721.298 131.779 725.905 Q128.723 730.488 122.913 730.488 Q117.103 730.488 114.024 725.905 Q110.969 721.298 110.969 712.572 Q110.969 703.822 114.024 699.238 Q117.103 694.632 122.913 694.632 Z\" fill=\"#000000\" fill-rule=\"nonzero\" fill-opacity=\"1\" /><path clip-path=\"url(#clip350)\" d=\"M66.7559 371.748 Q70.1124 372.465 71.9874 374.734 Q73.8855 377.002 73.8855 380.336 Q73.8855 385.451 70.367 388.252 Q66.8485 391.053 60.3671 391.053 Q58.1912 391.053 55.8764 390.613 Q53.5847 390.197 51.131 389.34 L51.131 384.826 Q53.0754 385.961 55.3903 386.539 Q57.7051 387.118 60.2282 387.118 Q64.6263 387.118 66.918 385.382 Q69.2328 383.646 69.2328 380.336 Q69.2328 377.28 67.08 375.567 Q64.9504 373.831 61.131 373.831 L57.1032 373.831 L57.1032 369.988 L61.3161 369.988 Q64.7652 369.988 66.5939 368.623 Q68.4226 367.234 68.4226 364.641 Q68.4226 361.979 66.5245 360.567 Q64.6495 359.132 61.131 359.132 Q59.2097 359.132 57.0106 359.549 Q54.8115 359.965 52.1727 360.845 L52.1727 356.678 Q54.8347 355.938 57.1495 355.567 Q59.4875 355.197 61.5476 355.197 Q66.8717 355.197 69.9735 357.627 Q73.0753 360.035 73.0753 364.155 Q73.0753 367.025 71.4318 369.016 Q69.7883 370.984 66.7559 371.748 Z\" fill=\"#000000\" fill-rule=\"nonzero\" fill-opacity=\"1\" /><path clip-path=\"url(#clip350)\" d=\"M92.7512 358.9 Q89.1401 358.9 87.3114 362.465 Q85.5058 366.007 85.5058 373.136 Q85.5058 380.243 87.3114 383.808 Q89.1401 387.349 92.7512 387.349 Q96.3854 387.349 98.1909 383.808 Q100.02 380.243 100.02 373.136 Q100.02 366.007 98.1909 362.465 Q96.3854 358.9 92.7512 358.9 M92.7512 355.197 Q98.5613 355.197 101.617 359.803 Q104.696 364.387 104.696 373.136 Q104.696 381.863 101.617 386.47 Q98.5613 391.053 92.7512 391.053 Q86.941 391.053 83.8623 386.47 Q80.8068 381.863 80.8068 373.136 Q80.8068 364.387 83.8623 359.803 Q86.941 355.197 92.7512 355.197 Z\" fill=\"#000000\" fill-rule=\"nonzero\" fill-opacity=\"1\" /><path clip-path=\"url(#clip350)\" d=\"M122.913 358.9 Q119.302 358.9 117.473 362.465 Q115.668 366.007 115.668 373.136 Q115.668 380.243 117.473 383.808 Q119.302 387.349 122.913 387.349 Q126.547 387.349 128.353 383.808 Q130.182 380.243 130.182 373.136 Q130.182 366.007 128.353 362.465 Q126.547 358.9 122.913 358.9 M122.913 355.197 Q128.723 355.197 131.779 359.803 Q134.857 364.387 134.857 373.136 Q134.857 381.863 131.779 386.47 Q128.723 391.053 122.913 391.053 Q117.103 391.053 114.024 386.47 Q110.969 381.863 110.969 373.136 Q110.969 364.387 114.024 359.803 Q117.103 355.197 122.913 355.197 Z\" fill=\"#000000\" fill-rule=\"nonzero\" fill-opacity=\"1\" /><polyline clip-path=\"url(#clip352)\" style=\"stroke:#009af9; stroke-linecap:round; stroke-linejoin:round; stroke-width:4; stroke-opacity:1; fill:none\" points=\"232.609,87.9763 234.668,101.506 236.726,114.942 238.784,128.283 240.843,141.53 242.901,154.684 244.96,167.745 247.018,180.713 249.076,193.589 251.135,206.373 253.193,219.066 255.252,231.668 257.31,244.179 259.368,256.6 261.427,268.931 263.485,281.173 265.544,293.325 267.602,305.389 269.66,317.365 271.719,329.253 273.777,341.054 275.836,352.767 277.894,364.394 279.952,375.935 282.011,387.389 284.069,398.758 286.128,410.042 288.186,421.242 290.244,432.357 292.303,443.388 294.361,454.335 296.42,465.199 298.478,475.981 300.536,486.68 302.595,497.297 304.653,507.832 306.711,518.286 308.77,528.659 310.828,538.952 312.887,549.164 314.945,559.297 317.003,569.35 319.062,579.324 321.12,589.22 323.179,599.037 325.237,608.777 327.295,618.439 329.354,628.023 331.412,637.531 333.471,646.963 335.529,656.318 337.587,665.598 339.646,674.802 341.704,683.931 343.763,692.986 345.821,701.967 347.879,710.874 349.938,719.707 351.996,728.467 354.055,737.154 356.113,745.769 358.171,754.312 360.23,762.783 362.288,771.182 364.347,779.511 366.405,787.769 368.463,795.957 370.522,804.075 372.58,812.123 374.639,820.102 376.697,828.012 378.755,835.854 380.814,843.627 382.872,851.333 384.93,858.971 386.989,866.542 389.047,874.047 391.106,881.484 393.164,888.856 395.222,896.162 397.281,903.403 399.339,910.578 401.398,917.689 403.456,924.735 405.514,931.718 407.573,938.636 409.631,945.492 411.69,952.284 413.748,959.013 415.806,965.681 417.865,972.286 419.923,978.829 421.982,985.312 424.04,991.733 426.098,998.093 428.157,1004.39 430.215,1010.63 432.274,1016.81 434.332,1022.93 436.39,1029 438.449,1035 440.507,1040.95 442.566,1046.83 444.624,1052.66 446.682,1058.43 448.741,1064.15 450.799,1069.81 452.858,1075.41 454.916,1080.95 456.974,1086.44 459.033,1091.88 461.091,1097.25 463.149,1102.58 465.208,1107.85 467.266,1113.06 469.325,1118.22 471.383,1123.33 473.441,1128.39 475.5,1133.39 477.558,1138.34 479.617,1143.23 481.675,1148.08 483.733,1152.87 485.792,1157.61 487.85,1162.3 489.909,1166.94 491.967,1171.53 494.025,1176.07 496.084,1180.56 498.142,1185 500.201,1189.39 502.259,1193.73 504.317,1198.02 506.376,1202.27 508.434,1206.46 510.493,1210.61 512.551,1214.71 514.609,1218.76 516.668,1222.77 518.726,1226.73 520.785,1230.65 522.843,1234.51 524.901,1238.34 526.96,1242.11 529.018,1245.84 531.077,1249.53 533.135,1253.17 535.193,1256.77 537.252,1260.32 539.31,1263.83 541.368,1267.3 543.427,1270.72 545.485,1274.11 547.544,1277.44 549.602,1280.74 551.66,1283.99 553.719,1287.21 555.777,1290.38 557.836,1293.51 559.894,1296.6 561.952,1299.65 564.011,1302.65 566.069,1305.62 568.128,1308.55 570.186,1311.44 572.244,1314.29 574.303,1317.1 576.361,1319.87 578.42,1322.61 580.478,1325.3 582.536,1327.96 584.595,1330.58 586.653,1333.16 588.712,1335.71 590.77,1338.22 592.828,1340.69 594.887,1343.13 596.945,1345.53 599.004,1347.89 601.062,1350.22 603.12,1352.52 605.179,1354.78 607.237,1357 609.296,1359.19 611.354,1361.35 613.412,1363.47 615.471,1365.56 617.529,1367.61 619.587,1369.63 621.646,1371.62 623.704,1373.58 625.763,1375.5 627.821,1377.4 629.879,1379.26 631.938,1381.08 633.996,1382.88 636.055,1384.65 638.113,1386.38 640.171,1388.09 642.23,1389.76 644.288,1391.41 646.347,1393.02 648.405,1394.61 650.463,1396.16 652.522,1397.69 654.58,1399.19 656.639,1400.65 658.697,1402.09 660.755,1403.51 662.814,1404.89 664.872,1406.25 666.931,1407.58 668.989,1408.88 671.047,1410.15 673.106,1411.4 675.164,1412.62 677.223,1413.82 679.281,1414.99 681.339,1416.13 683.398,1417.25 685.456,1418.34 687.515,1419.41 689.573,1420.45 691.631,1421.47 693.69,1422.46 695.748,1423.43 697.806,1424.37 699.865,1425.29 701.923,1426.19 703.982,1427.07 706.04,1427.92 708.098,1428.74 710.157,1429.55 712.215,1430.33 714.274,1431.09 716.332,1431.83 718.39,1432.55 720.449,1433.24 722.507,1433.92 724.566,1434.57 726.624,1435.2 728.682,1435.81 730.741,1436.4 732.799,1436.97 734.858,1437.52 736.916,1438.05 738.974,1438.56 741.033,1439.06 743.091,1439.53 745.15,1439.98 747.208,1440.41 749.266,1440.83 751.325,1441.22 753.383,1441.6 755.442,1441.96 757.5,1442.31 759.558,1442.63 761.617,1442.94 763.675,1443.23 765.734,1443.5 767.792,1443.76 769.85,1444 771.909,1444.22 773.967,1444.42 776.025,1444.62 778.084,1444.79 780.142,1444.95 782.201,1445.09 784.259,1445.22 786.317,1445.33 788.376,1445.43 790.434,1445.51 792.493,1445.58 794.551,1445.64 796.609,1445.68 798.668,1445.7 800.726,1445.72 802.785,1445.71 804.843,1445.7 806.901,1445.67 808.96,1445.63 811.018,1445.58 813.077,1445.51 815.135,1445.43 817.193,1445.34 819.252,1445.23 821.31,1445.12 823.369,1444.99 825.427,1444.85 827.485,1444.7 829.544,1444.54 831.602,1444.36 833.661,1444.18 835.719,1443.98 837.777,1443.77 839.836,1443.56 841.894,1443.33 843.953,1443.09 846.011,1442.85 848.069,1442.59 850.128,1442.32 852.186,1442.05 854.244,1441.76 856.303,1441.47 858.361,1441.16 860.42,1440.85 862.478,1440.53 864.536,1440.2 866.595,1439.86 868.653,1439.51 870.712,1439.16 872.77,1438.8 874.828,1438.43 876.887,1438.05 878.945,1437.66 881.004,1437.27 883.062,1436.87 885.12,1436.46 887.179,1436.05 889.237,1435.63 891.296,1435.2 893.354,1434.77 895.412,1434.33 897.471,1433.88 899.529,1433.43 901.588,1432.97 903.646,1432.51 905.704,1432.04 907.763,1431.57 909.821,1431.09 911.88,1430.6 913.938,1430.12 915.996,1429.62 918.055,1429.12 920.113,1428.62 922.172,1428.11 924.23,1427.6 926.288,1427.08 928.347,1426.56 930.405,1426.04 932.463,1425.51 934.522,1424.98 936.58,1424.44 938.639,1423.9 940.697,1423.36 942.755,1422.82 944.814,1422.27 946.872,1421.72 948.931,1421.16 950.989,1420.61 953.047,1420.05 955.106,1419.49 957.164,1418.92 959.223,1418.36 961.281,1417.79 963.339,1417.22 965.398,1416.65 967.456,1416.08 969.515,1415.5 971.573,1414.92 973.631,1414.35 975.69,1413.77 977.748,1413.19 979.807,1412.61 981.865,1412.03 983.923,1411.45 985.982,1410.86 988.04,1410.28 990.099,1409.7 992.157,1409.11 994.215,1408.53 996.274,1407.94 998.332,1407.36 1000.39,1406.78 1002.45,1406.19 1004.51,1405.61 1006.57,1405.02 1008.62,1404.44 1010.68,1403.86 1012.74,1403.28 1014.8,1402.7 1016.86,1402.12 1018.92,1401.54 1020.97,1400.96 1023.03,1400.39 1025.09,1399.81 1027.15,1399.24 1029.21,1398.67 1031.27,1398.1 1033.32,1397.53 1035.38,1396.96 1037.44,1396.39 1039.5,1395.83 1041.56,1395.27 1043.62,1394.71 1045.68,1394.15 1047.73,1393.6 1049.79,1393.05 1051.85,1392.5 1053.91,1391.95 1055.97,1391.41 1058.03,1390.87 1060.08,1390.33 1062.14,1389.79 1064.2,1389.26 1066.26,1388.73 1068.32,1388.2 1070.38,1387.68 1072.43,1387.16 1074.49,1386.64 1076.55,1386.13 1078.61,1385.61 1080.67,1385.11 1082.73,1384.61 1084.78,1384.11 1086.84,1383.61 1088.9,1383.12 1090.96,1382.63 1093.02,1382.15 1095.08,1381.67 1097.14,1381.19 1099.19,1380.72 1101.25,1380.25 1103.31,1379.79 1105.37,1379.33 1107.43,1378.88 1109.49,1378.43 1111.54,1377.98 1113.6,1377.54 1115.66,1377.11 1117.72,1376.68 1119.78,1376.25 1121.84,1375.83 1123.89,1375.41 1125.95,1375 1128.01,1374.59 1130.07,1374.19 1132.13,1373.8 1134.19,1373.4 1136.24,1373.02 1138.3,1372.64 1140.36,1372.26 1142.42,1371.89 1144.48,1371.53 1146.54,1371.17 1148.59,1370.82 1150.65,1370.47 1152.71,1370.12 1154.77,1369.79 1156.83,1369.46 1158.89,1369.13 1160.95,1368.81 1163,1368.5 1165.06,1368.19 1167.12,1367.89 1169.18,1367.59 1171.24,1367.3 1173.3,1367.02 1175.35,1366.74 1177.41,1366.47 1179.47,1366.2 1181.53,1365.94 1183.59,1365.69 1185.65,1365.44 1187.7,1365.2 1189.76,1364.97 1191.82,1364.74 1193.88,1364.51 1195.94,1364.3 1198,1364.09 1200.05,1363.89 1202.11,1363.69 1204.17,1363.5 1206.23,1363.31 1208.29,1363.14 1210.35,1362.97 1212.41,1362.8 1214.46,1362.64 1216.52,1362.49 1218.58,1362.35 1220.64,1362.21 1222.7,1362.08 1224.76,1361.95 1226.81,1361.84 1228.87,1361.72 1230.93,1361.62 1232.99,1361.52 1235.05,1361.43 1237.11,1361.35 1239.16,1361.27 1241.22,1361.2 1243.28,1361.13 1245.34,1361.08 1247.4,1361.02 1249.46,1360.98 1251.51,1360.94 1253.57,1360.91 1255.63,1360.89 1257.69,1360.87 1259.75,1360.86 1261.81,1360.86 1263.87,1360.86 1265.92,1360.87 1267.98,1360.89 1270.04,1360.91 1272.1,1360.94 1274.16,1360.98 1276.22,1361.02 1278.27,1361.08 1280.33,1361.13 1282.39,1361.2 1284.45,1361.27 1286.51,1361.35 1288.57,1361.43 1290.62,1361.52 1292.68,1361.62 1294.74,1361.72 1296.8,1361.84 1298.86,1361.95 1300.92,1362.08 1302.97,1362.21 1305.03,1362.35 1307.09,1362.49 1309.15,1362.64 1311.21,1362.8 1313.27,1362.97 1315.32,1363.14 1317.38,1363.31 1319.44,1363.5 1321.5,1363.69 1323.56,1363.89 1325.62,1364.09 1327.68,1364.3 1329.73,1364.51 1331.79,1364.74 1333.85,1364.97 1335.91,1365.2 1337.97,1365.44 1340.03,1365.69 1342.08,1365.94 1344.14,1366.2 1346.2,1366.47 1348.26,1366.74 1350.32,1367.02 1352.38,1367.3 1354.43,1367.59 1356.49,1367.89 1358.55,1368.19 1360.61,1368.5 1362.67,1368.81 1364.73,1369.13 1366.78,1369.46 1368.84,1369.79 1370.9,1370.12 1372.96,1370.47 1375.02,1370.82 1377.08,1371.17 1379.14,1371.53 1381.19,1371.89 1383.25,1372.26 1385.31,1372.64 1387.37,1373.02 1389.43,1373.4 1391.49,1373.8 1393.54,1374.19 1395.6,1374.59 1397.66,1375 1399.72,1375.41 1401.78,1375.83 1403.84,1376.25 1405.89,1376.68 1407.95,1377.11 1410.01,1377.54 1412.07,1377.98 1414.13,1378.43 1416.19,1378.88 1418.24,1379.33 1420.3,1379.79 1422.36,1380.25 1424.42,1380.72 1426.48,1381.19 1428.54,1381.67 1430.6,1382.15 1432.65,1382.63 1434.71,1383.12 1436.77,1383.61 1438.83,1384.11 1440.89,1384.61 1442.95,1385.11 1445,1385.61 1447.06,1386.13 1449.12,1386.64 1451.18,1387.16 1453.24,1387.68 1455.3,1388.2 1457.35,1388.73 1459.41,1389.26 1461.47,1389.79 1463.53,1390.33 1465.59,1390.87 1467.65,1391.41 1469.7,1391.95 1471.76,1392.5 1473.82,1393.05 1475.88,1393.6 1477.94,1394.15 1480,1394.71 1482.05,1395.27 1484.11,1395.83 1486.17,1396.39 1488.23,1396.96 1490.29,1397.53 1492.35,1398.1 1494.41,1398.67 1496.46,1399.24 1498.52,1399.81 1500.58,1400.39 1502.64,1400.96 1504.7,1401.54 1506.76,1402.12 1508.81,1402.7 1510.87,1403.28 1512.93,1403.86 1514.99,1404.44 1517.05,1405.02 1519.11,1405.61 1521.16,1406.19 1523.22,1406.78 1525.28,1407.36 1527.34,1407.94 1529.4,1408.53 1531.46,1409.11 1533.51,1409.7 1535.57,1410.28 1537.63,1410.86 1539.69,1411.45 1541.75,1412.03 1543.81,1412.61 1545.87,1413.19 1547.92,1413.77 1549.98,1414.35 1552.04,1414.92 1554.1,1415.5 1556.16,1416.08 1558.22,1416.65 1560.27,1417.22 1562.33,1417.79 1564.39,1418.36 1566.45,1418.92 1568.51,1419.49 1570.57,1420.05 1572.62,1420.61 1574.68,1421.16 1576.74,1421.72 1578.8,1422.27 1580.86,1422.82 1582.92,1423.36 1584.97,1423.9 1587.03,1424.44 1589.09,1424.98 1591.15,1425.51 1593.21,1426.04 1595.27,1426.56 1597.33,1427.08 1599.38,1427.6 1601.44,1428.11 1603.5,1428.62 1605.56,1429.12 1607.62,1429.62 1609.68,1430.12 1611.73,1430.6 1613.79,1431.09 1615.85,1431.57 1617.91,1432.04 1619.97,1432.51 1622.03,1432.97 1624.08,1433.43 1626.14,1433.88 1628.2,1434.33 1630.26,1434.77 1632.32,1435.2 1634.38,1435.63 1636.43,1436.05 1638.49,1436.46 1640.55,1436.87 1642.61,1437.27 1644.67,1437.66 1646.73,1438.05 1648.78,1438.43 1650.84,1438.8 1652.9,1439.16 1654.96,1439.51 1657.02,1439.86 1659.08,1440.2 1661.14,1440.53 1663.19,1440.85 1665.25,1441.16 1667.31,1441.47 1669.37,1441.76 1671.43,1442.05 1673.49,1442.32 1675.54,1442.59 1677.6,1442.85 1679.66,1443.09 1681.72,1443.33 1683.78,1443.56 1685.84,1443.77 1687.89,1443.98 1689.95,1444.18 1692.01,1444.36 1694.07,1444.54 1696.13,1444.7 1698.19,1444.85 1700.24,1444.99 1702.3,1445.12 1704.36,1445.23 1706.42,1445.34 1708.48,1445.43 1710.54,1445.51 1712.6,1445.58 1714.65,1445.63 1716.71,1445.67 1718.77,1445.7 1720.83,1445.71 1722.89,1445.72 1724.95,1445.7 1727,1445.68 1729.06,1445.64 1731.12,1445.58 1733.18,1445.51 1735.24,1445.43 1737.3,1445.33 1739.35,1445.22 1741.41,1445.09 1743.47,1444.95 1745.53,1444.79 1747.59,1444.62 1749.65,1444.42 1751.7,1444.22 1753.76,1444 1755.82,1443.76 1757.88,1443.5 1759.94,1443.23 1762,1442.94 1764.05,1442.63 1766.11,1442.31 1768.17,1441.96 1770.23,1441.6 1772.29,1441.22 1774.35,1440.83 1776.41,1440.41 1778.46,1439.98 1780.52,1439.53 1782.58,1439.06 1784.64,1438.56 1786.7,1438.05 1788.76,1437.52 1790.81,1436.97 1792.87,1436.4 1794.93,1435.81 1796.99,1435.2 1799.05,1434.57 1801.11,1433.92 1803.16,1433.24 1805.22,1432.55 1807.28,1431.83 1809.34,1431.09 1811.4,1430.33 1813.46,1429.55 1815.51,1428.74 1817.57,1427.92 1819.63,1427.07 1821.69,1426.19 1823.75,1425.29 1825.81,1424.37 1827.87,1423.43 1829.92,1422.46 1831.98,1421.47 1834.04,1420.45 1836.1,1419.41 1838.16,1418.34 1840.22,1417.25 1842.27,1416.13 1844.33,1414.99 1846.39,1413.82 1848.45,1412.62 1850.51,1411.4 1852.57,1410.15 1854.62,1408.88 1856.68,1407.58 1858.74,1406.25 1860.8,1404.89 1862.86,1403.51 1864.92,1402.09 1866.97,1400.65 1869.03,1399.19 1871.09,1397.69 1873.15,1396.16 1875.21,1394.61 1877.27,1393.02 1879.33,1391.41 1881.38,1389.76 1883.44,1388.09 1885.5,1386.38 1887.56,1384.65 1889.62,1382.88 1891.68,1381.08 1893.73,1379.26 1895.79,1377.4 1897.85,1375.5 1899.91,1373.58 1901.97,1371.62 1904.03,1369.63 1906.08,1367.61 1908.14,1365.56 1910.2,1363.47 1912.26,1361.35 1914.32,1359.19 1916.38,1357 1918.43,1354.78 1920.49,1352.52 1922.55,1350.22 1924.61,1347.89 1926.67,1345.53 1928.73,1343.13 1930.78,1340.69 1932.84,1338.22 1934.9,1335.71 1936.96,1333.16 1939.02,1330.58 1941.08,1327.96 1943.14,1325.3 1945.19,1322.61 1947.25,1319.87 1949.31,1317.1 1951.37,1314.29 1953.43,1311.44 1955.49,1308.55 1957.54,1305.62 1959.6,1302.65 1961.66,1299.65 1963.72,1296.6 1965.78,1293.51 1967.84,1290.38 1969.89,1287.21 1971.95,1283.99 1974.01,1280.74 1976.07,1277.44 1978.13,1274.11 1980.19,1270.72 1982.24,1267.3 1984.3,1263.83 1986.36,1260.32 1988.42,1256.77 1990.48,1253.17 1992.54,1249.53 1994.6,1245.84 1996.65,1242.11 1998.71,1238.34 2000.77,1234.51 2002.83,1230.65 2004.89,1226.73 2006.95,1222.77 2009,1218.76 2011.06,1214.71 2013.12,1210.61 2015.18,1206.46 2017.24,1202.27 2019.3,1198.02 2021.35,1193.73 2023.41,1189.39 2025.47,1185 2027.53,1180.56 2029.59,1176.07 2031.65,1171.53 2033.7,1166.94 2035.76,1162.3 2037.82,1157.61 2039.88,1152.87 2041.94,1148.08 2044,1143.23 2046.06,1138.34 2048.11,1133.39 2050.17,1128.39 2052.23,1123.33 2054.29,1118.22 2056.35,1113.06 2058.41,1107.85 2060.46,1102.58 2062.52,1097.25 2064.58,1091.88 2066.64,1086.44 2068.7,1080.95 2070.76,1075.41 2072.81,1069.81 2074.87,1064.15 2076.93,1058.43 2078.99,1052.66 2081.05,1046.83 2083.11,1040.95 2085.16,1035 2087.22,1029 2089.28,1022.93 2091.34,1016.81 2093.4,1010.63 2095.46,1004.39 2097.51,998.093 2099.57,991.733 2101.63,985.312 2103.69,978.829 2105.75,972.286 2107.81,965.681 2109.87,959.013 2111.92,952.284 2113.98,945.492 2116.04,938.636 2118.1,931.718 2120.16,924.735 2122.22,917.689 2124.27,910.578 2126.33,903.403 2128.39,896.162 2130.45,888.856 2132.51,881.484 2134.57,874.047 2136.62,866.542 2138.68,858.971 2140.74,851.333 2142.8,843.627 2144.86,835.854 2146.92,828.012 2148.97,820.102 2151.03,812.123 2153.09,804.075 2155.15,795.957 2157.21,787.769 2159.27,779.511 2161.33,771.182 2163.38,762.783 2165.44,754.312 2167.5,745.769 2169.56,737.154 2171.62,728.467 2173.68,719.707 2175.73,710.874 2177.79,701.967 2179.85,692.986 2181.91,683.931 2183.97,674.802 2186.03,665.598 2188.08,656.318 2190.14,646.963 2192.2,637.531 2194.26,628.023 2196.32,618.439 2198.38,608.777 2200.43,599.037 2202.49,589.22 2204.55,579.324 2206.61,569.35 2208.67,559.297 2210.73,549.164 2212.79,538.952 2214.84,528.659 2216.9,518.286 2218.96,507.832 2221.02,497.297 2223.08,486.68 2225.14,475.981 2227.19,465.199 2229.25,454.335 2231.31,443.388 2233.37,432.357 2235.43,421.242 2237.49,410.042 2239.54,398.758 2241.6,387.389 2243.66,375.935 2245.72,364.394 2247.78,352.767 2249.84,341.054 2251.89,329.253 2253.95,317.365 2256.01,305.389 2258.07,293.325 2260.13,281.173 2262.19,268.931 2264.24,256.6 2266.3,244.179 2268.36,231.668 2270.42,219.066 2272.48,206.373 2274.54,193.589 2276.6,180.713 2278.65,167.745 2280.71,154.684 2282.77,141.53 2284.83,128.283 2286.89,114.942 2288.95,101.506 2291,87.9763 \"/>\n",
       "<path clip-path=\"url(#clip350)\" d=\"M2009.41 198.898 L2280.03 198.898 L2280.03 95.2176 L2009.41 95.2176  Z\" fill=\"#ffffff\" fill-rule=\"evenodd\" fill-opacity=\"1\"/>\n",
       "<polyline clip-path=\"url(#clip350)\" style=\"stroke:#000000; stroke-linecap:round; stroke-linejoin:round; stroke-width:4; stroke-opacity:1; fill:none\" points=\"2009.41,198.898 2280.03,198.898 2280.03,95.2176 2009.41,95.2176 2009.41,198.898 \"/>\n",
       "<polyline clip-path=\"url(#clip350)\" style=\"stroke:#009af9; stroke-linecap:round; stroke-linejoin:round; stroke-width:4; stroke-opacity:1; fill:none\" points=\"2033.65,147.058 2179.11,147.058 \"/>\n",
       "<path clip-path=\"url(#clip350)\" d=\"M2217.19 166.745 Q2215.39 171.375 2213.68 172.787 Q2211.96 174.199 2209.09 174.199 L2205.69 174.199 L2205.69 170.634 L2208.19 170.634 Q2209.95 170.634 2210.92 169.8 Q2211.89 168.967 2213.07 165.865 L2213.84 163.921 L2203.35 138.412 L2207.87 138.412 L2215.97 158.689 L2224.07 138.412 L2228.58 138.412 L2217.19 166.745 Z\" fill=\"#000000\" fill-rule=\"nonzero\" fill-opacity=\"1\" /><path clip-path=\"url(#clip350)\" d=\"M2235.88 160.402 L2243.51 160.402 L2243.51 134.037 L2235.2 135.703 L2235.2 131.444 L2243.47 129.778 L2248.14 129.778 L2248.14 160.402 L2255.78 160.402 L2255.78 164.338 L2235.88 164.338 L2235.88 160.402 Z\" fill=\"#000000\" fill-rule=\"nonzero\" fill-opacity=\"1\" /></svg>\n"
      ],
      "text/html": [
       "<?xml version=\"1.0\" encoding=\"utf-8\"?>\n",
       "<svg xmlns=\"http://www.w3.org/2000/svg\" xmlns:xlink=\"http://www.w3.org/1999/xlink\" width=\"600\" height=\"400\" viewBox=\"0 0 2400 1600\">\n",
       "<defs>\n",
       "  <clipPath id=\"clip400\">\n",
       "    <rect x=\"0\" y=\"0\" width=\"2400\" height=\"1600\"/>\n",
       "  </clipPath>\n",
       "</defs>\n",
       "<path clip-path=\"url(#clip400)\" d=\"M0 1600 L2400 1600 L2400 0 L0 0  Z\" fill=\"#ffffff\" fill-rule=\"evenodd\" fill-opacity=\"1\"/>\n",
       "<defs>\n",
       "  <clipPath id=\"clip401\">\n",
       "    <rect x=\"480\" y=\"0\" width=\"1681\" height=\"1600\"/>\n",
       "  </clipPath>\n",
       "</defs>\n",
       "<path clip-path=\"url(#clip400)\" d=\"M170.857 1486.45 L2352.76 1486.45 L2352.76 47.2441 L170.857 47.2441  Z\" fill=\"#ffffff\" fill-rule=\"evenodd\" fill-opacity=\"1\"/>\n",
       "<defs>\n",
       "  <clipPath id=\"clip402\">\n",
       "    <rect x=\"170\" y=\"47\" width=\"2183\" height=\"1440\"/>\n",
       "  </clipPath>\n",
       "</defs>\n",
       "<polyline clip-path=\"url(#clip402)\" style=\"stroke:#000000; stroke-linecap:round; stroke-linejoin:round; stroke-width:2; stroke-opacity:0.1; fill:none\" points=\"438.449,1486.45 438.449,47.2441 \"/>\n",
       "<polyline clip-path=\"url(#clip402)\" style=\"stroke:#000000; stroke-linecap:round; stroke-linejoin:round; stroke-width:2; stroke-opacity:0.1; fill:none\" points=\"850.128,1486.45 850.128,47.2441 \"/>\n",
       "<polyline clip-path=\"url(#clip402)\" style=\"stroke:#000000; stroke-linecap:round; stroke-linejoin:round; stroke-width:2; stroke-opacity:0.1; fill:none\" points=\"1261.81,1486.45 1261.81,47.2441 \"/>\n",
       "<polyline clip-path=\"url(#clip402)\" style=\"stroke:#000000; stroke-linecap:round; stroke-linejoin:round; stroke-width:2; stroke-opacity:0.1; fill:none\" points=\"1673.49,1486.45 1673.49,47.2441 \"/>\n",
       "<polyline clip-path=\"url(#clip402)\" style=\"stroke:#000000; stroke-linecap:round; stroke-linejoin:round; stroke-width:2; stroke-opacity:0.1; fill:none\" points=\"2085.16,1486.45 2085.16,47.2441 \"/>\n",
       "<polyline clip-path=\"url(#clip400)\" style=\"stroke:#000000; stroke-linecap:round; stroke-linejoin:round; stroke-width:4; stroke-opacity:1; fill:none\" points=\"170.857,1486.45 2352.76,1486.45 \"/>\n",
       "<polyline clip-path=\"url(#clip400)\" style=\"stroke:#000000; stroke-linecap:round; stroke-linejoin:round; stroke-width:4; stroke-opacity:1; fill:none\" points=\"438.449,1486.45 438.449,1467.55 \"/>\n",
       "<polyline clip-path=\"url(#clip400)\" style=\"stroke:#000000; stroke-linecap:round; stroke-linejoin:round; stroke-width:4; stroke-opacity:1; fill:none\" points=\"850.128,1486.45 850.128,1467.55 \"/>\n",
       "<polyline clip-path=\"url(#clip400)\" style=\"stroke:#000000; stroke-linecap:round; stroke-linejoin:round; stroke-width:4; stroke-opacity:1; fill:none\" points=\"1261.81,1486.45 1261.81,1467.55 \"/>\n",
       "<polyline clip-path=\"url(#clip400)\" style=\"stroke:#000000; stroke-linecap:round; stroke-linejoin:round; stroke-width:4; stroke-opacity:1; fill:none\" points=\"1673.49,1486.45 1673.49,1467.55 \"/>\n",
       "<polyline clip-path=\"url(#clip400)\" style=\"stroke:#000000; stroke-linecap:round; stroke-linejoin:round; stroke-width:4; stroke-opacity:1; fill:none\" points=\"2085.16,1486.45 2085.16,1467.55 \"/>\n",
       "<path clip-path=\"url(#clip400)\" d=\"M407.349 1532.02 L437.025 1532.02 L437.025 1535.95 L407.349 1535.95 L407.349 1532.02 Z\" fill=\"#000000\" fill-rule=\"nonzero\" fill-opacity=\"1\" /><path clip-path=\"url(#clip400)\" d=\"M459.965 1518.36 L448.159 1536.81 L459.965 1536.81 L459.965 1518.36 M458.738 1514.29 L464.618 1514.29 L464.618 1536.81 L469.548 1536.81 L469.548 1540.7 L464.618 1540.7 L464.618 1548.85 L459.965 1548.85 L459.965 1540.7 L444.363 1540.7 L444.363 1536.19 L458.738 1514.29 Z\" fill=\"#000000\" fill-rule=\"nonzero\" fill-opacity=\"1\" /><path clip-path=\"url(#clip400)\" d=\"M820.07 1532.02 L849.746 1532.02 L849.746 1535.95 L820.07 1535.95 L820.07 1532.02 Z\" fill=\"#000000\" fill-rule=\"nonzero\" fill-opacity=\"1\" /><path clip-path=\"url(#clip400)\" d=\"M863.866 1544.91 L880.185 1544.91 L880.185 1548.85 L858.241 1548.85 L858.241 1544.91 Q860.903 1542.16 865.486 1537.53 Q870.093 1532.88 871.273 1531.53 Q873.519 1529.01 874.398 1527.27 Q875.301 1525.51 875.301 1523.82 Q875.301 1521.07 873.357 1519.33 Q871.435 1517.6 868.334 1517.6 Q866.135 1517.6 863.681 1518.36 Q861.25 1519.13 858.473 1520.68 L858.473 1515.95 Q861.297 1514.82 863.75 1514.24 Q866.204 1513.66 868.241 1513.66 Q873.611 1513.66 876.806 1516.35 Q880 1519.03 880 1523.52 Q880 1525.65 879.19 1527.57 Q878.403 1529.47 876.297 1532.07 Q875.718 1532.74 872.616 1535.95 Q869.514 1539.15 863.866 1544.91 Z\" fill=\"#000000\" fill-rule=\"nonzero\" fill-opacity=\"1\" /><path clip-path=\"url(#clip400)\" d=\"M1261.81 1517.37 Q1258.2 1517.37 1256.37 1520.93 Q1254.56 1524.47 1254.56 1531.6 Q1254.56 1538.71 1256.37 1542.27 Q1258.2 1545.82 1261.81 1545.82 Q1265.44 1545.82 1267.25 1542.27 Q1269.08 1538.71 1269.08 1531.6 Q1269.08 1524.47 1267.25 1520.93 Q1265.44 1517.37 1261.81 1517.37 M1261.81 1513.66 Q1267.62 1513.66 1270.67 1518.27 Q1273.75 1522.85 1273.75 1531.6 Q1273.75 1540.33 1270.67 1544.94 Q1267.62 1549.52 1261.81 1549.52 Q1256 1549.52 1252.92 1544.94 Q1249.86 1540.33 1249.86 1531.6 Q1249.86 1522.85 1252.92 1518.27 Q1256 1513.66 1261.81 1513.66 Z\" fill=\"#000000\" fill-rule=\"nonzero\" fill-opacity=\"1\" /><path clip-path=\"url(#clip400)\" d=\"M1668.14 1544.91 L1684.46 1544.91 L1684.46 1548.85 L1662.51 1548.85 L1662.51 1544.91 Q1665.18 1542.16 1669.76 1537.53 Q1674.37 1532.88 1675.55 1531.53 Q1677.79 1529.01 1678.67 1527.27 Q1679.57 1525.51 1679.57 1523.82 Q1679.57 1521.07 1677.63 1519.33 Q1675.71 1517.6 1672.61 1517.6 Q1670.41 1517.6 1667.95 1518.36 Q1665.52 1519.13 1662.74 1520.68 L1662.74 1515.95 Q1665.57 1514.82 1668.02 1514.24 Q1670.48 1513.66 1672.51 1513.66 Q1677.88 1513.66 1681.08 1516.35 Q1684.27 1519.03 1684.27 1523.52 Q1684.27 1525.65 1683.46 1527.57 Q1682.68 1529.47 1680.57 1532.07 Q1679.99 1532.74 1676.89 1535.95 Q1673.79 1539.15 1668.14 1544.91 Z\" fill=\"#000000\" fill-rule=\"nonzero\" fill-opacity=\"1\" /><path clip-path=\"url(#clip400)\" d=\"M2088.17 1518.36 L2076.37 1536.81 L2088.17 1536.81 L2088.17 1518.36 M2086.95 1514.29 L2092.83 1514.29 L2092.83 1536.81 L2097.76 1536.81 L2097.76 1540.7 L2092.83 1540.7 L2092.83 1548.85 L2088.17 1548.85 L2088.17 1540.7 L2072.57 1540.7 L2072.57 1536.19 L2086.95 1514.29 Z\" fill=\"#000000\" fill-rule=\"nonzero\" fill-opacity=\"1\" /><polyline clip-path=\"url(#clip402)\" style=\"stroke:#000000; stroke-linecap:round; stroke-linejoin:round; stroke-width:2; stroke-opacity:0.1; fill:none\" points=\"170.857,1391.41 2352.76,1391.41 \"/>\n",
       "<polyline clip-path=\"url(#clip402)\" style=\"stroke:#000000; stroke-linecap:round; stroke-linejoin:round; stroke-width:2; stroke-opacity:0.1; fill:none\" points=\"170.857,1051.97 2352.76,1051.97 \"/>\n",
       "<polyline clip-path=\"url(#clip402)\" style=\"stroke:#000000; stroke-linecap:round; stroke-linejoin:round; stroke-width:2; stroke-opacity:0.1; fill:none\" points=\"170.857,712.537 2352.76,712.537 \"/>\n",
       "<polyline clip-path=\"url(#clip402)\" style=\"stroke:#000000; stroke-linecap:round; stroke-linejoin:round; stroke-width:2; stroke-opacity:0.1; fill:none\" points=\"170.857,373.102 2352.76,373.102 \"/>\n",
       "<polyline clip-path=\"url(#clip400)\" style=\"stroke:#000000; stroke-linecap:round; stroke-linejoin:round; stroke-width:4; stroke-opacity:1; fill:none\" points=\"170.857,1486.45 170.857,47.2441 \"/>\n",
       "<polyline clip-path=\"url(#clip400)\" style=\"stroke:#000000; stroke-linecap:round; stroke-linejoin:round; stroke-width:4; stroke-opacity:1; fill:none\" points=\"170.857,1391.41 189.755,1391.41 \"/>\n",
       "<polyline clip-path=\"url(#clip400)\" style=\"stroke:#000000; stroke-linecap:round; stroke-linejoin:round; stroke-width:4; stroke-opacity:1; fill:none\" points=\"170.857,1051.97 189.755,1051.97 \"/>\n",
       "<polyline clip-path=\"url(#clip400)\" style=\"stroke:#000000; stroke-linecap:round; stroke-linejoin:round; stroke-width:4; stroke-opacity:1; fill:none\" points=\"170.857,712.537 189.755,712.537 \"/>\n",
       "<polyline clip-path=\"url(#clip400)\" style=\"stroke:#000000; stroke-linecap:round; stroke-linejoin:round; stroke-width:4; stroke-opacity:1; fill:none\" points=\"170.857,373.102 189.755,373.102 \"/>\n",
       "<path clip-path=\"url(#clip400)\" d=\"M122.913 1377.21 Q119.302 1377.21 117.473 1380.77 Q115.668 1384.31 115.668 1391.44 Q115.668 1398.55 117.473 1402.11 Q119.302 1405.65 122.913 1405.65 Q126.547 1405.65 128.353 1402.11 Q130.182 1398.55 130.182 1391.44 Q130.182 1384.31 128.353 1380.77 Q126.547 1377.21 122.913 1377.21 M122.913 1373.5 Q128.723 1373.5 131.779 1378.11 Q134.857 1382.69 134.857 1391.44 Q134.857 1400.17 131.779 1404.78 Q128.723 1409.36 122.913 1409.36 Q117.103 1409.36 114.024 1404.78 Q110.969 1400.17 110.969 1391.44 Q110.969 1382.69 114.024 1378.11 Q117.103 1373.5 122.913 1373.5 Z\" fill=\"#000000\" fill-rule=\"nonzero\" fill-opacity=\"1\" /><path clip-path=\"url(#clip400)\" d=\"M53.3995 1065.32 L61.0384 1065.32 L61.0384 1038.95 L52.7282 1040.62 L52.7282 1036.36 L60.9921 1034.69 L65.668 1034.69 L65.668 1065.32 L73.3068 1065.32 L73.3068 1069.25 L53.3995 1069.25 L53.3995 1065.32 Z\" fill=\"#000000\" fill-rule=\"nonzero\" fill-opacity=\"1\" /><path clip-path=\"url(#clip400)\" d=\"M92.7512 1037.77 Q89.1401 1037.77 87.3114 1041.34 Q85.5058 1044.88 85.5058 1052.01 Q85.5058 1059.11 87.3114 1062.68 Q89.1401 1066.22 92.7512 1066.22 Q96.3854 1066.22 98.1909 1062.68 Q100.02 1059.11 100.02 1052.01 Q100.02 1044.88 98.1909 1041.34 Q96.3854 1037.77 92.7512 1037.77 M92.7512 1034.07 Q98.5613 1034.07 101.617 1038.67 Q104.696 1043.26 104.696 1052.01 Q104.696 1060.73 101.617 1065.34 Q98.5613 1069.92 92.7512 1069.92 Q86.941 1069.92 83.8623 1065.34 Q80.8068 1060.73 80.8068 1052.01 Q80.8068 1043.26 83.8623 1038.67 Q86.941 1034.07 92.7512 1034.07 Z\" fill=\"#000000\" fill-rule=\"nonzero\" fill-opacity=\"1\" /><path clip-path=\"url(#clip400)\" d=\"M122.913 1037.77 Q119.302 1037.77 117.473 1041.34 Q115.668 1044.88 115.668 1052.01 Q115.668 1059.11 117.473 1062.68 Q119.302 1066.22 122.913 1066.22 Q126.547 1066.22 128.353 1062.68 Q130.182 1059.11 130.182 1052.01 Q130.182 1044.88 128.353 1041.34 Q126.547 1037.77 122.913 1037.77 M122.913 1034.07 Q128.723 1034.07 131.779 1038.67 Q134.857 1043.26 134.857 1052.01 Q134.857 1060.73 131.779 1065.34 Q128.723 1069.92 122.913 1069.92 Q117.103 1069.92 114.024 1065.34 Q110.969 1060.73 110.969 1052.01 Q110.969 1043.26 114.024 1038.67 Q117.103 1034.07 122.913 1034.07 Z\" fill=\"#000000\" fill-rule=\"nonzero\" fill-opacity=\"1\" /><path clip-path=\"url(#clip400)\" d=\"M56.6171 725.882 L72.9365 725.882 L72.9365 729.817 L50.9921 729.817 L50.9921 725.882 Q53.6541 723.127 58.2375 718.498 Q62.8439 713.845 64.0245 712.502 Q66.2698 709.979 67.1494 708.243 Q68.0522 706.484 68.0522 704.794 Q68.0522 702.039 66.1078 700.303 Q64.1865 698.567 61.0847 698.567 Q58.8856 698.567 56.4319 699.331 Q54.0014 700.095 51.2236 701.646 L51.2236 696.924 Q54.0477 695.789 56.5014 695.211 Q58.955 694.632 60.9921 694.632 Q66.3624 694.632 69.5568 697.317 Q72.7513 700.002 72.7513 704.493 Q72.7513 706.623 71.9411 708.544 Q71.1541 710.442 69.0476 713.035 Q68.4689 713.706 65.367 716.923 Q62.2652 720.118 56.6171 725.882 Z\" fill=\"#000000\" fill-rule=\"nonzero\" fill-opacity=\"1\" /><path clip-path=\"url(#clip400)\" d=\"M92.7512 698.336 Q89.1401 698.336 87.3114 701.9 Q85.5058 705.442 85.5058 712.572 Q85.5058 719.678 87.3114 723.243 Q89.1401 726.785 92.7512 726.785 Q96.3854 726.785 98.1909 723.243 Q100.02 719.678 100.02 712.572 Q100.02 705.442 98.1909 701.9 Q96.3854 698.336 92.7512 698.336 M92.7512 694.632 Q98.5613 694.632 101.617 699.238 Q104.696 703.822 104.696 712.572 Q104.696 721.298 101.617 725.905 Q98.5613 730.488 92.7512 730.488 Q86.941 730.488 83.8623 725.905 Q80.8068 721.298 80.8068 712.572 Q80.8068 703.822 83.8623 699.238 Q86.941 694.632 92.7512 694.632 Z\" fill=\"#000000\" fill-rule=\"nonzero\" fill-opacity=\"1\" /><path clip-path=\"url(#clip400)\" d=\"M122.913 698.336 Q119.302 698.336 117.473 701.9 Q115.668 705.442 115.668 712.572 Q115.668 719.678 117.473 723.243 Q119.302 726.785 122.913 726.785 Q126.547 726.785 128.353 723.243 Q130.182 719.678 130.182 712.572 Q130.182 705.442 128.353 701.9 Q126.547 698.336 122.913 698.336 M122.913 694.632 Q128.723 694.632 131.779 699.238 Q134.857 703.822 134.857 712.572 Q134.857 721.298 131.779 725.905 Q128.723 730.488 122.913 730.488 Q117.103 730.488 114.024 725.905 Q110.969 721.298 110.969 712.572 Q110.969 703.822 114.024 699.238 Q117.103 694.632 122.913 694.632 Z\" fill=\"#000000\" fill-rule=\"nonzero\" fill-opacity=\"1\" /><path clip-path=\"url(#clip400)\" d=\"M66.7559 371.748 Q70.1124 372.465 71.9874 374.734 Q73.8855 377.002 73.8855 380.336 Q73.8855 385.451 70.367 388.252 Q66.8485 391.053 60.3671 391.053 Q58.1912 391.053 55.8764 390.613 Q53.5847 390.197 51.131 389.34 L51.131 384.826 Q53.0754 385.961 55.3903 386.539 Q57.7051 387.118 60.2282 387.118 Q64.6263 387.118 66.918 385.382 Q69.2328 383.646 69.2328 380.336 Q69.2328 377.28 67.08 375.567 Q64.9504 373.831 61.131 373.831 L57.1032 373.831 L57.1032 369.988 L61.3161 369.988 Q64.7652 369.988 66.5939 368.623 Q68.4226 367.234 68.4226 364.641 Q68.4226 361.979 66.5245 360.567 Q64.6495 359.132 61.131 359.132 Q59.2097 359.132 57.0106 359.549 Q54.8115 359.965 52.1727 360.845 L52.1727 356.678 Q54.8347 355.938 57.1495 355.567 Q59.4875 355.197 61.5476 355.197 Q66.8717 355.197 69.9735 357.627 Q73.0753 360.035 73.0753 364.155 Q73.0753 367.025 71.4318 369.016 Q69.7883 370.984 66.7559 371.748 Z\" fill=\"#000000\" fill-rule=\"nonzero\" fill-opacity=\"1\" /><path clip-path=\"url(#clip400)\" d=\"M92.7512 358.9 Q89.1401 358.9 87.3114 362.465 Q85.5058 366.007 85.5058 373.136 Q85.5058 380.243 87.3114 383.808 Q89.1401 387.349 92.7512 387.349 Q96.3854 387.349 98.1909 383.808 Q100.02 380.243 100.02 373.136 Q100.02 366.007 98.1909 362.465 Q96.3854 358.9 92.7512 358.9 M92.7512 355.197 Q98.5613 355.197 101.617 359.803 Q104.696 364.387 104.696 373.136 Q104.696 381.863 101.617 386.47 Q98.5613 391.053 92.7512 391.053 Q86.941 391.053 83.8623 386.47 Q80.8068 381.863 80.8068 373.136 Q80.8068 364.387 83.8623 359.803 Q86.941 355.197 92.7512 355.197 Z\" fill=\"#000000\" fill-rule=\"nonzero\" fill-opacity=\"1\" /><path clip-path=\"url(#clip400)\" d=\"M122.913 358.9 Q119.302 358.9 117.473 362.465 Q115.668 366.007 115.668 373.136 Q115.668 380.243 117.473 383.808 Q119.302 387.349 122.913 387.349 Q126.547 387.349 128.353 383.808 Q130.182 380.243 130.182 373.136 Q130.182 366.007 128.353 362.465 Q126.547 358.9 122.913 358.9 M122.913 355.197 Q128.723 355.197 131.779 359.803 Q134.857 364.387 134.857 373.136 Q134.857 381.863 131.779 386.47 Q128.723 391.053 122.913 391.053 Q117.103 391.053 114.024 386.47 Q110.969 381.863 110.969 373.136 Q110.969 364.387 114.024 359.803 Q117.103 355.197 122.913 355.197 Z\" fill=\"#000000\" fill-rule=\"nonzero\" fill-opacity=\"1\" /><polyline clip-path=\"url(#clip402)\" style=\"stroke:#009af9; stroke-linecap:round; stroke-linejoin:round; stroke-width:4; stroke-opacity:1; fill:none\" points=\"232.609,87.9763 234.668,101.506 236.726,114.942 238.784,128.283 240.843,141.53 242.901,154.684 244.96,167.745 247.018,180.713 249.076,193.589 251.135,206.373 253.193,219.066 255.252,231.668 257.31,244.179 259.368,256.6 261.427,268.931 263.485,281.173 265.544,293.325 267.602,305.389 269.66,317.365 271.719,329.253 273.777,341.054 275.836,352.767 277.894,364.394 279.952,375.935 282.011,387.389 284.069,398.758 286.128,410.042 288.186,421.242 290.244,432.357 292.303,443.388 294.361,454.335 296.42,465.199 298.478,475.981 300.536,486.68 302.595,497.297 304.653,507.832 306.711,518.286 308.77,528.659 310.828,538.952 312.887,549.164 314.945,559.297 317.003,569.35 319.062,579.324 321.12,589.22 323.179,599.037 325.237,608.777 327.295,618.439 329.354,628.023 331.412,637.531 333.471,646.963 335.529,656.318 337.587,665.598 339.646,674.802 341.704,683.931 343.763,692.986 345.821,701.967 347.879,710.874 349.938,719.707 351.996,728.467 354.055,737.154 356.113,745.769 358.171,754.312 360.23,762.783 362.288,771.182 364.347,779.511 366.405,787.769 368.463,795.957 370.522,804.075 372.58,812.123 374.639,820.102 376.697,828.012 378.755,835.854 380.814,843.627 382.872,851.333 384.93,858.971 386.989,866.542 389.047,874.047 391.106,881.484 393.164,888.856 395.222,896.162 397.281,903.403 399.339,910.578 401.398,917.689 403.456,924.735 405.514,931.718 407.573,938.636 409.631,945.492 411.69,952.284 413.748,959.013 415.806,965.681 417.865,972.286 419.923,978.829 421.982,985.312 424.04,991.733 426.098,998.093 428.157,1004.39 430.215,1010.63 432.274,1016.81 434.332,1022.93 436.39,1029 438.449,1035 440.507,1040.95 442.566,1046.83 444.624,1052.66 446.682,1058.43 448.741,1064.15 450.799,1069.81 452.858,1075.41 454.916,1080.95 456.974,1086.44 459.033,1091.88 461.091,1097.25 463.149,1102.58 465.208,1107.85 467.266,1113.06 469.325,1118.22 471.383,1123.33 473.441,1128.39 475.5,1133.39 477.558,1138.34 479.617,1143.23 481.675,1148.08 483.733,1152.87 485.792,1157.61 487.85,1162.3 489.909,1166.94 491.967,1171.53 494.025,1176.07 496.084,1180.56 498.142,1185 500.201,1189.39 502.259,1193.73 504.317,1198.02 506.376,1202.27 508.434,1206.46 510.493,1210.61 512.551,1214.71 514.609,1218.76 516.668,1222.77 518.726,1226.73 520.785,1230.65 522.843,1234.51 524.901,1238.34 526.96,1242.11 529.018,1245.84 531.077,1249.53 533.135,1253.17 535.193,1256.77 537.252,1260.32 539.31,1263.83 541.368,1267.3 543.427,1270.72 545.485,1274.11 547.544,1277.44 549.602,1280.74 551.66,1283.99 553.719,1287.21 555.777,1290.38 557.836,1293.51 559.894,1296.6 561.952,1299.65 564.011,1302.65 566.069,1305.62 568.128,1308.55 570.186,1311.44 572.244,1314.29 574.303,1317.1 576.361,1319.87 578.42,1322.61 580.478,1325.3 582.536,1327.96 584.595,1330.58 586.653,1333.16 588.712,1335.71 590.77,1338.22 592.828,1340.69 594.887,1343.13 596.945,1345.53 599.004,1347.89 601.062,1350.22 603.12,1352.52 605.179,1354.78 607.237,1357 609.296,1359.19 611.354,1361.35 613.412,1363.47 615.471,1365.56 617.529,1367.61 619.587,1369.63 621.646,1371.62 623.704,1373.58 625.763,1375.5 627.821,1377.4 629.879,1379.26 631.938,1381.08 633.996,1382.88 636.055,1384.65 638.113,1386.38 640.171,1388.09 642.23,1389.76 644.288,1391.41 646.347,1393.02 648.405,1394.61 650.463,1396.16 652.522,1397.69 654.58,1399.19 656.639,1400.65 658.697,1402.09 660.755,1403.51 662.814,1404.89 664.872,1406.25 666.931,1407.58 668.989,1408.88 671.047,1410.15 673.106,1411.4 675.164,1412.62 677.223,1413.82 679.281,1414.99 681.339,1416.13 683.398,1417.25 685.456,1418.34 687.515,1419.41 689.573,1420.45 691.631,1421.47 693.69,1422.46 695.748,1423.43 697.806,1424.37 699.865,1425.29 701.923,1426.19 703.982,1427.07 706.04,1427.92 708.098,1428.74 710.157,1429.55 712.215,1430.33 714.274,1431.09 716.332,1431.83 718.39,1432.55 720.449,1433.24 722.507,1433.92 724.566,1434.57 726.624,1435.2 728.682,1435.81 730.741,1436.4 732.799,1436.97 734.858,1437.52 736.916,1438.05 738.974,1438.56 741.033,1439.06 743.091,1439.53 745.15,1439.98 747.208,1440.41 749.266,1440.83 751.325,1441.22 753.383,1441.6 755.442,1441.96 757.5,1442.31 759.558,1442.63 761.617,1442.94 763.675,1443.23 765.734,1443.5 767.792,1443.76 769.85,1444 771.909,1444.22 773.967,1444.42 776.025,1444.62 778.084,1444.79 780.142,1444.95 782.201,1445.09 784.259,1445.22 786.317,1445.33 788.376,1445.43 790.434,1445.51 792.493,1445.58 794.551,1445.64 796.609,1445.68 798.668,1445.7 800.726,1445.72 802.785,1445.71 804.843,1445.7 806.901,1445.67 808.96,1445.63 811.018,1445.58 813.077,1445.51 815.135,1445.43 817.193,1445.34 819.252,1445.23 821.31,1445.12 823.369,1444.99 825.427,1444.85 827.485,1444.7 829.544,1444.54 831.602,1444.36 833.661,1444.18 835.719,1443.98 837.777,1443.77 839.836,1443.56 841.894,1443.33 843.953,1443.09 846.011,1442.85 848.069,1442.59 850.128,1442.32 852.186,1442.05 854.244,1441.76 856.303,1441.47 858.361,1441.16 860.42,1440.85 862.478,1440.53 864.536,1440.2 866.595,1439.86 868.653,1439.51 870.712,1439.16 872.77,1438.8 874.828,1438.43 876.887,1438.05 878.945,1437.66 881.004,1437.27 883.062,1436.87 885.12,1436.46 887.179,1436.05 889.237,1435.63 891.296,1435.2 893.354,1434.77 895.412,1434.33 897.471,1433.88 899.529,1433.43 901.588,1432.97 903.646,1432.51 905.704,1432.04 907.763,1431.57 909.821,1431.09 911.88,1430.6 913.938,1430.12 915.996,1429.62 918.055,1429.12 920.113,1428.62 922.172,1428.11 924.23,1427.6 926.288,1427.08 928.347,1426.56 930.405,1426.04 932.463,1425.51 934.522,1424.98 936.58,1424.44 938.639,1423.9 940.697,1423.36 942.755,1422.82 944.814,1422.27 946.872,1421.72 948.931,1421.16 950.989,1420.61 953.047,1420.05 955.106,1419.49 957.164,1418.92 959.223,1418.36 961.281,1417.79 963.339,1417.22 965.398,1416.65 967.456,1416.08 969.515,1415.5 971.573,1414.92 973.631,1414.35 975.69,1413.77 977.748,1413.19 979.807,1412.61 981.865,1412.03 983.923,1411.45 985.982,1410.86 988.04,1410.28 990.099,1409.7 992.157,1409.11 994.215,1408.53 996.274,1407.94 998.332,1407.36 1000.39,1406.78 1002.45,1406.19 1004.51,1405.61 1006.57,1405.02 1008.62,1404.44 1010.68,1403.86 1012.74,1403.28 1014.8,1402.7 1016.86,1402.12 1018.92,1401.54 1020.97,1400.96 1023.03,1400.39 1025.09,1399.81 1027.15,1399.24 1029.21,1398.67 1031.27,1398.1 1033.32,1397.53 1035.38,1396.96 1037.44,1396.39 1039.5,1395.83 1041.56,1395.27 1043.62,1394.71 1045.68,1394.15 1047.73,1393.6 1049.79,1393.05 1051.85,1392.5 1053.91,1391.95 1055.97,1391.41 1058.03,1390.87 1060.08,1390.33 1062.14,1389.79 1064.2,1389.26 1066.26,1388.73 1068.32,1388.2 1070.38,1387.68 1072.43,1387.16 1074.49,1386.64 1076.55,1386.13 1078.61,1385.61 1080.67,1385.11 1082.73,1384.61 1084.78,1384.11 1086.84,1383.61 1088.9,1383.12 1090.96,1382.63 1093.02,1382.15 1095.08,1381.67 1097.14,1381.19 1099.19,1380.72 1101.25,1380.25 1103.31,1379.79 1105.37,1379.33 1107.43,1378.88 1109.49,1378.43 1111.54,1377.98 1113.6,1377.54 1115.66,1377.11 1117.72,1376.68 1119.78,1376.25 1121.84,1375.83 1123.89,1375.41 1125.95,1375 1128.01,1374.59 1130.07,1374.19 1132.13,1373.8 1134.19,1373.4 1136.24,1373.02 1138.3,1372.64 1140.36,1372.26 1142.42,1371.89 1144.48,1371.53 1146.54,1371.17 1148.59,1370.82 1150.65,1370.47 1152.71,1370.12 1154.77,1369.79 1156.83,1369.46 1158.89,1369.13 1160.95,1368.81 1163,1368.5 1165.06,1368.19 1167.12,1367.89 1169.18,1367.59 1171.24,1367.3 1173.3,1367.02 1175.35,1366.74 1177.41,1366.47 1179.47,1366.2 1181.53,1365.94 1183.59,1365.69 1185.65,1365.44 1187.7,1365.2 1189.76,1364.97 1191.82,1364.74 1193.88,1364.51 1195.94,1364.3 1198,1364.09 1200.05,1363.89 1202.11,1363.69 1204.17,1363.5 1206.23,1363.31 1208.29,1363.14 1210.35,1362.97 1212.41,1362.8 1214.46,1362.64 1216.52,1362.49 1218.58,1362.35 1220.64,1362.21 1222.7,1362.08 1224.76,1361.95 1226.81,1361.84 1228.87,1361.72 1230.93,1361.62 1232.99,1361.52 1235.05,1361.43 1237.11,1361.35 1239.16,1361.27 1241.22,1361.2 1243.28,1361.13 1245.34,1361.08 1247.4,1361.02 1249.46,1360.98 1251.51,1360.94 1253.57,1360.91 1255.63,1360.89 1257.69,1360.87 1259.75,1360.86 1261.81,1360.86 1263.87,1360.86 1265.92,1360.87 1267.98,1360.89 1270.04,1360.91 1272.1,1360.94 1274.16,1360.98 1276.22,1361.02 1278.27,1361.08 1280.33,1361.13 1282.39,1361.2 1284.45,1361.27 1286.51,1361.35 1288.57,1361.43 1290.62,1361.52 1292.68,1361.62 1294.74,1361.72 1296.8,1361.84 1298.86,1361.95 1300.92,1362.08 1302.97,1362.21 1305.03,1362.35 1307.09,1362.49 1309.15,1362.64 1311.21,1362.8 1313.27,1362.97 1315.32,1363.14 1317.38,1363.31 1319.44,1363.5 1321.5,1363.69 1323.56,1363.89 1325.62,1364.09 1327.68,1364.3 1329.73,1364.51 1331.79,1364.74 1333.85,1364.97 1335.91,1365.2 1337.97,1365.44 1340.03,1365.69 1342.08,1365.94 1344.14,1366.2 1346.2,1366.47 1348.26,1366.74 1350.32,1367.02 1352.38,1367.3 1354.43,1367.59 1356.49,1367.89 1358.55,1368.19 1360.61,1368.5 1362.67,1368.81 1364.73,1369.13 1366.78,1369.46 1368.84,1369.79 1370.9,1370.12 1372.96,1370.47 1375.02,1370.82 1377.08,1371.17 1379.14,1371.53 1381.19,1371.89 1383.25,1372.26 1385.31,1372.64 1387.37,1373.02 1389.43,1373.4 1391.49,1373.8 1393.54,1374.19 1395.6,1374.59 1397.66,1375 1399.72,1375.41 1401.78,1375.83 1403.84,1376.25 1405.89,1376.68 1407.95,1377.11 1410.01,1377.54 1412.07,1377.98 1414.13,1378.43 1416.19,1378.88 1418.24,1379.33 1420.3,1379.79 1422.36,1380.25 1424.42,1380.72 1426.48,1381.19 1428.54,1381.67 1430.6,1382.15 1432.65,1382.63 1434.71,1383.12 1436.77,1383.61 1438.83,1384.11 1440.89,1384.61 1442.95,1385.11 1445,1385.61 1447.06,1386.13 1449.12,1386.64 1451.18,1387.16 1453.24,1387.68 1455.3,1388.2 1457.35,1388.73 1459.41,1389.26 1461.47,1389.79 1463.53,1390.33 1465.59,1390.87 1467.65,1391.41 1469.7,1391.95 1471.76,1392.5 1473.82,1393.05 1475.88,1393.6 1477.94,1394.15 1480,1394.71 1482.05,1395.27 1484.11,1395.83 1486.17,1396.39 1488.23,1396.96 1490.29,1397.53 1492.35,1398.1 1494.41,1398.67 1496.46,1399.24 1498.52,1399.81 1500.58,1400.39 1502.64,1400.96 1504.7,1401.54 1506.76,1402.12 1508.81,1402.7 1510.87,1403.28 1512.93,1403.86 1514.99,1404.44 1517.05,1405.02 1519.11,1405.61 1521.16,1406.19 1523.22,1406.78 1525.28,1407.36 1527.34,1407.94 1529.4,1408.53 1531.46,1409.11 1533.51,1409.7 1535.57,1410.28 1537.63,1410.86 1539.69,1411.45 1541.75,1412.03 1543.81,1412.61 1545.87,1413.19 1547.92,1413.77 1549.98,1414.35 1552.04,1414.92 1554.1,1415.5 1556.16,1416.08 1558.22,1416.65 1560.27,1417.22 1562.33,1417.79 1564.39,1418.36 1566.45,1418.92 1568.51,1419.49 1570.57,1420.05 1572.62,1420.61 1574.68,1421.16 1576.74,1421.72 1578.8,1422.27 1580.86,1422.82 1582.92,1423.36 1584.97,1423.9 1587.03,1424.44 1589.09,1424.98 1591.15,1425.51 1593.21,1426.04 1595.27,1426.56 1597.33,1427.08 1599.38,1427.6 1601.44,1428.11 1603.5,1428.62 1605.56,1429.12 1607.62,1429.62 1609.68,1430.12 1611.73,1430.6 1613.79,1431.09 1615.85,1431.57 1617.91,1432.04 1619.97,1432.51 1622.03,1432.97 1624.08,1433.43 1626.14,1433.88 1628.2,1434.33 1630.26,1434.77 1632.32,1435.2 1634.38,1435.63 1636.43,1436.05 1638.49,1436.46 1640.55,1436.87 1642.61,1437.27 1644.67,1437.66 1646.73,1438.05 1648.78,1438.43 1650.84,1438.8 1652.9,1439.16 1654.96,1439.51 1657.02,1439.86 1659.08,1440.2 1661.14,1440.53 1663.19,1440.85 1665.25,1441.16 1667.31,1441.47 1669.37,1441.76 1671.43,1442.05 1673.49,1442.32 1675.54,1442.59 1677.6,1442.85 1679.66,1443.09 1681.72,1443.33 1683.78,1443.56 1685.84,1443.77 1687.89,1443.98 1689.95,1444.18 1692.01,1444.36 1694.07,1444.54 1696.13,1444.7 1698.19,1444.85 1700.24,1444.99 1702.3,1445.12 1704.36,1445.23 1706.42,1445.34 1708.48,1445.43 1710.54,1445.51 1712.6,1445.58 1714.65,1445.63 1716.71,1445.67 1718.77,1445.7 1720.83,1445.71 1722.89,1445.72 1724.95,1445.7 1727,1445.68 1729.06,1445.64 1731.12,1445.58 1733.18,1445.51 1735.24,1445.43 1737.3,1445.33 1739.35,1445.22 1741.41,1445.09 1743.47,1444.95 1745.53,1444.79 1747.59,1444.62 1749.65,1444.42 1751.7,1444.22 1753.76,1444 1755.82,1443.76 1757.88,1443.5 1759.94,1443.23 1762,1442.94 1764.05,1442.63 1766.11,1442.31 1768.17,1441.96 1770.23,1441.6 1772.29,1441.22 1774.35,1440.83 1776.41,1440.41 1778.46,1439.98 1780.52,1439.53 1782.58,1439.06 1784.64,1438.56 1786.7,1438.05 1788.76,1437.52 1790.81,1436.97 1792.87,1436.4 1794.93,1435.81 1796.99,1435.2 1799.05,1434.57 1801.11,1433.92 1803.16,1433.24 1805.22,1432.55 1807.28,1431.83 1809.34,1431.09 1811.4,1430.33 1813.46,1429.55 1815.51,1428.74 1817.57,1427.92 1819.63,1427.07 1821.69,1426.19 1823.75,1425.29 1825.81,1424.37 1827.87,1423.43 1829.92,1422.46 1831.98,1421.47 1834.04,1420.45 1836.1,1419.41 1838.16,1418.34 1840.22,1417.25 1842.27,1416.13 1844.33,1414.99 1846.39,1413.82 1848.45,1412.62 1850.51,1411.4 1852.57,1410.15 1854.62,1408.88 1856.68,1407.58 1858.74,1406.25 1860.8,1404.89 1862.86,1403.51 1864.92,1402.09 1866.97,1400.65 1869.03,1399.19 1871.09,1397.69 1873.15,1396.16 1875.21,1394.61 1877.27,1393.02 1879.33,1391.41 1881.38,1389.76 1883.44,1388.09 1885.5,1386.38 1887.56,1384.65 1889.62,1382.88 1891.68,1381.08 1893.73,1379.26 1895.79,1377.4 1897.85,1375.5 1899.91,1373.58 1901.97,1371.62 1904.03,1369.63 1906.08,1367.61 1908.14,1365.56 1910.2,1363.47 1912.26,1361.35 1914.32,1359.19 1916.38,1357 1918.43,1354.78 1920.49,1352.52 1922.55,1350.22 1924.61,1347.89 1926.67,1345.53 1928.73,1343.13 1930.78,1340.69 1932.84,1338.22 1934.9,1335.71 1936.96,1333.16 1939.02,1330.58 1941.08,1327.96 1943.14,1325.3 1945.19,1322.61 1947.25,1319.87 1949.31,1317.1 1951.37,1314.29 1953.43,1311.44 1955.49,1308.55 1957.54,1305.62 1959.6,1302.65 1961.66,1299.65 1963.72,1296.6 1965.78,1293.51 1967.84,1290.38 1969.89,1287.21 1971.95,1283.99 1974.01,1280.74 1976.07,1277.44 1978.13,1274.11 1980.19,1270.72 1982.24,1267.3 1984.3,1263.83 1986.36,1260.32 1988.42,1256.77 1990.48,1253.17 1992.54,1249.53 1994.6,1245.84 1996.65,1242.11 1998.71,1238.34 2000.77,1234.51 2002.83,1230.65 2004.89,1226.73 2006.95,1222.77 2009,1218.76 2011.06,1214.71 2013.12,1210.61 2015.18,1206.46 2017.24,1202.27 2019.3,1198.02 2021.35,1193.73 2023.41,1189.39 2025.47,1185 2027.53,1180.56 2029.59,1176.07 2031.65,1171.53 2033.7,1166.94 2035.76,1162.3 2037.82,1157.61 2039.88,1152.87 2041.94,1148.08 2044,1143.23 2046.06,1138.34 2048.11,1133.39 2050.17,1128.39 2052.23,1123.33 2054.29,1118.22 2056.35,1113.06 2058.41,1107.85 2060.46,1102.58 2062.52,1097.25 2064.58,1091.88 2066.64,1086.44 2068.7,1080.95 2070.76,1075.41 2072.81,1069.81 2074.87,1064.15 2076.93,1058.43 2078.99,1052.66 2081.05,1046.83 2083.11,1040.95 2085.16,1035 2087.22,1029 2089.28,1022.93 2091.34,1016.81 2093.4,1010.63 2095.46,1004.39 2097.51,998.093 2099.57,991.733 2101.63,985.312 2103.69,978.829 2105.75,972.286 2107.81,965.681 2109.87,959.013 2111.92,952.284 2113.98,945.492 2116.04,938.636 2118.1,931.718 2120.16,924.735 2122.22,917.689 2124.27,910.578 2126.33,903.403 2128.39,896.162 2130.45,888.856 2132.51,881.484 2134.57,874.047 2136.62,866.542 2138.68,858.971 2140.74,851.333 2142.8,843.627 2144.86,835.854 2146.92,828.012 2148.97,820.102 2151.03,812.123 2153.09,804.075 2155.15,795.957 2157.21,787.769 2159.27,779.511 2161.33,771.182 2163.38,762.783 2165.44,754.312 2167.5,745.769 2169.56,737.154 2171.62,728.467 2173.68,719.707 2175.73,710.874 2177.79,701.967 2179.85,692.986 2181.91,683.931 2183.97,674.802 2186.03,665.598 2188.08,656.318 2190.14,646.963 2192.2,637.531 2194.26,628.023 2196.32,618.439 2198.38,608.777 2200.43,599.037 2202.49,589.22 2204.55,579.324 2206.61,569.35 2208.67,559.297 2210.73,549.164 2212.79,538.952 2214.84,528.659 2216.9,518.286 2218.96,507.832 2221.02,497.297 2223.08,486.68 2225.14,475.981 2227.19,465.199 2229.25,454.335 2231.31,443.388 2233.37,432.357 2235.43,421.242 2237.49,410.042 2239.54,398.758 2241.6,387.389 2243.66,375.935 2245.72,364.394 2247.78,352.767 2249.84,341.054 2251.89,329.253 2253.95,317.365 2256.01,305.389 2258.07,293.325 2260.13,281.173 2262.19,268.931 2264.24,256.6 2266.3,244.179 2268.36,231.668 2270.42,219.066 2272.48,206.373 2274.54,193.589 2276.6,180.713 2278.65,167.745 2280.71,154.684 2282.77,141.53 2284.83,128.283 2286.89,114.942 2288.95,101.506 2291,87.9763 \"/>\n",
       "<path clip-path=\"url(#clip400)\" d=\"M2009.41 198.898 L2280.03 198.898 L2280.03 95.2176 L2009.41 95.2176  Z\" fill=\"#ffffff\" fill-rule=\"evenodd\" fill-opacity=\"1\"/>\n",
       "<polyline clip-path=\"url(#clip400)\" style=\"stroke:#000000; stroke-linecap:round; stroke-linejoin:round; stroke-width:4; stroke-opacity:1; fill:none\" points=\"2009.41,198.898 2280.03,198.898 2280.03,95.2176 2009.41,95.2176 2009.41,198.898 \"/>\n",
       "<polyline clip-path=\"url(#clip400)\" style=\"stroke:#009af9; stroke-linecap:round; stroke-linejoin:round; stroke-width:4; stroke-opacity:1; fill:none\" points=\"2033.65,147.058 2179.11,147.058 \"/>\n",
       "<path clip-path=\"url(#clip400)\" d=\"M2217.19 166.745 Q2215.39 171.375 2213.68 172.787 Q2211.96 174.199 2209.09 174.199 L2205.69 174.199 L2205.69 170.634 L2208.19 170.634 Q2209.95 170.634 2210.92 169.8 Q2211.89 168.967 2213.07 165.865 L2213.84 163.921 L2203.35 138.412 L2207.87 138.412 L2215.97 158.689 L2224.07 138.412 L2228.58 138.412 L2217.19 166.745 Z\" fill=\"#000000\" fill-rule=\"nonzero\" fill-opacity=\"1\" /><path clip-path=\"url(#clip400)\" d=\"M2235.88 160.402 L2243.51 160.402 L2243.51 134.037 L2235.2 135.703 L2235.2 131.444 L2243.47 129.778 L2248.14 129.778 L2248.14 160.402 L2255.78 160.402 L2255.78 164.338 L2235.88 164.338 L2235.88 160.402 Z\" fill=\"#000000\" fill-rule=\"nonzero\" fill-opacity=\"1\" /></svg>\n"
      ]
     },
     "metadata": {},
     "output_type": "display_data"
    }
   ],
   "source": [
    "plot(-5:0.01:5, f(-5:0.01:5))"
   ]
  },
  {
   "cell_type": "code",
   "execution_count": 22,
   "id": "77887b05",
   "metadata": {},
   "outputs": [
    {
     "ename": "MethodError",
     "evalue": "MethodError: objects of type Vector{Nothing} are not callable\nUse square brackets [] for indexing an Array.",
     "output_type": "error",
     "traceback": [
      "MethodError: objects of type Vector{Nothing} are not callable\n",
      "Use square brackets [] for indexing an Array.\n",
      "\n",
      "Stacktrace:\n",
      " [1] top-level scope\n",
      "   @ c:\\Users\\tkoike3\\Code\\LiftAndLearn.jl\\examples\\scribble.ipynb:9"
     ]
    }
   ],
   "source": [
    "using JuMP\n",
    "using Ipopt\n",
    "using Pipe\n",
    "\n",
    "i = 2\n",
    "model = Model(Ipopt.Optimizer; add_bridges=false)\n",
    "@variable(model, x[1:5])\n",
    "\n",
    "@pipe x |> [JuMP.delete(model, x), JuMP.unregister(model, :x)]\n",
    "@show JuMP.is_valid(model, x)"
   ]
  },
  {
   "cell_type": "code",
   "execution_count": 2,
   "id": "5a5ba19f-8f74-40e0-99fc-ea7c097670f2",
   "metadata": {},
   "outputs": [
    {
     "data": {
      "text/plain": [
       "Elemat"
      ]
     },
     "execution_count": 2,
     "metadata": {},
     "output_type": "execute_result"
    }
   ],
   "source": [
    "struct elemat{T} <: AbstractVector{T}\n",
    "    n::Int\n",
    "    i::Int\n",
    "\n",
    "    function elemat(n::Int, i::Int)\n",
    "        @boundscheck n >= i || throw(ArgumentError(\"$i is larger than the size $n\"))\n",
    "        e = spzeros(n,1)\n",
    "        e[i] = 1\n",
    "        return e\n",
    "    end\n",
    "end\n",
    "\n",
    "\"\"\"\n",
    "    elemat(n,i,j)\n",
    "\"\"\"\n",
    "\n",
    "struct Elemat{T} <: AbstractMatrix{T}\n",
    "    m :: Int\n",
    "    n :: Int\n",
    "    i :: Int\n",
    "    j :: Int\n",
    "    \n",
    "    function Elemat(m::Integer, n::Integer, i::Integer, j::Integer)\n",
    "        return elemat(m,i) * elemat(n,j)'\n",
    "    end\n",
    "end\n",
    "\n",
    "Elemat(m::Integer, i::Integer, j::Integer) = Elemat(m, m, i, j)"
   ]
  },
  {
   "cell_type": "code",
   "execution_count": 3,
   "id": "52d526f0-5c7d-4e1d-ae63-8a0b96aa6c2e",
   "metadata": {
    "tags": []
   },
   "outputs": [
    {
     "data": {
      "text/plain": [
       "nommat"
      ]
     },
     "execution_count": 3,
     "metadata": {},
     "output_type": "execute_result"
    }
   ],
   "source": [
    "# Kronecker delta\n",
    "function delta(i::Int, j::Int)\n",
    "    return Int(i == j)\n",
    "end\n",
    "\n",
    "\"\"\"\n",
    "    commat(n,i,j)\n",
    "\"\"\"\n",
    "\n",
    "struct commat{T} <: AbstractMatrix{T}\n",
    "    m::Int\n",
    "    n::Int\n",
    "\n",
    "    function commat(m::Integer, n::Integer)\n",
    "        v = [m * (j-1) + i for i in 1:m, j in 1:n]'[:]\n",
    "        # apply this permutation to the rows (i.e. to each column) of identity matrix\n",
    "        K = [[delta(i, j) for j in 1:(m*n)] for i in 1:(m*n)]\n",
    "        tmp = [K[i] for i in v]\n",
    "        return sparse(reduce(vcat, tmp'))\n",
    "    end\n",
    "end\n",
    "\n",
    "commat(m::Integer) = commat(m, m)\n",
    "\n",
    "\n",
    "\"\"\"\n",
    "    nommat(n,i,j)\n",
    "\"\"\"\n",
    "\n",
    "struct nommat{T} <: AbstractMatrix{T}\n",
    "    m::Int\n",
    "    n::Int\n",
    "\n",
    "    function nommat(m::Integer, n::Integer)\n",
    "        mn = Int(m * n)\n",
    "        return 0.5 * (sparse(1.0I, mn, mn) + commat(m, n))\n",
    "    end\n",
    "end\n",
    "\n",
    "nommat(m::Integer) = nommat(m, m)"
   ]
  },
  {
   "cell_type": "code",
   "execution_count": 4,
   "id": "4bef121e-2b58-46fa-a974-13cda4abab4c",
   "metadata": {
    "tags": []
   },
   "outputs": [
    {
     "data": {
      "text/plain": [
       "vech (generic function with 1 method)"
      ]
     },
     "execution_count": 4,
     "metadata": {},
     "output_type": "execute_result"
    }
   ],
   "source": [
    "function vech(A::AbstractMatrix{T}) where {T}\n",
    "    m = LinearAlgebra.checksquare(A)\n",
    "    v = Vector{T}(undef, Int(m * (m + 1) /2))\n",
    "    k = 0\n",
    "    for j = 1:m, i = j:m\n",
    "        @inbounds v[k+=1] = A[i, j]\n",
    "    end\n",
    "    return v\n",
    "end"
   ]
  },
  {
   "cell_type": "code",
   "execution_count": 5,
   "id": "ec63d364-982e-4d3a-9b08-4bc8163a878b",
   "metadata": {
    "tags": []
   },
   "outputs": [],
   "source": [
    "struct unit_DL{T} <: AbstractVector{T}\n",
    "    n::Int\n",
    "    i::Int\n",
    "    j::Int\n",
    "\n",
    "    function unit_DL(n::Integer, i::Integer, j::Integer)\n",
    "        @boundscheck i >= j || throw(ArgumentError(\"Does not satisfy i >= j\"))\n",
    "        u = spzeros(Int(0.5 * n * (n+1)), 1)\n",
    "        u[Int( (j-1)*n + i - 0.5*j*(j-1) )] = 1.0\n",
    "        return u\n",
    "    end\n",
    "end"
   ]
  },
  {
   "cell_type": "code",
   "execution_count": 6,
   "id": "ad63d241-0828-40fa-8250-d1540a7d07ab",
   "metadata": {
    "tags": []
   },
   "outputs": [],
   "source": [
    "struct elimat{T} <: AbstractMatrix{T}\n",
    "    m::Int\n",
    "    \n",
    "    function elimat(m::Integer)\n",
    "        T = tril(ones(m, m)) # Lower triangle of 1's\n",
    "        f = findall(x -> x == 1, T[:]) # Get linear indexes of 1's\n",
    "        k = m * (m + 1) / 2 # Row size of L\n",
    "        m2 = m * m # Colunm size of L\n",
    "        x = f + m2 * (0:k-1) # Linear indexes of the 1's within L'\n",
    "\n",
    "        row = [mod(a, m2) != 0 ? mod(a, m2) : m2 for a in x]\n",
    "        col = [mod(a, m2) != 0 ? div(a, m2) + 1 : div(a, m2) for a in x]\n",
    "        L = sparse(row, col, ones(length(x)), m2, k)\n",
    "        L = L' # Now transpose to actual L\n",
    "        return L\n",
    "    end\n",
    "end"
   ]
  },
  {
   "cell_type": "code",
   "execution_count": 11,
   "id": "027b74f8-22e0-45c0-816c-6a3df0493178",
   "metadata": {
    "tags": []
   },
   "outputs": [
    {
     "data": {
      "text/plain": [
       "4-element Vector{Float64}:\n",
       "  1.0\n",
       "  1.0\n",
       " -1.0\n",
       " -1.0"
      ]
     },
     "execution_count": 11,
     "metadata": {},
     "output_type": "execute_result"
    }
   ],
   "source": [
    "N = 3\n",
    "Δx = 0.5\n",
    "S = Int(N * (N + 1) / 2)\n",
    "Fval = repeat([1.0, 1.0, -1.0, -1.0], outer=N - 2)"
   ]
  },
  {
   "cell_type": "code",
   "execution_count": 12,
   "id": "32ecef7e-678f-4aef-9ea4-f517a132e97f",
   "metadata": {
    "tags": []
   },
   "outputs": [
    {
     "data": {
      "text/plain": [
       "4-element Vector{Int64}:\n",
       " 2\n",
       " 2\n",
       " 2\n",
       " 2"
      ]
     },
     "execution_count": 12,
     "metadata": {},
     "output_type": "execute_result"
    }
   ],
   "source": [
    "row_i = repeat(2:(N-1), inner=4)"
   ]
  },
  {
   "cell_type": "code",
   "execution_count": 14,
   "id": "6343bea5-3cb7-468a-a6d6-a6ee154abdd8",
   "metadata": {
    "tags": []
   },
   "outputs": [
    {
     "data": {
      "text/plain": [
       "3-element Vector{Int64}:\n",
       " 2\n",
       " 6\n",
       " 9"
      ]
     },
     "execution_count": 14,
     "metadata": {},
     "output_type": "execute_result"
    }
   ],
   "source": [
    "N = 4\n",
    "seq = Int.([2 + (N + 1) * (x - 1) - x * (x - 1) / 2 for x in 1:(N-1)])"
   ]
  },
  {
   "cell_type": "code",
   "execution_count": null,
   "id": "c9146c0b-8f3c-47ff-9605-7a7417ed7746",
   "metadata": {},
   "outputs": [],
   "source": [
    "col_i = vcat(seq[1], repeat(seq[2:end-1], inner=2), seq[end])"
   ]
  },
  {
   "cell_type": "code",
   "execution_count": null,
   "id": "3fe5055c-8607-47a9-a0b4-7b922e45a812",
   "metadata": {},
   "outputs": [],
   "source": [
    "F = sparse(row_i, col_i, Fval, N, S) / 2 / Δx"
   ]
  },
  {
   "cell_type": "code",
   "execution_count": 54,
   "id": "f9b71cc7-f542-426e-bad0-ea4b517c2c8d",
   "metadata": {
    "tags": []
   },
   "outputs": [
    {
     "data": {
      "text/plain": [
       "4×10 SparseMatrixCSC{Float64, Int64} with 12 stored entries:\n",
       "  ⋅   -1.0   ⋅    ⋅   -1.0    ⋅    ⋅     ⋅     ⋅     ⋅ \n",
       " 1.0   1.0   ⋅    ⋅     ⋅   -1.0   ⋅   -1.0    ⋅     ⋅ \n",
       "  ⋅     ⋅    ⋅    ⋅    1.0   1.0   ⋅     ⋅   -1.0  -1.0\n",
       "  ⋅     ⋅    ⋅    ⋅     ⋅     ⋅    ⋅    1.0   1.0    ⋅ "
      ]
     },
     "execution_count": 54,
     "metadata": {},
     "output_type": "execute_result"
    }
   ],
   "source": [
    "N = 4\n",
    "S = N*(N+1)/2\n",
    "dx = 1/6\n",
    "\n",
    "ii = repeat(2:(N-1), inner=4)\n",
    "m = 2:N-1\n",
    "mi = Int.([N*(N+1)/2 - (N-m)*(N-m+1)/2 - (N-m) for m in 2:N-1])               # this is where the xi^2 term is\n",
    "mm = Int.([N*(N+1)/2 - (N-m).*(N-m+1)/2 - (N-m) - (N-(m-2)) for m in 2:N-1])  # this is where the x_{i-1}^2 term is\n",
    "mp = Int.([N*(N+1)/2 - (N-m).*(N-m+1)/2 - (N-m) + (N-(m-1)) for m in 2:N-1])  # this is where the x_{i+1}^2 term is\n",
    "jp = mi .+ 1  # this is the index of the x_{i+1}*x_i term\n",
    "jm = mm .+ 1  # this is the index of the x_{i-1}*x_i term\n",
    "jj = reshape([mp'; mm'; jp'; jm'],4*N-8);\n",
    "vv = reshape([-ones(1,N-2); ones(1,N-2); -ones(1,N-2); ones(1,N-2)],4*N-8)/(6*dx);\n",
    "F = sparse(ii,jj,vv,N,N*(N+1)/2)\n",
    "# Boundary conditions\n",
    "F[1,2] = -1/6/dx\n",
    "F[1,N+1] = -1/6/dx\n",
    "F[N,end-1] = 1/6/dx\n",
    "F[N,end-2] = 1/6/dx\n",
    "F"
   ]
  },
  {
   "cell_type": "code",
   "execution_count": 64,
   "id": "ad724e81-e31a-40db-91e1-e654a1bbbd0c",
   "metadata": {
    "tags": []
   },
   "outputs": [
    {
     "data": {
      "text/plain": [
       "0.8:0.044444444444444446:1.2"
      ]
     },
     "execution_count": 64,
     "metadata": {},
     "output_type": "execute_result"
    }
   ],
   "source": [
    "a = range(0.8,1.2,10)"
   ]
  },
  {
   "cell_type": "code",
   "execution_count": 67,
   "id": "5b3214c4-73b0-4101-9fbf-11eb05febaf5",
   "metadata": {
    "tags": []
   },
   "outputs": [
    {
     "data": {
      "text/plain": [
       "5×5 Matrix{Float64}:\n",
       " 0.0  0.0  0.0  0.0  0.0\n",
       " 0.0  0.0  0.0  0.0  0.0\n",
       " 0.0  0.0  0.0  0.0  0.0\n",
       " 0.0  0.0  0.0  0.0  0.0\n",
       " 0.0  0.0  0.0  0.0  0.0"
      ]
     },
     "execution_count": 67,
     "metadata": {},
     "output_type": "execute_result"
    }
   ],
   "source": [
    "zeros(1,1) .* rand(5,5)"
   ]
  },
  {
   "cell_type": "code",
   "execution_count": 78,
   "id": "55691b6c-bec8-4a5d-8bb1-0fc34c056167",
   "metadata": {
    "tags": []
   },
   "outputs": [
    {
     "data": {
      "text/plain": [
       "0"
      ]
     },
     "execution_count": 78,
     "metadata": {},
     "output_type": "execute_result"
    }
   ],
   "source": [
    "a  = zeros(1,1)\n",
    "a[1] == 0\n",
    "a = size(a)==(1,1) && a[1]==0 ? 0 : 1"
   ]
  },
  {
   "cell_type": "code",
   "execution_count": 86,
   "id": "a895c996-22ac-45e2-8195-356cfeb87fc5",
   "metadata": {
    "tags": []
   },
   "outputs": [
    {
     "data": {
      "text/plain": [
       "true"
      ]
     },
     "execution_count": 86,
     "metadata": {},
     "output_type": "execute_result"
    }
   ],
   "source": [
    "typeof(NaN) == Float64"
   ]
  },
  {
   "cell_type": "code",
   "execution_count": 3,
   "id": "698398bc",
   "metadata": {},
   "outputs": [
    {
     "name": "stderr",
     "output_type": "stream",
     "text": [
      "┌ Info: \n",
      "│ Constraint        = Non-Constrained\n",
      "│ order              = 10\n",
      "│ termination_status = 1\n",
      "│ primal_status      = 2\n",
      "│ objective_value    = 3\n",
      "└ @ Main c:\\Users\\tkoike3\\Code\\LiftAndLearn.jl\\examples\\scribble.ipynb:5\n"
     ]
    }
   ],
   "source": [
    "a = 1 \n",
    "b = 2\n",
    "c = 3 \n",
    "n = 10\n",
    "@info \"\"\"\n",
    "\n",
    "Constraint         = Non-Constrained\n",
    "order              = $(n)\n",
    "termination_status = $(a)\n",
    "primal_status      = $(b)\n",
    "objective_value    = $(c)\n",
    "\"\"\""
   ]
  },
  {
   "cell_type": "code",
   "execution_count": 21,
   "id": "b03b00a1",
   "metadata": {},
   "outputs": [
    {
     "data": {
      "text/plain": [
       "generateEPmatrix (generic function with 1 method)"
      ]
     },
     "metadata": {},
     "output_type": "display_data"
    }
   ],
   "source": [
    "function generateEPmatrix(N, Δx, μ::Float64)\n",
    "    # Create A matrix\n",
    "    A = diagm(0 => (-2) * ones(N), 1 => ones(N - 1), -1 => ones(N - 1)) * μ / Δx^2\n",
    "    A[1, N] = μ / Δx^2\n",
    "    A[N, 1] = μ / Δx^2\n",
    "\n",
    "    # Create F matrix\n",
    "    S = Int(N * (N + 1) / 2)\n",
    "    if N >= 3\n",
    "        ii = repeat(2:(N-1), inner=4)\n",
    "        m = 2:N-1\n",
    "        mi = Int.([N*(N+1)/2 - (N-m)*(N-m+1)/2 - (N-m) for m in 2:N-1])               # this is where the xi^2 term is\n",
    "        mm = Int.([N*(N+1)/2 - (N-m).*(N-m+1)/2 - (N-m) - (N-(m-2)) for m in 2:N-1])  # this is where the x_{i-1}^2 term is\n",
    "        mp = Int.([N*(N+1)/2 - (N-m).*(N-m+1)/2 - (N-m) + (N-(m-1)) for m in 2:N-1])  # this is where the x_{i+1}^2 term is\n",
    "        jp = mi .+ 1  # this is the index of the x_{i+1}*x_i term\n",
    "        jm = mm .+ 1  # this is the index of the x_{i-1}*x_i term\n",
    "        jj = reshape([mp'; mm'; jp'; jm'],4*N-8);\n",
    "        vv = reshape([-ones(1,N-2); ones(1,N-2); -ones(1,N-2); ones(1,N-2)],4*N-8)/(6*Δx);\n",
    "        F = sparse(ii,jj,vv,N,S)\n",
    "\n",
    "        # Boundary conditions\n",
    "        F[1,2] = -1/6/Δx\n",
    "        F[1,N+1] = -1/6/Δx\n",
    "        F[1,N] = 1/6/Δx\n",
    "        F[1,end] = 1/6/Δx\n",
    "        F[N,end-1] = 1/6/Δx\n",
    "        F[N,end-2] = 1/6/Δx\n",
    "        F[N,1] = -1/6/Δx\n",
    "        F[N,N] = -1/6/Δx\n",
    "    else\n",
    "        F = zeros(N, S)\n",
    "    end\n",
    "\n",
    "    return A, F\n",
    "end"
   ]
  },
  {
   "cell_type": "code",
   "execution_count": 24,
   "id": "698ebd4e",
   "metadata": {},
   "outputs": [
    {
     "data": {
      "text/plain": [
       "([-72.0 36.0 0.0 36.0; 36.0 -72.0 36.0 0.0; 0.0 36.0 -72.0 36.0; 36.0 0.0 36.0 -72.0], sparse([2, 4, 1, 2, 1, 4, 1, 3, 2, 3, 2, 4, 3, 4, 1, 3], [1, 1, 2, 2, 4, 4, 5, 5, 6, 6, 8, 8, 9, 9, 10, 10], [1.0, -1.0, -1.0, 1.0, 1.0, -1.0, -1.0, 1.0, -1.0, 1.0, -1.0, 1.0, -1.0, 1.0, 1.0, -1.0], 4, 10))"
      ]
     },
     "metadata": {},
     "output_type": "display_data"
    }
   ],
   "source": [
    "A, F = generateEPmatrix(4, 1/6, 1.0)"
   ]
  },
  {
   "cell_type": "code",
   "execution_count": 25,
   "id": "3e1d4770",
   "metadata": {},
   "outputs": [
    {
     "data": {
      "text/plain": [
       "4×10 SparseMatrixCSC{Float64, Int64} with 16 stored entries:\n",
       "   ⋅   -1.0   ⋅    1.0  -1.0    ⋅    ⋅     ⋅     ⋅    1.0\n",
       "  1.0   1.0   ⋅     ⋅     ⋅   -1.0   ⋅   -1.0    ⋅     ⋅ \n",
       "   ⋅     ⋅    ⋅     ⋅    1.0   1.0   ⋅     ⋅   -1.0  -1.0\n",
       " -1.0    ⋅    ⋅   -1.0    ⋅     ⋅    ⋅    1.0   1.0    ⋅ "
      ]
     },
     "metadata": {},
     "output_type": "display_data"
    }
   ],
   "source": [
    "F"
   ]
  },
  {
   "cell_type": "code",
   "execution_count": 20,
   "id": "e6c758ba",
   "metadata": {},
   "outputs": [
    {
     "data": {
      "text/plain": [
       "5×5 Matrix{Float64}:\n",
       " -72.0   36.0    0.0    0.0   36.0\n",
       "  36.0  -72.0   36.0    0.0    0.0\n",
       "   0.0   36.0  -72.0   36.0    0.0\n",
       "   0.0    0.0   36.0  -72.0   36.0\n",
       "  36.0    0.0    0.0   36.0  -72.0"
      ]
     },
     "metadata": {},
     "output_type": "display_data"
    }
   ],
   "source": [
    "A"
   ]
  }
 ],
 "metadata": {
  "kernelspec": {
   "display_name": "Julia 1.8.5",
   "language": "julia",
   "name": "julia-1.8"
  },
  "language_info": {
   "file_extension": ".jl",
   "mimetype": "application/julia",
   "name": "julia",
   "version": "1.8.5"
  }
 },
 "nbformat": 4,
 "nbformat_minor": 5
}
