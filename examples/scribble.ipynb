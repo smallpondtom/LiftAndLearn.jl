{
 "cells": [
  {
   "cell_type": "code",
   "execution_count": 1,
   "id": "64262add-8310-4bfc-a276-6306bb71d28f",
   "metadata": {
    "tags": []
   },
   "outputs": [],
   "source": [
    "using LinearAlgebra\n",
    "using SparseArrays\n",
    "using BenchmarkTools\n",
    "using Random\n",
    "using Distributions\n",
    "using Plots"
   ]
  },
  {
   "cell_type": "code",
   "execution_count": 104,
   "id": "8d9cdbfe",
   "metadata": {},
   "outputs": [
    {
     "name": "stdout",
     "output_type": "stream",
     "text": [
      "ct1 = 0\n",
      "ct2 = 0\n"
     ]
    }
   ],
   "source": [
    "ct1 = 0\n",
    "ct2 = 0\n",
    "for _ in 1:10000\n",
    "    foo = rand(Uniform(-10,10), 4, 4)\n",
    "    l1, _ = eigen(foo)\n",
    "    l1 = real.(l1)\n",
    "    l1_min = minimum(l1)\n",
    "    l1_max = maximum(l1)\n",
    "\n",
    "    bar = (foo + foo')/2\n",
    "    l2, _ = eigen(bar)\n",
    "    l2_min = minimum(l2)\n",
    "    l2_max = maximum(l2)\n",
    "\n",
    "    ct1 += Int(l1_min < l2_min)\n",
    "    ct2 += Int(l2_max < l1_max)\n",
    "end\n",
    "println(\"ct1 = \", ct1)\n",
    "println(\"ct2 = \", ct2)"
   ]
  },
  {
   "cell_type": "code",
   "execution_count": 105,
   "id": "a4bbae0d",
   "metadata": {},
   "outputs": [
    {
     "data": {
      "text/plain": [
       "4×4 Matrix{Float64}:\n",
       "  0.210726   -0.0982325  0.113304    0.111711\n",
       " -0.0982325   7.25141    0.0570213  -3.6207\n",
       "  0.113304    0.0570213  0.219455    0.0357768\n",
       "  0.111711   -3.6207     0.0357768   1.96825"
      ]
     },
     "metadata": {},
     "output_type": "display_data"
    }
   ],
   "source": [
    "foo = rand(Uniform(-10,10), 4, 4)\n",
    "bar = (foo + foo')/2\n",
    "pac = (foo - foo')/2\n",
    "\n",
    "γ = 0.1\n",
    "λp, v = eigen(bar)\n",
    "# N_neg = count(i->(real(i) < 0.0), λp)\n",
    "λp[real.(λp) .< 0] .= γ  # .+ (rand(N_neg) .* γ/10)\n",
    "# N_img = count(i->(imag(i) != 0.0), λp)\n",
    "# λp[imag.(λp) .!= 0.0] .= real.(λp[imag.(λp) .!= 0.0]) #+ rand(N_img) \n",
    "zap = v * Diagonal(λp) * (v\\1.0I)"
   ]
  },
  {
   "cell_type": "code",
   "execution_count": 14,
   "id": "9fdf1476",
   "metadata": {},
   "outputs": [
    {
     "data": {
      "text/plain": [
       "1"
      ]
     },
     "metadata": {},
     "output_type": "display_data"
    }
   ],
   "source": [
    "a = [1 -1 0 -2]\n",
    "b = any(a .< -3) + any(a .> 1) + any(a .> 0.1)"
   ]
  },
  {
   "cell_type": "code",
   "execution_count": 12,
   "id": "1e5783b4",
   "metadata": {},
   "outputs": [
    {
     "data": {
      "text/plain": [
       "0.005000000000000001"
      ]
     },
     "metadata": {},
     "output_type": "display_data"
    }
   ],
   "source": [
    "10^floor(log10(0.055)) / 2"
   ]
  },
  {
   "cell_type": "code",
   "execution_count": 3,
   "id": "c54a6231",
   "metadata": {},
   "outputs": [
    {
     "data": {
      "text/plain": [
       "0.0:0.007874015748031496:1.0"
      ]
     },
     "metadata": {},
     "output_type": "display_data"
    }
   ],
   "source": [
    "x = range(0,1,2^7)"
   ]
  },
  {
   "cell_type": "code",
   "execution_count": 4,
   "id": "ff6c6d4b",
   "metadata": {},
   "outputs": [
    {
     "data": {
      "text/plain": [
       "#11 (generic function with 1 method)"
      ]
     },
     "metadata": {},
     "output_type": "display_data"
    }
   ],
   "source": [
    "train_wave = (a,b,c) -> a .* sin.(2*π*ceil(b) .* x .+ c)"
   ]
  },
  {
   "cell_type": "code",
   "execution_count": 14,
   "id": "74821ca4",
   "metadata": {},
   "outputs": [
    {
     "data": {
      "text/plain": [
       "4.781962917924284"
      ]
     },
     "metadata": {},
     "output_type": "display_data"
    }
   ],
   "source": [
    "norm(train_wave(0.6,7,3))"
   ]
  },
  {
   "cell_type": "code",
   "execution_count": 5,
   "id": "1b05a47b",
   "metadata": {},
   "outputs": [],
   "source": [
    "if (@isdefined a) && (@isdefined b) && (@isdefined c)\n",
    "    println(\"a and b are defined\")\n",
    "end"
   ]
  },
  {
   "cell_type": "code",
   "execution_count": 15,
   "id": "dd6f7000",
   "metadata": {},
   "outputs": [
    {
     "data": {
      "text/plain": [
       "#13 (generic function with 1 method)"
      ]
     },
     "metadata": {},
     "output_type": "display_data"
    }
   ],
   "source": [
    "train_wave = (a,b,c) -> exp.(-a * cos.(π .* x .+ b).^2) .- c"
   ]
  },
  {
   "cell_type": "code",
   "execution_count": 45,
   "id": "af76246c",
   "metadata": {},
   "outputs": [
    {
     "data": {
      "text/plain": [
       "#19 (generic function with 1 method)"
      ]
     },
     "metadata": {},
     "output_type": "display_data"
    }
   ],
   "source": [
    "train_wave3 = (a,b,c) -> exp.(-a * cos.(π .* x).^2 .+ b .* sin.(4*π .* x .+ π/3).^2 .- c .* cos.(3*π .* x).^2) "
   ]
  },
  {
   "cell_type": "code",
   "execution_count": 74,
   "id": "5ba449c6",
   "metadata": {},
   "outputs": [
    {
     "data": {
      "text/plain": [
       "7.1809556661202025"
      ]
     },
     "metadata": {},
     "output_type": "display_data"
    }
   ],
   "source": [
    "norm(train_wave3(1,0.5,1))"
   ]
  },
  {
   "cell_type": "code",
   "execution_count": 106,
   "id": "c75b097d",
   "metadata": {},
   "outputs": [
    {
     "data": {
      "text/plain": [
       "Eigen{Float64, Float64, Matrix{Float64}, Vector{Float64}}\n",
       "values:\n",
       "4-element Vector{Float64}:\n",
       " 0.09999999999999949\n",
       " 0.09999999999999963\n",
       " 0.35584024650442625\n",
       " 9.093994817808978\n",
       "vectors:\n",
       "4×4 Matrix{Float64}:\n",
       "  0.758565   0.0937271  -0.651413  -0.0155071\n",
       " -0.11616    0.391881   -0.156486   0.891311\n",
       " -0.586409  -0.504641   -0.682957   0.00370225\n",
       " -0.259249   0.763532   -0.291107  -0.453113"
      ]
     },
     "metadata": {},
     "output_type": "display_data"
    }
   ],
   "source": [
    "eigen(zap)"
   ]
  },
  {
   "cell_type": "code",
   "execution_count": 107,
   "id": "f8cae958",
   "metadata": {},
   "outputs": [
    {
     "data": {
      "text/plain": [
       "Eigen{Float64, Float64, Matrix{Float64}, Vector{Float64}}\n",
       "values:\n",
       "4-element Vector{Float64}:\n",
       " -15.291019624856911\n",
       "  -7.09950814662783\n",
       "   0.35584024650442636\n",
       "   9.093994817808985\n",
       "vectors:\n",
       "4×4 Matrix{Float64}:\n",
       "  0.703379   0.28404   0.651413   0.0155071\n",
       " -0.260996   0.336093  0.156486  -0.891311\n",
       " -0.380669  -0.623416  0.682957  -0.00370225\n",
       " -0.540583   0.646309  0.291107   0.453113"
      ]
     },
     "metadata": {},
     "output_type": "display_data"
    }
   ],
   "source": [
    "eigen(bar)"
   ]
  },
  {
   "cell_type": "code",
   "execution_count": 10,
   "id": "c4ee51db",
   "metadata": {},
   "outputs": [
    {
     "data": {
      "text/plain": [
       "4-element Vector{ComplexF64}:\n",
       "               0.1 + 0.0im\n",
       "               0.1 + 0.0im\n",
       " 12.33193892302421 - 3.479711733044939im\n",
       " 12.33193892302421 + 3.479711733044939im"
      ]
     },
     "metadata": {},
     "output_type": "display_data"
    }
   ],
   "source": [
    "s"
   ]
  },
  {
   "cell_type": "code",
   "execution_count": 15,
   "id": "21763517",
   "metadata": {},
   "outputs": [
    {
     "data": {
      "text/plain": [
       "4×4 Matrix{ComplexF64}:\n",
       "  7.39597+4.0359e-16im   6.96738+2.62968e-15im  …   5.47594-7.06443e-16im\n",
       " -1.13444+2.30578e-16im  3.05888-1.18363e-15im     -3.99011+1.22111e-15im\n",
       "  2.31802+4.66593e-16im  6.21741+3.06297e-16im     -1.36905+9.12678e-16im\n",
       "  6.30664+1.25411e-16im  4.80703+2.06405e-15im      5.77726-8.21851e-16im"
      ]
     },
     "metadata": {},
     "output_type": "display_data"
    }
   ],
   "source": [
    "v * diagm(s) * v^(-1)"
   ]
  },
  {
   "cell_type": "code",
   "execution_count": 10,
   "id": "d7394fe4",
   "metadata": {},
   "outputs": [
    {
     "name": "stdout",
     "output_type": "stream",
     "text": [
      "f(-2.23606797749979) = -16.000000000000004\n",
      "f(0.0) = 9.0\n",
      "f(2.23606797749979) = -16.000000000000004\n"
     ]
    }
   ],
   "source": [
    "M = [0 0 0 -9;\n",
    "    1 0 0 0;\n",
    "    0 1 0 10;\n",
    "    0 0 1 0]\n",
    "s, v = eigen(M)\n",
    "\n",
    "N = [0 0 0; 1 0 5; 0 1 0]\n",
    "s, v = eigen(N)\n",
    "\n",
    "f = (x) -> x.^4 -10 .* x.^2 .+ 9\n",
    "for si in s\n",
    "    val = f(si)\n",
    "    println(\"f($si) = $val\")\n",
    "end"
   ]
  },
  {
   "cell_type": "code",
   "execution_count": 13,
   "id": "cf003e58",
   "metadata": {},
   "outputs": [
    {
     "data": {
      "image/png": "[encoded data removed]",
      "image/svg+xml": [
       "<?xml version=\"1.0\" encoding=\"utf-8\"?>\n",
       "<svg xmlns=\"http://www.w3.org/2000/svg\" xmlns:xlink=\"http://www.w3.org/1999/xlink\" width=\"600\" height=\"400\" viewBox=\"0 0 2400 1600\">\n",
       "<defs>\n",
       "  <clipPath id=\"clip350\">\n",
       "    <rect x=\"0\" y=\"0\" width=\"2400\" height=\"1600\"/>\n",
       "  </clipPath>\n",
       "</defs>\n",
       "<path clip-path=\"url(#clip350)\" d=\"M0 1600 L2400 1600 L2400 0 L0 0  Z\" fill=\"#ffffff\" fill-rule=\"evenodd\" fill-opacity=\"1\"/>\n",
       "<defs>\n",
       "  <clipPath id=\"clip351\">\n",
       "    <rect x=\"480\" y=\"0\" width=\"1681\" height=\"1600\"/>\n",
       "  </clipPath>\n",
       "</defs>\n",
       "<path clip-path=\"url(#clip350)\" d=\"M170.857 1486.45 L2352.76 1486.45 L2352.76 47.2441 L170.857 47.2441  Z\" fill=\"#ffffff\" fill-rule=\"evenodd\" fill-opacity=\"1\"/>\n",
       "<defs>\n",
       "  <clipPath id=\"clip352\">\n",
       "    <rect x=\"170\" y=\"47\" width=\"2183\" height=\"1440\"/>\n",
       "  </clipPath>\n",
       "</defs>\n",
       "<polyline clip-path=\"url(#clip352)\" style=\"stroke:#000000; stroke-linecap:round; stroke-linejoin:round; stroke-width:2; stroke-opacity:0.1; fill:none\" points=\"438.449,1486.45 438.449,47.2441 \"/>\n",
       "<polyline clip-path=\"url(#clip352)\" style=\"stroke:#000000; stroke-linecap:round; stroke-linejoin:round; stroke-width:2; stroke-opacity:0.1; fill:none\" points=\"850.128,1486.45 850.128,47.2441 \"/>\n",
       "<polyline clip-path=\"url(#clip352)\" style=\"stroke:#000000; stroke-linecap:round; stroke-linejoin:round; stroke-width:2; stroke-opacity:0.1; fill:none\" points=\"1261.81,1486.45 1261.81,47.2441 \"/>\n",
       "<polyline clip-path=\"url(#clip352)\" style=\"stroke:#000000; stroke-linecap:round; stroke-linejoin:round; stroke-width:2; stroke-opacity:0.1; fill:none\" points=\"1673.49,1486.45 1673.49,47.2441 \"/>\n",
       "<polyline clip-path=\"url(#clip352)\" style=\"stroke:#000000; stroke-linecap:round; stroke-linejoin:round; stroke-width:2; stroke-opacity:0.1; fill:none\" points=\"2085.16,1486.45 2085.16,47.2441 \"/>\n",
       "<polyline clip-path=\"url(#clip350)\" style=\"stroke:#000000; stroke-linecap:round; stroke-linejoin:round; stroke-width:4; stroke-opacity:1; fill:none\" points=\"170.857,1486.45 2352.76,1486.45 \"/>\n",
       "<polyline clip-path=\"url(#clip350)\" style=\"stroke:#000000; stroke-linecap:round; stroke-linejoin:round; stroke-width:4; stroke-opacity:1; fill:none\" points=\"438.449,1486.45 438.449,1467.55 \"/>\n",
       "<polyline clip-path=\"url(#clip350)\" style=\"stroke:#000000; stroke-linecap:round; stroke-linejoin:round; stroke-width:4; stroke-opacity:1; fill:none\" points=\"850.128,1486.45 850.128,1467.55 \"/>\n",
       "<polyline clip-path=\"url(#clip350)\" style=\"stroke:#000000; stroke-linecap:round; stroke-linejoin:round; stroke-width:4; stroke-opacity:1; fill:none\" points=\"1261.81,1486.45 1261.81,1467.55 \"/>\n",
       "<polyline clip-path=\"url(#clip350)\" style=\"stroke:#000000; stroke-linecap:round; stroke-linejoin:round; stroke-width:4; stroke-opacity:1; fill:none\" points=\"1673.49,1486.45 1673.49,1467.55 \"/>\n",
       "<polyline clip-path=\"url(#clip350)\" style=\"stroke:#000000; stroke-linecap:round; stroke-linejoin:round; stroke-width:4; stroke-opacity:1; fill:none\" points=\"2085.16,1486.45 2085.16,1467.55 \"/>\n",
       "<path clip-path=\"url(#clip350)\" d=\"M407.349 1532.02 L437.025 1532.02 L437.025 1535.95 L407.349 1535.95 L407.349 1532.02 Z\" fill=\"#000000\" fill-rule=\"nonzero\" fill-opacity=\"1\" /><path clip-path=\"url(#clip350)\" d=\"M459.965 1518.36 L448.159 1536.81 L459.965 1536.81 L459.965 1518.36 M458.738 1514.29 L464.618 1514.29 L464.618 1536.81 L469.548 1536.81 L469.548 1540.7 L464.618 1540.7 L464.618 1548.85 L459.965 1548.85 L459.965 1540.7 L444.363 1540.7 L444.363 1536.19 L458.738 1514.29 Z\" fill=\"#000000\" fill-rule=\"nonzero\" fill-opacity=\"1\" /><path clip-path=\"url(#clip350)\" d=\"M820.07 1532.02 L849.746 1532.02 L849.746 1535.95 L820.07 1535.95 L820.07 1532.02 Z\" fill=\"#000000\" fill-rule=\"nonzero\" fill-opacity=\"1\" /><path clip-path=\"url(#clip350)\" d=\"M863.866 1544.91 L880.185 1544.91 L880.185 1548.85 L858.241 1548.85 L858.241 1544.91 Q860.903 1542.16 865.486 1537.53 Q870.093 1532.88 871.273 1531.53 Q873.519 1529.01 874.398 1527.27 Q875.301 1525.51 875.301 1523.82 Q875.301 1521.07 873.357 1519.33 Q871.435 1517.6 868.334 1517.6 Q866.135 1517.6 863.681 1518.36 Q861.25 1519.13 858.473 1520.68 L858.473 1515.95 Q861.297 1514.82 863.75 1514.24 Q866.204 1513.66 868.241 1513.66 Q873.611 1513.66 876.806 1516.35 Q880 1519.03 880 1523.52 Q880 1525.65 879.19 1527.57 Q878.403 1529.47 876.297 1532.07 Q875.718 1532.74 872.616 1535.95 Q869.514 1539.15 863.866 1544.91 Z\" fill=\"#000000\" fill-rule=\"nonzero\" fill-opacity=\"1\" /><path clip-path=\"url(#clip350)\" d=\"M1261.81 1517.37 Q1258.2 1517.37 1256.37 1520.93 Q1254.56 1524.47 1254.56 1531.6 Q1254.56 1538.71 1256.37 1542.27 Q1258.2 1545.82 1261.81 1545.82 Q1265.44 1545.82 1267.25 1542.27 Q1269.08 1538.71 1269.08 1531.6 Q1269.08 1524.47 1267.25 1520.93 Q1265.44 1517.37 1261.81 1517.37 M1261.81 1513.66 Q1267.62 1513.66 1270.67 1518.27 Q1273.75 1522.85 1273.75 1531.6 Q1273.75 1540.33 1270.67 1544.94 Q1267.62 1549.52 1261.81 1549.52 Q1256 1549.52 1252.92 1544.94 Q1249.86 1540.33 1249.86 1531.6 Q1249.86 1522.85 1252.92 1518.27 Q1256 1513.66 1261.81 1513.66 Z\" fill=\"#000000\" fill-rule=\"nonzero\" fill-opacity=\"1\" /><path clip-path=\"url(#clip350)\" d=\"M1668.14 1544.91 L1684.46 1544.91 L1684.46 1548.85 L1662.51 1548.85 L1662.51 1544.91 Q1665.18 1542.16 1669.76 1537.53 Q1674.37 1532.88 1675.55 1531.53 Q1677.79 1529.01 1678.67 1527.27 Q1679.57 1525.51 1679.57 1523.82 Q1679.57 1521.07 1677.63 1519.33 Q1675.71 1517.6 1672.61 1517.6 Q1670.41 1517.6 1667.95 1518.36 Q1665.52 1519.13 1662.74 1520.68 L1662.74 1515.95 Q1665.57 1514.82 1668.02 1514.24 Q1670.48 1513.66 1672.51 1513.66 Q1677.88 1513.66 1681.08 1516.35 Q1684.27 1519.03 1684.27 1523.52 Q1684.27 1525.65 1683.46 1527.57 Q1682.68 1529.47 1680.57 1532.07 Q1679.99 1532.74 1676.89 1535.95 Q1673.79 1539.15 1668.14 1544.91 Z\" fill=\"#000000\" fill-rule=\"nonzero\" fill-opacity=\"1\" /><path clip-path=\"url(#clip350)\" d=\"M2088.17 1518.36 L2076.37 1536.81 L2088.17 1536.81 L2088.17 1518.36 M2086.95 1514.29 L2092.83 1514.29 L2092.83 1536.81 L2097.76 1536.81 L2097.76 1540.7 L2092.83 1540.7 L2092.83 1548.85 L2088.17 1548.85 L2088.17 1540.7 L2072.57 1540.7 L2072.57 1536.19 L2086.95 1514.29 Z\" fill=\"#000000\" fill-rule=\"nonzero\" fill-opacity=\"1\" /><polyline clip-path=\"url(#clip352)\" style=\"stroke:#000000; stroke-linecap:round; stroke-linejoin:round; stroke-width:2; stroke-opacity:0.1; fill:none\" points=\"170.857,1391.41 2352.76,1391.41 \"/>\n",
       "<polyline clip-path=\"url(#clip352)\" style=\"stroke:#000000; stroke-linecap:round; stroke-linejoin:round; stroke-width:2; stroke-opacity:0.1; fill:none\" points=\"170.857,1051.97 2352.76,1051.97 \"/>\n",
       "<polyline clip-path=\"url(#clip352)\" style=\"stroke:#000000; stroke-linecap:round; stroke-linejoin:round; stroke-width:2; stroke-opacity:0.1; fill:none\" points=\"170.857,712.537 2352.76,712.537 \"/>\n",
       "<polyline clip-path=\"url(#clip352)\" style=\"stroke:#000000; stroke-linecap:round; stroke-linejoin:round; stroke-width:2; stroke-opacity:0.1; fill:none\" points=\"170.857,373.102 2352.76,373.102 \"/>\n",
       "<polyline clip-path=\"url(#clip350)\" style=\"stroke:#000000; stroke-linecap:round; stroke-linejoin:round; stroke-width:4; stroke-opacity:1; fill:none\" points=\"170.857,1486.45 170.857,47.2441 \"/>\n",
       "<polyline clip-path=\"url(#clip350)\" style=\"stroke:#000000; stroke-linecap:round; stroke-linejoin:round; stroke-width:4; stroke-opacity:1; fill:none\" points=\"170.857,1391.41 189.755,1391.41 \"/>\n",
       "<polyline clip-path=\"url(#clip350)\" style=\"stroke:#000000; stroke-linecap:round; stroke-linejoin:round; stroke-width:4; stroke-opacity:1; fill:none\" points=\"170.857,1051.97 189.755,1051.97 \"/>\n",
       "<polyline clip-path=\"url(#clip350)\" style=\"stroke:#000000; stroke-linecap:round; stroke-linejoin:round; stroke-width:4; stroke-opacity:1; fill:none\" points=\"170.857,712.537 189.755,712.537 \"/>\n",
       "<polyline clip-path=\"url(#clip350)\" style=\"stroke:#000000; stroke-linecap:round; stroke-linejoin:round; stroke-width:4; stroke-opacity:1; fill:none\" points=\"170.857,373.102 189.755,373.102 \"/>\n",
       "<path clip-path=\"url(#clip350)\" d=\"M122.913 1377.21 Q119.302 1377.21 117.473 1380.77 Q115.668 1384.31 115.668 1391.44 Q115.668 1398.55 117.473 1402.11 Q119.302 1405.65 122.913 1405.65 Q126.547 1405.65 128.353 1402.11 Q130.182 1398.55 130.182 1391.44 Q130.182 1384.31 128.353 1380.77 Q126.547 1377.21 122.913 1377.21 M122.913 1373.5 Q128.723 1373.5 131.779 1378.11 Q134.857 1382.69 134.857 1391.44 Q134.857 1400.17 131.779 1404.78 Q128.723 1409.36 122.913 1409.36 Q117.103 1409.36 114.024 1404.78 Q110.969 1400.17 110.969 1391.44 Q110.969 1382.69 114.024 1378.11 Q117.103 1373.5 122.913 1373.5 Z\" fill=\"#000000\" fill-rule=\"nonzero\" fill-opacity=\"1\" /><path clip-path=\"url(#clip350)\" d=\"M53.3995 1065.32 L61.0384 1065.32 L61.0384 1038.95 L52.7282 1040.62 L52.7282 1036.36 L60.9921 1034.69 L65.668 1034.69 L65.668 1065.32 L73.3068 1065.32 L73.3068 1069.25 L53.3995 1069.25 L53.3995 1065.32 Z\" fill=\"#000000\" fill-rule=\"nonzero\" fill-opacity=\"1\" /><path clip-path=\"url(#clip350)\" d=\"M92.7512 1037.77 Q89.1401 1037.77 87.3114 1041.34 Q85.5058 1044.88 85.5058 1052.01 Q85.5058 1059.11 87.3114 1062.68 Q89.1401 1066.22 92.7512 1066.22 Q96.3854 1066.22 98.1909 1062.68 Q100.02 1059.11 100.02 1052.01 Q100.02 1044.88 98.1909 1041.34 Q96.3854 1037.77 92.7512 1037.77 M92.7512 1034.07 Q98.5613 1034.07 101.617 1038.67 Q104.696 1043.26 104.696 1052.01 Q104.696 1060.73 101.617 1065.34 Q98.5613 1069.92 92.7512 1069.92 Q86.941 1069.92 83.8623 1065.34 Q80.8068 1060.73 80.8068 1052.01 Q80.8068 1043.26 83.8623 1038.67 Q86.941 1034.07 92.7512 1034.07 Z\" fill=\"#000000\" fill-rule=\"nonzero\" fill-opacity=\"1\" /><path clip-path=\"url(#clip350)\" d=\"M122.913 1037.77 Q119.302 1037.77 117.473 1041.34 Q115.668 1044.88 115.668 1052.01 Q115.668 1059.11 117.473 1062.68 Q119.302 1066.22 122.913 1066.22 Q126.547 1066.22 128.353 1062.68 Q130.182 1059.11 130.182 1052.01 Q130.182 1044.88 128.353 1041.34 Q126.547 1037.77 122.913 1037.77 M122.913 1034.07 Q128.723 1034.07 131.779 1038.67 Q134.857 1043.26 134.857 1052.01 Q134.857 1060.73 131.779 1065.34 Q128.723 1069.92 122.913 1069.92 Q117.103 1069.92 114.024 1065.34 Q110.969 1060.73 110.969 1052.01 Q110.969 1043.26 114.024 1038.67 Q117.103 1034.07 122.913 1034.07 Z\" fill=\"#000000\" fill-rule=\"nonzero\" fill-opacity=\"1\" /><path clip-path=\"url(#clip350)\" d=\"M56.6171 725.882 L72.9365 725.882 L72.9365 729.817 L50.9921 729.817 L50.9921 725.882 Q53.6541 723.127 58.2375 718.498 Q62.8439 713.845 64.0245 712.502 Q66.2698 709.979 67.1494 708.243 Q68.0522 706.484 68.0522 704.794 Q68.0522 702.039 66.1078 700.303 Q64.1865 698.567 61.0847 698.567 Q58.8856 698.567 56.4319 699.331 Q54.0014 700.095 51.2236 701.646 L51.2236 696.924 Q54.0477 695.789 56.5014 695.211 Q58.955 694.632 60.9921 694.632 Q66.3624 694.632 69.5568 697.317 Q72.7513 700.002 72.7513 704.493 Q72.7513 706.623 71.9411 708.544 Q71.1541 710.442 69.0476 713.035 Q68.4689 713.706 65.367 716.923 Q62.2652 720.118 56.6171 725.882 Z\" fill=\"#000000\" fill-rule=\"nonzero\" fill-opacity=\"1\" /><path clip-path=\"url(#clip350)\" d=\"M92.7512 698.336 Q89.1401 698.336 87.3114 701.9 Q85.5058 705.442 85.5058 712.572 Q85.5058 719.678 87.3114 723.243 Q89.1401 726.785 92.7512 726.785 Q96.3854 726.785 98.1909 723.243 Q100.02 719.678 100.02 712.572 Q100.02 705.442 98.1909 701.9 Q96.3854 698.336 92.7512 698.336 M92.7512 694.632 Q98.5613 694.632 101.617 699.238 Q104.696 703.822 104.696 712.572 Q104.696 721.298 101.617 725.905 Q98.5613 730.488 92.7512 730.488 Q86.941 730.488 83.8623 725.905 Q80.8068 721.298 80.8068 712.572 Q80.8068 703.822 83.8623 699.238 Q86.941 694.632 92.7512 694.632 Z\" fill=\"#000000\" fill-rule=\"nonzero\" fill-opacity=\"1\" /><path clip-path=\"url(#clip350)\" d=\"M122.913 698.336 Q119.302 698.336 117.473 701.9 Q115.668 705.442 115.668 712.572 Q115.668 719.678 117.473 723.243 Q119.302 726.785 122.913 726.785 Q126.547 726.785 128.353 723.243 Q130.182 719.678 130.182 712.572 Q130.182 705.442 128.353 701.9 Q126.547 698.336 122.913 698.336 M122.913 694.632 Q128.723 694.632 131.779 699.238 Q134.857 703.822 134.857 712.572 Q134.857 721.298 131.779 725.905 Q128.723 730.488 122.913 730.488 Q117.103 730.488 114.024 725.905 Q110.969 721.298 110.969 712.572 Q110.969 703.822 114.024 699.238 Q117.103 694.632 122.913 694.632 Z\" fill=\"#000000\" fill-rule=\"nonzero\" fill-opacity=\"1\" /><path clip-path=\"url(#clip350)\" d=\"M66.7559 371.748 Q70.1124 372.465 71.9874 374.734 Q73.8855 377.002 73.8855 380.336 Q73.8855 385.451 70.367 388.252 Q66.8485 391.053 60.3671 391.053 Q58.1912 391.053 55.8764 390.613 Q53.5847 390.197 51.131 389.34 L51.131 384.826 Q53.0754 385.961 55.3903 386.539 Q57.7051 387.118 60.2282 387.118 Q64.6263 387.118 66.918 385.382 Q69.2328 383.646 69.2328 380.336 Q69.2328 377.28 67.08 375.567 Q64.9504 373.831 61.131 373.831 L57.1032 373.831 L57.1032 369.988 L61.3161 369.988 Q64.7652 369.988 66.5939 368.623 Q68.4226 367.234 68.4226 364.641 Q68.4226 361.979 66.5245 360.567 Q64.6495 359.132 61.131 359.132 Q59.2097 359.132 57.0106 359.549 Q54.8115 359.965 52.1727 360.845 L52.1727 356.678 Q54.8347 355.938 57.1495 355.567 Q59.4875 355.197 61.5476 355.197 Q66.8717 355.197 69.9735 357.627 Q73.0753 360.035 73.0753 364.155 Q73.0753 367.025 71.4318 369.016 Q69.7883 370.984 66.7559 371.748 Z\" fill=\"#000000\" fill-rule=\"nonzero\" fill-opacity=\"1\" /><path clip-path=\"url(#clip350)\" d=\"M92.7512 358.9 Q89.1401 358.9 87.3114 362.465 Q85.5058 366.007 85.5058 373.136 Q85.5058 380.243 87.3114 383.808 Q89.1401 387.349 92.7512 387.349 Q96.3854 387.349 98.1909 383.808 Q100.02 380.243 100.02 373.136 Q100.02 366.007 98.1909 362.465 Q96.3854 358.9 92.7512 358.9 M92.7512 355.197 Q98.5613 355.197 101.617 359.803 Q104.696 364.387 104.696 373.136 Q104.696 381.863 101.617 386.47 Q98.5613 391.053 92.7512 391.053 Q86.941 391.053 83.8623 386.47 Q80.8068 381.863 80.8068 373.136 Q80.8068 364.387 83.8623 359.803 Q86.941 355.197 92.7512 355.197 Z\" fill=\"#000000\" fill-rule=\"nonzero\" fill-opacity=\"1\" /><path clip-path=\"url(#clip350)\" d=\"M122.913 358.9 Q119.302 358.9 117.473 362.465 Q115.668 366.007 115.668 373.136 Q115.668 380.243 117.473 383.808 Q119.302 387.349 122.913 387.349 Q126.547 387.349 128.353 383.808 Q130.182 380.243 130.182 373.136 Q130.182 366.007 128.353 362.465 Q126.547 358.9 122.913 358.9 M122.913 355.197 Q128.723 355.197 131.779 359.803 Q134.857 364.387 134.857 373.136 Q134.857 381.863 131.779 386.47 Q128.723 391.053 122.913 391.053 Q117.103 391.053 114.024 386.47 Q110.969 381.863 110.969 373.136 Q110.969 364.387 114.024 359.803 Q117.103 355.197 122.913 355.197 Z\" fill=\"#000000\" fill-rule=\"nonzero\" fill-opacity=\"1\" /><polyline clip-path=\"url(#clip352)\" style=\"stroke:#009af9; stroke-linecap:round; stroke-linejoin:round; stroke-width:4; stroke-opacity:1; fill:none\" points=\"232.609,87.9763 234.668,101.506 236.726,114.942 238.784,128.283 240.843,141.53 242.901,154.684 244.96,167.745 247.018,180.713 249.076,193.589 251.135,206.373 253.193,219.066 255.252,231.668 257.31,244.179 259.368,256.6 261.427,268.931 263.485,281.173 265.544,293.325 267.602,305.389 269.66,317.365 271.719,329.253 273.777,341.054 275.836,352.767 277.894,364.394 279.952,375.935 282.011,387.389 284.069,398.758 286.128,410.042 288.186,421.242 290.244,432.357 292.303,443.388 294.361,454.335 296.42,465.199 298.478,475.981 300.536,486.68 302.595,497.297 304.653,507.832 306.711,518.286 308.77,528.659 310.828,538.952 312.887,549.164 314.945,559.297 317.003,569.35 319.062,579.324 321.12,589.22 323.179,599.037 325.237,608.777 327.295,618.439 329.354,628.023 331.412,637.531 333.471,646.963 335.529,656.318 337.587,665.598 339.646,674.802 341.704,683.931 343.763,692.986 345.821,701.967 347.879,710.874 349.938,719.707 351.996,728.467 354.055,737.154 356.113,745.769 358.171,754.312 360.23,762.783 362.288,771.182 364.347,779.511 366.405,787.769 368.463,795.957 370.522,804.075 372.58,812.123 374.639,820.102 376.697,828.012 378.755,835.854 380.814,843.627 382.872,851.333 384.93,858.971 386.989,866.542 389.047,874.047 391.106,881.484 393.164,888.856 395.222,896.162 397.281,903.403 399.339,910.578 401.398,917.689 403.456,924.735 405.514,931.718 407.573,938.636 409.631,945.492 411.69,952.284 413.748,959.013 415.806,965.681 417.865,972.286 419.923,978.829 421.982,985.312 424.04,991.733 426.098,998.093 428.157,1004.39 430.215,1010.63 432.274,1016.81 434.332,1022.93 436.39,1029 438.449,1035 440.507,1040.95 442.566,1046.83 444.624,1052.66 446.682,1058.43 448.741,1064.15 450.799,1069.81 452.858,1075.41 454.916,1080.95 456.974,1086.44 459.033,1091.88 461.091,1097.25 463.149,1102.58 465.208,1107.85 467.266,1113.06 469.325,1118.22 471.383,1123.33 473.441,1128.39 475.5,1133.39 477.558,1138.34 479.617,1143.23 481.675,1148.08 483.733,1152.87 485.792,1157.61 487.85,1162.3 489.909,1166.94 491.967,1171.53 494.025,1176.07 496.084,1180.56 498.142,1185 500.201,1189.39 502.259,1193.73 504.317,1198.02 506.376,1202.27 508.434,1206.46 510.493,1210.61 512.551,1214.71 514.609,1218.76 516.668,1222.77 518.726,1226.73 520.785,1230.65 522.843,1234.51 524.901,1238.34 526.96,1242.11 529.018,1245.84 531.077,1249.53 533.135,1253.17 535.193,1256.77 537.252,1260.32 539.31,1263.83 541.368,1267.3 543.427,1270.72 545.485,1274.11 547.544,1277.44 549.602,1280.74 551.66,1283.99 553.719,1287.21 555.777,1290.38 557.836,1293.51 559.894,1296.6 561.952,1299.65 564.011,1302.65 566.069,1305.62 568.128,1308.55 570.186,1311.44 572.244,1314.29 574.303,1317.1 576.361,1319.87 578.42,1322.61 580.478,1325.3 582.536,1327.96 584.595,1330.58 586.653,1333.16 588.712,1335.71 590.77,1338.22 592.828,1340.69 594.887,1343.13 596.945,1345.53 599.004,1347.89 601.062,1350.22 603.12,1352.52 605.179,1354.78 607.237,1357 609.296,1359.19 611.354,1361.35 613.412,1363.47 615.471,1365.56 617.529,1367.61 619.587,1369.63 621.646,1371.62 623.704,1373.58 625.763,1375.5 627.821,1377.4 629.879,1379.26 631.938,1381.08 633.996,1382.88 636.055,1384.65 638.113,1386.38 640.171,1388.09 642.23,1389.76 644.288,1391.41 646.347,1393.02 648.405,1394.61 650.463,1396.16 652.522,1397.69 654.58,1399.19 656.639,1400.65 658.697,1402.09 660.755,1403.51 662.814,1404.89 664.872,1406.25 666.931,1407.58 668.989,1408.88 671.047,1410.15 673.106,1411.4 675.164,1412.62 677.223,1413.82 679.281,1414.99 681.339,1416.13 683.398,1417.25 685.456,1418.34 687.515,1419.41 689.573,1420.45 691.631,1421.47 693.69,1422.46 695.748,1423.43 697.806,1424.37 699.865,1425.29 701.923,1426.19 703.982,1427.07 706.04,1427.92 708.098,1428.74 710.157,1429.55 712.215,1430.33 714.274,1431.09 716.332,1431.83 718.39,1432.55 720.449,1433.24 722.507,1433.92 724.566,1434.57 726.624,1435.2 728.682,1435.81 730.741,1436.4 732.799,1436.97 734.858,1437.52 736.916,1438.05 738.974,1438.56 741.033,1439.06 743.091,1439.53 745.15,1439.98 747.208,1440.41 749.266,1440.83 751.325,1441.22 753.383,1441.6 755.442,1441.96 757.5,1442.31 759.558,1442.63 761.617,1442.94 763.675,1443.23 765.734,1443.5 767.792,1443.76 769.85,1444 771.909,1444.22 773.967,1444.42 776.025,1444.62 778.084,1444.79 780.142,1444.95 782.201,1445.09 784.259,1445.22 786.317,1445.33 788.376,1445.43 790.434,1445.51 792.493,1445.58 794.551,1445.64 796.609,1445.68 798.668,1445.7 800.726,1445.72 802.785,1445.71 804.843,1445.7 806.901,1445.67 808.96,1445.63 811.018,1445.58 813.077,1445.51 815.135,1445.43 817.193,1445.34 819.252,1445.23 821.31,1445.12 823.369,1444.99 825.427,1444.85 827.485,1444.7 829.544,1444.54 831.602,1444.36 833.661,1444.18 835.719,1443.98 837.777,1443.77 839.836,1443.56 841.894,1443.33 843.953,1443.09 846.011,1442.85 848.069,1442.59 850.128,1442.32 852.186,1442.05 854.244,1441.76 856.303,1441.47 858.361,1441.16 860.42,1440.85 862.478,1440.53 864.536,1440.2 866.595,1439.86 868.653,1439.51 870.712,1439.16 872.77,1438.8 874.828,1438.43 876.887,1438.05 878.945,1437.66 881.004,1437.27 883.062,1436.87 885.12,1436.46 887.179,1436.05 889.237,1435.63 891.296,1435.2 893.354,1434.77 895.412,1434.33 897.471,1433.88 899.529,1433.43 901.588,1432.97 903.646,1432.51 905.704,1432.04 907.763,1431.57 909.821,1431.09 911.88,1430.6 913.938,1430.12 915.996,1429.62 918.055,1429.12 920.113,1428.62 922.172,1428.11 924.23,1427.6 926.288,1427.08 928.347,1426.56 930.405,1426.04 932.463,1425.51 934.522,1424.98 936.58,1424.44 938.639,1423.9 940.697,1423.36 942.755,1422.82 944.814,1422.27 946.872,1421.72 948.931,1421.16 950.989,1420.61 953.047,1420.05 955.106,1419.49 957.164,1418.92 959.223,1418.36 961.281,1417.79 963.339,1417.22 965.398,1416.65 967.456,1416.08 969.515,1415.5 971.573,1414.92 973.631,1414.35 975.69,1413.77 977.748,1413.19 979.807,1412.61 981.865,1412.03 983.923,1411.45 985.982,1410.86 988.04,1410.28 990.099,1409.7 992.157,1409.11 994.215,1408.53 996.274,1407.94 998.332,1407.36 1000.39,1406.78 1002.45,1406.19 1004.51,1405.61 1006.57,1405.02 1008.62,1404.44 1010.68,1403.86 1012.74,1403.28 1014.8,1402.7 1016.86,1402.12 1018.92,1401.54 1020.97,1400.96 1023.03,1400.39 1025.09,1399.81 1027.15,1399.24 1029.21,1398.67 1031.27,1398.1 1033.32,1397.53 1035.38,1396.96 1037.44,1396.39 1039.5,1395.83 1041.56,1395.27 1043.62,1394.71 1045.68,1394.15 1047.73,1393.6 1049.79,1393.05 1051.85,1392.5 1053.91,1391.95 1055.97,1391.41 1058.03,1390.87 1060.08,1390.33 1062.14,1389.79 1064.2,1389.26 1066.26,1388.73 1068.32,1388.2 1070.38,1387.68 1072.43,1387.16 1074.49,1386.64 1076.55,1386.13 1078.61,1385.61 1080.67,1385.11 1082.73,1384.61 1084.78,1384.11 1086.84,1383.61 1088.9,1383.12 1090.96,1382.63 1093.02,1382.15 1095.08,1381.67 1097.14,1381.19 1099.19,1380.72 1101.25,1380.25 1103.31,1379.79 1105.37,1379.33 1107.43,1378.88 1109.49,1378.43 1111.54,1377.98 1113.6,1377.54 1115.66,1377.11 1117.72,1376.68 1119.78,1376.25 1121.84,1375.83 1123.89,1375.41 1125.95,1375 1128.01,1374.59 1130.07,1374.19 1132.13,1373.8 1134.19,1373.4 1136.24,1373.02 1138.3,1372.64 1140.36,1372.26 1142.42,1371.89 1144.48,1371.53 1146.54,1371.17 1148.59,1370.82 1150.65,1370.47 1152.71,1370.12 1154.77,1369.79 1156.83,1369.46 1158.89,1369.13 1160.95,1368.81 1163,1368.5 1165.06,1368.19 1167.12,1367.89 1169.18,1367.59 1171.24,1367.3 1173.3,1367.02 1175.35,1366.74 1177.41,1366.47 1179.47,1366.2 1181.53,1365.94 1183.59,1365.69 1185.65,1365.44 1187.7,1365.2 1189.76,1364.97 1191.82,1364.74 1193.88,1364.51 1195.94,1364.3 1198,1364.09 1200.05,1363.89 1202.11,1363.69 1204.17,1363.5 1206.23,1363.31 1208.29,1363.14 1210.35,1362.97 1212.41,1362.8 1214.46,1362.64 1216.52,1362.49 1218.58,1362.35 1220.64,1362.21 1222.7,1362.08 1224.76,1361.95 1226.81,1361.84 1228.87,1361.72 1230.93,1361.62 1232.99,1361.52 1235.05,1361.43 1237.11,1361.35 1239.16,1361.27 1241.22,1361.2 1243.28,1361.13 1245.34,1361.08 1247.4,1361.02 1249.46,1360.98 1251.51,1360.94 1253.57,1360.91 1255.63,1360.89 1257.69,1360.87 1259.75,1360.86 1261.81,1360.86 1263.87,1360.86 1265.92,1360.87 1267.98,1360.89 1270.04,1360.91 1272.1,1360.94 1274.16,1360.98 1276.22,1361.02 1278.27,1361.08 1280.33,1361.13 1282.39,1361.2 1284.45,1361.27 1286.51,1361.35 1288.57,1361.43 1290.62,1361.52 1292.68,1361.62 1294.74,1361.72 1296.8,1361.84 1298.86,1361.95 1300.92,1362.08 1302.97,1362.21 1305.03,1362.35 1307.09,1362.49 1309.15,1362.64 1311.21,1362.8 1313.27,1362.97 1315.32,1363.14 1317.38,1363.31 1319.44,1363.5 1321.5,1363.69 1323.56,1363.89 1325.62,1364.09 1327.68,1364.3 1329.73,1364.51 1331.79,1364.74 1333.85,1364.97 1335.91,1365.2 1337.97,1365.44 1340.03,1365.69 1342.08,1365.94 1344.14,1366.2 1346.2,1366.47 1348.26,1366.74 1350.32,1367.02 1352.38,1367.3 1354.43,1367.59 1356.49,1367.89 1358.55,1368.19 1360.61,1368.5 1362.67,1368.81 1364.73,1369.13 1366.78,1369.46 1368.84,1369.79 1370.9,1370.12 1372.96,1370.47 1375.02,1370.82 1377.08,1371.17 1379.14,1371.53 1381.19,1371.89 1383.25,1372.26 1385.31,1372.64 1387.37,1373.02 1389.43,1373.4 1391.49,1373.8 1393.54,1374.19 1395.6,1374.59 1397.66,1375 1399.72,1375.41 1401.78,1375.83 1403.84,1376.25 1405.89,1376.68 1407.95,1377.11 1410.01,1377.54 1412.07,1377.98 1414.13,1378.43 1416.19,1378.88 1418.24,1379.33 1420.3,1379.79 1422.36,1380.25 1424.42,1380.72 1426.48,1381.19 1428.54,1381.67 1430.6,1382.15 1432.65,1382.63 1434.71,1383.12 1436.77,1383.61 1438.83,1384.11 1440.89,1384.61 1442.95,1385.11 1445,1385.61 1447.06,1386.13 1449.12,1386.64 1451.18,1387.16 1453.24,1387.68 1455.3,1388.2 1457.35,1388.73 1459.41,1389.26 1461.47,1389.79 1463.53,1390.33 1465.59,1390.87 1467.65,1391.41 1469.7,1391.95 1471.76,1392.5 1473.82,1393.05 1475.88,1393.6 1477.94,1394.15 1480,1394.71 1482.05,1395.27 1484.11,1395.83 1486.17,1396.39 1488.23,1396.96 1490.29,1397.53 1492.35,1398.1 1494.41,1398.67 1496.46,1399.24 1498.52,1399.81 1500.58,1400.39 1502.64,1400.96 1504.7,1401.54 1506.76,1402.12 1508.81,1402.7 1510.87,1403.28 1512.93,1403.86 1514.99,1404.44 1517.05,1405.02 1519.11,1405.61 1521.16,1406.19 1523.22,1406.78 1525.28,1407.36 1527.34,1407.94 1529.4,1408.53 1531.46,1409.11 1533.51,1409.7 1535.57,1410.28 1537.63,1410.86 1539.69,1411.45 1541.75,1412.03 1543.81,1412.61 1545.87,1413.19 1547.92,1413.77 1549.98,1414.35 1552.04,1414.92 1554.1,1415.5 1556.16,1416.08 1558.22,1416.65 1560.27,1417.22 1562.33,1417.79 1564.39,1418.36 1566.45,1418.92 1568.51,1419.49 1570.57,1420.05 1572.62,1420.61 1574.68,1421.16 1576.74,1421.72 1578.8,1422.27 1580.86,1422.82 1582.92,1423.36 1584.97,1423.9 1587.03,1424.44 1589.09,1424.98 1591.15,1425.51 1593.21,1426.04 1595.27,1426.56 1597.33,1427.08 1599.38,1427.6 1601.44,1428.11 1603.5,1428.62 1605.56,1429.12 1607.62,1429.62 1609.68,1430.12 1611.73,1430.6 1613.79,1431.09 1615.85,1431.57 1617.91,1432.04 1619.97,1432.51 1622.03,1432.97 1624.08,1433.43 1626.14,1433.88 1628.2,1434.33 1630.26,1434.77 1632.32,1435.2 1634.38,1435.63 1636.43,1436.05 1638.49,1436.46 1640.55,1436.87 1642.61,1437.27 1644.67,1437.66 1646.73,1438.05 1648.78,1438.43 1650.84,1438.8 1652.9,1439.16 1654.96,1439.51 1657.02,1439.86 1659.08,1440.2 1661.14,1440.53 1663.19,1440.85 1665.25,1441.16 1667.31,1441.47 1669.37,1441.76 1671.43,1442.05 1673.49,1442.32 1675.54,1442.59 1677.6,1442.85 1679.66,1443.09 1681.72,1443.33 1683.78,1443.56 1685.84,1443.77 1687.89,1443.98 1689.95,1444.18 1692.01,1444.36 1694.07,1444.54 1696.13,1444.7 1698.19,1444.85 1700.24,1444.99 1702.3,1445.12 1704.36,1445.23 1706.42,1445.34 1708.48,1445.43 1710.54,1445.51 1712.6,1445.58 1714.65,1445.63 1716.71,1445.67 1718.77,1445.7 1720.83,1445.71 1722.89,1445.72 1724.95,1445.7 1727,1445.68 1729.06,1445.64 1731.12,1445.58 1733.18,1445.51 1735.24,1445.43 1737.3,1445.33 1739.35,1445.22 1741.41,1445.09 1743.47,1444.95 1745.53,1444.79 1747.59,1444.62 1749.65,1444.42 1751.7,1444.22 1753.76,1444 1755.82,1443.76 1757.88,1443.5 1759.94,1443.23 1762,1442.94 1764.05,1442.63 1766.11,1442.31 1768.17,1441.96 1770.23,1441.6 1772.29,1441.22 1774.35,1440.83 1776.41,1440.41 1778.46,1439.98 1780.52,1439.53 1782.58,1439.06 1784.64,1438.56 1786.7,1438.05 1788.76,1437.52 1790.81,1436.97 1792.87,1436.4 1794.93,1435.81 1796.99,1435.2 1799.05,1434.57 1801.11,1433.92 1803.16,1433.24 1805.22,1432.55 1807.28,1431.83 1809.34,1431.09 1811.4,1430.33 1813.46,1429.55 1815.51,1428.74 1817.57,1427.92 1819.63,1427.07 1821.69,1426.19 1823.75,1425.29 1825.81,1424.37 1827.87,1423.43 1829.92,1422.46 1831.98,1421.47 1834.04,1420.45 1836.1,1419.41 1838.16,1418.34 1840.22,1417.25 1842.27,1416.13 1844.33,1414.99 1846.39,1413.82 1848.45,1412.62 1850.51,1411.4 1852.57,1410.15 1854.62,1408.88 1856.68,1407.58 1858.74,1406.25 1860.8,1404.89 1862.86,1403.51 1864.92,1402.09 1866.97,1400.65 1869.03,1399.19 1871.09,1397.69 1873.15,1396.16 1875.21,1394.61 1877.27,1393.02 1879.33,1391.41 1881.38,1389.76 1883.44,1388.09 1885.5,1386.38 1887.56,1384.65 1889.62,1382.88 1891.68,1381.08 1893.73,1379.26 1895.79,1377.4 1897.85,1375.5 1899.91,1373.58 1901.97,1371.62 1904.03,1369.63 1906.08,1367.61 1908.14,1365.56 1910.2,1363.47 1912.26,1361.35 1914.32,1359.19 1916.38,1357 1918.43,1354.78 1920.49,1352.52 1922.55,1350.22 1924.61,1347.89 1926.67,1345.53 1928.73,1343.13 1930.78,1340.69 1932.84,1338.22 1934.9,1335.71 1936.96,1333.16 1939.02,1330.58 1941.08,1327.96 1943.14,1325.3 1945.19,1322.61 1947.25,1319.87 1949.31,1317.1 1951.37,1314.29 1953.43,1311.44 1955.49,1308.55 1957.54,1305.62 1959.6,1302.65 1961.66,1299.65 1963.72,1296.6 1965.78,1293.51 1967.84,1290.38 1969.89,1287.21 1971.95,1283.99 1974.01,1280.74 1976.07,1277.44 1978.13,1274.11 1980.19,1270.72 1982.24,1267.3 1984.3,1263.83 1986.36,1260.32 1988.42,1256.77 1990.48,1253.17 1992.54,1249.53 1994.6,1245.84 1996.65,1242.11 1998.71,1238.34 2000.77,1234.51 2002.83,1230.65 2004.89,1226.73 2006.95,1222.77 2009,1218.76 2011.06,1214.71 2013.12,1210.61 2015.18,1206.46 2017.24,1202.27 2019.3,1198.02 2021.35,1193.73 2023.41,1189.39 2025.47,1185 2027.53,1180.56 2029.59,1176.07 2031.65,1171.53 2033.7,1166.94 2035.76,1162.3 2037.82,1157.61 2039.88,1152.87 2041.94,1148.08 2044,1143.23 2046.06,1138.34 2048.11,1133.39 2050.17,1128.39 2052.23,1123.33 2054.29,1118.22 2056.35,1113.06 2058.41,1107.85 2060.46,1102.58 2062.52,1097.25 2064.58,1091.88 2066.64,1086.44 2068.7,1080.95 2070.76,1075.41 2072.81,1069.81 2074.87,1064.15 2076.93,1058.43 2078.99,1052.66 2081.05,1046.83 2083.11,1040.95 2085.16,1035 2087.22,1029 2089.28,1022.93 2091.34,1016.81 2093.4,1010.63 2095.46,1004.39 2097.51,998.093 2099.57,991.733 2101.63,985.312 2103.69,978.829 2105.75,972.286 2107.81,965.681 2109.87,959.013 2111.92,952.284 2113.98,945.492 2116.04,938.636 2118.1,931.718 2120.16,924.735 2122.22,917.689 2124.27,910.578 2126.33,903.403 2128.39,896.162 2130.45,888.856 2132.51,881.484 2134.57,874.047 2136.62,866.542 2138.68,858.971 2140.74,851.333 2142.8,843.627 2144.86,835.854 2146.92,828.012 2148.97,820.102 2151.03,812.123 2153.09,804.075 2155.15,795.957 2157.21,787.769 2159.27,779.511 2161.33,771.182 2163.38,762.783 2165.44,754.312 2167.5,745.769 2169.56,737.154 2171.62,728.467 2173.68,719.707 2175.73,710.874 2177.79,701.967 2179.85,692.986 2181.91,683.931 2183.97,674.802 2186.03,665.598 2188.08,656.318 2190.14,646.963 2192.2,637.531 2194.26,628.023 2196.32,618.439 2198.38,608.777 2200.43,599.037 2202.49,589.22 2204.55,579.324 2206.61,569.35 2208.67,559.297 2210.73,549.164 2212.79,538.952 2214.84,528.659 2216.9,518.286 2218.96,507.832 2221.02,497.297 2223.08,486.68 2225.14,475.981 2227.19,465.199 2229.25,454.335 2231.31,443.388 2233.37,432.357 2235.43,421.242 2237.49,410.042 2239.54,398.758 2241.6,387.389 2243.66,375.935 2245.72,364.394 2247.78,352.767 2249.84,341.054 2251.89,329.253 2253.95,317.365 2256.01,305.389 2258.07,293.325 2260.13,281.173 2262.19,268.931 2264.24,256.6 2266.3,244.179 2268.36,231.668 2270.42,219.066 2272.48,206.373 2274.54,193.589 2276.6,180.713 2278.65,167.745 2280.71,154.684 2282.77,141.53 2284.83,128.283 2286.89,114.942 2288.95,101.506 2291,87.9763 \"/>\n",
       "<path clip-path=\"url(#clip350)\" d=\"M2009.41 198.898 L2280.03 198.898 L2280.03 95.2176 L2009.41 95.2176  Z\" fill=\"#ffffff\" fill-rule=\"evenodd\" fill-opacity=\"1\"/>\n",
       "<polyline clip-path=\"url(#clip350)\" style=\"stroke:#000000; stroke-linecap:round; stroke-linejoin:round; stroke-width:4; stroke-opacity:1; fill:none\" points=\"2009.41,198.898 2280.03,198.898 2280.03,95.2176 2009.41,95.2176 2009.41,198.898 \"/>\n",
       "<polyline clip-path=\"url(#clip350)\" style=\"stroke:#009af9; stroke-linecap:round; stroke-linejoin:round; stroke-width:4; stroke-opacity:1; fill:none\" points=\"2033.65,147.058 2179.11,147.058 \"/>\n",
       "<path clip-path=\"url(#clip350)\" d=\"M2217.19 166.745 Q2215.39 171.375 2213.68 172.787 Q2211.96 174.199 2209.09 174.199 L2205.69 174.199 L2205.69 170.634 L2208.19 170.634 Q2209.95 170.634 2210.92 169.8 Q2211.89 168.967 2213.07 165.865 L2213.84 163.921 L2203.35 138.412 L2207.87 138.412 L2215.97 158.689 L2224.07 138.412 L2228.58 138.412 L2217.19 166.745 Z\" fill=\"#000000\" fill-rule=\"nonzero\" fill-opacity=\"1\" /><path clip-path=\"url(#clip350)\" d=\"M2235.88 160.402 L2243.51 160.402 L2243.51 134.037 L2235.2 135.703 L2235.2 131.444 L2243.47 129.778 L2248.14 129.778 L2248.14 160.402 L2255.78 160.402 L2255.78 164.338 L2235.88 164.338 L2235.88 160.402 Z\" fill=\"#000000\" fill-rule=\"nonzero\" fill-opacity=\"1\" /></svg>\n"
      ],
      "text/html": [
       "<?xml version=\"1.0\" encoding=\"utf-8\"?>\n",
       "<svg xmlns=\"http://www.w3.org/2000/svg\" xmlns:xlink=\"http://www.w3.org/1999/xlink\" width=\"600\" height=\"400\" viewBox=\"0 0 2400 1600\">\n",
       "<defs>\n",
       "  <clipPath id=\"clip400\">\n",
       "    <rect x=\"0\" y=\"0\" width=\"2400\" height=\"1600\"/>\n",
       "  </clipPath>\n",
       "</defs>\n",
       "<path clip-path=\"url(#clip400)\" d=\"M0 1600 L2400 1600 L2400 0 L0 0  Z\" fill=\"#ffffff\" fill-rule=\"evenodd\" fill-opacity=\"1\"/>\n",
       "<defs>\n",
       "  <clipPath id=\"clip401\">\n",
       "    <rect x=\"480\" y=\"0\" width=\"1681\" height=\"1600\"/>\n",
       "  </clipPath>\n",
       "</defs>\n",
       "<path clip-path=\"url(#clip400)\" d=\"M170.857 1486.45 L2352.76 1486.45 L2352.76 47.2441 L170.857 47.2441  Z\" fill=\"#ffffff\" fill-rule=\"evenodd\" fill-opacity=\"1\"/>\n",
       "<defs>\n",
       "  <clipPath id=\"clip402\">\n",
       "    <rect x=\"170\" y=\"47\" width=\"2183\" height=\"1440\"/>\n",
       "  </clipPath>\n",
       "</defs>\n",
       "<polyline clip-path=\"url(#clip402)\" style=\"stroke:#000000; stroke-linecap:round; stroke-linejoin:round; stroke-width:2; stroke-opacity:0.1; fill:none\" points=\"438.449,1486.45 438.449,47.2441 \"/>\n",
       "<polyline clip-path=\"url(#clip402)\" style=\"stroke:#000000; stroke-linecap:round; stroke-linejoin:round; stroke-width:2; stroke-opacity:0.1; fill:none\" points=\"850.128,1486.45 850.128,47.2441 \"/>\n",
       "<polyline clip-path=\"url(#clip402)\" style=\"stroke:#000000; stroke-linecap:round; stroke-linejoin:round; stroke-width:2; stroke-opacity:0.1; fill:none\" points=\"1261.81,1486.45 1261.81,47.2441 \"/>\n",
       "<polyline clip-path=\"url(#clip402)\" style=\"stroke:#000000; stroke-linecap:round; stroke-linejoin:round; stroke-width:2; stroke-opacity:0.1; fill:none\" points=\"1673.49,1486.45 1673.49,47.2441 \"/>\n",
       "<polyline clip-path=\"url(#clip402)\" style=\"stroke:#000000; stroke-linecap:round; stroke-linejoin:round; stroke-width:2; stroke-opacity:0.1; fill:none\" points=\"2085.16,1486.45 2085.16,47.2441 \"/>\n",
       "<polyline clip-path=\"url(#clip400)\" style=\"stroke:#000000; stroke-linecap:round; stroke-linejoin:round; stroke-width:4; stroke-opacity:1; fill:none\" points=\"170.857,1486.45 2352.76,1486.45 \"/>\n",
       "<polyline clip-path=\"url(#clip400)\" style=\"stroke:#000000; stroke-linecap:round; stroke-linejoin:round; stroke-width:4; stroke-opacity:1; fill:none\" points=\"438.449,1486.45 438.449,1467.55 \"/>\n",
       "<polyline clip-path=\"url(#clip400)\" style=\"stroke:#000000; stroke-linecap:round; stroke-linejoin:round; stroke-width:4; stroke-opacity:1; fill:none\" points=\"850.128,1486.45 850.128,1467.55 \"/>\n",
       "<polyline clip-path=\"url(#clip400)\" style=\"stroke:#000000; stroke-linecap:round; stroke-linejoin:round; stroke-width:4; stroke-opacity:1; fill:none\" points=\"1261.81,1486.45 1261.81,1467.55 \"/>\n",
       "<polyline clip-path=\"url(#clip400)\" style=\"stroke:#000000; stroke-linecap:round; stroke-linejoin:round; stroke-width:4; stroke-opacity:1; fill:none\" points=\"1673.49,1486.45 1673.49,1467.55 \"/>\n",
       "<polyline clip-path=\"url(#clip400)\" style=\"stroke:#000000; stroke-linecap:round; stroke-linejoin:round; stroke-width:4; stroke-opacity:1; fill:none\" points=\"2085.16,1486.45 2085.16,1467.55 \"/>\n",
       "<path clip-path=\"url(#clip400)\" d=\"M407.349 1532.02 L437.025 1532.02 L437.025 1535.95 L407.349 1535.95 L407.349 1532.02 Z\" fill=\"#000000\" fill-rule=\"nonzero\" fill-opacity=\"1\" /><path clip-path=\"url(#clip400)\" d=\"M459.965 1518.36 L448.159 1536.81 L459.965 1536.81 L459.965 1518.36 M458.738 1514.29 L464.618 1514.29 L464.618 1536.81 L469.548 1536.81 L469.548 1540.7 L464.618 1540.7 L464.618 1548.85 L459.965 1548.85 L459.965 1540.7 L444.363 1540.7 L444.363 1536.19 L458.738 1514.29 Z\" fill=\"#000000\" fill-rule=\"nonzero\" fill-opacity=\"1\" /><path clip-path=\"url(#clip400)\" d=\"M820.07 1532.02 L849.746 1532.02 L849.746 1535.95 L820.07 1535.95 L820.07 1532.02 Z\" fill=\"#000000\" fill-rule=\"nonzero\" fill-opacity=\"1\" /><path clip-path=\"url(#clip400)\" d=\"M863.866 1544.91 L880.185 1544.91 L880.185 1548.85 L858.241 1548.85 L858.241 1544.91 Q860.903 1542.16 865.486 1537.53 Q870.093 1532.88 871.273 1531.53 Q873.519 1529.01 874.398 1527.27 Q875.301 1525.51 875.301 1523.82 Q875.301 1521.07 873.357 1519.33 Q871.435 1517.6 868.334 1517.6 Q866.135 1517.6 863.681 1518.36 Q861.25 1519.13 858.473 1520.68 L858.473 1515.95 Q861.297 1514.82 863.75 1514.24 Q866.204 1513.66 868.241 1513.66 Q873.611 1513.66 876.806 1516.35 Q880 1519.03 880 1523.52 Q880 1525.65 879.19 1527.57 Q878.403 1529.47 876.297 1532.07 Q875.718 1532.74 872.616 1535.95 Q869.514 1539.15 863.866 1544.91 Z\" fill=\"#000000\" fill-rule=\"nonzero\" fill-opacity=\"1\" /><path clip-path=\"url(#clip400)\" d=\"M1261.81 1517.37 Q1258.2 1517.37 1256.37 1520.93 Q1254.56 1524.47 1254.56 1531.6 Q1254.56 1538.71 1256.37 1542.27 Q1258.2 1545.82 1261.81 1545.82 Q1265.44 1545.82 1267.25 1542.27 Q1269.08 1538.71 1269.08 1531.6 Q1269.08 1524.47 1267.25 1520.93 Q1265.44 1517.37 1261.81 1517.37 M1261.81 1513.66 Q1267.62 1513.66 1270.67 1518.27 Q1273.75 1522.85 1273.75 1531.6 Q1273.75 1540.33 1270.67 1544.94 Q1267.62 1549.52 1261.81 1549.52 Q1256 1549.52 1252.92 1544.94 Q1249.86 1540.33 1249.86 1531.6 Q1249.86 1522.85 1252.92 1518.27 Q1256 1513.66 1261.81 1513.66 Z\" fill=\"#000000\" fill-rule=\"nonzero\" fill-opacity=\"1\" /><path clip-path=\"url(#clip400)\" d=\"M1668.14 1544.91 L1684.46 1544.91 L1684.46 1548.85 L1662.51 1548.85 L1662.51 1544.91 Q1665.18 1542.16 1669.76 1537.53 Q1674.37 1532.88 1675.55 1531.53 Q1677.79 1529.01 1678.67 1527.27 Q1679.57 1525.51 1679.57 1523.82 Q1679.57 1521.07 1677.63 1519.33 Q1675.71 1517.6 1672.61 1517.6 Q1670.41 1517.6 1667.95 1518.36 Q1665.52 1519.13 1662.74 1520.68 L1662.74 1515.95 Q1665.57 1514.82 1668.02 1514.24 Q1670.48 1513.66 1672.51 1513.66 Q1677.88 1513.66 1681.08 1516.35 Q1684.27 1519.03 1684.27 1523.52 Q1684.27 1525.65 1683.46 1527.57 Q1682.68 1529.47 1680.57 1532.07 Q1679.99 1532.74 1676.89 1535.95 Q1673.79 1539.15 1668.14 1544.91 Z\" fill=\"#000000\" fill-rule=\"nonzero\" fill-opacity=\"1\" /><path clip-path=\"url(#clip400)\" d=\"M2088.17 1518.36 L2076.37 1536.81 L2088.17 1536.81 L2088.17 1518.36 M2086.95 1514.29 L2092.83 1514.29 L2092.83 1536.81 L2097.76 1536.81 L2097.76 1540.7 L2092.83 1540.7 L2092.83 1548.85 L2088.17 1548.85 L2088.17 1540.7 L2072.57 1540.7 L2072.57 1536.19 L2086.95 1514.29 Z\" fill=\"#000000\" fill-rule=\"nonzero\" fill-opacity=\"1\" /><polyline clip-path=\"url(#clip402)\" style=\"stroke:#000000; stroke-linecap:round; stroke-linejoin:round; stroke-width:2; stroke-opacity:0.1; fill:none\" points=\"170.857,1391.41 2352.76,1391.41 \"/>\n",
       "<polyline clip-path=\"url(#clip402)\" style=\"stroke:#000000; stroke-linecap:round; stroke-linejoin:round; stroke-width:2; stroke-opacity:0.1; fill:none\" points=\"170.857,1051.97 2352.76,1051.97 \"/>\n",
       "<polyline clip-path=\"url(#clip402)\" style=\"stroke:#000000; stroke-linecap:round; stroke-linejoin:round; stroke-width:2; stroke-opacity:0.1; fill:none\" points=\"170.857,712.537 2352.76,712.537 \"/>\n",
       "<polyline clip-path=\"url(#clip402)\" style=\"stroke:#000000; stroke-linecap:round; stroke-linejoin:round; stroke-width:2; stroke-opacity:0.1; fill:none\" points=\"170.857,373.102 2352.76,373.102 \"/>\n",
       "<polyline clip-path=\"url(#clip400)\" style=\"stroke:#000000; stroke-linecap:round; stroke-linejoin:round; stroke-width:4; stroke-opacity:1; fill:none\" points=\"170.857,1486.45 170.857,47.2441 \"/>\n",
       "<polyline clip-path=\"url(#clip400)\" style=\"stroke:#000000; stroke-linecap:round; stroke-linejoin:round; stroke-width:4; stroke-opacity:1; fill:none\" points=\"170.857,1391.41 189.755,1391.41 \"/>\n",
       "<polyline clip-path=\"url(#clip400)\" style=\"stroke:#000000; stroke-linecap:round; stroke-linejoin:round; stroke-width:4; stroke-opacity:1; fill:none\" points=\"170.857,1051.97 189.755,1051.97 \"/>\n",
       "<polyline clip-path=\"url(#clip400)\" style=\"stroke:#000000; stroke-linecap:round; stroke-linejoin:round; stroke-width:4; stroke-opacity:1; fill:none\" points=\"170.857,712.537 189.755,712.537 \"/>\n",
       "<polyline clip-path=\"url(#clip400)\" style=\"stroke:#000000; stroke-linecap:round; stroke-linejoin:round; stroke-width:4; stroke-opacity:1; fill:none\" points=\"170.857,373.102 189.755,373.102 \"/>\n",
       "<path clip-path=\"url(#clip400)\" d=\"M122.913 1377.21 Q119.302 1377.21 117.473 1380.77 Q115.668 1384.31 115.668 1391.44 Q115.668 1398.55 117.473 1402.11 Q119.302 1405.65 122.913 1405.65 Q126.547 1405.65 128.353 1402.11 Q130.182 1398.55 130.182 1391.44 Q130.182 1384.31 128.353 1380.77 Q126.547 1377.21 122.913 1377.21 M122.913 1373.5 Q128.723 1373.5 131.779 1378.11 Q134.857 1382.69 134.857 1391.44 Q134.857 1400.17 131.779 1404.78 Q128.723 1409.36 122.913 1409.36 Q117.103 1409.36 114.024 1404.78 Q110.969 1400.17 110.969 1391.44 Q110.969 1382.69 114.024 1378.11 Q117.103 1373.5 122.913 1373.5 Z\" fill=\"#000000\" fill-rule=\"nonzero\" fill-opacity=\"1\" /><path clip-path=\"url(#clip400)\" d=\"M53.3995 1065.32 L61.0384 1065.32 L61.0384 1038.95 L52.7282 1040.62 L52.7282 1036.36 L60.9921 1034.69 L65.668 1034.69 L65.668 1065.32 L73.3068 1065.32 L73.3068 1069.25 L53.3995 1069.25 L53.3995 1065.32 Z\" fill=\"#000000\" fill-rule=\"nonzero\" fill-opacity=\"1\" /><path clip-path=\"url(#clip400)\" d=\"M92.7512 1037.77 Q89.1401 1037.77 87.3114 1041.34 Q85.5058 1044.88 85.5058 1052.01 Q85.5058 1059.11 87.3114 1062.68 Q89.1401 1066.22 92.7512 1066.22 Q96.3854 1066.22 98.1909 1062.68 Q100.02 1059.11 100.02 1052.01 Q100.02 1044.88 98.1909 1041.34 Q96.3854 1037.77 92.7512 1037.77 M92.7512 1034.07 Q98.5613 1034.07 101.617 1038.67 Q104.696 1043.26 104.696 1052.01 Q104.696 1060.73 101.617 1065.34 Q98.5613 1069.92 92.7512 1069.92 Q86.941 1069.92 83.8623 1065.34 Q80.8068 1060.73 80.8068 1052.01 Q80.8068 1043.26 83.8623 1038.67 Q86.941 1034.07 92.7512 1034.07 Z\" fill=\"#000000\" fill-rule=\"nonzero\" fill-opacity=\"1\" /><path clip-path=\"url(#clip400)\" d=\"M122.913 1037.77 Q119.302 1037.77 117.473 1041.34 Q115.668 1044.88 115.668 1052.01 Q115.668 1059.11 117.473 1062.68 Q119.302 1066.22 122.913 1066.22 Q126.547 1066.22 128.353 1062.68 Q130.182 1059.11 130.182 1052.01 Q130.182 1044.88 128.353 1041.34 Q126.547 1037.77 122.913 1037.77 M122.913 1034.07 Q128.723 1034.07 131.779 1038.67 Q134.857 1043.26 134.857 1052.01 Q134.857 1060.73 131.779 1065.34 Q128.723 1069.92 122.913 1069.92 Q117.103 1069.92 114.024 1065.34 Q110.969 1060.73 110.969 1052.01 Q110.969 1043.26 114.024 1038.67 Q117.103 1034.07 122.913 1034.07 Z\" fill=\"#000000\" fill-rule=\"nonzero\" fill-opacity=\"1\" /><path clip-path=\"url(#clip400)\" d=\"M56.6171 725.882 L72.9365 725.882 L72.9365 729.817 L50.9921 729.817 L50.9921 725.882 Q53.6541 723.127 58.2375 718.498 Q62.8439 713.845 64.0245 712.502 Q66.2698 709.979 67.1494 708.243 Q68.0522 706.484 68.0522 704.794 Q68.0522 702.039 66.1078 700.303 Q64.1865 698.567 61.0847 698.567 Q58.8856 698.567 56.4319 699.331 Q54.0014 700.095 51.2236 701.646 L51.2236 696.924 Q54.0477 695.789 56.5014 695.211 Q58.955 694.632 60.9921 694.632 Q66.3624 694.632 69.5568 697.317 Q72.7513 700.002 72.7513 704.493 Q72.7513 706.623 71.9411 708.544 Q71.1541 710.442 69.0476 713.035 Q68.4689 713.706 65.367 716.923 Q62.2652 720.118 56.6171 725.882 Z\" fill=\"#000000\" fill-rule=\"nonzero\" fill-opacity=\"1\" /><path clip-path=\"url(#clip400)\" d=\"M92.7512 698.336 Q89.1401 698.336 87.3114 701.9 Q85.5058 705.442 85.5058 712.572 Q85.5058 719.678 87.3114 723.243 Q89.1401 726.785 92.7512 726.785 Q96.3854 726.785 98.1909 723.243 Q100.02 719.678 100.02 712.572 Q100.02 705.442 98.1909 701.9 Q96.3854 698.336 92.7512 698.336 M92.7512 694.632 Q98.5613 694.632 101.617 699.238 Q104.696 703.822 104.696 712.572 Q104.696 721.298 101.617 725.905 Q98.5613 730.488 92.7512 730.488 Q86.941 730.488 83.8623 725.905 Q80.8068 721.298 80.8068 712.572 Q80.8068 703.822 83.8623 699.238 Q86.941 694.632 92.7512 694.632 Z\" fill=\"#000000\" fill-rule=\"nonzero\" fill-opacity=\"1\" /><path clip-path=\"url(#clip400)\" d=\"M122.913 698.336 Q119.302 698.336 117.473 701.9 Q115.668 705.442 115.668 712.572 Q115.668 719.678 117.473 723.243 Q119.302 726.785 122.913 726.785 Q126.547 726.785 128.353 723.243 Q130.182 719.678 130.182 712.572 Q130.182 705.442 128.353 701.9 Q126.547 698.336 122.913 698.336 M122.913 694.632 Q128.723 694.632 131.779 699.238 Q134.857 703.822 134.857 712.572 Q134.857 721.298 131.779 725.905 Q128.723 730.488 122.913 730.488 Q117.103 730.488 114.024 725.905 Q110.969 721.298 110.969 712.572 Q110.969 703.822 114.024 699.238 Q117.103 694.632 122.913 694.632 Z\" fill=\"#000000\" fill-rule=\"nonzero\" fill-opacity=\"1\" /><path clip-path=\"url(#clip400)\" d=\"M66.7559 371.748 Q70.1124 372.465 71.9874 374.734 Q73.8855 377.002 73.8855 380.336 Q73.8855 385.451 70.367 388.252 Q66.8485 391.053 60.3671 391.053 Q58.1912 391.053 55.8764 390.613 Q53.5847 390.197 51.131 389.34 L51.131 384.826 Q53.0754 385.961 55.3903 386.539 Q57.7051 387.118 60.2282 387.118 Q64.6263 387.118 66.918 385.382 Q69.2328 383.646 69.2328 380.336 Q69.2328 377.28 67.08 375.567 Q64.9504 373.831 61.131 373.831 L57.1032 373.831 L57.1032 369.988 L61.3161 369.988 Q64.7652 369.988 66.5939 368.623 Q68.4226 367.234 68.4226 364.641 Q68.4226 361.979 66.5245 360.567 Q64.6495 359.132 61.131 359.132 Q59.2097 359.132 57.0106 359.549 Q54.8115 359.965 52.1727 360.845 L52.1727 356.678 Q54.8347 355.938 57.1495 355.567 Q59.4875 355.197 61.5476 355.197 Q66.8717 355.197 69.9735 357.627 Q73.0753 360.035 73.0753 364.155 Q73.0753 367.025 71.4318 369.016 Q69.7883 370.984 66.7559 371.748 Z\" fill=\"#000000\" fill-rule=\"nonzero\" fill-opacity=\"1\" /><path clip-path=\"url(#clip400)\" d=\"M92.7512 358.9 Q89.1401 358.9 87.3114 362.465 Q85.5058 366.007 85.5058 373.136 Q85.5058 380.243 87.3114 383.808 Q89.1401 387.349 92.7512 387.349 Q96.3854 387.349 98.1909 383.808 Q100.02 380.243 100.02 373.136 Q100.02 366.007 98.1909 362.465 Q96.3854 358.9 92.7512 358.9 M92.7512 355.197 Q98.5613 355.197 101.617 359.803 Q104.696 364.387 104.696 373.136 Q104.696 381.863 101.617 386.47 Q98.5613 391.053 92.7512 391.053 Q86.941 391.053 83.8623 386.47 Q80.8068 381.863 80.8068 373.136 Q80.8068 364.387 83.8623 359.803 Q86.941 355.197 92.7512 355.197 Z\" fill=\"#000000\" fill-rule=\"nonzero\" fill-opacity=\"1\" /><path clip-path=\"url(#clip400)\" d=\"M122.913 358.9 Q119.302 358.9 117.473 362.465 Q115.668 366.007 115.668 373.136 Q115.668 380.243 117.473 383.808 Q119.302 387.349 122.913 387.349 Q126.547 387.349 128.353 383.808 Q130.182 380.243 130.182 373.136 Q130.182 366.007 128.353 362.465 Q126.547 358.9 122.913 358.9 M122.913 355.197 Q128.723 355.197 131.779 359.803 Q134.857 364.387 134.857 373.136 Q134.857 381.863 131.779 386.47 Q128.723 391.053 122.913 391.053 Q117.103 391.053 114.024 386.47 Q110.969 381.863 110.969 373.136 Q110.969 364.387 114.024 359.803 Q117.103 355.197 122.913 355.197 Z\" fill=\"#000000\" fill-rule=\"nonzero\" fill-opacity=\"1\" /><polyline clip-path=\"url(#clip402)\" style=\"stroke:#009af9; stroke-linecap:round; stroke-linejoin:round; stroke-width:4; stroke-opacity:1; fill:none\" points=\"232.609,87.9763 234.668,101.506 236.726,114.942 238.784,128.283 240.843,141.53 242.901,154.684 244.96,167.745 247.018,180.713 249.076,193.589 251.135,206.373 253.193,219.066 255.252,231.668 257.31,244.179 259.368,256.6 261.427,268.931 263.485,281.173 265.544,293.325 267.602,305.389 269.66,317.365 271.719,329.253 273.777,341.054 275.836,352.767 277.894,364.394 279.952,375.935 282.011,387.389 284.069,398.758 286.128,410.042 288.186,421.242 290.244,432.357 292.303,443.388 294.361,454.335 296.42,465.199 298.478,475.981 300.536,486.68 302.595,497.297 304.653,507.832 306.711,518.286 308.77,528.659 310.828,538.952 312.887,549.164 314.945,559.297 317.003,569.35 319.062,579.324 321.12,589.22 323.179,599.037 325.237,608.777 327.295,618.439 329.354,628.023 331.412,637.531 333.471,646.963 335.529,656.318 337.587,665.598 339.646,674.802 341.704,683.931 343.763,692.986 345.821,701.967 347.879,710.874 349.938,719.707 351.996,728.467 354.055,737.154 356.113,745.769 358.171,754.312 360.23,762.783 362.288,771.182 364.347,779.511 366.405,787.769 368.463,795.957 370.522,804.075 372.58,812.123 374.639,820.102 376.697,828.012 378.755,835.854 380.814,843.627 382.872,851.333 384.93,858.971 386.989,866.542 389.047,874.047 391.106,881.484 393.164,888.856 395.222,896.162 397.281,903.403 399.339,910.578 401.398,917.689 403.456,924.735 405.514,931.718 407.573,938.636 409.631,945.492 411.69,952.284 413.748,959.013 415.806,965.681 417.865,972.286 419.923,978.829 421.982,985.312 424.04,991.733 426.098,998.093 428.157,1004.39 430.215,1010.63 432.274,1016.81 434.332,1022.93 436.39,1029 438.449,1035 440.507,1040.95 442.566,1046.83 444.624,1052.66 446.682,1058.43 448.741,1064.15 450.799,1069.81 452.858,1075.41 454.916,1080.95 456.974,1086.44 459.033,1091.88 461.091,1097.25 463.149,1102.58 465.208,1107.85 467.266,1113.06 469.325,1118.22 471.383,1123.33 473.441,1128.39 475.5,1133.39 477.558,1138.34 479.617,1143.23 481.675,1148.08 483.733,1152.87 485.792,1157.61 487.85,1162.3 489.909,1166.94 491.967,1171.53 494.025,1176.07 496.084,1180.56 498.142,1185 500.201,1189.39 502.259,1193.73 504.317,1198.02 506.376,1202.27 508.434,1206.46 510.493,1210.61 512.551,1214.71 514.609,1218.76 516.668,1222.77 518.726,1226.73 520.785,1230.65 522.843,1234.51 524.901,1238.34 526.96,1242.11 529.018,1245.84 531.077,1249.53 533.135,1253.17 535.193,1256.77 537.252,1260.32 539.31,1263.83 541.368,1267.3 543.427,1270.72 545.485,1274.11 547.544,1277.44 549.602,1280.74 551.66,1283.99 553.719,1287.21 555.777,1290.38 557.836,1293.51 559.894,1296.6 561.952,1299.65 564.011,1302.65 566.069,1305.62 568.128,1308.55 570.186,1311.44 572.244,1314.29 574.303,1317.1 576.361,1319.87 578.42,1322.61 580.478,1325.3 582.536,1327.96 584.595,1330.58 586.653,1333.16 588.712,1335.71 590.77,1338.22 592.828,1340.69 594.887,1343.13 596.945,1345.53 599.004,1347.89 601.062,1350.22 603.12,1352.52 605.179,1354.78 607.237,1357 609.296,1359.19 611.354,1361.35 613.412,1363.47 615.471,1365.56 617.529,1367.61 619.587,1369.63 621.646,1371.62 623.704,1373.58 625.763,1375.5 627.821,1377.4 629.879,1379.26 631.938,1381.08 633.996,1382.88 636.055,1384.65 638.113,1386.38 640.171,1388.09 642.23,1389.76 644.288,1391.41 646.347,1393.02 648.405,1394.61 650.463,1396.16 652.522,1397.69 654.58,1399.19 656.639,1400.65 658.697,1402.09 660.755,1403.51 662.814,1404.89 664.872,1406.25 666.931,1407.58 668.989,1408.88 671.047,1410.15 673.106,1411.4 675.164,1412.62 677.223,1413.82 679.281,1414.99 681.339,1416.13 683.398,1417.25 685.456,1418.34 687.515,1419.41 689.573,1420.45 691.631,1421.47 693.69,1422.46 695.748,1423.43 697.806,1424.37 699.865,1425.29 701.923,1426.19 703.982,1427.07 706.04,1427.92 708.098,1428.74 710.157,1429.55 712.215,1430.33 714.274,1431.09 716.332,1431.83 718.39,1432.55 720.449,1433.24 722.507,1433.92 724.566,1434.57 726.624,1435.2 728.682,1435.81 730.741,1436.4 732.799,1436.97 734.858,1437.52 736.916,1438.05 738.974,1438.56 741.033,1439.06 743.091,1439.53 745.15,1439.98 747.208,1440.41 749.266,1440.83 751.325,1441.22 753.383,1441.6 755.442,1441.96 757.5,1442.31 759.558,1442.63 761.617,1442.94 763.675,1443.23 765.734,1443.5 767.792,1443.76 769.85,1444 771.909,1444.22 773.967,1444.42 776.025,1444.62 778.084,1444.79 780.142,1444.95 782.201,1445.09 784.259,1445.22 786.317,1445.33 788.376,1445.43 790.434,1445.51 792.493,1445.58 794.551,1445.64 796.609,1445.68 798.668,1445.7 800.726,1445.72 802.785,1445.71 804.843,1445.7 806.901,1445.67 808.96,1445.63 811.018,1445.58 813.077,1445.51 815.135,1445.43 817.193,1445.34 819.252,1445.23 821.31,1445.12 823.369,1444.99 825.427,1444.85 827.485,1444.7 829.544,1444.54 831.602,1444.36 833.661,1444.18 835.719,1443.98 837.777,1443.77 839.836,1443.56 841.894,1443.33 843.953,1443.09 846.011,1442.85 848.069,1442.59 850.128,1442.32 852.186,1442.05 854.244,1441.76 856.303,1441.47 858.361,1441.16 860.42,1440.85 862.478,1440.53 864.536,1440.2 866.595,1439.86 868.653,1439.51 870.712,1439.16 872.77,1438.8 874.828,1438.43 876.887,1438.05 878.945,1437.66 881.004,1437.27 883.062,1436.87 885.12,1436.46 887.179,1436.05 889.237,1435.63 891.296,1435.2 893.354,1434.77 895.412,1434.33 897.471,1433.88 899.529,1433.43 901.588,1432.97 903.646,1432.51 905.704,1432.04 907.763,1431.57 909.821,1431.09 911.88,1430.6 913.938,1430.12 915.996,1429.62 918.055,1429.12 920.113,1428.62 922.172,1428.11 924.23,1427.6 926.288,1427.08 928.347,1426.56 930.405,1426.04 932.463,1425.51 934.522,1424.98 936.58,1424.44 938.639,1423.9 940.697,1423.36 942.755,1422.82 944.814,1422.27 946.872,1421.72 948.931,1421.16 950.989,1420.61 953.047,1420.05 955.106,1419.49 957.164,1418.92 959.223,1418.36 961.281,1417.79 963.339,1417.22 965.398,1416.65 967.456,1416.08 969.515,1415.5 971.573,1414.92 973.631,1414.35 975.69,1413.77 977.748,1413.19 979.807,1412.61 981.865,1412.03 983.923,1411.45 985.982,1410.86 988.04,1410.28 990.099,1409.7 992.157,1409.11 994.215,1408.53 996.274,1407.94 998.332,1407.36 1000.39,1406.78 1002.45,1406.19 1004.51,1405.61 1006.57,1405.02 1008.62,1404.44 1010.68,1403.86 1012.74,1403.28 1014.8,1402.7 1016.86,1402.12 1018.92,1401.54 1020.97,1400.96 1023.03,1400.39 1025.09,1399.81 1027.15,1399.24 1029.21,1398.67 1031.27,1398.1 1033.32,1397.53 1035.38,1396.96 1037.44,1396.39 1039.5,1395.83 1041.56,1395.27 1043.62,1394.71 1045.68,1394.15 1047.73,1393.6 1049.79,1393.05 1051.85,1392.5 1053.91,1391.95 1055.97,1391.41 1058.03,1390.87 1060.08,1390.33 1062.14,1389.79 1064.2,1389.26 1066.26,1388.73 1068.32,1388.2 1070.38,1387.68 1072.43,1387.16 1074.49,1386.64 1076.55,1386.13 1078.61,1385.61 1080.67,1385.11 1082.73,1384.61 1084.78,1384.11 1086.84,1383.61 1088.9,1383.12 1090.96,1382.63 1093.02,1382.15 1095.08,1381.67 1097.14,1381.19 1099.19,1380.72 1101.25,1380.25 1103.31,1379.79 1105.37,1379.33 1107.43,1378.88 1109.49,1378.43 1111.54,1377.98 1113.6,1377.54 1115.66,1377.11 1117.72,1376.68 1119.78,1376.25 1121.84,1375.83 1123.89,1375.41 1125.95,1375 1128.01,1374.59 1130.07,1374.19 1132.13,1373.8 1134.19,1373.4 1136.24,1373.02 1138.3,1372.64 1140.36,1372.26 1142.42,1371.89 1144.48,1371.53 1146.54,1371.17 1148.59,1370.82 1150.65,1370.47 1152.71,1370.12 1154.77,1369.79 1156.83,1369.46 1158.89,1369.13 1160.95,1368.81 1163,1368.5 1165.06,1368.19 1167.12,1367.89 1169.18,1367.59 1171.24,1367.3 1173.3,1367.02 1175.35,1366.74 1177.41,1366.47 1179.47,1366.2 1181.53,1365.94 1183.59,1365.69 1185.65,1365.44 1187.7,1365.2 1189.76,1364.97 1191.82,1364.74 1193.88,1364.51 1195.94,1364.3 1198,1364.09 1200.05,1363.89 1202.11,1363.69 1204.17,1363.5 1206.23,1363.31 1208.29,1363.14 1210.35,1362.97 1212.41,1362.8 1214.46,1362.64 1216.52,1362.49 1218.58,1362.35 1220.64,1362.21 1222.7,1362.08 1224.76,1361.95 1226.81,1361.84 1228.87,1361.72 1230.93,1361.62 1232.99,1361.52 1235.05,1361.43 1237.11,1361.35 1239.16,1361.27 1241.22,1361.2 1243.28,1361.13 1245.34,1361.08 1247.4,1361.02 1249.46,1360.98 1251.51,1360.94 1253.57,1360.91 1255.63,1360.89 1257.69,1360.87 1259.75,1360.86 1261.81,1360.86 1263.87,1360.86 1265.92,1360.87 1267.98,1360.89 1270.04,1360.91 1272.1,1360.94 1274.16,1360.98 1276.22,1361.02 1278.27,1361.08 1280.33,1361.13 1282.39,1361.2 1284.45,1361.27 1286.51,1361.35 1288.57,1361.43 1290.62,1361.52 1292.68,1361.62 1294.74,1361.72 1296.8,1361.84 1298.86,1361.95 1300.92,1362.08 1302.97,1362.21 1305.03,1362.35 1307.09,1362.49 1309.15,1362.64 1311.21,1362.8 1313.27,1362.97 1315.32,1363.14 1317.38,1363.31 1319.44,1363.5 1321.5,1363.69 1323.56,1363.89 1325.62,1364.09 1327.68,1364.3 1329.73,1364.51 1331.79,1364.74 1333.85,1364.97 1335.91,1365.2 1337.97,1365.44 1340.03,1365.69 1342.08,1365.94 1344.14,1366.2 1346.2,1366.47 1348.26,1366.74 1350.32,1367.02 1352.38,1367.3 1354.43,1367.59 1356.49,1367.89 1358.55,1368.19 1360.61,1368.5 1362.67,1368.81 1364.73,1369.13 1366.78,1369.46 1368.84,1369.79 1370.9,1370.12 1372.96,1370.47 1375.02,1370.82 1377.08,1371.17 1379.14,1371.53 1381.19,1371.89 1383.25,1372.26 1385.31,1372.64 1387.37,1373.02 1389.43,1373.4 1391.49,1373.8 1393.54,1374.19 1395.6,1374.59 1397.66,1375 1399.72,1375.41 1401.78,1375.83 1403.84,1376.25 1405.89,1376.68 1407.95,1377.11 1410.01,1377.54 1412.07,1377.98 1414.13,1378.43 1416.19,1378.88 1418.24,1379.33 1420.3,1379.79 1422.36,1380.25 1424.42,1380.72 1426.48,1381.19 1428.54,1381.67 1430.6,1382.15 1432.65,1382.63 1434.71,1383.12 1436.77,1383.61 1438.83,1384.11 1440.89,1384.61 1442.95,1385.11 1445,1385.61 1447.06,1386.13 1449.12,1386.64 1451.18,1387.16 1453.24,1387.68 1455.3,1388.2 1457.35,1388.73 1459.41,1389.26 1461.47,1389.79 1463.53,1390.33 1465.59,1390.87 1467.65,1391.41 1469.7,1391.95 1471.76,1392.5 1473.82,1393.05 1475.88,1393.6 1477.94,1394.15 1480,1394.71 1482.05,1395.27 1484.11,1395.83 1486.17,1396.39 1488.23,1396.96 1490.29,1397.53 1492.35,1398.1 1494.41,1398.67 1496.46,1399.24 1498.52,1399.81 1500.58,1400.39 1502.64,1400.96 1504.7,1401.54 1506.76,1402.12 1508.81,1402.7 1510.87,1403.28 1512.93,1403.86 1514.99,1404.44 1517.05,1405.02 1519.11,1405.61 1521.16,1406.19 1523.22,1406.78 1525.28,1407.36 1527.34,1407.94 1529.4,1408.53 1531.46,1409.11 1533.51,1409.7 1535.57,1410.28 1537.63,1410.86 1539.69,1411.45 1541.75,1412.03 1543.81,1412.61 1545.87,1413.19 1547.92,1413.77 1549.98,1414.35 1552.04,1414.92 1554.1,1415.5 1556.16,1416.08 1558.22,1416.65 1560.27,1417.22 1562.33,1417.79 1564.39,1418.36 1566.45,1418.92 1568.51,1419.49 1570.57,1420.05 1572.62,1420.61 1574.68,1421.16 1576.74,1421.72 1578.8,1422.27 1580.86,1422.82 1582.92,1423.36 1584.97,1423.9 1587.03,1424.44 1589.09,1424.98 1591.15,1425.51 1593.21,1426.04 1595.27,1426.56 1597.33,1427.08 1599.38,1427.6 1601.44,1428.11 1603.5,1428.62 1605.56,1429.12 1607.62,1429.62 1609.68,1430.12 1611.73,1430.6 1613.79,1431.09 1615.85,1431.57 1617.91,1432.04 1619.97,1432.51 1622.03,1432.97 1624.08,1433.43 1626.14,1433.88 1628.2,1434.33 1630.26,1434.77 1632.32,1435.2 1634.38,1435.63 1636.43,1436.05 1638.49,1436.46 1640.55,1436.87 1642.61,1437.27 1644.67,1437.66 1646.73,1438.05 1648.78,1438.43 1650.84,1438.8 1652.9,1439.16 1654.96,1439.51 1657.02,1439.86 1659.08,1440.2 1661.14,1440.53 1663.19,1440.85 1665.25,1441.16 1667.31,1441.47 1669.37,1441.76 1671.43,1442.05 1673.49,1442.32 1675.54,1442.59 1677.6,1442.85 1679.66,1443.09 1681.72,1443.33 1683.78,1443.56 1685.84,1443.77 1687.89,1443.98 1689.95,1444.18 1692.01,1444.36 1694.07,1444.54 1696.13,1444.7 1698.19,1444.85 1700.24,1444.99 1702.3,1445.12 1704.36,1445.23 1706.42,1445.34 1708.48,1445.43 1710.54,1445.51 1712.6,1445.58 1714.65,1445.63 1716.71,1445.67 1718.77,1445.7 1720.83,1445.71 1722.89,1445.72 1724.95,1445.7 1727,1445.68 1729.06,1445.64 1731.12,1445.58 1733.18,1445.51 1735.24,1445.43 1737.3,1445.33 1739.35,1445.22 1741.41,1445.09 1743.47,1444.95 1745.53,1444.79 1747.59,1444.62 1749.65,1444.42 1751.7,1444.22 1753.76,1444 1755.82,1443.76 1757.88,1443.5 1759.94,1443.23 1762,1442.94 1764.05,1442.63 1766.11,1442.31 1768.17,1441.96 1770.23,1441.6 1772.29,1441.22 1774.35,1440.83 1776.41,1440.41 1778.46,1439.98 1780.52,1439.53 1782.58,1439.06 1784.64,1438.56 1786.7,1438.05 1788.76,1437.52 1790.81,1436.97 1792.87,1436.4 1794.93,1435.81 1796.99,1435.2 1799.05,1434.57 1801.11,1433.92 1803.16,1433.24 1805.22,1432.55 1807.28,1431.83 1809.34,1431.09 1811.4,1430.33 1813.46,1429.55 1815.51,1428.74 1817.57,1427.92 1819.63,1427.07 1821.69,1426.19 1823.75,1425.29 1825.81,1424.37 1827.87,1423.43 1829.92,1422.46 1831.98,1421.47 1834.04,1420.45 1836.1,1419.41 1838.16,1418.34 1840.22,1417.25 1842.27,1416.13 1844.33,1414.99 1846.39,1413.82 1848.45,1412.62 1850.51,1411.4 1852.57,1410.15 1854.62,1408.88 1856.68,1407.58 1858.74,1406.25 1860.8,1404.89 1862.86,1403.51 1864.92,1402.09 1866.97,1400.65 1869.03,1399.19 1871.09,1397.69 1873.15,1396.16 1875.21,1394.61 1877.27,1393.02 1879.33,1391.41 1881.38,1389.76 1883.44,1388.09 1885.5,1386.38 1887.56,1384.65 1889.62,1382.88 1891.68,1381.08 1893.73,1379.26 1895.79,1377.4 1897.85,1375.5 1899.91,1373.58 1901.97,1371.62 1904.03,1369.63 1906.08,1367.61 1908.14,1365.56 1910.2,1363.47 1912.26,1361.35 1914.32,1359.19 1916.38,1357 1918.43,1354.78 1920.49,1352.52 1922.55,1350.22 1924.61,1347.89 1926.67,1345.53 1928.73,1343.13 1930.78,1340.69 1932.84,1338.22 1934.9,1335.71 1936.96,1333.16 1939.02,1330.58 1941.08,1327.96 1943.14,1325.3 1945.19,1322.61 1947.25,1319.87 1949.31,1317.1 1951.37,1314.29 1953.43,1311.44 1955.49,1308.55 1957.54,1305.62 1959.6,1302.65 1961.66,1299.65 1963.72,1296.6 1965.78,1293.51 1967.84,1290.38 1969.89,1287.21 1971.95,1283.99 1974.01,1280.74 1976.07,1277.44 1978.13,1274.11 1980.19,1270.72 1982.24,1267.3 1984.3,1263.83 1986.36,1260.32 1988.42,1256.77 1990.48,1253.17 1992.54,1249.53 1994.6,1245.84 1996.65,1242.11 1998.71,1238.34 2000.77,1234.51 2002.83,1230.65 2004.89,1226.73 2006.95,1222.77 2009,1218.76 2011.06,1214.71 2013.12,1210.61 2015.18,1206.46 2017.24,1202.27 2019.3,1198.02 2021.35,1193.73 2023.41,1189.39 2025.47,1185 2027.53,1180.56 2029.59,1176.07 2031.65,1171.53 2033.7,1166.94 2035.76,1162.3 2037.82,1157.61 2039.88,1152.87 2041.94,1148.08 2044,1143.23 2046.06,1138.34 2048.11,1133.39 2050.17,1128.39 2052.23,1123.33 2054.29,1118.22 2056.35,1113.06 2058.41,1107.85 2060.46,1102.58 2062.52,1097.25 2064.58,1091.88 2066.64,1086.44 2068.7,1080.95 2070.76,1075.41 2072.81,1069.81 2074.87,1064.15 2076.93,1058.43 2078.99,1052.66 2081.05,1046.83 2083.11,1040.95 2085.16,1035 2087.22,1029 2089.28,1022.93 2091.34,1016.81 2093.4,1010.63 2095.46,1004.39 2097.51,998.093 2099.57,991.733 2101.63,985.312 2103.69,978.829 2105.75,972.286 2107.81,965.681 2109.87,959.013 2111.92,952.284 2113.98,945.492 2116.04,938.636 2118.1,931.718 2120.16,924.735 2122.22,917.689 2124.27,910.578 2126.33,903.403 2128.39,896.162 2130.45,888.856 2132.51,881.484 2134.57,874.047 2136.62,866.542 2138.68,858.971 2140.74,851.333 2142.8,843.627 2144.86,835.854 2146.92,828.012 2148.97,820.102 2151.03,812.123 2153.09,804.075 2155.15,795.957 2157.21,787.769 2159.27,779.511 2161.33,771.182 2163.38,762.783 2165.44,754.312 2167.5,745.769 2169.56,737.154 2171.62,728.467 2173.68,719.707 2175.73,710.874 2177.79,701.967 2179.85,692.986 2181.91,683.931 2183.97,674.802 2186.03,665.598 2188.08,656.318 2190.14,646.963 2192.2,637.531 2194.26,628.023 2196.32,618.439 2198.38,608.777 2200.43,599.037 2202.49,589.22 2204.55,579.324 2206.61,569.35 2208.67,559.297 2210.73,549.164 2212.79,538.952 2214.84,528.659 2216.9,518.286 2218.96,507.832 2221.02,497.297 2223.08,486.68 2225.14,475.981 2227.19,465.199 2229.25,454.335 2231.31,443.388 2233.37,432.357 2235.43,421.242 2237.49,410.042 2239.54,398.758 2241.6,387.389 2243.66,375.935 2245.72,364.394 2247.78,352.767 2249.84,341.054 2251.89,329.253 2253.95,317.365 2256.01,305.389 2258.07,293.325 2260.13,281.173 2262.19,268.931 2264.24,256.6 2266.3,244.179 2268.36,231.668 2270.42,219.066 2272.48,206.373 2274.54,193.589 2276.6,180.713 2278.65,167.745 2280.71,154.684 2282.77,141.53 2284.83,128.283 2286.89,114.942 2288.95,101.506 2291,87.9763 \"/>\n",
       "<path clip-path=\"url(#clip400)\" d=\"M2009.41 198.898 L2280.03 198.898 L2280.03 95.2176 L2009.41 95.2176  Z\" fill=\"#ffffff\" fill-rule=\"evenodd\" fill-opacity=\"1\"/>\n",
       "<polyline clip-path=\"url(#clip400)\" style=\"stroke:#000000; stroke-linecap:round; stroke-linejoin:round; stroke-width:4; stroke-opacity:1; fill:none\" points=\"2009.41,198.898 2280.03,198.898 2280.03,95.2176 2009.41,95.2176 2009.41,198.898 \"/>\n",
       "<polyline clip-path=\"url(#clip400)\" style=\"stroke:#009af9; stroke-linecap:round; stroke-linejoin:round; stroke-width:4; stroke-opacity:1; fill:none\" points=\"2033.65,147.058 2179.11,147.058 \"/>\n",
       "<path clip-path=\"url(#clip400)\" d=\"M2217.19 166.745 Q2215.39 171.375 2213.68 172.787 Q2211.96 174.199 2209.09 174.199 L2205.69 174.199 L2205.69 170.634 L2208.19 170.634 Q2209.95 170.634 2210.92 169.8 Q2211.89 168.967 2213.07 165.865 L2213.84 163.921 L2203.35 138.412 L2207.87 138.412 L2215.97 158.689 L2224.07 138.412 L2228.58 138.412 L2217.19 166.745 Z\" fill=\"#000000\" fill-rule=\"nonzero\" fill-opacity=\"1\" /><path clip-path=\"url(#clip400)\" d=\"M2235.88 160.402 L2243.51 160.402 L2243.51 134.037 L2235.2 135.703 L2235.2 131.444 L2243.47 129.778 L2248.14 129.778 L2248.14 160.402 L2255.78 160.402 L2255.78 164.338 L2235.88 164.338 L2235.88 160.402 Z\" fill=\"#000000\" fill-rule=\"nonzero\" fill-opacity=\"1\" /></svg>\n"
      ]
     },
     "metadata": {},
     "output_type": "display_data"
    }
   ],
   "source": [
    "plot(-5:0.01:5, f(-5:0.01:5))"
   ]
  },
  {
   "cell_type": "code",
   "execution_count": 22,
   "id": "77887b05",
   "metadata": {},
   "outputs": [
    {
     "ename": "MethodError",
     "evalue": "MethodError: objects of type Vector{Nothing} are not callable\nUse square brackets [] for indexing an Array.",
     "output_type": "error",
     "traceback": [
      "MethodError: objects of type Vector{Nothing} are not callable\n",
      "Use square brackets [] for indexing an Array.\n",
      "\n",
      "Stacktrace:\n",
      " [1] top-level scope\n",
      "   @ c:\\Users\\tkoike3\\Code\\LiftAndLearn.jl\\examples\\scribble.ipynb:9"
     ]
    }
   ],
   "source": [
    "using JuMP\n",
    "using Ipopt\n",
    "using Pipe\n",
    "\n",
    "i = 2\n",
    "model = Model(Ipopt.Optimizer; add_bridges=false)\n",
    "@variable(model, x[1:5])\n",
    "\n",
    "@pipe x |> [JuMP.delete(model, x), JuMP.unregister(model, :x)]\n",
    "@show JuMP.is_valid(model, x)"
   ]
  },
  {
   "cell_type": "code",
   "execution_count": 2,
   "id": "5a5ba19f-8f74-40e0-99fc-ea7c097670f2",
   "metadata": {},
   "outputs": [
    {
     "data": {
      "text/plain": [
       "Elemat"
      ]
     },
     "execution_count": 2,
     "metadata": {},
     "output_type": "execute_result"
    }
   ],
   "source": [
    "struct elemat{T} <: AbstractVector{T}\n",
    "    n::Int\n",
    "    i::Int\n",
    "\n",
    "    function elemat(n::Int, i::Int)\n",
    "        @boundscheck n >= i || throw(ArgumentError(\"$i is larger than the size $n\"))\n",
    "        e = spzeros(n,1)\n",
    "        e[i] = 1\n",
    "        return e\n",
    "    end\n",
    "end\n",
    "\n",
    "\"\"\"\n",
    "    elemat(n,i,j)\n",
    "\"\"\"\n",
    "\n",
    "struct Elemat{T} <: AbstractMatrix{T}\n",
    "    m :: Int\n",
    "    n :: Int\n",
    "    i :: Int\n",
    "    j :: Int\n",
    "    \n",
    "    function Elemat(m::Integer, n::Integer, i::Integer, j::Integer)\n",
    "        return elemat(m,i) * elemat(n,j)'\n",
    "    end\n",
    "end\n",
    "\n",
    "Elemat(m::Integer, i::Integer, j::Integer) = Elemat(m, m, i, j)"
   ]
  },
  {
   "cell_type": "code",
   "execution_count": 3,
   "id": "52d526f0-5c7d-4e1d-ae63-8a0b96aa6c2e",
   "metadata": {
    "tags": []
   },
   "outputs": [
    {
     "data": {
      "text/plain": [
       "nommat"
      ]
     },
     "execution_count": 3,
     "metadata": {},
     "output_type": "execute_result"
    }
   ],
   "source": [
    "# Kronecker delta\n",
    "function delta(i::Int, j::Int)\n",
    "    return Int(i == j)\n",
    "end\n",
    "\n",
    "\"\"\"\n",
    "    commat(n,i,j)\n",
    "\"\"\"\n",
    "\n",
    "struct commat{T} <: AbstractMatrix{T}\n",
    "    m::Int\n",
    "    n::Int\n",
    "\n",
    "    function commat(m::Integer, n::Integer)\n",
    "        v = [m * (j-1) + i for i in 1:m, j in 1:n]'[:]\n",
    "        # apply this permutation to the rows (i.e. to each column) of identity matrix\n",
    "        K = [[delta(i, j) for j in 1:(m*n)] for i in 1:(m*n)]\n",
    "        tmp = [K[i] for i in v]\n",
    "        return sparse(reduce(vcat, tmp'))\n",
    "    end\n",
    "end\n",
    "\n",
    "commat(m::Integer) = commat(m, m)\n",
    "\n",
    "\n",
    "\"\"\"\n",
    "    nommat(n,i,j)\n",
    "\"\"\"\n",
    "\n",
    "struct nommat{T} <: AbstractMatrix{T}\n",
    "    m::Int\n",
    "    n::Int\n",
    "\n",
    "    function nommat(m::Integer, n::Integer)\n",
    "        mn = Int(m * n)\n",
    "        return 0.5 * (sparse(1.0I, mn, mn) + commat(m, n))\n",
    "    end\n",
    "end\n",
    "\n",
    "nommat(m::Integer) = nommat(m, m)"
   ]
  },
  {
   "cell_type": "code",
   "execution_count": 4,
   "id": "4bef121e-2b58-46fa-a974-13cda4abab4c",
   "metadata": {
    "tags": []
   },
   "outputs": [
    {
     "data": {
      "text/plain": [
       "vech (generic function with 1 method)"
      ]
     },
     "execution_count": 4,
     "metadata": {},
     "output_type": "execute_result"
    }
   ],
   "source": [
    "function vech(A::AbstractMatrix{T}) where {T}\n",
    "    m = LinearAlgebra.checksquare(A)\n",
    "    v = Vector{T}(undef, Int(m * (m + 1) /2))\n",
    "    k = 0\n",
    "    for j = 1:m, i = j:m\n",
    "        @inbounds v[k+=1] = A[i, j]\n",
    "    end\n",
    "    return v\n",
    "end"
   ]
  },
  {
   "cell_type": "code",
   "execution_count": 5,
   "id": "ec63d364-982e-4d3a-9b08-4bc8163a878b",
   "metadata": {
    "tags": []
   },
   "outputs": [],
   "source": [
    "struct unit_DL{T} <: AbstractVector{T}\n",
    "    n::Int\n",
    "    i::Int\n",
    "    j::Int\n",
    "\n",
    "    function unit_DL(n::Integer, i::Integer, j::Integer)\n",
    "        @boundscheck i >= j || throw(ArgumentError(\"Does not satisfy i >= j\"))\n",
    "        u = spzeros(Int(0.5 * n * (n+1)), 1)\n",
    "        u[Int( (j-1)*n + i - 0.5*j*(j-1) )] = 1.0\n",
    "        return u\n",
    "    end\n",
    "end"
   ]
  },
  {
   "cell_type": "code",
   "execution_count": 6,
   "id": "ad63d241-0828-40fa-8250-d1540a7d07ab",
   "metadata": {
    "tags": []
   },
   "outputs": [],
   "source": [
    "struct elimat{T} <: AbstractMatrix{T}\n",
    "    m::Int\n",
    "    \n",
    "    function elimat(m::Integer)\n",
    "        T = tril(ones(m, m)) # Lower triangle of 1's\n",
    "        f = findall(x -> x == 1, T[:]) # Get linear indexes of 1's\n",
    "        k = m * (m + 1) / 2 # Row size of L\n",
    "        m2 = m * m # Colunm size of L\n",
    "        x = f + m2 * (0:k-1) # Linear indexes of the 1's within L'\n",
    "\n",
    "        row = [mod(a, m2) != 0 ? mod(a, m2) : m2 for a in x]\n",
    "        col = [mod(a, m2) != 0 ? div(a, m2) + 1 : div(a, m2) for a in x]\n",
    "        L = sparse(row, col, ones(length(x)), m2, k)\n",
    "        L = L' # Now transpose to actual L\n",
    "        return L\n",
    "    end\n",
    "end"
   ]
  },
  {
   "cell_type": "code",
   "execution_count": 11,
   "id": "027b74f8-22e0-45c0-816c-6a3df0493178",
   "metadata": {
    "tags": []
   },
   "outputs": [
    {
     "data": {
      "text/plain": [
       "4-element Vector{Float64}:\n",
       "  1.0\n",
       "  1.0\n",
       " -1.0\n",
       " -1.0"
      ]
     },
     "execution_count": 11,
     "metadata": {},
     "output_type": "execute_result"
    }
   ],
   "source": [
    "N = 3\n",
    "Δx = 0.5\n",
    "S = Int(N * (N + 1) / 2)\n",
    "Fval = repeat([1.0, 1.0, -1.0, -1.0], outer=N - 2)"
   ]
  },
  {
   "cell_type": "code",
   "execution_count": 12,
   "id": "32ecef7e-678f-4aef-9ea4-f517a132e97f",
   "metadata": {
    "tags": []
   },
   "outputs": [
    {
     "data": {
      "text/plain": [
       "4-element Vector{Int64}:\n",
       " 2\n",
       " 2\n",
       " 2\n",
       " 2"
      ]
     },
     "execution_count": 12,
     "metadata": {},
     "output_type": "execute_result"
    }
   ],
   "source": [
    "row_i = repeat(2:(N-1), inner=4)"
   ]
  },
  {
   "cell_type": "code",
   "execution_count": 14,
   "id": "6343bea5-3cb7-468a-a6d6-a6ee154abdd8",
   "metadata": {
    "tags": []
   },
   "outputs": [
    {
     "data": {
      "text/plain": [
       "3-element Vector{Int64}:\n",
       " 2\n",
       " 6\n",
       " 9"
      ]
     },
     "execution_count": 14,
     "metadata": {},
     "output_type": "execute_result"
    }
   ],
   "source": [
    "N = 4\n",
    "seq = Int.([2 + (N + 1) * (x - 1) - x * (x - 1) / 2 for x in 1:(N-1)])"
   ]
  },
  {
   "cell_type": "code",
   "execution_count": null,
   "id": "c9146c0b-8f3c-47ff-9605-7a7417ed7746",
   "metadata": {},
   "outputs": [],
   "source": [
    "col_i = vcat(seq[1], repeat(seq[2:end-1], inner=2), seq[end])"
   ]
  },
  {
   "cell_type": "code",
   "execution_count": null,
   "id": "3fe5055c-8607-47a9-a0b4-7b922e45a812",
   "metadata": {},
   "outputs": [],
   "source": [
    "F = sparse(row_i, col_i, Fval, N, S) / 2 / Δx"
   ]
  },
  {
   "cell_type": "code",
   "execution_count": 54,
   "id": "f9b71cc7-f542-426e-bad0-ea4b517c2c8d",
   "metadata": {
    "tags": []
   },
   "outputs": [
    {
     "data": {
      "text/plain": [
       "4×10 SparseMatrixCSC{Float64, Int64} with 12 stored entries:\n",
       "  ⋅   -1.0   ⋅    ⋅   -1.0    ⋅    ⋅     ⋅     ⋅     ⋅ \n",
       " 1.0   1.0   ⋅    ⋅     ⋅   -1.0   ⋅   -1.0    ⋅     ⋅ \n",
       "  ⋅     ⋅    ⋅    ⋅    1.0   1.0   ⋅     ⋅   -1.0  -1.0\n",
       "  ⋅     ⋅    ⋅    ⋅     ⋅     ⋅    ⋅    1.0   1.0    ⋅ "
      ]
     },
     "execution_count": 54,
     "metadata": {},
     "output_type": "execute_result"
    }
   ],
   "source": [
    "N = 4\n",
    "S = N*(N+1)/2\n",
    "dx = 1/6\n",
    "\n",
    "ii = repeat(2:(N-1), inner=4)\n",
    "m = 2:N-1\n",
    "mi = Int.([N*(N+1)/2 - (N-m)*(N-m+1)/2 - (N-m) for m in 2:N-1])               # this is where the xi^2 term is\n",
    "mm = Int.([N*(N+1)/2 - (N-m).*(N-m+1)/2 - (N-m) - (N-(m-2)) for m in 2:N-1])  # this is where the x_{i-1}^2 term is\n",
    "mp = Int.([N*(N+1)/2 - (N-m).*(N-m+1)/2 - (N-m) + (N-(m-1)) for m in 2:N-1])  # this is where the x_{i+1}^2 term is\n",
    "jp = mi .+ 1  # this is the index of the x_{i+1}*x_i term\n",
    "jm = mm .+ 1  # this is the index of the x_{i-1}*x_i term\n",
    "jj = reshape([mp'; mm'; jp'; jm'],4*N-8);\n",
    "vv = reshape([-ones(1,N-2); ones(1,N-2); -ones(1,N-2); ones(1,N-2)],4*N-8)/(6*dx);\n",
    "F = sparse(ii,jj,vv,N,N*(N+1)/2)\n",
    "# Boundary conditions\n",
    "F[1,2] = -1/6/dx\n",
    "F[1,N+1] = -1/6/dx\n",
    "F[N,end-1] = 1/6/dx\n",
    "F[N,end-2] = 1/6/dx\n",
    "F"
   ]
  },
  {
   "cell_type": "code",
   "execution_count": 64,
   "id": "ad724e81-e31a-40db-91e1-e654a1bbbd0c",
   "metadata": {
    "tags": []
   },
   "outputs": [
    {
     "data": {
      "text/plain": [
       "0.8:0.044444444444444446:1.2"
      ]
     },
     "execution_count": 64,
     "metadata": {},
     "output_type": "execute_result"
    }
   ],
   "source": [
    "a = range(0.8,1.2,10)"
   ]
  },
  {
   "cell_type": "code",
   "execution_count": 67,
   "id": "5b3214c4-73b0-4101-9fbf-11eb05febaf5",
   "metadata": {
    "tags": []
   },
   "outputs": [
    {
     "data": {
      "text/plain": [
       "5×5 Matrix{Float64}:\n",
       " 0.0  0.0  0.0  0.0  0.0\n",
       " 0.0  0.0  0.0  0.0  0.0\n",
       " 0.0  0.0  0.0  0.0  0.0\n",
       " 0.0  0.0  0.0  0.0  0.0\n",
       " 0.0  0.0  0.0  0.0  0.0"
      ]
     },
     "execution_count": 67,
     "metadata": {},
     "output_type": "execute_result"
    }
   ],
   "source": [
    "zeros(1,1) .* rand(5,5)"
   ]
  },
  {
   "cell_type": "code",
   "execution_count": 78,
   "id": "55691b6c-bec8-4a5d-8bb1-0fc34c056167",
   "metadata": {
    "tags": []
   },
   "outputs": [
    {
     "data": {
      "text/plain": [
       "0"
      ]
     },
     "execution_count": 78,
     "metadata": {},
     "output_type": "execute_result"
    }
   ],
   "source": [
    "a  = zeros(1,1)\n",
    "a[1] == 0\n",
    "a = size(a)==(1,1) && a[1]==0 ? 0 : 1"
   ]
  },
  {
   "cell_type": "code",
   "execution_count": 86,
   "id": "a895c996-22ac-45e2-8195-356cfeb87fc5",
   "metadata": {
    "tags": []
   },
   "outputs": [
    {
     "data": {
      "text/plain": [
       "true"
      ]
     },
     "execution_count": 86,
     "metadata": {},
     "output_type": "execute_result"
    }
   ],
   "source": [
    "typeof(NaN) == Float64"
   ]
  },
  {
   "cell_type": "code",
   "execution_count": 3,
   "id": "698398bc",
   "metadata": {},
   "outputs": [
    {
     "name": "stderr",
     "output_type": "stream",
     "text": [
      "┌ Info: \n",
      "│ Constraint        = Non-Constrained\n",
      "│ order              = 10\n",
      "│ termination_status = 1\n",
      "│ primal_status      = 2\n",
      "│ objective_value    = 3\n",
      "└ @ Main c:\\Users\\tkoike3\\Code\\LiftAndLearn.jl\\examples\\scribble.ipynb:5\n"
     ]
    }
   ],
   "source": [
    "a = 1 \n",
    "b = 2\n",
    "c = 3 \n",
    "n = 10\n",
    "@info \"\"\"\n",
    "\n",
    "Constraint         = Non-Constrained\n",
    "order              = $(n)\n",
    "termination_status = $(a)\n",
    "primal_status      = $(b)\n",
    "objective_value    = $(c)\n",
    "\"\"\""
   ]
  },
  {
   "cell_type": "code",
   "execution_count": 21,
   "id": "b03b00a1",
   "metadata": {},
   "outputs": [
    {
     "data": {
      "text/plain": [
       "generateEPmatrix (generic function with 1 method)"
      ]
     },
     "metadata": {},
     "output_type": "display_data"
    }
   ],
   "source": [
    "function generateEPmatrix(N, Δx, μ::Float64)\n",
    "    # Create A matrix\n",
    "    A = diagm(0 => (-2) * ones(N), 1 => ones(N - 1), -1 => ones(N - 1)) * μ / Δx^2\n",
    "    A[1, N] = μ / Δx^2\n",
    "    A[N, 1] = μ / Δx^2\n",
    "\n",
    "    # Create F matrix\n",
    "    S = Int(N * (N + 1) / 2)\n",
    "    if N >= 3\n",
    "        ii = repeat(2:(N-1), inner=4)\n",
    "        m = 2:N-1\n",
    "        mi = Int.([N*(N+1)/2 - (N-m)*(N-m+1)/2 - (N-m) for m in 2:N-1])               # this is where the xi^2 term is\n",
    "        mm = Int.([N*(N+1)/2 - (N-m).*(N-m+1)/2 - (N-m) - (N-(m-2)) for m in 2:N-1])  # this is where the x_{i-1}^2 term is\n",
    "        mp = Int.([N*(N+1)/2 - (N-m).*(N-m+1)/2 - (N-m) + (N-(m-1)) for m in 2:N-1])  # this is where the x_{i+1}^2 term is\n",
    "        jp = mi .+ 1  # this is the index of the x_{i+1}*x_i term\n",
    "        jm = mm .+ 1  # this is the index of the x_{i-1}*x_i term\n",
    "        jj = reshape([mp'; mm'; jp'; jm'],4*N-8);\n",
    "        vv = reshape([-ones(1,N-2); ones(1,N-2); -ones(1,N-2); ones(1,N-2)],4*N-8)/(6*Δx);\n",
    "        F = sparse(ii,jj,vv,N,S)\n",
    "\n",
    "        # Boundary conditions\n",
    "        F[1,2] = -1/6/Δx\n",
    "        F[1,N+1] = -1/6/Δx\n",
    "        F[1,N] = 1/6/Δx\n",
    "        F[1,end] = 1/6/Δx\n",
    "        F[N,end-1] = 1/6/Δx\n",
    "        F[N,end-2] = 1/6/Δx\n",
    "        F[N,1] = -1/6/Δx\n",
    "        F[N,N] = -1/6/Δx\n",
    "    else\n",
    "        F = zeros(N, S)\n",
    "    end\n",
    "\n",
    "    return A, F\n",
    "end"
   ]
  },
  {
   "cell_type": "code",
   "execution_count": 24,
   "id": "698ebd4e",
   "metadata": {},
   "outputs": [
    {
     "data": {
      "text/plain": [
       "([-72.0 36.0 0.0 36.0; 36.0 -72.0 36.0 0.0; 0.0 36.0 -72.0 36.0; 36.0 0.0 36.0 -72.0], sparse([2, 4, 1, 2, 1, 4, 1, 3, 2, 3, 2, 4, 3, 4, 1, 3], [1, 1, 2, 2, 4, 4, 5, 5, 6, 6, 8, 8, 9, 9, 10, 10], [1.0, -1.0, -1.0, 1.0, 1.0, -1.0, -1.0, 1.0, -1.0, 1.0, -1.0, 1.0, -1.0, 1.0, 1.0, -1.0], 4, 10))"
      ]
     },
     "metadata": {},
     "output_type": "display_data"
    }
   ],
   "source": [
    "A, F = generateEPmatrix(4, 1/6, 1.0)"
   ]
  },
  {
   "cell_type": "code",
   "execution_count": 25,
   "id": "3e1d4770",
   "metadata": {},
   "outputs": [
    {
     "data": {
      "text/plain": [
       "4×10 SparseMatrixCSC{Float64, Int64} with 16 stored entries:\n",
       "   ⋅   -1.0   ⋅    1.0  -1.0    ⋅    ⋅     ⋅     ⋅    1.0\n",
       "  1.0   1.0   ⋅     ⋅     ⋅   -1.0   ⋅   -1.0    ⋅     ⋅ \n",
       "   ⋅     ⋅    ⋅     ⋅    1.0   1.0   ⋅     ⋅   -1.0  -1.0\n",
       " -1.0    ⋅    ⋅   -1.0    ⋅     ⋅    ⋅    1.0   1.0    ⋅ "
      ]
     },
     "metadata": {},
     "output_type": "display_data"
    }
   ],
   "source": [
    "F"
   ]
  },
  {
   "cell_type": "code",
   "execution_count": 3,
   "id": "e6c758ba",
   "metadata": {},
   "outputs": [
    {
     "data": {
      "text/plain": [
       "5×5 Matrix{Float64}:\n",
       " 0.417938  0.806233   0.699986   0.255434  0.83579\n",
       " 0.336038  0.0927685  0.677172   0.562938  0.647408\n",
       " 0.546276  0.873308   0.0371454  0.228456  0.0627147\n",
       " 0.355165  0.495973   0.70881    0.164552  0.260624\n",
       " 0.720333  0.897354   0.642968   0.771093  0.434109"
      ]
     },
     "metadata": {},
     "output_type": "display_data"
    }
   ],
   "source": [
    "A = rand(5,5)"
   ]
  },
  {
   "cell_type": "code",
   "execution_count": 7,
   "id": "12828d8a",
   "metadata": {},
   "outputs": [
    {
     "data": {
      "text/plain": [
       "5×5 Matrix{Float64}:\n",
       " 2.41794   0.806233  0.699986  0.255434  0.83579\n",
       " 0.336038  2.09277   0.677172  0.562938  0.647408\n",
       " 0.546276  0.873308  2.03715   0.228456  0.0627147\n",
       " 0.355165  0.495973  0.70881   2.16455   0.260624\n",
       " 0.720333  0.897354  0.642968  0.771093  2.43411"
      ]
     },
     "metadata": {},
     "output_type": "display_data"
    }
   ],
   "source": [
    "a = 2\n",
    "A + a.*I"
   ]
  },
  {
   "cell_type": "code",
   "execution_count": 74,
   "id": "3677fe1a",
   "metadata": {},
   "outputs": [
    {
     "data": {
      "text/plain": [
       "3×3 Matrix{Float64}:\n",
       "  0.0  -0.4   3.33333\n",
       "  0.4   0.0  -1.0\n",
       " -2.0   1.0   0.0"
      ]
     },
     "metadata": {},
     "output_type": "display_data"
    }
   ],
   "source": [
    "pd = 1\n",
    "qd = 2\n",
    "rd = 3\n",
    "A = 3\n",
    "C = 1\n",
    "Id = 1\n",
    "po = 2\n",
    "qo = qd/pd * po\n",
    "ro = 2*Id*rd*po/(Id*pd+(A-C)*po)\n",
    "\n",
    "\n",
    "X12 = ((A-C)*ro - 2*Id*rd) / A\n",
    "X13 = ((A-C)*qo + Id*qd) / A\n",
    "X21 = (2*Id*rd - (A-C)*ro) / A\n",
    "X23 = (-(A-C)*po + Id*pd) / A\n",
    "X31 = -Id*qd / C\n",
    "X32 = Id*pd / C\n",
    "\n",
    "\n",
    "X = [0 X12 X13;\n",
    "    X21 0 X23;\n",
    "    X31 X32 0]"
   ]
  },
  {
   "cell_type": "code",
   "execution_count": 75,
   "id": "b47bdcb5",
   "metadata": {},
   "outputs": [
    {
     "data": {
      "text/plain": [
       "Eigen{ComplexF64, ComplexF64, Matrix{ComplexF64}, Vector{ComplexF64}}\n",
       "values:\n",
       "3-element Vector{ComplexF64}:\n",
       " -0.03405137184316559 - 2.7982396527888516im\n",
       " -0.03405137184316559 + 2.7982396527888516im\n",
       "   0.0681027436863315 + 0.0im\n",
       "vectors:\n",
       "3×3 Matrix{ComplexF64}:\n",
       "   0.748027-0.0im         0.748027+0.0im       0.441047+0.0im\n",
       "  -0.220832+0.116442im   -0.220832-0.116442im  0.889981+0.0im\n",
       " -0.0341412-0.613975im  -0.0341412+0.613975im  0.115809+0.0im"
      ]
     },
     "metadata": {},
     "output_type": "display_data"
    }
   ],
   "source": [
    "eigen(X)"
   ]
  },
  {
   "attachments": {},
   "cell_type": "markdown",
   "id": "e9b74a8c",
   "metadata": {},
   "source": [
    "## Positive Definite matrix"
   ]
  },
  {
   "cell_type": "code",
   "execution_count": 1,
   "id": "9059623c",
   "metadata": {},
   "outputs": [],
   "source": [
    "using LinearAlgebra\n",
    "using JuMP\n",
    "using Random\n",
    "using SCS\n",
    "using BenchmarkTools"
   ]
  },
  {
   "cell_type": "code",
   "execution_count": 4,
   "id": "1cde3d70",
   "metadata": {},
   "outputs": [
    {
     "name": "stdout",
     "output_type": "stream",
     "text": [
      "n = 1\n",
      "γ_lb = 1.0e-7\n",
      "n = 2\n",
      "γ_lb = 1.0e-7\n",
      "n = 3\n",
      "γ_lb = 0.001\n",
      "n = 4\n",
      "γ_lb = 1.0e-7\n",
      "n = 5\n",
      "γ_lb = 0.001\n",
      "n = 6\n",
      "γ_lb = 9.999999999999999e-5"
     ]
    },
    {
     "name": "stdout",
     "output_type": "stream",
     "text": [
      "\n",
      "n = 7\n",
      "γ_lb = 1.0e-7"
     ]
    },
    {
     "name": "stdout",
     "output_type": "stream",
     "text": [
      "\n",
      "n = 8\n",
      "γ_lb = 9.999999999999999e-5"
     ]
    },
    {
     "name": "stdout",
     "output_type": "stream",
     "text": [
      "\n",
      "n = 9\n",
      "γ_lb = 9.999999999999999e-5\n"
     ]
    },
    {
     "name": "stdout",
     "output_type": "stream",
     "text": [
      "n = 10\n",
      "γ_lb = 9.999999999999999e-6\n"
     ]
    }
   ],
   "source": [
    "function model(A, n)\n",
    "    model1 = Model(SCS.Optimizer)\n",
    "    set_silent(model1)\n",
    "    @variable(model1, D[1:n, 1:n], PSD)\n",
    "    @expression(model1, d, diag(D))\n",
    "    @objective(model1, Min, sum(d))\n",
    "    @constraint(model1, (A + D) in PSDCone())\n",
    "    JuMP.optimize!(model1)\n",
    "    Dopt = value.(D)\n",
    "    return Dopt\n",
    "end\n",
    "\n",
    "N = 10\n",
    "λ_all = Vector{Vector{Float64}}(undef, N)\n",
    "λpsd_all = Vector{Vector{Float64}}(undef, N)\n",
    "λpd_all = Vector{Vector{Float64}}(undef, N)\n",
    "Dopt_all = Vector{Matrix{Float64}}(undef, N)\n",
    "Apd_all = Vector{Matrix{Float64}}(undef, N)\n",
    "\n",
    "for n in 1:N\n",
    "\n",
    "    A = rand(n,n)\n",
    "    A = (A + A')/2\n",
    "\n",
    "    # Dopt = model(A, n)\n",
    "    not_pd = true\n",
    "    γ_lb = 1e-8\n",
    "    while not_pd\n",
    "        model1 = Model(SCS.Optimizer)\n",
    "        set_silent(model1)\n",
    "        @variable(model1, D[1:n, 1:n], PSD)\n",
    "        @variable(model1, γ_lb <= γ <= 0.1)\n",
    "        @expression(model1, d, diag(D))\n",
    "        @objective(model1, Min, sum(d) + γ)\n",
    "        @constraint(model1, (A + D) in PSDCone())\n",
    "        @constraint(model1, (A + D .+ γ*I) .>= γ_lb/10)\n",
    "        JuMP.optimize!(model1)\n",
    "        Dopt = value.(D)\n",
    "        γopt = value(γ)\n",
    "\n",
    "        Apd = A + Dopt + γopt * I\n",
    "        not_pd = !isposdef(Apd)\n",
    "        γ_lb *= 10\n",
    "        if γ_lb > 1\n",
    "            break\n",
    "        end\n",
    "        if !not_pd\n",
    "            println(\"n = \", n)\n",
    "            println(\"γ_lb = \", γ_lb)\n",
    "            Apd_all[n] = Apd\n",
    "            Dopt_all[n] = Dopt\n",
    "            λpd, _ = eigen(Apd)\n",
    "            λpd_all[n] = λpd\n",
    "        end\n",
    "    end\n",
    "\n",
    "    # JuMP.unregister(model1, :D)\n",
    "    # JuMP.unregister(model1, :d)\n",
    "    # JuMP.unregister(model1, :γ)\n",
    "\n",
    "end"
   ]
  },
  {
   "cell_type": "code",
   "execution_count": 59,
   "id": "cba78350",
   "metadata": {},
   "outputs": [
    {
     "data": {
      "text/plain": [
       "9.98139725321573e-5"
      ]
     },
     "metadata": {},
     "output_type": "display_data"
    }
   ],
   "source": [
    "γopt"
   ]
  },
  {
   "cell_type": "code",
   "execution_count": 60,
   "id": "e58bc7a0",
   "metadata": {},
   "outputs": [
    {
     "data": {
      "text/plain": [
       "10×10 Matrix{Float64}:\n",
       "  0.109782    0.0369402  -0.0899058  …  -0.0130133  -0.019333   -0.0109649\n",
       "  0.0369402   0.30425    -0.242847       0.0952652   0.152305    0.0730081\n",
       " -0.0899058  -0.242847    0.241223      -0.0496197  -0.0844962  -0.104144\n",
       "  0.0565693  -0.156551    0.0961764      0.0467147  -0.201088   -0.174342\n",
       "  0.0614738   0.156457   -0.107812       0.118548    0.0682734  -0.179571\n",
       " -0.118998   -0.0452032   0.0837047  …   0.225019   -0.26491    -0.0422486\n",
       " -0.0199376  -0.326182    0.225377      -0.324206    0.0229013   0.136166\n",
       " -0.0130133   0.0952652  -0.0496197      0.276421   -0.189697   -0.159147\n",
       " -0.019333    0.152305   -0.0844962     -0.189697    0.406185    0.124124\n",
       " -0.0109649   0.0730081  -0.104144      -0.159147    0.124124    0.354157"
      ]
     },
     "metadata": {},
     "output_type": "display_data"
    }
   ],
   "source": [
    "Dopt_all[10]"
   ]
  },
  {
   "cell_type": "code",
   "execution_count": 5,
   "id": "570efcee",
   "metadata": {},
   "outputs": [
    {
     "name": "stdout",
     "output_type": "stream",
     "text": [
      "n = 1"
     ]
    },
    {
     "name": "stdout",
     "output_type": "stream",
     "text": [
      "\n",
      "λpd = "
     ]
    },
    {
     "name": "stdout",
     "output_type": "stream",
     "text": [
      "[0.4734009490807311]\n",
      "n = 2\n",
      "λpd = [0.1849819833372284, 0.8820680560833327]\n",
      "n = 3\n",
      "λpd = [6.468577374406588e-5, 0.05566982780519548, 1.6117583650113532]\n",
      "n = 4\n",
      "λpd = [4.661279514244788e-5, 4.920875335063208e-5, 0.27870774945815124, 2.0049585300588713]\n",
      "n = 5\n",
      "λpd = [8.466359665425808e-5, 9.947412203149814e-5, 0.29784402185480136, 0.4639974525485556, 2.4125151784209677]\n",
      "n = 6\n",
      "λpd = [3.706122762959494e-6, 4.215574237891904e-6, 3.4193134752292945e-5, 0.737339150089506, 0.944097413701972, 2.8864282835122443]\n",
      "n = 7\n",
      "λpd = [9.811585948430339e-9, 9.863204921078684e-9, 9.883203783152058e-9, 1.0190787550512542e-8, 0.2023844666022052, 0.5126137609699556, 3.642776704069516]\n",
      "n = 8\n",
      "λpd = [0.0001353556312818269, 0.00013543256623279603, 0.00013547547725489587, 0.00013581635415185972, 0.4583539083708855, 0.6124596329307473, 0.7647150868774771, 4.071633237787463]\n",
      "n = 9\n",
      "λpd = [4.3061835188726397e-7, 1.1744208572273822e-5, 1.759295132737878e-5, 2.3475304593142915e-5, 0.0557134707476078, 0.36737622094088573, 0.5605989548149017, 0.9741711105997638, 5.0305147172688205]\n",
      "n = 10\n",
      "λpd = [8.429595114063119e-7, 9.585224667415907e-7, 1.0029055895846234e-6, 1.0213855868638373e-6, 0.022685755855426565, 0.17111469175303898, 0.4288911273861458, 0.676224943216663, 1.0004176003446377, 5.103982228527799]\n"
     ]
    }
   ],
   "source": [
    "for n in 1:N\n",
    "    println(\"n = $n\")\n",
    "    println(\"λpd = \", λpd_all[n])\n",
    "end"
   ]
  },
  {
   "cell_type": "code",
   "execution_count": 1,
   "id": "0b54b0c9",
   "metadata": {},
   "outputs": [
    {
     "ename": "AssertionError",
     "evalue": "AssertionError: a is not equal to b",
     "output_type": "error",
     "traceback": [
      "AssertionError: a is not equal to b\n",
      "\n",
      "Stacktrace:\n",
      " [1] top-level scope\n",
      "   @ c:\\Users\\tkoike3\\Code\\LiftAndLearn.jl\\examples\\scribble.ipynb:3"
     ]
    }
   ],
   "source": [
    "a = 1\n",
    "b = 2\n",
    "@assert a==b \"a is not equal to b\""
   ]
  },
  {
   "attachments": {},
   "cell_type": "markdown",
   "id": "3cef5023",
   "metadata": {},
   "source": [
    "## FFT Scribbles"
   ]
  },
  {
   "cell_type": "code",
   "execution_count": 1,
   "id": "b2a9e2e7",
   "metadata": {},
   "outputs": [
    {
     "data": {
      "image/png": "[encoded data removed]",
      "image/svg+xml": [
       "<?xml version=\"1.0\" encoding=\"utf-8\"?>\n",
       "<svg xmlns=\"http://www.w3.org/2000/svg\" xmlns:xlink=\"http://www.w3.org/1999/xlink\" width=\"600\" height=\"400\" viewBox=\"0 0 2400 1600\">\n",
       "<defs>\n",
       "  <clipPath id=\"clip720\">\n",
       "    <rect x=\"0\" y=\"0\" width=\"2400\" height=\"1600\"/>\n",
       "  </clipPath>\n",
       "</defs>\n",
       "<path clip-path=\"url(#clip720)\" d=\"M0 1600 L2400 1600 L2400 0 L0 0  Z\" fill=\"#ffffff\" fill-rule=\"evenodd\" fill-opacity=\"1\"/>\n",
       "<defs>\n",
       "  <clipPath id=\"clip721\">\n",
       "    <rect x=\"480\" y=\"0\" width=\"1681\" height=\"1600\"/>\n",
       "  </clipPath>\n",
       "</defs>\n",
       "<path clip-path=\"url(#clip720)\" d=\"M141.853 686.448 L2352.76 686.448 L2352.76 123.472 L141.853 123.472  Z\" fill=\"#ffffff\" fill-rule=\"evenodd\" fill-opacity=\"1\"/>\n",
       "<defs>\n",
       "  <clipPath id=\"clip722\">\n",
       "    <rect x=\"141\" y=\"123\" width=\"2212\" height=\"564\"/>\n",
       "  </clipPath>\n",
       "</defs>\n",
       "<polyline clip-path=\"url(#clip722)\" style=\"stroke:#000000; stroke-linecap:round; stroke-linejoin:round; stroke-width:2; stroke-opacity:0.1; fill:none\" points=\"204.426,686.448 204.426,123.472 \"/>\n",
       "<polyline clip-path=\"url(#clip722)\" style=\"stroke:#000000; stroke-linecap:round; stroke-linejoin:round; stroke-width:2; stroke-opacity:0.1; fill:none\" points=\"413.001,686.448 413.001,123.472 \"/>\n",
       "<polyline clip-path=\"url(#clip722)\" style=\"stroke:#000000; stroke-linecap:round; stroke-linejoin:round; stroke-width:2; stroke-opacity:0.1; fill:none\" points=\"621.577,686.448 621.577,123.472 \"/>\n",
       "<polyline clip-path=\"url(#clip722)\" style=\"stroke:#000000; stroke-linecap:round; stroke-linejoin:round; stroke-width:2; stroke-opacity:0.1; fill:none\" points=\"830.153,686.448 830.153,123.472 \"/>\n",
       "<polyline clip-path=\"url(#clip722)\" style=\"stroke:#000000; stroke-linecap:round; stroke-linejoin:round; stroke-width:2; stroke-opacity:0.1; fill:none\" points=\"1038.73,686.448 1038.73,123.472 \"/>\n",
       "<polyline clip-path=\"url(#clip722)\" style=\"stroke:#000000; stroke-linecap:round; stroke-linejoin:round; stroke-width:2; stroke-opacity:0.1; fill:none\" points=\"1247.3,686.448 1247.3,123.472 \"/>\n",
       "<polyline clip-path=\"url(#clip722)\" style=\"stroke:#000000; stroke-linecap:round; stroke-linejoin:round; stroke-width:2; stroke-opacity:0.1; fill:none\" points=\"1455.88,686.448 1455.88,123.472 \"/>\n",
       "<polyline clip-path=\"url(#clip722)\" style=\"stroke:#000000; stroke-linecap:round; stroke-linejoin:round; stroke-width:2; stroke-opacity:0.1; fill:none\" points=\"1664.46,686.448 1664.46,123.472 \"/>\n",
       "<polyline clip-path=\"url(#clip722)\" style=\"stroke:#000000; stroke-linecap:round; stroke-linejoin:round; stroke-width:2; stroke-opacity:0.1; fill:none\" points=\"1873.03,686.448 1873.03,123.472 \"/>\n",
       "<polyline clip-path=\"url(#clip722)\" style=\"stroke:#000000; stroke-linecap:round; stroke-linejoin:round; stroke-width:2; stroke-opacity:0.1; fill:none\" points=\"2081.61,686.448 2081.61,123.472 \"/>\n",
       "<polyline clip-path=\"url(#clip722)\" style=\"stroke:#000000; stroke-linecap:round; stroke-linejoin:round; stroke-width:2; stroke-opacity:0.1; fill:none\" points=\"2290.18,686.448 2290.18,123.472 \"/>\n",
       "<polyline clip-path=\"url(#clip720)\" style=\"stroke:#000000; stroke-linecap:round; stroke-linejoin:round; stroke-width:4; stroke-opacity:1; fill:none\" points=\"141.853,686.448 2352.76,686.448 \"/>\n",
       "<polyline clip-path=\"url(#clip720)\" style=\"stroke:#000000; stroke-linecap:round; stroke-linejoin:round; stroke-width:4; stroke-opacity:1; fill:none\" points=\"204.426,686.448 204.426,667.55 \"/>\n",
       "<polyline clip-path=\"url(#clip720)\" style=\"stroke:#000000; stroke-linecap:round; stroke-linejoin:round; stroke-width:4; stroke-opacity:1; fill:none\" points=\"413.001,686.448 413.001,667.55 \"/>\n",
       "<polyline clip-path=\"url(#clip720)\" style=\"stroke:#000000; stroke-linecap:round; stroke-linejoin:round; stroke-width:4; stroke-opacity:1; fill:none\" points=\"621.577,686.448 621.577,667.55 \"/>\n",
       "<polyline clip-path=\"url(#clip720)\" style=\"stroke:#000000; stroke-linecap:round; stroke-linejoin:round; stroke-width:4; stroke-opacity:1; fill:none\" points=\"830.153,686.448 830.153,667.55 \"/>\n",
       "<polyline clip-path=\"url(#clip720)\" style=\"stroke:#000000; stroke-linecap:round; stroke-linejoin:round; stroke-width:4; stroke-opacity:1; fill:none\" points=\"1038.73,686.448 1038.73,667.55 \"/>\n",
       "<polyline clip-path=\"url(#clip720)\" style=\"stroke:#000000; stroke-linecap:round; stroke-linejoin:round; stroke-width:4; stroke-opacity:1; fill:none\" points=\"1247.3,686.448 1247.3,667.55 \"/>\n",
       "<polyline clip-path=\"url(#clip720)\" style=\"stroke:#000000; stroke-linecap:round; stroke-linejoin:round; stroke-width:4; stroke-opacity:1; fill:none\" points=\"1455.88,686.448 1455.88,667.55 \"/>\n",
       "<polyline clip-path=\"url(#clip720)\" style=\"stroke:#000000; stroke-linecap:round; stroke-linejoin:round; stroke-width:4; stroke-opacity:1; fill:none\" points=\"1664.46,686.448 1664.46,667.55 \"/>\n",
       "<polyline clip-path=\"url(#clip720)\" style=\"stroke:#000000; stroke-linecap:round; stroke-linejoin:round; stroke-width:4; stroke-opacity:1; fill:none\" points=\"1873.03,686.448 1873.03,667.55 \"/>\n",
       "<polyline clip-path=\"url(#clip720)\" style=\"stroke:#000000; stroke-linecap:round; stroke-linejoin:round; stroke-width:4; stroke-opacity:1; fill:none\" points=\"2081.61,686.448 2081.61,667.55 \"/>\n",
       "<polyline clip-path=\"url(#clip720)\" style=\"stroke:#000000; stroke-linecap:round; stroke-linejoin:round; stroke-width:4; stroke-opacity:1; fill:none\" points=\"2290.18,686.448 2290.18,667.55 \"/>\n",
       "<path clip-path=\"url(#clip720)\" d=\"M194.808 744.913 L202.447 744.913 L202.447 718.547 L194.136 720.214 L194.136 715.955 L202.4 714.288 L207.076 714.288 L207.076 744.913 L214.715 744.913 L214.715 748.848 L194.808 748.848 L194.808 744.913 Z\" fill=\"#000000\" fill-rule=\"nonzero\" fill-opacity=\"1\" /><path clip-path=\"url(#clip720)\" d=\"M417.249 730.214 Q420.606 730.931 422.481 733.2 Q424.379 735.468 424.379 738.802 Q424.379 743.917 420.86 746.718 Q417.342 749.519 410.86 749.519 Q408.684 749.519 406.37 749.079 Q404.078 748.663 401.624 747.806 L401.624 743.292 Q403.569 744.427 405.883 745.005 Q408.198 745.584 410.721 745.584 Q415.119 745.584 417.411 743.848 Q419.726 742.112 419.726 738.802 Q419.726 735.746 417.573 734.033 Q415.444 732.297 411.624 732.297 L407.596 732.297 L407.596 728.454 L411.809 728.454 Q415.258 728.454 417.087 727.089 Q418.916 725.7 418.916 723.107 Q418.916 720.445 417.018 719.033 Q415.143 717.598 411.624 717.598 Q409.703 717.598 407.504 718.015 Q405.305 718.431 402.666 719.311 L402.666 715.144 Q405.328 714.404 407.643 714.033 Q409.981 713.663 412.041 713.663 Q417.365 713.663 420.467 716.093 Q423.568 718.501 423.568 722.621 Q423.568 725.492 421.925 727.482 Q420.281 729.45 417.249 730.214 Z\" fill=\"#000000\" fill-rule=\"nonzero\" fill-opacity=\"1\" /><path clip-path=\"url(#clip720)\" d=\"M611.855 714.288 L630.211 714.288 L630.211 718.223 L616.137 718.223 L616.137 726.695 Q617.156 726.348 618.174 726.186 Q619.193 726.001 620.211 726.001 Q625.998 726.001 629.378 729.172 Q632.758 732.343 632.758 737.76 Q632.758 743.339 629.285 746.44 Q625.813 749.519 619.494 749.519 Q617.318 749.519 615.049 749.149 Q612.804 748.778 610.397 748.038 L610.397 743.339 Q612.48 744.473 614.702 745.028 Q616.924 745.584 619.401 745.584 Q623.406 745.584 625.744 743.478 Q628.082 741.371 628.082 737.76 Q628.082 734.149 625.744 732.042 Q623.406 729.936 619.401 729.936 Q617.526 729.936 615.651 730.353 Q613.799 730.769 611.855 731.649 L611.855 714.288 Z\" fill=\"#000000\" fill-rule=\"nonzero\" fill-opacity=\"1\" /><path clip-path=\"url(#clip720)\" d=\"M819.042 714.288 L841.264 714.288 L841.264 716.279 L828.718 748.848 L823.834 748.848 L835.639 718.223 L819.042 718.223 L819.042 714.288 Z\" fill=\"#000000\" fill-rule=\"nonzero\" fill-opacity=\"1\" /><path clip-path=\"url(#clip720)\" d=\"M1029.03 748.13 L1029.03 743.871 Q1030.79 744.704 1032.59 745.144 Q1034.4 745.584 1036.14 745.584 Q1040.77 745.584 1043.2 742.482 Q1045.65 739.357 1046 733.015 Q1044.65 735.005 1042.59 736.07 Q1040.53 737.135 1038.03 737.135 Q1032.85 737.135 1029.82 734.01 Q1026.81 730.862 1026.81 725.422 Q1026.81 720.098 1029.96 716.88 Q1033.1 713.663 1038.34 713.663 Q1044.33 713.663 1047.48 718.269 Q1050.65 722.853 1050.65 731.603 Q1050.65 739.774 1046.76 744.658 Q1042.9 749.519 1036.34 749.519 Q1034.59 749.519 1032.78 749.172 Q1030.97 748.825 1029.03 748.13 M1038.34 733.478 Q1041.48 733.478 1043.31 731.325 Q1045.16 729.172 1045.16 725.422 Q1045.16 721.695 1043.31 719.542 Q1041.48 717.367 1038.34 717.367 Q1035.19 717.367 1033.34 719.542 Q1031.51 721.695 1031.51 725.422 Q1031.51 729.172 1033.34 731.325 Q1035.19 733.478 1038.34 733.478 Z\" fill=\"#000000\" fill-rule=\"nonzero\" fill-opacity=\"1\" /><path clip-path=\"url(#clip720)\" d=\"M1222.61 744.913 L1230.24 744.913 L1230.24 718.547 L1221.93 720.214 L1221.93 715.955 L1230.2 714.288 L1234.87 714.288 L1234.87 744.913 L1242.51 744.913 L1242.51 748.848 L1222.61 748.848 L1222.61 744.913 Z\" fill=\"#000000\" fill-rule=\"nonzero\" fill-opacity=\"1\" /><path clip-path=\"url(#clip720)\" d=\"M1252.77 744.913 L1260.41 744.913 L1260.41 718.547 L1252.1 720.214 L1252.1 715.955 L1260.36 714.288 L1265.04 714.288 L1265.04 744.913 L1272.67 744.913 L1272.67 748.848 L1252.77 748.848 L1252.77 744.913 Z\" fill=\"#000000\" fill-rule=\"nonzero\" fill-opacity=\"1\" /><path clip-path=\"url(#clip720)\" d=\"M1430.89 744.913 L1438.53 744.913 L1438.53 718.547 L1430.22 720.214 L1430.22 715.955 L1438.48 714.288 L1443.16 714.288 L1443.16 744.913 L1450.8 744.913 L1450.8 748.848 L1430.89 748.848 L1430.89 744.913 Z\" fill=\"#000000\" fill-rule=\"nonzero\" fill-opacity=\"1\" /><path clip-path=\"url(#clip720)\" d=\"M1474.41 730.214 Q1477.77 730.931 1479.64 733.2 Q1481.54 735.468 1481.54 738.802 Q1481.54 743.917 1478.02 746.718 Q1474.5 749.519 1468.02 749.519 Q1465.85 749.519 1463.53 749.079 Q1461.24 748.663 1458.79 747.806 L1458.79 743.292 Q1460.73 744.427 1463.04 745.005 Q1465.36 745.584 1467.88 745.584 Q1472.28 745.584 1474.57 743.848 Q1476.89 742.112 1476.89 738.802 Q1476.89 735.746 1474.73 734.033 Q1472.6 732.297 1468.79 732.297 L1464.76 732.297 L1464.76 728.454 L1468.97 728.454 Q1472.42 728.454 1474.25 727.089 Q1476.08 725.7 1476.08 723.107 Q1476.08 720.445 1474.18 719.033 Q1472.3 717.598 1468.79 717.598 Q1466.86 717.598 1464.66 718.015 Q1462.47 718.431 1459.83 719.311 L1459.83 715.144 Q1462.49 714.404 1464.8 714.033 Q1467.14 713.663 1469.2 713.663 Q1474.53 713.663 1477.63 716.093 Q1480.73 718.501 1480.73 722.621 Q1480.73 725.492 1479.09 727.482 Q1477.44 729.45 1474.41 730.214 Z\" fill=\"#000000\" fill-rule=\"nonzero\" fill-opacity=\"1\" /><path clip-path=\"url(#clip720)\" d=\"M1639.64 744.913 L1647.28 744.913 L1647.28 718.547 L1638.97 720.214 L1638.97 715.955 L1647.23 714.288 L1651.91 714.288 L1651.91 744.913 L1659.55 744.913 L1659.55 748.848 L1639.64 748.848 L1639.64 744.913 Z\" fill=\"#000000\" fill-rule=\"nonzero\" fill-opacity=\"1\" /><path clip-path=\"url(#clip720)\" d=\"M1669.04 714.288 L1687.4 714.288 L1687.4 718.223 L1673.32 718.223 L1673.32 726.695 Q1674.34 726.348 1675.36 726.186 Q1676.38 726.001 1677.4 726.001 Q1683.18 726.001 1686.56 729.172 Q1689.94 732.343 1689.94 737.76 Q1689.94 743.339 1686.47 746.44 Q1683 749.519 1676.68 749.519 Q1674.5 749.519 1672.23 749.149 Q1669.99 748.778 1667.58 748.038 L1667.58 743.339 Q1669.66 744.473 1671.89 745.028 Q1674.11 745.584 1676.59 745.584 Q1680.59 745.584 1682.93 743.478 Q1685.27 741.371 1685.27 737.76 Q1685.27 734.149 1682.93 732.042 Q1680.59 729.936 1676.59 729.936 Q1674.71 729.936 1672.84 730.353 Q1670.98 730.769 1669.04 731.649 L1669.04 714.288 Z\" fill=\"#000000\" fill-rule=\"nonzero\" fill-opacity=\"1\" /><path clip-path=\"url(#clip720)\" d=\"M1848.17 744.913 L1855.81 744.913 L1855.81 718.547 L1847.5 720.214 L1847.5 715.955 L1855.76 714.288 L1860.44 714.288 L1860.44 744.913 L1868.08 744.913 L1868.08 748.848 L1848.17 748.848 L1848.17 744.913 Z\" fill=\"#000000\" fill-rule=\"nonzero\" fill-opacity=\"1\" /><path clip-path=\"url(#clip720)\" d=\"M1876.34 714.288 L1898.56 714.288 L1898.56 716.279 L1886.02 748.848 L1881.13 748.848 L1892.94 718.223 L1876.34 718.223 L1876.34 714.288 Z\" fill=\"#000000\" fill-rule=\"nonzero\" fill-opacity=\"1\" /><path clip-path=\"url(#clip720)\" d=\"M2056.39 744.913 L2064.03 744.913 L2064.03 718.547 L2055.72 720.214 L2055.72 715.955 L2063.98 714.288 L2068.66 714.288 L2068.66 744.913 L2076.29 744.913 L2076.29 748.848 L2056.39 748.848 L2056.39 744.913 Z\" fill=\"#000000\" fill-rule=\"nonzero\" fill-opacity=\"1\" /><path clip-path=\"url(#clip720)\" d=\"M2085.88 748.13 L2085.88 743.871 Q2087.64 744.704 2089.44 745.144 Q2091.25 745.584 2092.98 745.584 Q2097.61 745.584 2100.04 742.482 Q2102.5 739.357 2102.85 733.015 Q2101.5 735.005 2099.44 736.07 Q2097.38 737.135 2094.88 737.135 Q2089.7 737.135 2086.67 734.01 Q2083.66 730.862 2083.66 725.422 Q2083.66 720.098 2086.8 716.88 Q2089.95 713.663 2095.18 713.663 Q2101.18 713.663 2104.33 718.269 Q2107.5 722.853 2107.5 731.603 Q2107.5 739.774 2103.61 744.658 Q2099.74 749.519 2093.19 749.519 Q2091.43 749.519 2089.63 749.172 Q2087.82 748.825 2085.88 748.13 M2095.18 733.478 Q2098.33 733.478 2100.16 731.325 Q2102.01 729.172 2102.01 725.422 Q2102.01 721.695 2100.16 719.542 Q2098.33 717.367 2095.18 717.367 Q2092.04 717.367 2090.18 719.542 Q2088.36 721.695 2088.36 725.422 Q2088.36 729.172 2090.18 731.325 Q2092.04 733.478 2095.18 733.478 Z\" fill=\"#000000\" fill-rule=\"nonzero\" fill-opacity=\"1\" /><path clip-path=\"url(#clip720)\" d=\"M2269.57 744.913 L2285.89 744.913 L2285.89 748.848 L2263.94 748.848 L2263.94 744.913 Q2266.61 742.158 2271.19 737.528 Q2275.8 732.876 2276.98 731.533 Q2279.22 729.01 2280.1 727.274 Q2281 725.515 2281 723.825 Q2281 721.07 2279.06 719.334 Q2277.14 717.598 2274.04 717.598 Q2271.84 717.598 2269.38 718.362 Q2266.95 719.126 2264.18 720.677 L2264.18 715.955 Q2267 714.82 2269.45 714.242 Q2271.91 713.663 2273.94 713.663 Q2279.32 713.663 2282.51 716.348 Q2285.7 719.033 2285.7 723.524 Q2285.7 725.654 2284.89 727.575 Q2284.11 729.473 2282 732.066 Q2281.42 732.737 2278.32 735.954 Q2275.22 739.149 2269.57 744.913 Z\" fill=\"#000000\" fill-rule=\"nonzero\" fill-opacity=\"1\" /><path clip-path=\"url(#clip720)\" d=\"M2296.51 744.913 L2304.15 744.913 L2304.15 718.547 L2295.84 720.214 L2295.84 715.955 L2304.11 714.288 L2308.78 714.288 L2308.78 744.913 L2316.42 744.913 L2316.42 748.848 L2296.51 748.848 L2296.51 744.913 Z\" fill=\"#000000\" fill-rule=\"nonzero\" fill-opacity=\"1\" /><polyline clip-path=\"url(#clip722)\" style=\"stroke:#000000; stroke-linecap:round; stroke-linejoin:round; stroke-width:2; stroke-opacity:0.1; fill:none\" points=\"141.853,686.448 2352.76,686.448 \"/>\n",
       "<polyline clip-path=\"url(#clip722)\" style=\"stroke:#000000; stroke-linecap:round; stroke-linejoin:round; stroke-width:2; stroke-opacity:0.1; fill:none\" points=\"141.853,606.023 2352.76,606.023 \"/>\n",
       "<polyline clip-path=\"url(#clip722)\" style=\"stroke:#000000; stroke-linecap:round; stroke-linejoin:round; stroke-width:2; stroke-opacity:0.1; fill:none\" points=\"141.853,525.598 2352.76,525.598 \"/>\n",
       "<polyline clip-path=\"url(#clip722)\" style=\"stroke:#000000; stroke-linecap:round; stroke-linejoin:round; stroke-width:2; stroke-opacity:0.1; fill:none\" points=\"141.853,445.173 2352.76,445.173 \"/>\n",
       "<polyline clip-path=\"url(#clip722)\" style=\"stroke:#000000; stroke-linecap:round; stroke-linejoin:round; stroke-width:2; stroke-opacity:0.1; fill:none\" points=\"141.853,364.747 2352.76,364.747 \"/>\n",
       "<polyline clip-path=\"url(#clip722)\" style=\"stroke:#000000; stroke-linecap:round; stroke-linejoin:round; stroke-width:2; stroke-opacity:0.1; fill:none\" points=\"141.853,284.322 2352.76,284.322 \"/>\n",
       "<polyline clip-path=\"url(#clip722)\" style=\"stroke:#000000; stroke-linecap:round; stroke-linejoin:round; stroke-width:2; stroke-opacity:0.1; fill:none\" points=\"141.853,203.897 2352.76,203.897 \"/>\n",
       "<polyline clip-path=\"url(#clip722)\" style=\"stroke:#000000; stroke-linecap:round; stroke-linejoin:round; stroke-width:2; stroke-opacity:0.1; fill:none\" points=\"141.853,123.472 2352.76,123.472 \"/>\n",
       "<polyline clip-path=\"url(#clip720)\" style=\"stroke:#000000; stroke-linecap:round; stroke-linejoin:round; stroke-width:4; stroke-opacity:1; fill:none\" points=\"141.853,686.448 141.853,123.472 \"/>\n",
       "<polyline clip-path=\"url(#clip720)\" style=\"stroke:#000000; stroke-linecap:round; stroke-linejoin:round; stroke-width:4; stroke-opacity:1; fill:none\" points=\"141.853,686.448 160.751,686.448 \"/>\n",
       "<polyline clip-path=\"url(#clip720)\" style=\"stroke:#000000; stroke-linecap:round; stroke-linejoin:round; stroke-width:4; stroke-opacity:1; fill:none\" points=\"141.853,606.023 160.751,606.023 \"/>\n",
       "<polyline clip-path=\"url(#clip720)\" style=\"stroke:#000000; stroke-linecap:round; stroke-linejoin:round; stroke-width:4; stroke-opacity:1; fill:none\" points=\"141.853,525.598 160.751,525.598 \"/>\n",
       "<polyline clip-path=\"url(#clip720)\" style=\"stroke:#000000; stroke-linecap:round; stroke-linejoin:round; stroke-width:4; stroke-opacity:1; fill:none\" points=\"141.853,445.173 160.751,445.173 \"/>\n",
       "<polyline clip-path=\"url(#clip720)\" style=\"stroke:#000000; stroke-linecap:round; stroke-linejoin:round; stroke-width:4; stroke-opacity:1; fill:none\" points=\"141.853,364.747 160.751,364.747 \"/>\n",
       "<polyline clip-path=\"url(#clip720)\" style=\"stroke:#000000; stroke-linecap:round; stroke-linejoin:round; stroke-width:4; stroke-opacity:1; fill:none\" points=\"141.853,284.322 160.751,284.322 \"/>\n",
       "<polyline clip-path=\"url(#clip720)\" style=\"stroke:#000000; stroke-linecap:round; stroke-linejoin:round; stroke-width:4; stroke-opacity:1; fill:none\" points=\"141.853,203.897 160.751,203.897 \"/>\n",
       "<polyline clip-path=\"url(#clip720)\" style=\"stroke:#000000; stroke-linecap:round; stroke-linejoin:round; stroke-width:4; stroke-opacity:1; fill:none\" points=\"141.853,123.472 160.751,123.472 \"/>\n",
       "<path clip-path=\"url(#clip720)\" d=\"M93.9086 672.247 Q90.2975 672.247 88.4688 675.811 Q86.6632 679.353 86.6632 686.483 Q86.6632 693.589 88.4688 697.154 Q90.2975 700.695 93.9086 700.695 Q97.5428 700.695 99.3483 697.154 Q101.177 693.589 101.177 686.483 Q101.177 679.353 99.3483 675.811 Q97.5428 672.247 93.9086 672.247 M93.9086 668.543 Q99.7187 668.543 102.774 673.149 Q105.853 677.733 105.853 686.483 Q105.853 695.209 102.774 699.816 Q99.7187 704.399 93.9086 704.399 Q88.0984 704.399 85.0197 699.816 Q81.9642 695.209 81.9642 686.483 Q81.9642 677.733 85.0197 673.149 Q88.0984 668.543 93.9086 668.543 Z\" fill=\"#000000\" fill-rule=\"nonzero\" fill-opacity=\"1\" /><path clip-path=\"url(#clip720)\" d=\"M54.5569 619.368 L62.1958 619.368 L62.1958 593.002 L53.8856 594.669 L53.8856 590.409 L62.1495 588.743 L66.8254 588.743 L66.8254 619.368 L74.4642 619.368 L74.4642 623.303 L54.5569 623.303 L54.5569 619.368 Z\" fill=\"#000000\" fill-rule=\"nonzero\" fill-opacity=\"1\" /><path clip-path=\"url(#clip720)\" d=\"M93.9086 591.821 Q90.2975 591.821 88.4688 595.386 Q86.6632 598.928 86.6632 606.057 Q86.6632 613.164 88.4688 616.729 Q90.2975 620.27 93.9086 620.27 Q97.5428 620.27 99.3483 616.729 Q101.177 613.164 101.177 606.057 Q101.177 598.928 99.3483 595.386 Q97.5428 591.821 93.9086 591.821 M93.9086 588.118 Q99.7187 588.118 102.774 592.724 Q105.853 597.308 105.853 606.057 Q105.853 614.784 102.774 619.391 Q99.7187 623.974 93.9086 623.974 Q88.0984 623.974 85.0197 619.391 Q81.9642 614.784 81.9642 606.057 Q81.9642 597.308 85.0197 592.724 Q88.0984 588.118 93.9086 588.118 Z\" fill=\"#000000\" fill-rule=\"nonzero\" fill-opacity=\"1\" /><path clip-path=\"url(#clip720)\" d=\"M57.7745 538.942 L74.0939 538.942 L74.0939 542.878 L52.1495 542.878 L52.1495 538.942 Q54.8115 536.188 59.3949 531.558 Q64.0013 526.906 65.1819 525.563 Q67.4272 523.04 68.3068 521.304 Q69.2096 519.544 69.2096 517.855 Q69.2096 515.1 67.2652 513.364 Q65.3439 511.628 62.2421 511.628 Q60.043 511.628 57.5893 512.392 Q55.1588 513.156 52.381 514.707 L52.381 509.984 Q55.2051 508.85 57.6588 508.271 Q60.1124 507.693 62.1495 507.693 Q67.5198 507.693 70.7142 510.378 Q73.9087 513.063 73.9087 517.554 Q73.9087 519.683 73.0985 521.605 Q72.3115 523.503 70.205 526.095 Q69.6263 526.767 66.5245 529.984 Q63.4226 533.179 57.7745 538.942 Z\" fill=\"#000000\" fill-rule=\"nonzero\" fill-opacity=\"1\" /><path clip-path=\"url(#clip720)\" d=\"M93.9086 511.396 Q90.2975 511.396 88.4688 514.961 Q86.6632 518.503 86.6632 525.632 Q86.6632 532.739 88.4688 536.304 Q90.2975 539.845 93.9086 539.845 Q97.5428 539.845 99.3483 536.304 Q101.177 532.739 101.177 525.632 Q101.177 518.503 99.3483 514.961 Q97.5428 511.396 93.9086 511.396 M93.9086 507.693 Q99.7187 507.693 102.774 512.299 Q105.853 516.882 105.853 525.632 Q105.853 534.359 102.774 538.966 Q99.7187 543.549 93.9086 543.549 Q88.0984 543.549 85.0197 538.966 Q81.9642 534.359 81.9642 525.632 Q81.9642 516.882 85.0197 512.299 Q88.0984 507.693 93.9086 507.693 Z\" fill=\"#000000\" fill-rule=\"nonzero\" fill-opacity=\"1\" /><path clip-path=\"url(#clip720)\" d=\"M67.9133 443.818 Q71.2698 444.536 73.1448 446.804 Q75.0429 449.073 75.0429 452.406 Q75.0429 457.522 71.5244 460.323 Q68.0059 463.124 61.5245 463.124 Q59.3486 463.124 57.0338 462.684 Q54.7421 462.267 52.2884 461.411 L52.2884 456.897 Q54.2328 458.031 56.5477 458.61 Q58.8625 459.189 61.3856 459.189 Q65.7837 459.189 68.0754 457.453 Q70.3902 455.716 70.3902 452.406 Q70.3902 449.351 68.2374 447.638 Q66.1078 445.902 62.2884 445.902 L58.2606 445.902 L58.2606 442.059 L62.4735 442.059 Q65.9226 442.059 67.7513 440.693 Q69.58 439.305 69.58 436.712 Q69.58 434.05 67.6819 432.638 Q65.8069 431.203 62.2884 431.203 Q60.3671 431.203 58.168 431.619 Q55.969 432.036 53.3301 432.916 L53.3301 428.749 Q55.9921 428.008 58.3069 427.638 Q60.6449 427.268 62.705 427.268 Q68.0291 427.268 71.1309 429.698 Q74.2327 432.105 74.2327 436.226 Q74.2327 439.096 72.5892 441.087 Q70.9457 443.055 67.9133 443.818 Z\" fill=\"#000000\" fill-rule=\"nonzero\" fill-opacity=\"1\" /><path clip-path=\"url(#clip720)\" d=\"M93.9086 430.971 Q90.2975 430.971 88.4688 434.536 Q86.6632 438.078 86.6632 445.207 Q86.6632 452.314 88.4688 455.879 Q90.2975 459.42 93.9086 459.42 Q97.5428 459.42 99.3483 455.879 Q101.177 452.314 101.177 445.207 Q101.177 438.078 99.3483 434.536 Q97.5428 430.971 93.9086 430.971 M93.9086 427.268 Q99.7187 427.268 102.774 431.874 Q105.853 436.457 105.853 445.207 Q105.853 453.934 102.774 458.541 Q99.7187 463.124 93.9086 463.124 Q88.0984 463.124 85.0197 458.541 Q81.9642 453.934 81.9642 445.207 Q81.9642 436.457 85.0197 431.874 Q88.0984 427.268 93.9086 427.268 Z\" fill=\"#000000\" fill-rule=\"nonzero\" fill-opacity=\"1\" /><path clip-path=\"url(#clip720)\" d=\"M66.5939 351.541 L54.7884 369.99 L66.5939 369.99 L66.5939 351.541 M65.367 347.467 L71.2466 347.467 L71.2466 369.99 L76.1772 369.99 L76.1772 373.879 L71.2466 373.879 L71.2466 382.027 L66.5939 382.027 L66.5939 373.879 L50.9921 373.879 L50.9921 369.365 L65.367 347.467 Z\" fill=\"#000000\" fill-rule=\"nonzero\" fill-opacity=\"1\" /><path clip-path=\"url(#clip720)\" d=\"M93.9086 350.546 Q90.2975 350.546 88.4688 354.111 Q86.6632 357.653 86.6632 364.782 Q86.6632 371.889 88.4688 375.453 Q90.2975 378.995 93.9086 378.995 Q97.5428 378.995 99.3483 375.453 Q101.177 371.889 101.177 364.782 Q101.177 357.653 99.3483 354.111 Q97.5428 350.546 93.9086 350.546 M93.9086 346.842 Q99.7187 346.842 102.774 351.449 Q105.853 356.032 105.853 364.782 Q105.853 373.509 102.774 378.115 Q99.7187 382.699 93.9086 382.699 Q88.0984 382.699 85.0197 378.115 Q81.9642 373.509 81.9642 364.782 Q81.9642 356.032 85.0197 351.449 Q88.0984 346.842 93.9086 346.842 Z\" fill=\"#000000\" fill-rule=\"nonzero\" fill-opacity=\"1\" /><path clip-path=\"url(#clip720)\" d=\"M53.793 267.042 L72.1494 267.042 L72.1494 270.978 L58.0754 270.978 L58.0754 279.45 Q59.0939 279.102 60.1124 278.94 Q61.131 278.755 62.1495 278.755 Q67.9365 278.755 71.3161 281.927 Q74.6957 285.098 74.6957 290.514 Q74.6957 296.093 71.2235 299.195 Q67.7513 302.274 61.4319 302.274 Q59.256 302.274 56.9875 301.903 Q54.7421 301.533 52.3347 300.792 L52.3347 296.093 Q54.418 297.227 56.6402 297.783 Q58.8625 298.338 61.3393 298.338 Q65.3439 298.338 67.6819 296.232 Q70.0198 294.126 70.0198 290.514 Q70.0198 286.903 67.6819 284.797 Q65.3439 282.69 61.3393 282.69 Q59.4643 282.69 57.5893 283.107 Q55.7375 283.524 53.793 284.403 L53.793 267.042 Z\" fill=\"#000000\" fill-rule=\"nonzero\" fill-opacity=\"1\" /><path clip-path=\"url(#clip720)\" d=\"M93.9086 270.121 Q90.2975 270.121 88.4688 273.686 Q86.6632 277.227 86.6632 284.357 Q86.6632 291.464 88.4688 295.028 Q90.2975 298.57 93.9086 298.57 Q97.5428 298.57 99.3483 295.028 Q101.177 291.464 101.177 284.357 Q101.177 277.227 99.3483 273.686 Q97.5428 270.121 93.9086 270.121 M93.9086 266.417 Q99.7187 266.417 102.774 271.024 Q105.853 275.607 105.853 284.357 Q105.853 293.084 102.774 297.69 Q99.7187 302.274 93.9086 302.274 Q88.0984 302.274 85.0197 297.69 Q81.9642 293.084 81.9642 284.357 Q81.9642 275.607 85.0197 271.024 Q88.0984 266.417 93.9086 266.417 Z\" fill=\"#000000\" fill-rule=\"nonzero\" fill-opacity=\"1\" /><path clip-path=\"url(#clip720)\" d=\"M64.3254 202.034 Q61.1773 202.034 59.3254 204.187 Q57.4967 206.339 57.4967 210.089 Q57.4967 213.816 59.3254 215.992 Q61.1773 218.145 64.3254 218.145 Q67.4735 218.145 69.3022 215.992 Q71.1541 213.816 71.1541 210.089 Q71.1541 206.339 69.3022 204.187 Q67.4735 202.034 64.3254 202.034 M73.6077 187.381 L73.6077 191.64 Q71.8485 190.807 70.0429 190.367 Q68.2606 189.927 66.5013 189.927 Q61.8717 189.927 59.418 193.052 Q56.9875 196.177 56.6402 202.497 Q58.006 200.483 60.0662 199.418 Q62.1263 198.33 64.6032 198.33 Q69.8115 198.33 72.8207 201.501 Q75.8531 204.65 75.8531 210.089 Q75.8531 215.413 72.705 218.631 Q69.5568 221.849 64.3254 221.849 Q58.33 221.849 55.1588 217.265 Q51.9875 212.659 51.9875 203.932 Q51.9875 195.738 55.8764 190.876 Q59.7652 185.992 66.3161 185.992 Q68.0754 185.992 69.8578 186.339 Q71.6633 186.687 73.6077 187.381 Z\" fill=\"#000000\" fill-rule=\"nonzero\" fill-opacity=\"1\" /><path clip-path=\"url(#clip720)\" d=\"M93.9086 189.696 Q90.2975 189.696 88.4688 193.261 Q86.6632 196.802 86.6632 203.932 Q86.6632 211.038 88.4688 214.603 Q90.2975 218.145 93.9086 218.145 Q97.5428 218.145 99.3483 214.603 Q101.177 211.038 101.177 203.932 Q101.177 196.802 99.3483 193.261 Q97.5428 189.696 93.9086 189.696 M93.9086 185.992 Q99.7187 185.992 102.774 190.599 Q105.853 195.182 105.853 203.932 Q105.853 212.659 102.774 217.265 Q99.7187 221.849 93.9086 221.849 Q88.0984 221.849 85.0197 217.265 Q81.9642 212.659 81.9642 203.932 Q81.9642 195.182 85.0197 190.599 Q88.0984 185.992 93.9086 185.992 Z\" fill=\"#000000\" fill-rule=\"nonzero\" fill-opacity=\"1\" /><path clip-path=\"url(#clip720)\" d=\"M52.5662 106.192 L74.7883 106.192 L74.7883 108.183 L62.2421 140.752 L57.3578 140.752 L69.1633 110.127 L52.5662 110.127 L52.5662 106.192 Z\" fill=\"#000000\" fill-rule=\"nonzero\" fill-opacity=\"1\" /><path clip-path=\"url(#clip720)\" d=\"M93.9086 109.271 Q90.2975 109.271 88.4688 112.836 Q86.6632 116.377 86.6632 123.507 Q86.6632 130.613 88.4688 134.178 Q90.2975 137.72 93.9086 137.72 Q97.5428 137.72 99.3483 134.178 Q101.177 130.613 101.177 123.507 Q101.177 116.377 99.3483 112.836 Q97.5428 109.271 93.9086 109.271 M93.9086 105.567 Q99.7187 105.567 102.774 110.174 Q105.853 114.757 105.853 123.507 Q105.853 132.234 102.774 136.84 Q99.7187 141.423 93.9086 141.423 Q88.0984 141.423 85.0197 136.84 Q81.9642 132.234 81.9642 123.507 Q81.9642 114.757 85.0197 110.174 Q88.0984 105.567 93.9086 105.567 Z\" fill=\"#000000\" fill-rule=\"nonzero\" fill-opacity=\"1\" /><path clip-path=\"url(#clip720)\" d=\"M774.058 17.6457 Q765.146 17.6457 759.879 24.2892 Q754.654 30.9327 754.654 42.3968 Q754.654 53.8203 759.879 60.4638 Q765.146 67.1073 774.058 67.1073 Q782.97 67.1073 788.155 60.4638 Q793.38 53.8203 793.38 42.3968 Q793.38 30.9327 788.155 24.2892 Q782.97 17.6457 774.058 17.6457 M774.058 11.0023 Q786.777 11.0023 794.393 19.5497 Q802.009 28.0566 802.009 42.3968 Q802.009 56.6965 794.393 65.2439 Q786.777 73.7508 774.058 73.7508 Q761.297 73.7508 753.641 65.2439 Q746.025 56.737 746.025 42.3968 Q746.025 28.0566 753.641 19.5497 Q761.297 11.0023 774.058 11.0023 Z\" fill=\"#000000\" fill-rule=\"nonzero\" fill-opacity=\"1\" /><path clip-path=\"url(#clip720)\" d=\"M840.776 34.1734 Q839.52 33.4443 838.021 33.1202 Q836.563 32.7556 834.781 32.7556 Q828.461 32.7556 825.058 36.8875 Q821.696 40.9789 821.696 48.6757 L821.696 72.576 L814.202 72.576 L814.202 27.2059 L821.696 27.2059 L821.696 34.2544 Q824.046 30.1225 827.813 28.1376 Q831.58 26.1121 836.968 26.1121 Q837.738 26.1121 838.669 26.2337 Q839.601 26.3147 840.735 26.5172 L840.776 34.1734 Z\" fill=\"#000000\" fill-rule=\"nonzero\" fill-opacity=\"1\" /><path clip-path=\"url(#clip720)\" d=\"M848.594 27.2059 L856.048 27.2059 L856.048 72.576 L848.594 72.576 L848.594 27.2059 M848.594 9.54393 L856.048 9.54393 L856.048 18.9825 L848.594 18.9825 L848.594 9.54393 Z\" fill=\"#000000\" fill-rule=\"nonzero\" fill-opacity=\"1\" /><path clip-path=\"url(#clip720)\" d=\"M901.499 49.3643 Q901.499 41.2625 898.137 36.8065 Q894.815 32.3505 888.779 32.3505 Q882.784 32.3505 879.422 36.8065 Q876.1 41.2625 876.1 49.3643 Q876.1 57.4256 879.422 61.8816 Q882.784 66.3376 888.779 66.3376 Q894.815 66.3376 898.137 61.8816 Q901.499 57.4256 901.499 49.3643 M908.953 66.9452 Q908.953 78.5308 903.808 84.1616 Q898.663 89.8329 888.05 89.8329 Q884.121 89.8329 880.637 89.2252 Q877.153 88.6581 873.872 87.4428 L873.872 80.1917 Q877.153 81.9741 880.353 82.8248 Q883.553 83.6755 886.875 83.6755 Q894.207 83.6755 897.853 79.8271 Q901.499 76.0193 901.499 68.282 L901.499 64.5957 Q899.19 68.6061 895.585 70.5911 Q891.979 72.576 886.956 72.576 Q878.611 72.576 873.507 66.2161 Q868.403 59.8562 868.403 49.3643 Q868.403 38.832 873.507 32.472 Q878.611 26.1121 886.956 26.1121 Q891.979 26.1121 895.585 28.0971 Q899.19 30.082 901.499 34.0924 L901.499 27.2059 L908.953 27.2059 L908.953 66.9452 Z\" fill=\"#000000\" fill-rule=\"nonzero\" fill-opacity=\"1\" /><path clip-path=\"url(#clip720)\" d=\"M924.306 27.2059 L931.759 27.2059 L931.759 72.576 L924.306 72.576 L924.306 27.2059 M924.306 9.54393 L931.759 9.54393 L931.759 18.9825 L924.306 18.9825 L924.306 9.54393 Z\" fill=\"#000000\" fill-rule=\"nonzero\" fill-opacity=\"1\" /><path clip-path=\"url(#clip720)\" d=\"M985.069 45.1919 L985.069 72.576 L977.615 72.576 L977.615 45.4349 Q977.615 38.994 975.104 35.7938 Q972.592 32.5936 967.569 32.5936 Q961.533 32.5936 958.05 36.4419 Q954.566 40.2903 954.566 46.9338 L954.566 72.576 L947.072 72.576 L947.072 27.2059 L954.566 27.2059 L954.566 34.2544 Q957.239 30.163 960.845 28.1376 Q964.491 26.1121 969.23 26.1121 Q977.048 26.1121 981.059 30.9732 Q985.069 35.7938 985.069 45.1919 Z\" fill=\"#000000\" fill-rule=\"nonzero\" fill-opacity=\"1\" /><path clip-path=\"url(#clip720)\" d=\"M1020.56 49.7694 Q1011.52 49.7694 1008.04 51.8354 Q1004.55 53.9013 1004.55 58.8839 Q1004.55 62.8538 1007.15 65.2034 Q1009.78 67.5124 1014.28 67.5124 Q1020.47 67.5124 1024.2 63.1374 Q1027.97 58.7219 1027.97 51.4303 L1027.97 49.7694 L1020.56 49.7694 M1035.42 46.6907 L1035.42 72.576 L1027.97 72.576 L1027.97 65.6895 Q1025.42 69.8214 1021.61 71.8063 Q1017.8 73.7508 1012.29 73.7508 Q1005.32 73.7508 1001.19 69.8619 Q997.1 65.9325 997.1 59.3701 Q997.1 51.7138 1002.2 47.825 Q1007.35 43.9361 1017.52 43.9361 L1027.97 43.9361 L1027.97 43.2069 Q1027.97 38.0623 1024.57 35.2672 Q1021.2 32.4315 1015.09 32.4315 Q1011.2 32.4315 1007.51 33.3632 Q1003.82 34.295 1000.42 36.1584 L1000.42 29.2718 Q1004.51 27.692 1008.36 26.9223 Q1012.21 26.1121 1015.86 26.1121 Q1025.7 26.1121 1030.56 31.2163 Q1035.42 36.3204 1035.42 46.6907 Z\" fill=\"#000000\" fill-rule=\"nonzero\" fill-opacity=\"1\" /><path clip-path=\"url(#clip720)\" d=\"M1050.77 9.54393 L1058.23 9.54393 L1058.23 72.576 L1050.77 72.576 L1050.77 9.54393 Z\" fill=\"#000000\" fill-rule=\"nonzero\" fill-opacity=\"1\" /><path clip-path=\"url(#clip720)\" d=\"M1100.52 12.096 L1135.28 12.096 L1135.28 18.9825 L1108.7 18.9825 L1108.7 36.8065 L1132.68 36.8065 L1132.68 43.6931 L1108.7 43.6931 L1108.7 72.576 L1100.52 72.576 L1100.52 12.096 Z\" fill=\"#000000\" fill-rule=\"nonzero\" fill-opacity=\"1\" /><path clip-path=\"url(#clip720)\" d=\"M1148.24 12.096 L1183 12.096 L1183 18.9825 L1156.42 18.9825 L1156.42 36.8065 L1180.4 36.8065 L1180.4 43.6931 L1156.42 43.6931 L1156.42 72.576 L1148.24 72.576 L1148.24 12.096 Z\" fill=\"#000000\" fill-rule=\"nonzero\" fill-opacity=\"1\" /><path clip-path=\"url(#clip720)\" d=\"M1186.12 12.096 L1237.28 12.096 L1237.28 18.9825 L1215.81 18.9825 L1215.81 72.576 L1207.59 72.576 L1207.59 18.9825 L1186.12 18.9825 L1186.12 12.096 Z\" fill=\"#000000\" fill-rule=\"nonzero\" fill-opacity=\"1\" /><path clip-path=\"url(#clip720)\" d=\"M1316.84 16.7545 L1316.84 25.383 Q1312.71 21.5346 1308.01 19.6307 Q1303.35 17.7268 1298.08 17.7268 Q1287.71 17.7268 1282.2 24.0867 Q1276.69 30.4061 1276.69 42.3968 Q1276.69 54.3469 1282.2 60.7069 Q1287.71 67.0263 1298.08 67.0263 Q1303.35 67.0263 1308.01 65.1223 Q1312.71 63.2184 1316.84 59.3701 L1316.84 67.9175 Q1312.54 70.8341 1307.72 72.2924 Q1302.94 73.7508 1297.6 73.7508 Q1283.86 73.7508 1275.96 65.3654 Q1268.07 56.9395 1268.07 42.3968 Q1268.07 27.8135 1275.96 19.4281 Q1283.86 11.0023 1297.6 11.0023 Q1303.02 11.0023 1307.8 12.4606 Q1312.63 13.8784 1316.84 16.7545 Z\" fill=\"#000000\" fill-rule=\"nonzero\" fill-opacity=\"1\" /><path clip-path=\"url(#clip720)\" d=\"M1346.73 32.4315 Q1340.74 32.4315 1337.25 37.1306 Q1333.77 41.7891 1333.77 49.9314 Q1333.77 58.0738 1337.21 62.7728 Q1340.7 67.4314 1346.73 67.4314 Q1352.69 67.4314 1356.17 62.7323 Q1359.66 58.0333 1359.66 49.9314 Q1359.66 41.8701 1356.17 37.1711 Q1352.69 32.4315 1346.73 32.4315 M1346.73 26.1121 Q1356.46 26.1121 1362.01 32.4315 Q1367.56 38.7509 1367.56 49.9314 Q1367.56 61.0714 1362.01 67.4314 Q1356.46 73.7508 1346.73 73.7508 Q1336.97 73.7508 1331.42 67.4314 Q1325.91 61.0714 1325.91 49.9314 Q1325.91 38.7509 1331.42 32.4315 Q1336.97 26.1121 1346.73 26.1121 Z\" fill=\"#000000\" fill-rule=\"nonzero\" fill-opacity=\"1\" /><path clip-path=\"url(#clip720)\" d=\"M1418.72 48.0275 L1418.72 51.6733 L1384.45 51.6733 Q1384.93 59.3701 1389.07 63.421 Q1393.24 67.4314 1400.65 67.4314 Q1404.95 67.4314 1408.96 66.3781 Q1413.01 65.3249 1416.98 63.2184 L1416.98 70.267 Q1412.97 71.9684 1408.75 72.8596 Q1404.54 73.7508 1400.21 73.7508 Q1389.35 73.7508 1382.99 67.4314 Q1376.67 61.1119 1376.67 50.3365 Q1376.67 39.1965 1382.67 32.6746 Q1388.7 26.1121 1398.91 26.1121 Q1408.06 26.1121 1413.37 32.0264 Q1418.72 37.9003 1418.72 48.0275 M1411.26 45.84 Q1411.18 39.7232 1407.82 36.0774 Q1404.5 32.4315 1398.99 32.4315 Q1392.75 32.4315 1388.98 35.9558 Q1385.26 39.4801 1384.69 45.8805 L1411.26 45.84 Z\" fill=\"#000000\" fill-rule=\"nonzero\" fill-opacity=\"1\" /><path clip-path=\"url(#clip720)\" d=\"M1453.92 9.54393 L1453.92 15.7418 L1446.79 15.7418 Q1442.78 15.7418 1441.2 17.3622 Q1439.66 18.9825 1439.66 23.1955 L1439.66 27.2059 L1451.94 27.2059 L1451.94 32.9987 L1439.66 32.9987 L1439.66 72.576 L1432.17 72.576 L1432.17 32.9987 L1425.04 32.9987 L1425.04 27.2059 L1432.17 27.2059 L1432.17 24.0462 Q1432.17 16.471 1435.69 13.0277 Q1439.22 9.54393 1446.87 9.54393 L1453.92 9.54393 Z\" fill=\"#000000\" fill-rule=\"nonzero\" fill-opacity=\"1\" /><path clip-path=\"url(#clip720)\" d=\"M1483.13 9.54393 L1483.13 15.7418 L1476 15.7418 Q1471.99 15.7418 1470.41 17.3622 Q1468.87 18.9825 1468.87 23.1955 L1468.87 27.2059 L1481.14 27.2059 L1481.14 32.9987 L1468.87 32.9987 L1468.87 72.576 L1461.37 72.576 L1461.37 32.9987 L1454.24 32.9987 L1454.24 27.2059 L1461.37 27.2059 L1461.37 24.0462 Q1461.37 16.471 1464.9 13.0277 Q1468.42 9.54393 1476.08 9.54393 L1483.13 9.54393 Z\" fill=\"#000000\" fill-rule=\"nonzero\" fill-opacity=\"1\" /><path clip-path=\"url(#clip720)\" d=\"M1489.37 27.2059 L1496.82 27.2059 L1496.82 72.576 L1489.37 72.576 L1489.37 27.2059 M1489.37 9.54393 L1496.82 9.54393 L1496.82 18.9825 L1489.37 18.9825 L1489.37 9.54393 Z\" fill=\"#000000\" fill-rule=\"nonzero\" fill-opacity=\"1\" /><path clip-path=\"url(#clip720)\" d=\"M1545.07 28.9478 L1545.07 35.9153 Q1541.91 34.1734 1538.71 33.3227 Q1535.55 32.4315 1532.31 32.4315 Q1525.05 32.4315 1521.04 37.0496 Q1517.03 41.6271 1517.03 49.9314 Q1517.03 58.2358 1521.04 62.8538 Q1525.05 67.4314 1532.31 67.4314 Q1535.55 67.4314 1538.71 66.5807 Q1541.91 65.6895 1545.07 63.9476 L1545.07 70.8341 Q1541.95 72.2924 1538.58 73.0216 Q1535.26 73.7508 1531.5 73.7508 Q1521.25 73.7508 1515.21 67.3098 Q1509.18 60.8689 1509.18 49.9314 Q1509.18 38.832 1515.25 32.472 Q1521.37 26.1121 1531.98 26.1121 Q1535.42 26.1121 1538.71 26.8413 Q1541.99 27.5299 1545.07 28.9478 Z\" fill=\"#000000\" fill-rule=\"nonzero\" fill-opacity=\"1\" /><path clip-path=\"url(#clip720)\" d=\"M1558.03 27.2059 L1565.48 27.2059 L1565.48 72.576 L1558.03 72.576 L1558.03 27.2059 M1558.03 9.54393 L1565.48 9.54393 L1565.48 18.9825 L1558.03 18.9825 L1558.03 9.54393 Z\" fill=\"#000000\" fill-rule=\"nonzero\" fill-opacity=\"1\" /><path clip-path=\"url(#clip720)\" d=\"M1619.89 48.0275 L1619.89 51.6733 L1585.62 51.6733 Q1586.1 59.3701 1590.23 63.421 Q1594.41 67.4314 1601.82 67.4314 Q1606.11 67.4314 1610.12 66.3781 Q1614.17 65.3249 1618.14 63.2184 L1618.14 70.267 Q1614.13 71.9684 1609.92 72.8596 Q1605.71 73.7508 1601.37 73.7508 Q1590.52 73.7508 1584.16 67.4314 Q1577.84 61.1119 1577.84 50.3365 Q1577.84 39.1965 1583.83 32.6746 Q1589.87 26.1121 1600.08 26.1121 Q1609.23 26.1121 1614.54 32.0264 Q1619.89 37.9003 1619.89 48.0275 M1612.43 45.84 Q1612.35 39.7232 1608.99 36.0774 Q1605.67 32.4315 1600.16 32.4315 Q1593.92 32.4315 1590.15 35.9558 Q1586.43 39.4801 1585.86 45.8805 L1612.43 45.84 Z\" fill=\"#000000\" fill-rule=\"nonzero\" fill-opacity=\"1\" /><path clip-path=\"url(#clip720)\" d=\"M1669.83 45.1919 L1669.83 72.576 L1662.38 72.576 L1662.38 45.4349 Q1662.38 38.994 1659.87 35.7938 Q1657.36 32.5936 1652.33 32.5936 Q1646.3 32.5936 1642.81 36.4419 Q1639.33 40.2903 1639.33 46.9338 L1639.33 72.576 L1631.84 72.576 L1631.84 27.2059 L1639.33 27.2059 L1639.33 34.2544 Q1642 30.163 1645.61 28.1376 Q1649.26 26.1121 1653.99 26.1121 Q1661.81 26.1121 1665.82 30.9732 Q1669.83 35.7938 1669.83 45.1919 Z\" fill=\"#000000\" fill-rule=\"nonzero\" fill-opacity=\"1\" /><path clip-path=\"url(#clip720)\" d=\"M1692.07 14.324 L1692.07 27.2059 L1707.43 27.2059 L1707.43 32.9987 L1692.07 32.9987 L1692.07 57.6282 Q1692.07 63.1779 1693.57 64.7578 Q1695.11 66.3376 1699.77 66.3376 L1707.43 66.3376 L1707.43 72.576 L1699.77 72.576 Q1691.14 72.576 1687.86 69.3758 Q1684.58 66.1351 1684.58 57.6282 L1684.58 32.9987 L1679.11 32.9987 L1679.11 27.2059 L1684.58 27.2059 L1684.58 14.324 L1692.07 14.324 Z\" fill=\"#000000\" fill-rule=\"nonzero\" fill-opacity=\"1\" /><path clip-path=\"url(#clip720)\" d=\"M1746.15 28.5427 L1746.15 35.5912 Q1742.99 33.9709 1739.59 33.1607 Q1736.19 32.3505 1732.54 32.3505 Q1726.99 32.3505 1724.2 34.0519 Q1721.44 35.7533 1721.44 39.156 Q1721.44 41.7486 1723.43 43.2475 Q1725.41 44.7058 1731.41 46.0426 L1733.96 46.6097 Q1741.9 48.3111 1745.22 51.4303 Q1748.58 54.509 1748.58 60.0587 Q1748.58 66.3781 1743.56 70.0644 Q1738.58 73.7508 1729.83 73.7508 Q1726.18 73.7508 1722.21 73.0216 Q1718.28 72.3329 1713.91 70.9151 L1713.91 63.2184 Q1718.04 65.3654 1722.05 66.4591 Q1726.06 67.5124 1729.99 67.5124 Q1735.26 67.5124 1738.09 65.73 Q1740.93 63.9071 1740.93 60.6258 Q1740.93 57.5877 1738.86 55.9673 Q1736.84 54.3469 1729.91 52.8481 L1727.32 52.2405 Q1720.39 50.7821 1717.31 47.7845 Q1714.23 44.7463 1714.23 39.4801 Q1714.23 33.0797 1718.77 29.5959 Q1723.31 26.1121 1731.65 26.1121 Q1735.78 26.1121 1739.43 26.7198 Q1743.07 27.3274 1746.15 28.5427 Z\" fill=\"#000000\" fill-rule=\"nonzero\" fill-opacity=\"1\" /><polyline clip-path=\"url(#clip722)\" style=\"stroke:#009af9; stroke-linecap:round; stroke-linejoin:round; stroke-width:4; stroke-opacity:1; fill:none\" points=\"204.426,593.057 308.714,675.14 413.001,678.624 517.289,674.807 621.577,669.128 725.865,677.066 830.153,181.102 934.441,683.175 1038.73,685.576 1143.02,675.289 1247.3,680.424 1351.59,680.424 1455.88,675.289 1560.17,685.576 1664.46,683.175 1768.74,675.729 1873.03,677.066 1977.32,362.665 2081.61,674.807 2185.9,678.624 2290.18,675.14 \"/>\n",
       "<polyline clip-path=\"url(#clip722)\" style=\"stroke:#ffffff; stroke-linecap:round; stroke-linejoin:round; stroke-width:4; stroke-opacity:1; fill:none\" points=\"204.426,593.057 830.153,181.102 1977.32,362.665 \"/>\n",
       "<circle clip-path=\"url(#clip722)\" cx=\"204.426\" cy=\"593.057\" r=\"21.6\" fill=\"#e26f46\" fill-rule=\"evenodd\" fill-opacity=\"1\" stroke=\"#000000\" stroke-opacity=\"1\" stroke-width=\"3.2\"/>\n",
       "<circle clip-path=\"url(#clip722)\" cx=\"830.153\" cy=\"181.102\" r=\"21.6\" fill=\"#e26f46\" fill-rule=\"evenodd\" fill-opacity=\"1\" stroke=\"#000000\" stroke-opacity=\"1\" stroke-width=\"3.2\"/>\n",
       "<circle clip-path=\"url(#clip722)\" cx=\"1977.32\" cy=\"362.665\" r=\"21.6\" fill=\"#e26f46\" fill-rule=\"evenodd\" fill-opacity=\"1\" stroke=\"#000000\" stroke-opacity=\"1\" stroke-width=\"3.2\"/>\n",
       "<path clip-path=\"url(#clip720)\" d=\"M141.853 1486.45 L2352.76 1486.45 L2352.76 923.472 L141.853 923.472  Z\" fill=\"#ffffff\" fill-rule=\"evenodd\" fill-opacity=\"1\"/>\n",
       "<defs>\n",
       "  <clipPath id=\"clip723\">\n",
       "    <rect x=\"141\" y=\"923\" width=\"2212\" height=\"564\"/>\n",
       "  </clipPath>\n",
       "</defs>\n",
       "<polyline clip-path=\"url(#clip723)\" style=\"stroke:#000000; stroke-linecap:round; stroke-linejoin:round; stroke-width:2; stroke-opacity:0.1; fill:none\" points=\"204.426,1486.45 204.426,923.472 \"/>\n",
       "<polyline clip-path=\"url(#clip723)\" style=\"stroke:#000000; stroke-linecap:round; stroke-linejoin:round; stroke-width:2; stroke-opacity:0.1; fill:none\" points=\"413.001,1486.45 413.001,923.472 \"/>\n",
       "<polyline clip-path=\"url(#clip723)\" style=\"stroke:#000000; stroke-linecap:round; stroke-linejoin:round; stroke-width:2; stroke-opacity:0.1; fill:none\" points=\"621.577,1486.45 621.577,923.472 \"/>\n",
       "<polyline clip-path=\"url(#clip723)\" style=\"stroke:#000000; stroke-linecap:round; stroke-linejoin:round; stroke-width:2; stroke-opacity:0.1; fill:none\" points=\"830.153,1486.45 830.153,923.472 \"/>\n",
       "<polyline clip-path=\"url(#clip723)\" style=\"stroke:#000000; stroke-linecap:round; stroke-linejoin:round; stroke-width:2; stroke-opacity:0.1; fill:none\" points=\"1038.73,1486.45 1038.73,923.472 \"/>\n",
       "<polyline clip-path=\"url(#clip723)\" style=\"stroke:#000000; stroke-linecap:round; stroke-linejoin:round; stroke-width:2; stroke-opacity:0.1; fill:none\" points=\"1247.3,1486.45 1247.3,923.472 \"/>\n",
       "<polyline clip-path=\"url(#clip723)\" style=\"stroke:#000000; stroke-linecap:round; stroke-linejoin:round; stroke-width:2; stroke-opacity:0.1; fill:none\" points=\"1455.88,1486.45 1455.88,923.472 \"/>\n",
       "<polyline clip-path=\"url(#clip723)\" style=\"stroke:#000000; stroke-linecap:round; stroke-linejoin:round; stroke-width:2; stroke-opacity:0.1; fill:none\" points=\"1664.46,1486.45 1664.46,923.472 \"/>\n",
       "<polyline clip-path=\"url(#clip723)\" style=\"stroke:#000000; stroke-linecap:round; stroke-linejoin:round; stroke-width:2; stroke-opacity:0.1; fill:none\" points=\"1873.03,1486.45 1873.03,923.472 \"/>\n",
       "<polyline clip-path=\"url(#clip723)\" style=\"stroke:#000000; stroke-linecap:round; stroke-linejoin:round; stroke-width:2; stroke-opacity:0.1; fill:none\" points=\"2081.61,1486.45 2081.61,923.472 \"/>\n",
       "<polyline clip-path=\"url(#clip723)\" style=\"stroke:#000000; stroke-linecap:round; stroke-linejoin:round; stroke-width:2; stroke-opacity:0.1; fill:none\" points=\"2290.18,1486.45 2290.18,923.472 \"/>\n",
       "<polyline clip-path=\"url(#clip720)\" style=\"stroke:#000000; stroke-linecap:round; stroke-linejoin:round; stroke-width:4; stroke-opacity:1; fill:none\" points=\"141.853,1486.45 2352.76,1486.45 \"/>\n",
       "<polyline clip-path=\"url(#clip720)\" style=\"stroke:#000000; stroke-linecap:round; stroke-linejoin:round; stroke-width:4; stroke-opacity:1; fill:none\" points=\"204.426,1486.45 204.426,1467.55 \"/>\n",
       "<polyline clip-path=\"url(#clip720)\" style=\"stroke:#000000; stroke-linecap:round; stroke-linejoin:round; stroke-width:4; stroke-opacity:1; fill:none\" points=\"413.001,1486.45 413.001,1467.55 \"/>\n",
       "<polyline clip-path=\"url(#clip720)\" style=\"stroke:#000000; stroke-linecap:round; stroke-linejoin:round; stroke-width:4; stroke-opacity:1; fill:none\" points=\"621.577,1486.45 621.577,1467.55 \"/>\n",
       "<polyline clip-path=\"url(#clip720)\" style=\"stroke:#000000; stroke-linecap:round; stroke-linejoin:round; stroke-width:4; stroke-opacity:1; fill:none\" points=\"830.153,1486.45 830.153,1467.55 \"/>\n",
       "<polyline clip-path=\"url(#clip720)\" style=\"stroke:#000000; stroke-linecap:round; stroke-linejoin:round; stroke-width:4; stroke-opacity:1; fill:none\" points=\"1038.73,1486.45 1038.73,1467.55 \"/>\n",
       "<polyline clip-path=\"url(#clip720)\" style=\"stroke:#000000; stroke-linecap:round; stroke-linejoin:round; stroke-width:4; stroke-opacity:1; fill:none\" points=\"1247.3,1486.45 1247.3,1467.55 \"/>\n",
       "<polyline clip-path=\"url(#clip720)\" style=\"stroke:#000000; stroke-linecap:round; stroke-linejoin:round; stroke-width:4; stroke-opacity:1; fill:none\" points=\"1455.88,1486.45 1455.88,1467.55 \"/>\n",
       "<polyline clip-path=\"url(#clip720)\" style=\"stroke:#000000; stroke-linecap:round; stroke-linejoin:round; stroke-width:4; stroke-opacity:1; fill:none\" points=\"1664.46,1486.45 1664.46,1467.55 \"/>\n",
       "<polyline clip-path=\"url(#clip720)\" style=\"stroke:#000000; stroke-linecap:round; stroke-linejoin:round; stroke-width:4; stroke-opacity:1; fill:none\" points=\"1873.03,1486.45 1873.03,1467.55 \"/>\n",
       "<polyline clip-path=\"url(#clip720)\" style=\"stroke:#000000; stroke-linecap:round; stroke-linejoin:round; stroke-width:4; stroke-opacity:1; fill:none\" points=\"2081.61,1486.45 2081.61,1467.55 \"/>\n",
       "<polyline clip-path=\"url(#clip720)\" style=\"stroke:#000000; stroke-linecap:round; stroke-linejoin:round; stroke-width:4; stroke-opacity:1; fill:none\" points=\"2290.18,1486.45 2290.18,1467.55 \"/>\n",
       "<path clip-path=\"url(#clip720)\" d=\"M158.488 1532.02 L188.164 1532.02 L188.164 1535.95 L158.488 1535.95 L158.488 1532.02 Z\" fill=\"#000000\" fill-rule=\"nonzero\" fill-opacity=\"1\" /><path clip-path=\"url(#clip720)\" d=\"M199.067 1544.91 L206.706 1544.91 L206.706 1518.55 L198.396 1520.21 L198.396 1515.95 L206.659 1514.29 L211.335 1514.29 L211.335 1544.91 L218.974 1544.91 L218.974 1548.85 L199.067 1548.85 L199.067 1544.91 Z\" fill=\"#000000\" fill-rule=\"nonzero\" fill-opacity=\"1\" /><path clip-path=\"url(#clip720)\" d=\"M238.419 1517.37 Q234.807 1517.37 232.979 1520.93 Q231.173 1524.47 231.173 1531.6 Q231.173 1538.71 232.979 1542.27 Q234.807 1545.82 238.419 1545.82 Q242.053 1545.82 243.858 1542.27 Q245.687 1538.71 245.687 1531.6 Q245.687 1524.47 243.858 1520.93 Q242.053 1517.37 238.419 1517.37 M238.419 1513.66 Q244.229 1513.66 247.284 1518.27 Q250.363 1522.85 250.363 1531.6 Q250.363 1540.33 247.284 1544.94 Q244.229 1549.52 238.419 1549.52 Q232.608 1549.52 229.53 1544.94 Q226.474 1540.33 226.474 1531.6 Q226.474 1522.85 229.53 1518.27 Q232.608 1513.66 238.419 1513.66 Z\" fill=\"#000000\" fill-rule=\"nonzero\" fill-opacity=\"1\" /><path clip-path=\"url(#clip720)\" d=\"M382.191 1532.02 L411.867 1532.02 L411.867 1535.95 L382.191 1535.95 L382.191 1532.02 Z\" fill=\"#000000\" fill-rule=\"nonzero\" fill-opacity=\"1\" /><path clip-path=\"url(#clip720)\" d=\"M431.96 1532.44 Q428.626 1532.44 426.705 1534.22 Q424.807 1536 424.807 1539.13 Q424.807 1542.25 426.705 1544.03 Q428.626 1545.82 431.96 1545.82 Q435.293 1545.82 437.214 1544.03 Q439.136 1542.23 439.136 1539.13 Q439.136 1536 437.214 1534.22 Q435.316 1532.44 431.96 1532.44 M427.284 1530.45 Q424.275 1529.7 422.585 1527.64 Q420.918 1525.58 420.918 1522.62 Q420.918 1518.48 423.858 1516.07 Q426.821 1513.66 431.96 1513.66 Q437.122 1513.66 440.061 1516.07 Q443.001 1518.48 443.001 1522.62 Q443.001 1525.58 441.311 1527.64 Q439.645 1529.7 436.659 1530.45 Q440.038 1531.23 441.913 1533.52 Q443.811 1535.82 443.811 1539.13 Q443.811 1544.15 440.733 1546.83 Q437.677 1549.52 431.96 1549.52 Q426.242 1549.52 423.163 1546.83 Q420.108 1544.15 420.108 1539.13 Q420.108 1535.82 422.006 1533.52 Q423.904 1531.23 427.284 1530.45 M425.571 1523.06 Q425.571 1525.75 427.237 1527.25 Q428.927 1528.76 431.96 1528.76 Q434.969 1528.76 436.659 1527.25 Q438.372 1525.75 438.372 1523.06 Q438.372 1520.38 436.659 1518.87 Q434.969 1517.37 431.96 1517.37 Q428.927 1517.37 427.237 1518.87 Q425.571 1520.38 425.571 1523.06 Z\" fill=\"#000000\" fill-rule=\"nonzero\" fill-opacity=\"1\" /><path clip-path=\"url(#clip720)\" d=\"M590.64 1532.02 L620.316 1532.02 L620.316 1535.95 L590.64 1535.95 L590.64 1532.02 Z\" fill=\"#000000\" fill-rule=\"nonzero\" fill-opacity=\"1\" /><path clip-path=\"url(#clip720)\" d=\"M640.987 1529.7 Q637.839 1529.7 635.987 1531.86 Q634.158 1534.01 634.158 1537.76 Q634.158 1541.49 635.987 1543.66 Q637.839 1545.82 640.987 1545.82 Q644.135 1545.82 645.964 1543.66 Q647.815 1541.49 647.815 1537.76 Q647.815 1534.01 645.964 1531.86 Q644.135 1529.7 640.987 1529.7 M650.269 1515.05 L650.269 1519.31 Q648.51 1518.48 646.704 1518.04 Q644.922 1517.6 643.163 1517.6 Q638.533 1517.6 636.079 1520.72 Q633.649 1523.85 633.302 1530.17 Q634.667 1528.15 636.728 1527.09 Q638.788 1526 641.265 1526 Q646.473 1526 649.482 1529.17 Q652.515 1532.32 652.515 1537.76 Q652.515 1543.08 649.366 1546.3 Q646.218 1549.52 640.987 1549.52 Q634.991 1549.52 631.82 1544.94 Q628.649 1540.33 628.649 1531.6 Q628.649 1523.41 632.538 1518.55 Q636.427 1513.66 642.978 1513.66 Q644.737 1513.66 646.519 1514.01 Q648.325 1514.36 650.269 1515.05 Z\" fill=\"#000000\" fill-rule=\"nonzero\" fill-opacity=\"1\" /><path clip-path=\"url(#clip720)\" d=\"M799.054 1532.02 L828.729 1532.02 L828.729 1535.95 L799.054 1535.95 L799.054 1532.02 Z\" fill=\"#000000\" fill-rule=\"nonzero\" fill-opacity=\"1\" /><path clip-path=\"url(#clip720)\" d=\"M851.669 1518.36 L839.864 1536.81 L851.669 1536.81 L851.669 1518.36 M850.442 1514.29 L856.322 1514.29 L856.322 1536.81 L861.252 1536.81 L861.252 1540.7 L856.322 1540.7 L856.322 1548.85 L851.669 1548.85 L851.669 1540.7 L836.067 1540.7 L836.067 1536.19 L850.442 1514.29 Z\" fill=\"#000000\" fill-rule=\"nonzero\" fill-opacity=\"1\" /><path clip-path=\"url(#clip720)\" d=\"M1008.67 1532.02 L1038.35 1532.02 L1038.35 1535.95 L1008.67 1535.95 L1008.67 1532.02 Z\" fill=\"#000000\" fill-rule=\"nonzero\" fill-opacity=\"1\" /><path clip-path=\"url(#clip720)\" d=\"M1052.47 1544.91 L1068.79 1544.91 L1068.79 1548.85 L1046.84 1548.85 L1046.84 1544.91 Q1049.5 1542.16 1054.09 1537.53 Q1058.69 1532.88 1059.87 1531.53 Q1062.12 1529.01 1063 1527.27 Q1063.9 1525.51 1063.9 1523.82 Q1063.9 1521.07 1061.96 1519.33 Q1060.04 1517.6 1056.93 1517.6 Q1054.74 1517.6 1052.28 1518.36 Q1049.85 1519.13 1047.07 1520.68 L1047.07 1515.95 Q1049.9 1514.82 1052.35 1514.24 Q1054.8 1513.66 1056.84 1513.66 Q1062.21 1513.66 1065.41 1516.35 Q1068.6 1519.03 1068.6 1523.52 Q1068.6 1525.65 1067.79 1527.57 Q1067 1529.47 1064.9 1532.07 Q1064.32 1532.74 1061.22 1535.95 Q1058.12 1539.15 1052.47 1544.91 Z\" fill=\"#000000\" fill-rule=\"nonzero\" fill-opacity=\"1\" /><path clip-path=\"url(#clip720)\" d=\"M1247.3 1517.37 Q1243.69 1517.37 1241.86 1520.93 Q1240.06 1524.47 1240.06 1531.6 Q1240.06 1538.71 1241.86 1542.27 Q1243.69 1545.82 1247.3 1545.82 Q1250.94 1545.82 1252.74 1542.27 Q1254.57 1538.71 1254.57 1531.6 Q1254.57 1524.47 1252.74 1520.93 Q1250.94 1517.37 1247.3 1517.37 M1247.3 1513.66 Q1253.11 1513.66 1256.17 1518.27 Q1259.25 1522.85 1259.25 1531.6 Q1259.25 1540.33 1256.17 1544.94 Q1253.11 1549.52 1247.3 1549.52 Q1241.49 1549.52 1238.42 1544.94 Q1235.36 1540.33 1235.36 1531.6 Q1235.36 1522.85 1238.42 1518.27 Q1241.49 1513.66 1247.3 1513.66 Z\" fill=\"#000000\" fill-rule=\"nonzero\" fill-opacity=\"1\" /><path clip-path=\"url(#clip720)\" d=\"M1450.53 1544.91 L1466.85 1544.91 L1466.85 1548.85 L1444.91 1548.85 L1444.91 1544.91 Q1447.57 1542.16 1452.15 1537.53 Q1456.76 1532.88 1457.94 1531.53 Q1460.19 1529.01 1461.07 1527.27 Q1461.97 1525.51 1461.97 1523.82 Q1461.97 1521.07 1460.02 1519.33 Q1458.1 1517.6 1455 1517.6 Q1452.8 1517.6 1450.35 1518.36 Q1447.92 1519.13 1445.14 1520.68 L1445.14 1515.95 Q1447.96 1514.82 1450.42 1514.24 Q1452.87 1513.66 1454.91 1513.66 Q1460.28 1513.66 1463.47 1516.35 Q1466.67 1519.03 1466.67 1523.52 Q1466.67 1525.65 1465.86 1527.57 Q1465.07 1529.47 1462.96 1532.07 Q1462.38 1532.74 1459.28 1535.95 Q1456.18 1539.15 1450.53 1544.91 Z\" fill=\"#000000\" fill-rule=\"nonzero\" fill-opacity=\"1\" /><path clip-path=\"url(#clip720)\" d=\"M1667.47 1518.36 L1655.66 1536.81 L1667.47 1536.81 L1667.47 1518.36 M1666.24 1514.29 L1672.12 1514.29 L1672.12 1536.81 L1677.05 1536.81 L1677.05 1540.7 L1672.12 1540.7 L1672.12 1548.85 L1667.47 1548.85 L1667.47 1540.7 L1651.86 1540.7 L1651.86 1536.19 L1666.24 1514.29 Z\" fill=\"#000000\" fill-rule=\"nonzero\" fill-opacity=\"1\" /><path clip-path=\"url(#clip720)\" d=\"M1873.44 1529.7 Q1870.29 1529.7 1868.44 1531.86 Q1866.61 1534.01 1866.61 1537.76 Q1866.61 1541.49 1868.44 1543.66 Q1870.29 1545.82 1873.44 1545.82 Q1876.58 1545.82 1878.41 1543.66 Q1880.27 1541.49 1880.27 1537.76 Q1880.27 1534.01 1878.41 1531.86 Q1876.58 1529.7 1873.44 1529.7 M1882.72 1515.05 L1882.72 1519.31 Q1880.96 1518.48 1879.15 1518.04 Q1877.37 1517.6 1875.61 1517.6 Q1870.98 1517.6 1868.53 1520.72 Q1866.1 1523.85 1865.75 1530.17 Q1867.12 1528.15 1869.18 1527.09 Q1871.24 1526 1873.71 1526 Q1878.92 1526 1881.93 1529.17 Q1884.96 1532.32 1884.96 1537.76 Q1884.96 1543.08 1881.82 1546.3 Q1878.67 1549.52 1873.44 1549.52 Q1867.44 1549.52 1864.27 1544.94 Q1861.1 1540.33 1861.1 1531.6 Q1861.1 1523.41 1864.99 1518.55 Q1868.88 1513.66 1875.43 1513.66 Q1877.19 1513.66 1878.97 1514.01 Q1880.77 1514.36 1882.72 1515.05 Z\" fill=\"#000000\" fill-rule=\"nonzero\" fill-opacity=\"1\" /><path clip-path=\"url(#clip720)\" d=\"M2081.61 1532.44 Q2078.27 1532.44 2076.35 1534.22 Q2074.45 1536 2074.45 1539.13 Q2074.45 1542.25 2076.35 1544.03 Q2078.27 1545.82 2081.61 1545.82 Q2084.94 1545.82 2086.86 1544.03 Q2088.78 1542.23 2088.78 1539.13 Q2088.78 1536 2086.86 1534.22 Q2084.96 1532.44 2081.61 1532.44 M2076.93 1530.45 Q2073.92 1529.7 2072.23 1527.64 Q2070.57 1525.58 2070.57 1522.62 Q2070.57 1518.48 2073.51 1516.07 Q2076.47 1513.66 2081.61 1513.66 Q2086.77 1513.66 2089.71 1516.07 Q2092.65 1518.48 2092.65 1522.62 Q2092.65 1525.58 2090.96 1527.64 Q2089.29 1529.7 2086.31 1530.45 Q2089.69 1531.23 2091.56 1533.52 Q2093.46 1535.82 2093.46 1539.13 Q2093.46 1544.15 2090.38 1546.83 Q2087.32 1549.52 2081.61 1549.52 Q2075.89 1549.52 2072.81 1546.83 Q2069.76 1544.15 2069.76 1539.13 Q2069.76 1535.82 2071.65 1533.52 Q2073.55 1531.23 2076.93 1530.45 M2075.22 1523.06 Q2075.22 1525.75 2076.89 1527.25 Q2078.58 1528.76 2081.61 1528.76 Q2084.62 1528.76 2086.31 1527.25 Q2088.02 1525.75 2088.02 1523.06 Q2088.02 1520.38 2086.31 1518.87 Q2084.62 1517.37 2081.61 1517.37 Q2078.58 1517.37 2076.89 1518.87 Q2075.22 1520.38 2075.22 1523.06 Z\" fill=\"#000000\" fill-rule=\"nonzero\" fill-opacity=\"1\" /><path clip-path=\"url(#clip720)\" d=\"M2264.87 1544.91 L2272.51 1544.91 L2272.51 1518.55 L2264.2 1520.21 L2264.2 1515.95 L2272.46 1514.29 L2277.14 1514.29 L2277.14 1544.91 L2284.78 1544.91 L2284.78 1548.85 L2264.87 1548.85 L2264.87 1544.91 Z\" fill=\"#000000\" fill-rule=\"nonzero\" fill-opacity=\"1\" /><path clip-path=\"url(#clip720)\" d=\"M2304.22 1517.37 Q2300.61 1517.37 2298.78 1520.93 Q2296.98 1524.47 2296.98 1531.6 Q2296.98 1538.71 2298.78 1542.27 Q2300.61 1545.82 2304.22 1545.82 Q2307.86 1545.82 2309.66 1542.27 Q2311.49 1538.71 2311.49 1531.6 Q2311.49 1524.47 2309.66 1520.93 Q2307.86 1517.37 2304.22 1517.37 M2304.22 1513.66 Q2310.03 1513.66 2313.09 1518.27 Q2316.17 1522.85 2316.17 1531.6 Q2316.17 1540.33 2313.09 1544.94 Q2310.03 1549.52 2304.22 1549.52 Q2298.41 1549.52 2295.33 1544.94 Q2292.28 1540.33 2292.28 1531.6 Q2292.28 1522.85 2295.33 1518.27 Q2298.41 1513.66 2304.22 1513.66 Z\" fill=\"#000000\" fill-rule=\"nonzero\" fill-opacity=\"1\" /><polyline clip-path=\"url(#clip723)\" style=\"stroke:#000000; stroke-linecap:round; stroke-linejoin:round; stroke-width:2; stroke-opacity:0.1; fill:none\" points=\"141.853,1486.45 2352.76,1486.45 \"/>\n",
       "<polyline clip-path=\"url(#clip723)\" style=\"stroke:#000000; stroke-linecap:round; stroke-linejoin:round; stroke-width:2; stroke-opacity:0.1; fill:none\" points=\"141.853,1406.02 2352.76,1406.02 \"/>\n",
       "<polyline clip-path=\"url(#clip723)\" style=\"stroke:#000000; stroke-linecap:round; stroke-linejoin:round; stroke-width:2; stroke-opacity:0.1; fill:none\" points=\"141.853,1325.6 2352.76,1325.6 \"/>\n",
       "<polyline clip-path=\"url(#clip723)\" style=\"stroke:#000000; stroke-linecap:round; stroke-linejoin:round; stroke-width:2; stroke-opacity:0.1; fill:none\" points=\"141.853,1245.17 2352.76,1245.17 \"/>\n",
       "<polyline clip-path=\"url(#clip723)\" style=\"stroke:#000000; stroke-linecap:round; stroke-linejoin:round; stroke-width:2; stroke-opacity:0.1; fill:none\" points=\"141.853,1164.75 2352.76,1164.75 \"/>\n",
       "<polyline clip-path=\"url(#clip723)\" style=\"stroke:#000000; stroke-linecap:round; stroke-linejoin:round; stroke-width:2; stroke-opacity:0.1; fill:none\" points=\"141.853,1084.32 2352.76,1084.32 \"/>\n",
       "<polyline clip-path=\"url(#clip723)\" style=\"stroke:#000000; stroke-linecap:round; stroke-linejoin:round; stroke-width:2; stroke-opacity:0.1; fill:none\" points=\"141.853,1003.9 2352.76,1003.9 \"/>\n",
       "<polyline clip-path=\"url(#clip723)\" style=\"stroke:#000000; stroke-linecap:round; stroke-linejoin:round; stroke-width:2; stroke-opacity:0.1; fill:none\" points=\"141.853,923.472 2352.76,923.472 \"/>\n",
       "<polyline clip-path=\"url(#clip720)\" style=\"stroke:#000000; stroke-linecap:round; stroke-linejoin:round; stroke-width:4; stroke-opacity:1; fill:none\" points=\"141.853,1486.45 141.853,923.472 \"/>\n",
       "<polyline clip-path=\"url(#clip720)\" style=\"stroke:#000000; stroke-linecap:round; stroke-linejoin:round; stroke-width:4; stroke-opacity:1; fill:none\" points=\"141.853,1486.45 160.751,1486.45 \"/>\n",
       "<polyline clip-path=\"url(#clip720)\" style=\"stroke:#000000; stroke-linecap:round; stroke-linejoin:round; stroke-width:4; stroke-opacity:1; fill:none\" points=\"141.853,1406.02 160.751,1406.02 \"/>\n",
       "<polyline clip-path=\"url(#clip720)\" style=\"stroke:#000000; stroke-linecap:round; stroke-linejoin:round; stroke-width:4; stroke-opacity:1; fill:none\" points=\"141.853,1325.6 160.751,1325.6 \"/>\n",
       "<polyline clip-path=\"url(#clip720)\" style=\"stroke:#000000; stroke-linecap:round; stroke-linejoin:round; stroke-width:4; stroke-opacity:1; fill:none\" points=\"141.853,1245.17 160.751,1245.17 \"/>\n",
       "<polyline clip-path=\"url(#clip720)\" style=\"stroke:#000000; stroke-linecap:round; stroke-linejoin:round; stroke-width:4; stroke-opacity:1; fill:none\" points=\"141.853,1164.75 160.751,1164.75 \"/>\n",
       "<polyline clip-path=\"url(#clip720)\" style=\"stroke:#000000; stroke-linecap:round; stroke-linejoin:round; stroke-width:4; stroke-opacity:1; fill:none\" points=\"141.853,1084.32 160.751,1084.32 \"/>\n",
       "<polyline clip-path=\"url(#clip720)\" style=\"stroke:#000000; stroke-linecap:round; stroke-linejoin:round; stroke-width:4; stroke-opacity:1; fill:none\" points=\"141.853,1003.9 160.751,1003.9 \"/>\n",
       "<polyline clip-path=\"url(#clip720)\" style=\"stroke:#000000; stroke-linecap:round; stroke-linejoin:round; stroke-width:4; stroke-opacity:1; fill:none\" points=\"141.853,923.472 160.751,923.472 \"/>\n",
       "<path clip-path=\"url(#clip720)\" d=\"M93.9086 1472.25 Q90.2975 1472.25 88.4688 1475.81 Q86.6632 1479.35 86.6632 1486.48 Q86.6632 1493.59 88.4688 1497.15 Q90.2975 1500.7 93.9086 1500.7 Q97.5428 1500.7 99.3483 1497.15 Q101.177 1493.59 101.177 1486.48 Q101.177 1479.35 99.3483 1475.81 Q97.5428 1472.25 93.9086 1472.25 M93.9086 1468.54 Q99.7187 1468.54 102.774 1473.15 Q105.853 1477.73 105.853 1486.48 Q105.853 1495.21 102.774 1499.82 Q99.7187 1504.4 93.9086 1504.4 Q88.0984 1504.4 85.0197 1499.82 Q81.9642 1495.21 81.9642 1486.48 Q81.9642 1477.73 85.0197 1473.15 Q88.0984 1468.54 93.9086 1468.54 Z\" fill=\"#000000\" fill-rule=\"nonzero\" fill-opacity=\"1\" /><path clip-path=\"url(#clip720)\" d=\"M54.5569 1419.37 L62.1958 1419.37 L62.1958 1393 L53.8856 1394.67 L53.8856 1390.41 L62.1495 1388.74 L66.8254 1388.74 L66.8254 1419.37 L74.4642 1419.37 L74.4642 1423.3 L54.5569 1423.3 L54.5569 1419.37 Z\" fill=\"#000000\" fill-rule=\"nonzero\" fill-opacity=\"1\" /><path clip-path=\"url(#clip720)\" d=\"M93.9086 1391.82 Q90.2975 1391.82 88.4688 1395.39 Q86.6632 1398.93 86.6632 1406.06 Q86.6632 1413.16 88.4688 1416.73 Q90.2975 1420.27 93.9086 1420.27 Q97.5428 1420.27 99.3483 1416.73 Q101.177 1413.16 101.177 1406.06 Q101.177 1398.93 99.3483 1395.39 Q97.5428 1391.82 93.9086 1391.82 M93.9086 1388.12 Q99.7187 1388.12 102.774 1392.72 Q105.853 1397.31 105.853 1406.06 Q105.853 1414.78 102.774 1419.39 Q99.7187 1423.97 93.9086 1423.97 Q88.0984 1423.97 85.0197 1419.39 Q81.9642 1414.78 81.9642 1406.06 Q81.9642 1397.31 85.0197 1392.72 Q88.0984 1388.12 93.9086 1388.12 Z\" fill=\"#000000\" fill-rule=\"nonzero\" fill-opacity=\"1\" /><path clip-path=\"url(#clip720)\" d=\"M57.7745 1338.94 L74.0939 1338.94 L74.0939 1342.88 L52.1495 1342.88 L52.1495 1338.94 Q54.8115 1336.19 59.3949 1331.56 Q64.0013 1326.91 65.1819 1325.56 Q67.4272 1323.04 68.3068 1321.3 Q69.2096 1319.54 69.2096 1317.85 Q69.2096 1315.1 67.2652 1313.36 Q65.3439 1311.63 62.2421 1311.63 Q60.043 1311.63 57.5893 1312.39 Q55.1588 1313.16 52.381 1314.71 L52.381 1309.98 Q55.2051 1308.85 57.6588 1308.27 Q60.1124 1307.69 62.1495 1307.69 Q67.5198 1307.69 70.7142 1310.38 Q73.9087 1313.06 73.9087 1317.55 Q73.9087 1319.68 73.0985 1321.6 Q72.3115 1323.5 70.205 1326.1 Q69.6263 1326.77 66.5245 1329.98 Q63.4226 1333.18 57.7745 1338.94 Z\" fill=\"#000000\" fill-rule=\"nonzero\" fill-opacity=\"1\" /><path clip-path=\"url(#clip720)\" d=\"M93.9086 1311.4 Q90.2975 1311.4 88.4688 1314.96 Q86.6632 1318.5 86.6632 1325.63 Q86.6632 1332.74 88.4688 1336.3 Q90.2975 1339.85 93.9086 1339.85 Q97.5428 1339.85 99.3483 1336.3 Q101.177 1332.74 101.177 1325.63 Q101.177 1318.5 99.3483 1314.96 Q97.5428 1311.4 93.9086 1311.4 M93.9086 1307.69 Q99.7187 1307.69 102.774 1312.3 Q105.853 1316.88 105.853 1325.63 Q105.853 1334.36 102.774 1338.97 Q99.7187 1343.55 93.9086 1343.55 Q88.0984 1343.55 85.0197 1338.97 Q81.9642 1334.36 81.9642 1325.63 Q81.9642 1316.88 85.0197 1312.3 Q88.0984 1307.69 93.9086 1307.69 Z\" fill=\"#000000\" fill-rule=\"nonzero\" fill-opacity=\"1\" /><path clip-path=\"url(#clip720)\" d=\"M67.9133 1243.82 Q71.2698 1244.54 73.1448 1246.8 Q75.0429 1249.07 75.0429 1252.41 Q75.0429 1257.52 71.5244 1260.32 Q68.0059 1263.12 61.5245 1263.12 Q59.3486 1263.12 57.0338 1262.68 Q54.7421 1262.27 52.2884 1261.41 L52.2884 1256.9 Q54.2328 1258.03 56.5477 1258.61 Q58.8625 1259.19 61.3856 1259.19 Q65.7837 1259.19 68.0754 1257.45 Q70.3902 1255.72 70.3902 1252.41 Q70.3902 1249.35 68.2374 1247.64 Q66.1078 1245.9 62.2884 1245.9 L58.2606 1245.9 L58.2606 1242.06 L62.4735 1242.06 Q65.9226 1242.06 67.7513 1240.69 Q69.58 1239.3 69.58 1236.71 Q69.58 1234.05 67.6819 1232.64 Q65.8069 1231.2 62.2884 1231.2 Q60.3671 1231.2 58.168 1231.62 Q55.969 1232.04 53.3301 1232.92 L53.3301 1228.75 Q55.9921 1228.01 58.3069 1227.64 Q60.6449 1227.27 62.705 1227.27 Q68.0291 1227.27 71.1309 1229.7 Q74.2327 1232.11 74.2327 1236.23 Q74.2327 1239.1 72.5892 1241.09 Q70.9457 1243.05 67.9133 1243.82 Z\" fill=\"#000000\" fill-rule=\"nonzero\" fill-opacity=\"1\" /><path clip-path=\"url(#clip720)\" d=\"M93.9086 1230.97 Q90.2975 1230.97 88.4688 1234.54 Q86.6632 1238.08 86.6632 1245.21 Q86.6632 1252.31 88.4688 1255.88 Q90.2975 1259.42 93.9086 1259.42 Q97.5428 1259.42 99.3483 1255.88 Q101.177 1252.31 101.177 1245.21 Q101.177 1238.08 99.3483 1234.54 Q97.5428 1230.97 93.9086 1230.97 M93.9086 1227.27 Q99.7187 1227.27 102.774 1231.87 Q105.853 1236.46 105.853 1245.21 Q105.853 1253.93 102.774 1258.54 Q99.7187 1263.12 93.9086 1263.12 Q88.0984 1263.12 85.0197 1258.54 Q81.9642 1253.93 81.9642 1245.21 Q81.9642 1236.46 85.0197 1231.87 Q88.0984 1227.27 93.9086 1227.27 Z\" fill=\"#000000\" fill-rule=\"nonzero\" fill-opacity=\"1\" /><path clip-path=\"url(#clip720)\" d=\"M66.5939 1151.54 L54.7884 1169.99 L66.5939 1169.99 L66.5939 1151.54 M65.367 1147.47 L71.2466 1147.47 L71.2466 1169.99 L76.1772 1169.99 L76.1772 1173.88 L71.2466 1173.88 L71.2466 1182.03 L66.5939 1182.03 L66.5939 1173.88 L50.9921 1173.88 L50.9921 1169.37 L65.367 1147.47 Z\" fill=\"#000000\" fill-rule=\"nonzero\" fill-opacity=\"1\" /><path clip-path=\"url(#clip720)\" d=\"M93.9086 1150.55 Q90.2975 1150.55 88.4688 1154.11 Q86.6632 1157.65 86.6632 1164.78 Q86.6632 1171.89 88.4688 1175.45 Q90.2975 1179 93.9086 1179 Q97.5428 1179 99.3483 1175.45 Q101.177 1171.89 101.177 1164.78 Q101.177 1157.65 99.3483 1154.11 Q97.5428 1150.55 93.9086 1150.55 M93.9086 1146.84 Q99.7187 1146.84 102.774 1151.45 Q105.853 1156.03 105.853 1164.78 Q105.853 1173.51 102.774 1178.12 Q99.7187 1182.7 93.9086 1182.7 Q88.0984 1182.7 85.0197 1178.12 Q81.9642 1173.51 81.9642 1164.78 Q81.9642 1156.03 85.0197 1151.45 Q88.0984 1146.84 93.9086 1146.84 Z\" fill=\"#000000\" fill-rule=\"nonzero\" fill-opacity=\"1\" /><path clip-path=\"url(#clip720)\" d=\"M53.793 1067.04 L72.1494 1067.04 L72.1494 1070.98 L58.0754 1070.98 L58.0754 1079.45 Q59.0939 1079.1 60.1124 1078.94 Q61.131 1078.76 62.1495 1078.76 Q67.9365 1078.76 71.3161 1081.93 Q74.6957 1085.1 74.6957 1090.51 Q74.6957 1096.09 71.2235 1099.19 Q67.7513 1102.27 61.4319 1102.27 Q59.256 1102.27 56.9875 1101.9 Q54.7421 1101.53 52.3347 1100.79 L52.3347 1096.09 Q54.418 1097.23 56.6402 1097.78 Q58.8625 1098.34 61.3393 1098.34 Q65.3439 1098.34 67.6819 1096.23 Q70.0198 1094.13 70.0198 1090.51 Q70.0198 1086.9 67.6819 1084.8 Q65.3439 1082.69 61.3393 1082.69 Q59.4643 1082.69 57.5893 1083.11 Q55.7375 1083.52 53.793 1084.4 L53.793 1067.04 Z\" fill=\"#000000\" fill-rule=\"nonzero\" fill-opacity=\"1\" /><path clip-path=\"url(#clip720)\" d=\"M93.9086 1070.12 Q90.2975 1070.12 88.4688 1073.69 Q86.6632 1077.23 86.6632 1084.36 Q86.6632 1091.46 88.4688 1095.03 Q90.2975 1098.57 93.9086 1098.57 Q97.5428 1098.57 99.3483 1095.03 Q101.177 1091.46 101.177 1084.36 Q101.177 1077.23 99.3483 1073.69 Q97.5428 1070.12 93.9086 1070.12 M93.9086 1066.42 Q99.7187 1066.42 102.774 1071.02 Q105.853 1075.61 105.853 1084.36 Q105.853 1093.08 102.774 1097.69 Q99.7187 1102.27 93.9086 1102.27 Q88.0984 1102.27 85.0197 1097.69 Q81.9642 1093.08 81.9642 1084.36 Q81.9642 1075.61 85.0197 1071.02 Q88.0984 1066.42 93.9086 1066.42 Z\" fill=\"#000000\" fill-rule=\"nonzero\" fill-opacity=\"1\" /><path clip-path=\"url(#clip720)\" d=\"M64.3254 1002.03 Q61.1773 1002.03 59.3254 1004.19 Q57.4967 1006.34 57.4967 1010.09 Q57.4967 1013.82 59.3254 1015.99 Q61.1773 1018.14 64.3254 1018.14 Q67.4735 1018.14 69.3022 1015.99 Q71.1541 1013.82 71.1541 1010.09 Q71.1541 1006.34 69.3022 1004.19 Q67.4735 1002.03 64.3254 1002.03 M73.6077 987.381 L73.6077 991.64 Q71.8485 990.807 70.0429 990.367 Q68.2606 989.927 66.5013 989.927 Q61.8717 989.927 59.418 993.052 Q56.9875 996.177 56.6402 1002.5 Q58.006 1000.48 60.0662 999.418 Q62.1263 998.33 64.6032 998.33 Q69.8115 998.33 72.8207 1001.5 Q75.8531 1004.65 75.8531 1010.09 Q75.8531 1015.41 72.705 1018.63 Q69.5568 1021.85 64.3254 1021.85 Q58.33 1021.85 55.1588 1017.27 Q51.9875 1012.66 51.9875 1003.93 Q51.9875 995.738 55.8764 990.876 Q59.7652 985.992 66.3161 985.992 Q68.0754 985.992 69.8578 986.339 Q71.6633 986.687 73.6077 987.381 Z\" fill=\"#000000\" fill-rule=\"nonzero\" fill-opacity=\"1\" /><path clip-path=\"url(#clip720)\" d=\"M93.9086 989.696 Q90.2975 989.696 88.4688 993.261 Q86.6632 996.802 86.6632 1003.93 Q86.6632 1011.04 88.4688 1014.6 Q90.2975 1018.14 93.9086 1018.14 Q97.5428 1018.14 99.3483 1014.6 Q101.177 1011.04 101.177 1003.93 Q101.177 996.802 99.3483 993.261 Q97.5428 989.696 93.9086 989.696 M93.9086 985.992 Q99.7187 985.992 102.774 990.599 Q105.853 995.182 105.853 1003.93 Q105.853 1012.66 102.774 1017.27 Q99.7187 1021.85 93.9086 1021.85 Q88.0984 1021.85 85.0197 1017.27 Q81.9642 1012.66 81.9642 1003.93 Q81.9642 995.182 85.0197 990.599 Q88.0984 985.992 93.9086 985.992 Z\" fill=\"#000000\" fill-rule=\"nonzero\" fill-opacity=\"1\" /><path clip-path=\"url(#clip720)\" d=\"M52.5662 906.192 L74.7883 906.192 L74.7883 908.183 L62.2421 940.752 L57.3578 940.752 L69.1633 910.127 L52.5662 910.127 L52.5662 906.192 Z\" fill=\"#000000\" fill-rule=\"nonzero\" fill-opacity=\"1\" /><path clip-path=\"url(#clip720)\" d=\"M93.9086 909.271 Q90.2975 909.271 88.4688 912.836 Q86.6632 916.377 86.6632 923.507 Q86.6632 930.613 88.4688 934.178 Q90.2975 937.72 93.9086 937.72 Q97.5428 937.72 99.3483 934.178 Q101.177 930.613 101.177 923.507 Q101.177 916.377 99.3483 912.836 Q97.5428 909.271 93.9086 909.271 M93.9086 905.567 Q99.7187 905.567 102.774 910.174 Q105.853 914.757 105.853 923.507 Q105.853 932.234 102.774 936.84 Q99.7187 941.423 93.9086 941.423 Q88.0984 941.423 85.0197 936.84 Q81.9642 932.234 81.9642 923.507 Q81.9642 914.757 85.0197 910.174 Q88.0984 905.567 93.9086 905.567 Z\" fill=\"#000000\" fill-rule=\"nonzero\" fill-opacity=\"1\" /><path clip-path=\"url(#clip720)\" d=\"M801.543 814.081 L801.543 822.061 Q796.884 819.833 792.752 818.739 Q788.621 817.646 784.772 817.646 Q778.088 817.646 774.442 820.238 Q770.837 822.831 770.837 827.611 Q770.837 831.621 773.227 833.687 Q775.658 835.713 782.382 836.969 L787.324 837.981 Q796.479 839.723 800.814 844.139 Q805.189 848.514 805.189 855.886 Q805.189 864.677 799.274 869.214 Q793.401 873.751 782.018 873.751 Q777.724 873.751 772.863 872.779 Q768.042 871.806 762.857 869.902 L762.857 861.477 Q767.839 864.272 772.619 865.689 Q777.4 867.107 782.018 867.107 Q789.026 867.107 792.833 864.353 Q796.641 861.598 796.641 856.494 Q796.641 852.038 793.887 849.526 Q791.173 847.015 784.934 845.759 L779.952 844.787 Q770.797 842.964 766.705 839.075 Q762.614 835.186 762.614 828.259 Q762.614 820.238 768.244 815.62 Q773.916 811.002 783.84 811.002 Q788.094 811.002 792.509 811.772 Q796.925 812.542 801.543 814.081 Z\" fill=\"#000000\" fill-rule=\"nonzero\" fill-opacity=\"1\" /><path clip-path=\"url(#clip720)\" d=\"M855.339 845.192 L855.339 872.576 L847.885 872.576 L847.885 845.435 Q847.885 838.994 845.374 835.794 Q842.862 832.594 837.839 832.594 Q831.803 832.594 828.319 836.442 Q824.836 840.29 824.836 846.934 L824.836 872.576 L817.341 872.576 L817.341 809.544 L824.836 809.544 L824.836 834.254 Q827.509 830.163 831.115 828.138 Q834.76 826.112 839.5 826.112 Q847.318 826.112 851.329 830.973 Q855.339 835.794 855.339 845.192 Z\" fill=\"#000000\" fill-rule=\"nonzero\" fill-opacity=\"1\" /><path clip-path=\"url(#clip720)\" d=\"M870.206 827.206 L877.659 827.206 L877.659 872.576 L870.206 872.576 L870.206 827.206 M870.206 809.544 L877.659 809.544 L877.659 818.983 L870.206 818.983 L870.206 809.544 Z\" fill=\"#000000\" fill-rule=\"nonzero\" fill-opacity=\"1\" /><path clip-path=\"url(#clip720)\" d=\"M916.224 809.544 L916.224 815.742 L909.094 815.742 Q905.084 815.742 903.504 817.362 Q901.965 818.983 901.965 823.195 L901.965 827.206 L914.239 827.206 L914.239 832.999 L901.965 832.999 L901.965 872.576 L894.471 872.576 L894.471 832.999 L887.341 832.999 L887.341 827.206 L894.471 827.206 L894.471 824.046 Q894.471 816.471 897.995 813.028 Q901.519 809.544 909.175 809.544 L916.224 809.544 Z\" fill=\"#000000\" fill-rule=\"nonzero\" fill-opacity=\"1\" /><path clip-path=\"url(#clip720)\" d=\"M928.377 814.324 L928.377 827.206 L943.73 827.206 L943.73 832.999 L928.377 832.999 L928.377 857.628 Q928.377 863.178 929.876 864.758 Q931.415 866.338 936.073 866.338 L943.73 866.338 L943.73 872.576 L936.073 872.576 Q927.445 872.576 924.164 869.376 Q920.883 866.135 920.883 857.628 L920.883 832.999 L915.414 832.999 L915.414 827.206 L920.883 827.206 L920.883 814.324 L928.377 814.324 Z\" fill=\"#000000\" fill-rule=\"nonzero\" fill-opacity=\"1\" /><path clip-path=\"url(#clip720)\" d=\"M992.341 848.028 L992.341 851.673 L958.07 851.673 Q958.556 859.37 962.688 863.421 Q966.86 867.431 974.273 867.431 Q978.567 867.431 982.578 866.378 Q986.629 865.325 990.599 863.218 L990.599 870.267 Q986.588 871.968 982.375 872.86 Q978.162 873.751 973.828 873.751 Q962.971 873.751 956.612 867.431 Q950.292 861.112 950.292 850.337 Q950.292 839.197 956.287 832.675 Q962.323 826.112 972.532 826.112 Q981.687 826.112 986.993 832.026 Q992.341 837.9 992.341 848.028 M984.887 845.84 Q984.806 839.723 981.444 836.077 Q978.122 832.432 972.613 832.432 Q966.374 832.432 962.607 835.956 Q958.88 839.48 958.313 845.881 L984.887 845.84 Z\" fill=\"#000000\" fill-rule=\"nonzero\" fill-opacity=\"1\" /><path clip-path=\"url(#clip720)\" d=\"M1034.43 834.092 L1034.43 809.544 L1041.88 809.544 L1041.88 872.576 L1034.43 872.576 L1034.43 865.77 Q1032.08 869.821 1028.47 871.806 Q1024.91 873.751 1019.89 873.751 Q1011.66 873.751 1006.48 867.188 Q1001.33 860.626 1001.33 849.931 Q1001.33 839.237 1006.48 832.675 Q1011.66 826.112 1019.89 826.112 Q1024.91 826.112 1028.47 828.097 Q1032.08 830.042 1034.43 834.092 M1009.03 849.931 Q1009.03 858.155 1012.39 862.854 Q1015.8 867.512 1021.71 867.512 Q1027.62 867.512 1031.03 862.854 Q1034.43 858.155 1034.43 849.931 Q1034.43 841.708 1031.03 837.05 Q1027.62 832.351 1021.71 832.351 Q1015.8 832.351 1012.39 837.05 Q1009.03 841.708 1009.03 849.931 Z\" fill=\"#000000\" fill-rule=\"nonzero\" fill-opacity=\"1\" /><path clip-path=\"url(#clip720)\" d=\"M1083.93 812.096 L1118.69 812.096 L1118.69 818.983 L1092.11 818.983 L1092.11 836.807 L1116.1 836.807 L1116.1 843.693 L1092.11 843.693 L1092.11 872.576 L1083.93 872.576 L1083.93 812.096 Z\" fill=\"#000000\" fill-rule=\"nonzero\" fill-opacity=\"1\" /><path clip-path=\"url(#clip720)\" d=\"M1131.65 812.096 L1166.41 812.096 L1166.41 818.983 L1139.83 818.983 L1139.83 836.807 L1163.82 836.807 L1163.82 843.693 L1139.83 843.693 L1139.83 872.576 L1131.65 872.576 L1131.65 812.096 Z\" fill=\"#000000\" fill-rule=\"nonzero\" fill-opacity=\"1\" /><path clip-path=\"url(#clip720)\" d=\"M1169.53 812.096 L1220.69 812.096 L1220.69 818.983 L1199.22 818.983 L1199.22 872.576 L1191 872.576 L1191 818.983 L1169.53 818.983 L1169.53 812.096 Z\" fill=\"#000000\" fill-rule=\"nonzero\" fill-opacity=\"1\" /><path clip-path=\"url(#clip720)\" d=\"M1300.25 816.755 L1300.25 825.383 Q1296.12 821.535 1291.42 819.631 Q1286.76 817.727 1281.49 817.727 Q1271.12 817.727 1265.61 824.087 Q1260.11 830.406 1260.11 842.397 Q1260.11 854.347 1265.61 860.707 Q1271.12 867.026 1281.49 867.026 Q1286.76 867.026 1291.42 865.122 Q1296.12 863.218 1300.25 859.37 L1300.25 867.917 Q1295.96 870.834 1291.14 872.292 Q1286.36 873.751 1281.01 873.751 Q1267.28 873.751 1259.38 865.365 Q1251.48 856.94 1251.48 842.397 Q1251.48 827.814 1259.38 819.428 Q1267.28 811.002 1281.01 811.002 Q1286.44 811.002 1291.22 812.461 Q1296.04 813.878 1300.25 816.755 Z\" fill=\"#000000\" fill-rule=\"nonzero\" fill-opacity=\"1\" /><path clip-path=\"url(#clip720)\" d=\"M1330.15 832.432 Q1324.15 832.432 1320.67 837.131 Q1317.18 841.789 1317.18 849.931 Q1317.18 858.074 1320.63 862.773 Q1324.11 867.431 1330.15 867.431 Q1336.1 867.431 1339.58 862.732 Q1343.07 858.033 1343.07 849.931 Q1343.07 841.87 1339.58 837.171 Q1336.1 832.432 1330.15 832.432 M1330.15 826.112 Q1339.87 826.112 1345.42 832.432 Q1350.97 838.751 1350.97 849.931 Q1350.97 861.071 1345.42 867.431 Q1339.87 873.751 1330.15 873.751 Q1320.38 873.751 1314.83 867.431 Q1309.32 861.071 1309.32 849.931 Q1309.32 838.751 1314.83 832.432 Q1320.38 826.112 1330.15 826.112 Z\" fill=\"#000000\" fill-rule=\"nonzero\" fill-opacity=\"1\" /><path clip-path=\"url(#clip720)\" d=\"M1402.13 848.028 L1402.13 851.673 L1367.86 851.673 Q1368.35 859.37 1372.48 863.421 Q1376.65 867.431 1384.06 867.431 Q1388.36 867.431 1392.37 866.378 Q1396.42 865.325 1400.39 863.218 L1400.39 870.267 Q1396.38 871.968 1392.16 872.86 Q1387.95 873.751 1383.62 873.751 Q1372.76 873.751 1366.4 867.431 Q1360.08 861.112 1360.08 850.337 Q1360.08 839.197 1366.08 832.675 Q1372.11 826.112 1382.32 826.112 Q1391.48 826.112 1396.78 832.026 Q1402.13 837.9 1402.13 848.028 M1394.68 845.84 Q1394.6 839.723 1391.23 836.077 Q1387.91 832.432 1382.4 832.432 Q1376.16 832.432 1372.4 835.956 Q1368.67 839.48 1368.1 845.881 L1394.68 845.84 Z\" fill=\"#000000\" fill-rule=\"nonzero\" fill-opacity=\"1\" /><path clip-path=\"url(#clip720)\" d=\"M1437.33 809.544 L1437.33 815.742 L1430.2 815.742 Q1426.19 815.742 1424.61 817.362 Q1423.07 818.983 1423.07 823.195 L1423.07 827.206 L1435.35 827.206 L1435.35 832.999 L1423.07 832.999 L1423.07 872.576 L1415.58 872.576 L1415.58 832.999 L1408.45 832.999 L1408.45 827.206 L1415.58 827.206 L1415.58 824.046 Q1415.58 816.471 1419.1 813.028 Q1422.63 809.544 1430.28 809.544 L1437.33 809.544 Z\" fill=\"#000000\" fill-rule=\"nonzero\" fill-opacity=\"1\" /><path clip-path=\"url(#clip720)\" d=\"M1466.54 809.544 L1466.54 815.742 L1459.41 815.742 Q1455.4 815.742 1453.82 817.362 Q1452.28 818.983 1452.28 823.195 L1452.28 827.206 L1464.55 827.206 L1464.55 832.999 L1452.28 832.999 L1452.28 872.576 L1444.79 872.576 L1444.79 832.999 L1437.66 832.999 L1437.66 827.206 L1444.79 827.206 L1444.79 824.046 Q1444.79 816.471 1448.31 813.028 Q1451.83 809.544 1459.49 809.544 L1466.54 809.544 Z\" fill=\"#000000\" fill-rule=\"nonzero\" fill-opacity=\"1\" /><path clip-path=\"url(#clip720)\" d=\"M1472.78 827.206 L1480.23 827.206 L1480.23 872.576 L1472.78 872.576 L1472.78 827.206 M1472.78 809.544 L1480.23 809.544 L1480.23 818.983 L1472.78 818.983 L1472.78 809.544 Z\" fill=\"#000000\" fill-rule=\"nonzero\" fill-opacity=\"1\" /><path clip-path=\"url(#clip720)\" d=\"M1528.48 828.948 L1528.48 835.915 Q1525.32 834.173 1522.12 833.323 Q1518.96 832.432 1515.72 832.432 Q1508.47 832.432 1504.46 837.05 Q1500.45 841.627 1500.45 849.931 Q1500.45 858.236 1504.46 862.854 Q1508.47 867.431 1515.72 867.431 Q1518.96 867.431 1522.12 866.581 Q1525.32 865.689 1528.48 863.948 L1528.48 870.834 Q1525.36 872.292 1522 873.022 Q1518.67 873.751 1514.91 873.751 Q1504.66 873.751 1498.62 867.31 Q1492.59 860.869 1492.59 849.931 Q1492.59 838.832 1498.66 832.472 Q1504.78 826.112 1515.39 826.112 Q1518.84 826.112 1522.12 826.841 Q1525.4 827.53 1528.48 828.948 Z\" fill=\"#000000\" fill-rule=\"nonzero\" fill-opacity=\"1\" /><path clip-path=\"url(#clip720)\" d=\"M1541.44 827.206 L1548.89 827.206 L1548.89 872.576 L1541.44 872.576 L1541.44 827.206 M1541.44 809.544 L1548.89 809.544 L1548.89 818.983 L1541.44 818.983 L1541.44 809.544 Z\" fill=\"#000000\" fill-rule=\"nonzero\" fill-opacity=\"1\" /><path clip-path=\"url(#clip720)\" d=\"M1603.3 848.028 L1603.3 851.673 L1569.03 851.673 Q1569.51 859.37 1573.65 863.421 Q1577.82 867.431 1585.23 867.431 Q1589.52 867.431 1593.54 866.378 Q1597.59 865.325 1601.56 863.218 L1601.56 870.267 Q1597.55 871.968 1593.33 872.86 Q1589.12 873.751 1584.79 873.751 Q1573.93 873.751 1567.57 867.431 Q1561.25 861.112 1561.25 850.337 Q1561.25 839.197 1567.24 832.675 Q1573.28 826.112 1583.49 826.112 Q1592.64 826.112 1597.95 832.026 Q1603.3 837.9 1603.3 848.028 M1595.84 845.84 Q1595.76 839.723 1592.4 836.077 Q1589.08 832.432 1583.57 832.432 Q1577.33 832.432 1573.56 835.956 Q1569.84 839.48 1569.27 845.881 L1595.84 845.84 Z\" fill=\"#000000\" fill-rule=\"nonzero\" fill-opacity=\"1\" /><path clip-path=\"url(#clip720)\" d=\"M1653.25 845.192 L1653.25 872.576 L1645.79 872.576 L1645.79 845.435 Q1645.79 838.994 1643.28 835.794 Q1640.77 832.594 1635.75 832.594 Q1629.71 832.594 1626.23 836.442 Q1622.74 840.29 1622.74 846.934 L1622.74 872.576 L1615.25 872.576 L1615.25 827.206 L1622.74 827.206 L1622.74 834.254 Q1625.42 830.163 1629.02 828.138 Q1632.67 826.112 1637.41 826.112 Q1645.22 826.112 1649.24 830.973 Q1653.25 835.794 1653.25 845.192 Z\" fill=\"#000000\" fill-rule=\"nonzero\" fill-opacity=\"1\" /><path clip-path=\"url(#clip720)\" d=\"M1675.49 814.324 L1675.49 827.206 L1690.84 827.206 L1690.84 832.999 L1675.49 832.999 L1675.49 857.628 Q1675.49 863.178 1676.98 864.758 Q1678.52 866.338 1683.18 866.338 L1690.84 866.338 L1690.84 872.576 L1683.18 872.576 Q1674.55 872.576 1671.27 869.376 Q1667.99 866.135 1667.99 857.628 L1667.99 832.999 L1662.52 832.999 L1662.52 827.206 L1667.99 827.206 L1667.99 814.324 L1675.49 814.324 Z\" fill=\"#000000\" fill-rule=\"nonzero\" fill-opacity=\"1\" /><path clip-path=\"url(#clip720)\" d=\"M1729.56 828.543 L1729.56 835.591 Q1726.4 833.971 1723 833.161 Q1719.6 832.351 1715.95 832.351 Q1710.4 832.351 1707.61 834.052 Q1704.85 835.753 1704.85 839.156 Q1704.85 841.749 1706.84 843.247 Q1708.82 844.706 1714.82 846.043 L1717.37 846.61 Q1725.31 848.311 1728.63 851.43 Q1732 854.509 1732 860.059 Q1732 866.378 1726.97 870.064 Q1721.99 873.751 1713.24 873.751 Q1709.59 873.751 1705.62 873.022 Q1701.69 872.333 1697.32 870.915 L1697.32 863.218 Q1701.45 865.365 1705.46 866.459 Q1709.47 867.512 1713.4 867.512 Q1718.67 867.512 1721.5 865.73 Q1724.34 863.907 1724.34 860.626 Q1724.34 857.588 1722.27 855.967 Q1720.25 854.347 1713.32 852.848 L1710.73 852.24 Q1703.8 850.782 1700.72 847.784 Q1697.64 844.746 1697.64 839.48 Q1697.64 833.08 1702.18 829.596 Q1706.72 826.112 1715.06 826.112 Q1719.19 826.112 1722.84 826.72 Q1726.49 827.327 1729.56 828.543 Z\" fill=\"#000000\" fill-rule=\"nonzero\" fill-opacity=\"1\" /><polyline clip-path=\"url(#clip723)\" style=\"stroke:#009af9; stroke-linecap:round; stroke-linejoin:round; stroke-width:4; stroke-opacity:1; fill:none\" points=\"204.426,1480.42 308.714,1475.29 413.001,1485.58 517.289,1483.18 621.577,1475.73 725.865,1477.07 830.153,1162.67 934.441,1474.81 1038.73,1478.62 1143.02,1475.14 1247.3,1393.06 1351.59,1475.14 1455.88,1478.62 1560.17,1474.81 1664.46,1469.13 1768.74,1477.07 1873.03,981.102 1977.32,1483.18 2081.61,1485.58 2185.9,1475.29 2290.18,1480.42 \"/>\n",
       "<polyline clip-path=\"url(#clip723)\" style=\"stroke:#ffffff; stroke-linecap:round; stroke-linejoin:round; stroke-width:4; stroke-opacity:1; fill:none\" points=\"830.153,1162.67 1247.3,1393.06 1873.03,981.102 \"/>\n",
       "<circle clip-path=\"url(#clip723)\" cx=\"830.153\" cy=\"1162.67\" r=\"21.6\" fill=\"#e26f46\" fill-rule=\"evenodd\" fill-opacity=\"1\" stroke=\"#000000\" stroke-opacity=\"1\" stroke-width=\"3.2\"/>\n",
       "<circle clip-path=\"url(#clip723)\" cx=\"1247.3\" cy=\"1393.06\" r=\"21.6\" fill=\"#e26f46\" fill-rule=\"evenodd\" fill-opacity=\"1\" stroke=\"#000000\" stroke-opacity=\"1\" stroke-width=\"3.2\"/>\n",
       "<circle clip-path=\"url(#clip723)\" cx=\"1873.03\" cy=\"981.102\" r=\"21.6\" fill=\"#e26f46\" fill-rule=\"evenodd\" fill-opacity=\"1\" stroke=\"#000000\" stroke-opacity=\"1\" stroke-width=\"3.2\"/>\n",
       "</svg>\n"
      ],
      "text/html": [
       "<?xml version=\"1.0\" encoding=\"utf-8\"?>\n",
       "<svg xmlns=\"http://www.w3.org/2000/svg\" xmlns:xlink=\"http://www.w3.org/1999/xlink\" width=\"600\" height=\"400\" viewBox=\"0 0 2400 1600\">\n",
       "<defs>\n",
       "  <clipPath id=\"clip770\">\n",
       "    <rect x=\"0\" y=\"0\" width=\"2400\" height=\"1600\"/>\n",
       "  </clipPath>\n",
       "</defs>\n",
       "<path clip-path=\"url(#clip770)\" d=\"M0 1600 L2400 1600 L2400 0 L0 0  Z\" fill=\"#ffffff\" fill-rule=\"evenodd\" fill-opacity=\"1\"/>\n",
       "<defs>\n",
       "  <clipPath id=\"clip771\">\n",
       "    <rect x=\"480\" y=\"0\" width=\"1681\" height=\"1600\"/>\n",
       "  </clipPath>\n",
       "</defs>\n",
       "<path clip-path=\"url(#clip770)\" d=\"M141.853 686.448 L2352.76 686.448 L2352.76 123.472 L141.853 123.472  Z\" fill=\"#ffffff\" fill-rule=\"evenodd\" fill-opacity=\"1\"/>\n",
       "<defs>\n",
       "  <clipPath id=\"clip772\">\n",
       "    <rect x=\"141\" y=\"123\" width=\"2212\" height=\"564\"/>\n",
       "  </clipPath>\n",
       "</defs>\n",
       "<polyline clip-path=\"url(#clip772)\" style=\"stroke:#000000; stroke-linecap:round; stroke-linejoin:round; stroke-width:2; stroke-opacity:0.1; fill:none\" points=\"204.426,686.448 204.426,123.472 \"/>\n",
       "<polyline clip-path=\"url(#clip772)\" style=\"stroke:#000000; stroke-linecap:round; stroke-linejoin:round; stroke-width:2; stroke-opacity:0.1; fill:none\" points=\"413.001,686.448 413.001,123.472 \"/>\n",
       "<polyline clip-path=\"url(#clip772)\" style=\"stroke:#000000; stroke-linecap:round; stroke-linejoin:round; stroke-width:2; stroke-opacity:0.1; fill:none\" points=\"621.577,686.448 621.577,123.472 \"/>\n",
       "<polyline clip-path=\"url(#clip772)\" style=\"stroke:#000000; stroke-linecap:round; stroke-linejoin:round; stroke-width:2; stroke-opacity:0.1; fill:none\" points=\"830.153,686.448 830.153,123.472 \"/>\n",
       "<polyline clip-path=\"url(#clip772)\" style=\"stroke:#000000; stroke-linecap:round; stroke-linejoin:round; stroke-width:2; stroke-opacity:0.1; fill:none\" points=\"1038.73,686.448 1038.73,123.472 \"/>\n",
       "<polyline clip-path=\"url(#clip772)\" style=\"stroke:#000000; stroke-linecap:round; stroke-linejoin:round; stroke-width:2; stroke-opacity:0.1; fill:none\" points=\"1247.3,686.448 1247.3,123.472 \"/>\n",
       "<polyline clip-path=\"url(#clip772)\" style=\"stroke:#000000; stroke-linecap:round; stroke-linejoin:round; stroke-width:2; stroke-opacity:0.1; fill:none\" points=\"1455.88,686.448 1455.88,123.472 \"/>\n",
       "<polyline clip-path=\"url(#clip772)\" style=\"stroke:#000000; stroke-linecap:round; stroke-linejoin:round; stroke-width:2; stroke-opacity:0.1; fill:none\" points=\"1664.46,686.448 1664.46,123.472 \"/>\n",
       "<polyline clip-path=\"url(#clip772)\" style=\"stroke:#000000; stroke-linecap:round; stroke-linejoin:round; stroke-width:2; stroke-opacity:0.1; fill:none\" points=\"1873.03,686.448 1873.03,123.472 \"/>\n",
       "<polyline clip-path=\"url(#clip772)\" style=\"stroke:#000000; stroke-linecap:round; stroke-linejoin:round; stroke-width:2; stroke-opacity:0.1; fill:none\" points=\"2081.61,686.448 2081.61,123.472 \"/>\n",
       "<polyline clip-path=\"url(#clip772)\" style=\"stroke:#000000; stroke-linecap:round; stroke-linejoin:round; stroke-width:2; stroke-opacity:0.1; fill:none\" points=\"2290.18,686.448 2290.18,123.472 \"/>\n",
       "<polyline clip-path=\"url(#clip770)\" style=\"stroke:#000000; stroke-linecap:round; stroke-linejoin:round; stroke-width:4; stroke-opacity:1; fill:none\" points=\"141.853,686.448 2352.76,686.448 \"/>\n",
       "<polyline clip-path=\"url(#clip770)\" style=\"stroke:#000000; stroke-linecap:round; stroke-linejoin:round; stroke-width:4; stroke-opacity:1; fill:none\" points=\"204.426,686.448 204.426,667.55 \"/>\n",
       "<polyline clip-path=\"url(#clip770)\" style=\"stroke:#000000; stroke-linecap:round; stroke-linejoin:round; stroke-width:4; stroke-opacity:1; fill:none\" points=\"413.001,686.448 413.001,667.55 \"/>\n",
       "<polyline clip-path=\"url(#clip770)\" style=\"stroke:#000000; stroke-linecap:round; stroke-linejoin:round; stroke-width:4; stroke-opacity:1; fill:none\" points=\"621.577,686.448 621.577,667.55 \"/>\n",
       "<polyline clip-path=\"url(#clip770)\" style=\"stroke:#000000; stroke-linecap:round; stroke-linejoin:round; stroke-width:4; stroke-opacity:1; fill:none\" points=\"830.153,686.448 830.153,667.55 \"/>\n",
       "<polyline clip-path=\"url(#clip770)\" style=\"stroke:#000000; stroke-linecap:round; stroke-linejoin:round; stroke-width:4; stroke-opacity:1; fill:none\" points=\"1038.73,686.448 1038.73,667.55 \"/>\n",
       "<polyline clip-path=\"url(#clip770)\" style=\"stroke:#000000; stroke-linecap:round; stroke-linejoin:round; stroke-width:4; stroke-opacity:1; fill:none\" points=\"1247.3,686.448 1247.3,667.55 \"/>\n",
       "<polyline clip-path=\"url(#clip770)\" style=\"stroke:#000000; stroke-linecap:round; stroke-linejoin:round; stroke-width:4; stroke-opacity:1; fill:none\" points=\"1455.88,686.448 1455.88,667.55 \"/>\n",
       "<polyline clip-path=\"url(#clip770)\" style=\"stroke:#000000; stroke-linecap:round; stroke-linejoin:round; stroke-width:4; stroke-opacity:1; fill:none\" points=\"1664.46,686.448 1664.46,667.55 \"/>\n",
       "<polyline clip-path=\"url(#clip770)\" style=\"stroke:#000000; stroke-linecap:round; stroke-linejoin:round; stroke-width:4; stroke-opacity:1; fill:none\" points=\"1873.03,686.448 1873.03,667.55 \"/>\n",
       "<polyline clip-path=\"url(#clip770)\" style=\"stroke:#000000; stroke-linecap:round; stroke-linejoin:round; stroke-width:4; stroke-opacity:1; fill:none\" points=\"2081.61,686.448 2081.61,667.55 \"/>\n",
       "<polyline clip-path=\"url(#clip770)\" style=\"stroke:#000000; stroke-linecap:round; stroke-linejoin:round; stroke-width:4; stroke-opacity:1; fill:none\" points=\"2290.18,686.448 2290.18,667.55 \"/>\n",
       "<path clip-path=\"url(#clip770)\" d=\"M194.808 744.913 L202.447 744.913 L202.447 718.547 L194.136 720.214 L194.136 715.955 L202.4 714.288 L207.076 714.288 L207.076 744.913 L214.715 744.913 L214.715 748.848 L194.808 748.848 L194.808 744.913 Z\" fill=\"#000000\" fill-rule=\"nonzero\" fill-opacity=\"1\" /><path clip-path=\"url(#clip770)\" d=\"M417.249 730.214 Q420.606 730.931 422.481 733.2 Q424.379 735.468 424.379 738.802 Q424.379 743.917 420.86 746.718 Q417.342 749.519 410.86 749.519 Q408.684 749.519 406.37 749.079 Q404.078 748.663 401.624 747.806 L401.624 743.292 Q403.569 744.427 405.883 745.005 Q408.198 745.584 410.721 745.584 Q415.119 745.584 417.411 743.848 Q419.726 742.112 419.726 738.802 Q419.726 735.746 417.573 734.033 Q415.444 732.297 411.624 732.297 L407.596 732.297 L407.596 728.454 L411.809 728.454 Q415.258 728.454 417.087 727.089 Q418.916 725.7 418.916 723.107 Q418.916 720.445 417.018 719.033 Q415.143 717.598 411.624 717.598 Q409.703 717.598 407.504 718.015 Q405.305 718.431 402.666 719.311 L402.666 715.144 Q405.328 714.404 407.643 714.033 Q409.981 713.663 412.041 713.663 Q417.365 713.663 420.467 716.093 Q423.568 718.501 423.568 722.621 Q423.568 725.492 421.925 727.482 Q420.281 729.45 417.249 730.214 Z\" fill=\"#000000\" fill-rule=\"nonzero\" fill-opacity=\"1\" /><path clip-path=\"url(#clip770)\" d=\"M611.855 714.288 L630.211 714.288 L630.211 718.223 L616.137 718.223 L616.137 726.695 Q617.156 726.348 618.174 726.186 Q619.193 726.001 620.211 726.001 Q625.998 726.001 629.378 729.172 Q632.758 732.343 632.758 737.76 Q632.758 743.339 629.285 746.44 Q625.813 749.519 619.494 749.519 Q617.318 749.519 615.049 749.149 Q612.804 748.778 610.397 748.038 L610.397 743.339 Q612.48 744.473 614.702 745.028 Q616.924 745.584 619.401 745.584 Q623.406 745.584 625.744 743.478 Q628.082 741.371 628.082 737.76 Q628.082 734.149 625.744 732.042 Q623.406 729.936 619.401 729.936 Q617.526 729.936 615.651 730.353 Q613.799 730.769 611.855 731.649 L611.855 714.288 Z\" fill=\"#000000\" fill-rule=\"nonzero\" fill-opacity=\"1\" /><path clip-path=\"url(#clip770)\" d=\"M819.042 714.288 L841.264 714.288 L841.264 716.279 L828.718 748.848 L823.834 748.848 L835.639 718.223 L819.042 718.223 L819.042 714.288 Z\" fill=\"#000000\" fill-rule=\"nonzero\" fill-opacity=\"1\" /><path clip-path=\"url(#clip770)\" d=\"M1029.03 748.13 L1029.03 743.871 Q1030.79 744.704 1032.59 745.144 Q1034.4 745.584 1036.14 745.584 Q1040.77 745.584 1043.2 742.482 Q1045.65 739.357 1046 733.015 Q1044.65 735.005 1042.59 736.07 Q1040.53 737.135 1038.03 737.135 Q1032.85 737.135 1029.82 734.01 Q1026.81 730.862 1026.81 725.422 Q1026.81 720.098 1029.96 716.88 Q1033.1 713.663 1038.34 713.663 Q1044.33 713.663 1047.48 718.269 Q1050.65 722.853 1050.65 731.603 Q1050.65 739.774 1046.76 744.658 Q1042.9 749.519 1036.34 749.519 Q1034.59 749.519 1032.78 749.172 Q1030.97 748.825 1029.03 748.13 M1038.34 733.478 Q1041.48 733.478 1043.31 731.325 Q1045.16 729.172 1045.16 725.422 Q1045.16 721.695 1043.31 719.542 Q1041.48 717.367 1038.34 717.367 Q1035.19 717.367 1033.34 719.542 Q1031.51 721.695 1031.51 725.422 Q1031.51 729.172 1033.34 731.325 Q1035.19 733.478 1038.34 733.478 Z\" fill=\"#000000\" fill-rule=\"nonzero\" fill-opacity=\"1\" /><path clip-path=\"url(#clip770)\" d=\"M1222.61 744.913 L1230.24 744.913 L1230.24 718.547 L1221.93 720.214 L1221.93 715.955 L1230.2 714.288 L1234.87 714.288 L1234.87 744.913 L1242.51 744.913 L1242.51 748.848 L1222.61 748.848 L1222.61 744.913 Z\" fill=\"#000000\" fill-rule=\"nonzero\" fill-opacity=\"1\" /><path clip-path=\"url(#clip770)\" d=\"M1252.77 744.913 L1260.41 744.913 L1260.41 718.547 L1252.1 720.214 L1252.1 715.955 L1260.36 714.288 L1265.04 714.288 L1265.04 744.913 L1272.67 744.913 L1272.67 748.848 L1252.77 748.848 L1252.77 744.913 Z\" fill=\"#000000\" fill-rule=\"nonzero\" fill-opacity=\"1\" /><path clip-path=\"url(#clip770)\" d=\"M1430.89 744.913 L1438.53 744.913 L1438.53 718.547 L1430.22 720.214 L1430.22 715.955 L1438.48 714.288 L1443.16 714.288 L1443.16 744.913 L1450.8 744.913 L1450.8 748.848 L1430.89 748.848 L1430.89 744.913 Z\" fill=\"#000000\" fill-rule=\"nonzero\" fill-opacity=\"1\" /><path clip-path=\"url(#clip770)\" d=\"M1474.41 730.214 Q1477.77 730.931 1479.64 733.2 Q1481.54 735.468 1481.54 738.802 Q1481.54 743.917 1478.02 746.718 Q1474.5 749.519 1468.02 749.519 Q1465.85 749.519 1463.53 749.079 Q1461.24 748.663 1458.79 747.806 L1458.79 743.292 Q1460.73 744.427 1463.04 745.005 Q1465.36 745.584 1467.88 745.584 Q1472.28 745.584 1474.57 743.848 Q1476.89 742.112 1476.89 738.802 Q1476.89 735.746 1474.73 734.033 Q1472.6 732.297 1468.79 732.297 L1464.76 732.297 L1464.76 728.454 L1468.97 728.454 Q1472.42 728.454 1474.25 727.089 Q1476.08 725.7 1476.08 723.107 Q1476.08 720.445 1474.18 719.033 Q1472.3 717.598 1468.79 717.598 Q1466.86 717.598 1464.66 718.015 Q1462.47 718.431 1459.83 719.311 L1459.83 715.144 Q1462.49 714.404 1464.8 714.033 Q1467.14 713.663 1469.2 713.663 Q1474.53 713.663 1477.63 716.093 Q1480.73 718.501 1480.73 722.621 Q1480.73 725.492 1479.09 727.482 Q1477.44 729.45 1474.41 730.214 Z\" fill=\"#000000\" fill-rule=\"nonzero\" fill-opacity=\"1\" /><path clip-path=\"url(#clip770)\" d=\"M1639.64 744.913 L1647.28 744.913 L1647.28 718.547 L1638.97 720.214 L1638.97 715.955 L1647.23 714.288 L1651.91 714.288 L1651.91 744.913 L1659.55 744.913 L1659.55 748.848 L1639.64 748.848 L1639.64 744.913 Z\" fill=\"#000000\" fill-rule=\"nonzero\" fill-opacity=\"1\" /><path clip-path=\"url(#clip770)\" d=\"M1669.04 714.288 L1687.4 714.288 L1687.4 718.223 L1673.32 718.223 L1673.32 726.695 Q1674.34 726.348 1675.36 726.186 Q1676.38 726.001 1677.4 726.001 Q1683.18 726.001 1686.56 729.172 Q1689.94 732.343 1689.94 737.76 Q1689.94 743.339 1686.47 746.44 Q1683 749.519 1676.68 749.519 Q1674.5 749.519 1672.23 749.149 Q1669.99 748.778 1667.58 748.038 L1667.58 743.339 Q1669.66 744.473 1671.89 745.028 Q1674.11 745.584 1676.59 745.584 Q1680.59 745.584 1682.93 743.478 Q1685.27 741.371 1685.27 737.76 Q1685.27 734.149 1682.93 732.042 Q1680.59 729.936 1676.59 729.936 Q1674.71 729.936 1672.84 730.353 Q1670.98 730.769 1669.04 731.649 L1669.04 714.288 Z\" fill=\"#000000\" fill-rule=\"nonzero\" fill-opacity=\"1\" /><path clip-path=\"url(#clip770)\" d=\"M1848.17 744.913 L1855.81 744.913 L1855.81 718.547 L1847.5 720.214 L1847.5 715.955 L1855.76 714.288 L1860.44 714.288 L1860.44 744.913 L1868.08 744.913 L1868.08 748.848 L1848.17 748.848 L1848.17 744.913 Z\" fill=\"#000000\" fill-rule=\"nonzero\" fill-opacity=\"1\" /><path clip-path=\"url(#clip770)\" d=\"M1876.34 714.288 L1898.56 714.288 L1898.56 716.279 L1886.02 748.848 L1881.13 748.848 L1892.94 718.223 L1876.34 718.223 L1876.34 714.288 Z\" fill=\"#000000\" fill-rule=\"nonzero\" fill-opacity=\"1\" /><path clip-path=\"url(#clip770)\" d=\"M2056.39 744.913 L2064.03 744.913 L2064.03 718.547 L2055.72 720.214 L2055.72 715.955 L2063.98 714.288 L2068.66 714.288 L2068.66 744.913 L2076.29 744.913 L2076.29 748.848 L2056.39 748.848 L2056.39 744.913 Z\" fill=\"#000000\" fill-rule=\"nonzero\" fill-opacity=\"1\" /><path clip-path=\"url(#clip770)\" d=\"M2085.88 748.13 L2085.88 743.871 Q2087.64 744.704 2089.44 745.144 Q2091.25 745.584 2092.98 745.584 Q2097.61 745.584 2100.04 742.482 Q2102.5 739.357 2102.85 733.015 Q2101.5 735.005 2099.44 736.07 Q2097.38 737.135 2094.88 737.135 Q2089.7 737.135 2086.67 734.01 Q2083.66 730.862 2083.66 725.422 Q2083.66 720.098 2086.8 716.88 Q2089.95 713.663 2095.18 713.663 Q2101.18 713.663 2104.33 718.269 Q2107.5 722.853 2107.5 731.603 Q2107.5 739.774 2103.61 744.658 Q2099.74 749.519 2093.19 749.519 Q2091.43 749.519 2089.63 749.172 Q2087.82 748.825 2085.88 748.13 M2095.18 733.478 Q2098.33 733.478 2100.16 731.325 Q2102.01 729.172 2102.01 725.422 Q2102.01 721.695 2100.16 719.542 Q2098.33 717.367 2095.18 717.367 Q2092.04 717.367 2090.18 719.542 Q2088.36 721.695 2088.36 725.422 Q2088.36 729.172 2090.18 731.325 Q2092.04 733.478 2095.18 733.478 Z\" fill=\"#000000\" fill-rule=\"nonzero\" fill-opacity=\"1\" /><path clip-path=\"url(#clip770)\" d=\"M2269.57 744.913 L2285.89 744.913 L2285.89 748.848 L2263.94 748.848 L2263.94 744.913 Q2266.61 742.158 2271.19 737.528 Q2275.8 732.876 2276.98 731.533 Q2279.22 729.01 2280.1 727.274 Q2281 725.515 2281 723.825 Q2281 721.07 2279.06 719.334 Q2277.14 717.598 2274.04 717.598 Q2271.84 717.598 2269.38 718.362 Q2266.95 719.126 2264.18 720.677 L2264.18 715.955 Q2267 714.82 2269.45 714.242 Q2271.91 713.663 2273.94 713.663 Q2279.32 713.663 2282.51 716.348 Q2285.7 719.033 2285.7 723.524 Q2285.7 725.654 2284.89 727.575 Q2284.11 729.473 2282 732.066 Q2281.42 732.737 2278.32 735.954 Q2275.22 739.149 2269.57 744.913 Z\" fill=\"#000000\" fill-rule=\"nonzero\" fill-opacity=\"1\" /><path clip-path=\"url(#clip770)\" d=\"M2296.51 744.913 L2304.15 744.913 L2304.15 718.547 L2295.84 720.214 L2295.84 715.955 L2304.11 714.288 L2308.78 714.288 L2308.78 744.913 L2316.42 744.913 L2316.42 748.848 L2296.51 748.848 L2296.51 744.913 Z\" fill=\"#000000\" fill-rule=\"nonzero\" fill-opacity=\"1\" /><polyline clip-path=\"url(#clip772)\" style=\"stroke:#000000; stroke-linecap:round; stroke-linejoin:round; stroke-width:2; stroke-opacity:0.1; fill:none\" points=\"141.853,686.448 2352.76,686.448 \"/>\n",
       "<polyline clip-path=\"url(#clip772)\" style=\"stroke:#000000; stroke-linecap:round; stroke-linejoin:round; stroke-width:2; stroke-opacity:0.1; fill:none\" points=\"141.853,606.023 2352.76,606.023 \"/>\n",
       "<polyline clip-path=\"url(#clip772)\" style=\"stroke:#000000; stroke-linecap:round; stroke-linejoin:round; stroke-width:2; stroke-opacity:0.1; fill:none\" points=\"141.853,525.598 2352.76,525.598 \"/>\n",
       "<polyline clip-path=\"url(#clip772)\" style=\"stroke:#000000; stroke-linecap:round; stroke-linejoin:round; stroke-width:2; stroke-opacity:0.1; fill:none\" points=\"141.853,445.173 2352.76,445.173 \"/>\n",
       "<polyline clip-path=\"url(#clip772)\" style=\"stroke:#000000; stroke-linecap:round; stroke-linejoin:round; stroke-width:2; stroke-opacity:0.1; fill:none\" points=\"141.853,364.747 2352.76,364.747 \"/>\n",
       "<polyline clip-path=\"url(#clip772)\" style=\"stroke:#000000; stroke-linecap:round; stroke-linejoin:round; stroke-width:2; stroke-opacity:0.1; fill:none\" points=\"141.853,284.322 2352.76,284.322 \"/>\n",
       "<polyline clip-path=\"url(#clip772)\" style=\"stroke:#000000; stroke-linecap:round; stroke-linejoin:round; stroke-width:2; stroke-opacity:0.1; fill:none\" points=\"141.853,203.897 2352.76,203.897 \"/>\n",
       "<polyline clip-path=\"url(#clip772)\" style=\"stroke:#000000; stroke-linecap:round; stroke-linejoin:round; stroke-width:2; stroke-opacity:0.1; fill:none\" points=\"141.853,123.472 2352.76,123.472 \"/>\n",
       "<polyline clip-path=\"url(#clip770)\" style=\"stroke:#000000; stroke-linecap:round; stroke-linejoin:round; stroke-width:4; stroke-opacity:1; fill:none\" points=\"141.853,686.448 141.853,123.472 \"/>\n",
       "<polyline clip-path=\"url(#clip770)\" style=\"stroke:#000000; stroke-linecap:round; stroke-linejoin:round; stroke-width:4; stroke-opacity:1; fill:none\" points=\"141.853,686.448 160.751,686.448 \"/>\n",
       "<polyline clip-path=\"url(#clip770)\" style=\"stroke:#000000; stroke-linecap:round; stroke-linejoin:round; stroke-width:4; stroke-opacity:1; fill:none\" points=\"141.853,606.023 160.751,606.023 \"/>\n",
       "<polyline clip-path=\"url(#clip770)\" style=\"stroke:#000000; stroke-linecap:round; stroke-linejoin:round; stroke-width:4; stroke-opacity:1; fill:none\" points=\"141.853,525.598 160.751,525.598 \"/>\n",
       "<polyline clip-path=\"url(#clip770)\" style=\"stroke:#000000; stroke-linecap:round; stroke-linejoin:round; stroke-width:4; stroke-opacity:1; fill:none\" points=\"141.853,445.173 160.751,445.173 \"/>\n",
       "<polyline clip-path=\"url(#clip770)\" style=\"stroke:#000000; stroke-linecap:round; stroke-linejoin:round; stroke-width:4; stroke-opacity:1; fill:none\" points=\"141.853,364.747 160.751,364.747 \"/>\n",
       "<polyline clip-path=\"url(#clip770)\" style=\"stroke:#000000; stroke-linecap:round; stroke-linejoin:round; stroke-width:4; stroke-opacity:1; fill:none\" points=\"141.853,284.322 160.751,284.322 \"/>\n",
       "<polyline clip-path=\"url(#clip770)\" style=\"stroke:#000000; stroke-linecap:round; stroke-linejoin:round; stroke-width:4; stroke-opacity:1; fill:none\" points=\"141.853,203.897 160.751,203.897 \"/>\n",
       "<polyline clip-path=\"url(#clip770)\" style=\"stroke:#000000; stroke-linecap:round; stroke-linejoin:round; stroke-width:4; stroke-opacity:1; fill:none\" points=\"141.853,123.472 160.751,123.472 \"/>\n",
       "<path clip-path=\"url(#clip770)\" d=\"M93.9086 672.247 Q90.2975 672.247 88.4688 675.811 Q86.6632 679.353 86.6632 686.483 Q86.6632 693.589 88.4688 697.154 Q90.2975 700.695 93.9086 700.695 Q97.5428 700.695 99.3483 697.154 Q101.177 693.589 101.177 686.483 Q101.177 679.353 99.3483 675.811 Q97.5428 672.247 93.9086 672.247 M93.9086 668.543 Q99.7187 668.543 102.774 673.149 Q105.853 677.733 105.853 686.483 Q105.853 695.209 102.774 699.816 Q99.7187 704.399 93.9086 704.399 Q88.0984 704.399 85.0197 699.816 Q81.9642 695.209 81.9642 686.483 Q81.9642 677.733 85.0197 673.149 Q88.0984 668.543 93.9086 668.543 Z\" fill=\"#000000\" fill-rule=\"nonzero\" fill-opacity=\"1\" /><path clip-path=\"url(#clip770)\" d=\"M54.5569 619.368 L62.1958 619.368 L62.1958 593.002 L53.8856 594.669 L53.8856 590.409 L62.1495 588.743 L66.8254 588.743 L66.8254 619.368 L74.4642 619.368 L74.4642 623.303 L54.5569 623.303 L54.5569 619.368 Z\" fill=\"#000000\" fill-rule=\"nonzero\" fill-opacity=\"1\" /><path clip-path=\"url(#clip770)\" d=\"M93.9086 591.821 Q90.2975 591.821 88.4688 595.386 Q86.6632 598.928 86.6632 606.057 Q86.6632 613.164 88.4688 616.729 Q90.2975 620.27 93.9086 620.27 Q97.5428 620.27 99.3483 616.729 Q101.177 613.164 101.177 606.057 Q101.177 598.928 99.3483 595.386 Q97.5428 591.821 93.9086 591.821 M93.9086 588.118 Q99.7187 588.118 102.774 592.724 Q105.853 597.308 105.853 606.057 Q105.853 614.784 102.774 619.391 Q99.7187 623.974 93.9086 623.974 Q88.0984 623.974 85.0197 619.391 Q81.9642 614.784 81.9642 606.057 Q81.9642 597.308 85.0197 592.724 Q88.0984 588.118 93.9086 588.118 Z\" fill=\"#000000\" fill-rule=\"nonzero\" fill-opacity=\"1\" /><path clip-path=\"url(#clip770)\" d=\"M57.7745 538.942 L74.0939 538.942 L74.0939 542.878 L52.1495 542.878 L52.1495 538.942 Q54.8115 536.188 59.3949 531.558 Q64.0013 526.906 65.1819 525.563 Q67.4272 523.04 68.3068 521.304 Q69.2096 519.544 69.2096 517.855 Q69.2096 515.1 67.2652 513.364 Q65.3439 511.628 62.2421 511.628 Q60.043 511.628 57.5893 512.392 Q55.1588 513.156 52.381 514.707 L52.381 509.984 Q55.2051 508.85 57.6588 508.271 Q60.1124 507.693 62.1495 507.693 Q67.5198 507.693 70.7142 510.378 Q73.9087 513.063 73.9087 517.554 Q73.9087 519.683 73.0985 521.605 Q72.3115 523.503 70.205 526.095 Q69.6263 526.767 66.5245 529.984 Q63.4226 533.179 57.7745 538.942 Z\" fill=\"#000000\" fill-rule=\"nonzero\" fill-opacity=\"1\" /><path clip-path=\"url(#clip770)\" d=\"M93.9086 511.396 Q90.2975 511.396 88.4688 514.961 Q86.6632 518.503 86.6632 525.632 Q86.6632 532.739 88.4688 536.304 Q90.2975 539.845 93.9086 539.845 Q97.5428 539.845 99.3483 536.304 Q101.177 532.739 101.177 525.632 Q101.177 518.503 99.3483 514.961 Q97.5428 511.396 93.9086 511.396 M93.9086 507.693 Q99.7187 507.693 102.774 512.299 Q105.853 516.882 105.853 525.632 Q105.853 534.359 102.774 538.966 Q99.7187 543.549 93.9086 543.549 Q88.0984 543.549 85.0197 538.966 Q81.9642 534.359 81.9642 525.632 Q81.9642 516.882 85.0197 512.299 Q88.0984 507.693 93.9086 507.693 Z\" fill=\"#000000\" fill-rule=\"nonzero\" fill-opacity=\"1\" /><path clip-path=\"url(#clip770)\" d=\"M67.9133 443.818 Q71.2698 444.536 73.1448 446.804 Q75.0429 449.073 75.0429 452.406 Q75.0429 457.522 71.5244 460.323 Q68.0059 463.124 61.5245 463.124 Q59.3486 463.124 57.0338 462.684 Q54.7421 462.267 52.2884 461.411 L52.2884 456.897 Q54.2328 458.031 56.5477 458.61 Q58.8625 459.189 61.3856 459.189 Q65.7837 459.189 68.0754 457.453 Q70.3902 455.716 70.3902 452.406 Q70.3902 449.351 68.2374 447.638 Q66.1078 445.902 62.2884 445.902 L58.2606 445.902 L58.2606 442.059 L62.4735 442.059 Q65.9226 442.059 67.7513 440.693 Q69.58 439.305 69.58 436.712 Q69.58 434.05 67.6819 432.638 Q65.8069 431.203 62.2884 431.203 Q60.3671 431.203 58.168 431.619 Q55.969 432.036 53.3301 432.916 L53.3301 428.749 Q55.9921 428.008 58.3069 427.638 Q60.6449 427.268 62.705 427.268 Q68.0291 427.268 71.1309 429.698 Q74.2327 432.105 74.2327 436.226 Q74.2327 439.096 72.5892 441.087 Q70.9457 443.055 67.9133 443.818 Z\" fill=\"#000000\" fill-rule=\"nonzero\" fill-opacity=\"1\" /><path clip-path=\"url(#clip770)\" d=\"M93.9086 430.971 Q90.2975 430.971 88.4688 434.536 Q86.6632 438.078 86.6632 445.207 Q86.6632 452.314 88.4688 455.879 Q90.2975 459.42 93.9086 459.42 Q97.5428 459.42 99.3483 455.879 Q101.177 452.314 101.177 445.207 Q101.177 438.078 99.3483 434.536 Q97.5428 430.971 93.9086 430.971 M93.9086 427.268 Q99.7187 427.268 102.774 431.874 Q105.853 436.457 105.853 445.207 Q105.853 453.934 102.774 458.541 Q99.7187 463.124 93.9086 463.124 Q88.0984 463.124 85.0197 458.541 Q81.9642 453.934 81.9642 445.207 Q81.9642 436.457 85.0197 431.874 Q88.0984 427.268 93.9086 427.268 Z\" fill=\"#000000\" fill-rule=\"nonzero\" fill-opacity=\"1\" /><path clip-path=\"url(#clip770)\" d=\"M66.5939 351.541 L54.7884 369.99 L66.5939 369.99 L66.5939 351.541 M65.367 347.467 L71.2466 347.467 L71.2466 369.99 L76.1772 369.99 L76.1772 373.879 L71.2466 373.879 L71.2466 382.027 L66.5939 382.027 L66.5939 373.879 L50.9921 373.879 L50.9921 369.365 L65.367 347.467 Z\" fill=\"#000000\" fill-rule=\"nonzero\" fill-opacity=\"1\" /><path clip-path=\"url(#clip770)\" d=\"M93.9086 350.546 Q90.2975 350.546 88.4688 354.111 Q86.6632 357.653 86.6632 364.782 Q86.6632 371.889 88.4688 375.453 Q90.2975 378.995 93.9086 378.995 Q97.5428 378.995 99.3483 375.453 Q101.177 371.889 101.177 364.782 Q101.177 357.653 99.3483 354.111 Q97.5428 350.546 93.9086 350.546 M93.9086 346.842 Q99.7187 346.842 102.774 351.449 Q105.853 356.032 105.853 364.782 Q105.853 373.509 102.774 378.115 Q99.7187 382.699 93.9086 382.699 Q88.0984 382.699 85.0197 378.115 Q81.9642 373.509 81.9642 364.782 Q81.9642 356.032 85.0197 351.449 Q88.0984 346.842 93.9086 346.842 Z\" fill=\"#000000\" fill-rule=\"nonzero\" fill-opacity=\"1\" /><path clip-path=\"url(#clip770)\" d=\"M53.793 267.042 L72.1494 267.042 L72.1494 270.978 L58.0754 270.978 L58.0754 279.45 Q59.0939 279.102 60.1124 278.94 Q61.131 278.755 62.1495 278.755 Q67.9365 278.755 71.3161 281.927 Q74.6957 285.098 74.6957 290.514 Q74.6957 296.093 71.2235 299.195 Q67.7513 302.274 61.4319 302.274 Q59.256 302.274 56.9875 301.903 Q54.7421 301.533 52.3347 300.792 L52.3347 296.093 Q54.418 297.227 56.6402 297.783 Q58.8625 298.338 61.3393 298.338 Q65.3439 298.338 67.6819 296.232 Q70.0198 294.126 70.0198 290.514 Q70.0198 286.903 67.6819 284.797 Q65.3439 282.69 61.3393 282.69 Q59.4643 282.69 57.5893 283.107 Q55.7375 283.524 53.793 284.403 L53.793 267.042 Z\" fill=\"#000000\" fill-rule=\"nonzero\" fill-opacity=\"1\" /><path clip-path=\"url(#clip770)\" d=\"M93.9086 270.121 Q90.2975 270.121 88.4688 273.686 Q86.6632 277.227 86.6632 284.357 Q86.6632 291.464 88.4688 295.028 Q90.2975 298.57 93.9086 298.57 Q97.5428 298.57 99.3483 295.028 Q101.177 291.464 101.177 284.357 Q101.177 277.227 99.3483 273.686 Q97.5428 270.121 93.9086 270.121 M93.9086 266.417 Q99.7187 266.417 102.774 271.024 Q105.853 275.607 105.853 284.357 Q105.853 293.084 102.774 297.69 Q99.7187 302.274 93.9086 302.274 Q88.0984 302.274 85.0197 297.69 Q81.9642 293.084 81.9642 284.357 Q81.9642 275.607 85.0197 271.024 Q88.0984 266.417 93.9086 266.417 Z\" fill=\"#000000\" fill-rule=\"nonzero\" fill-opacity=\"1\" /><path clip-path=\"url(#clip770)\" d=\"M64.3254 202.034 Q61.1773 202.034 59.3254 204.187 Q57.4967 206.339 57.4967 210.089 Q57.4967 213.816 59.3254 215.992 Q61.1773 218.145 64.3254 218.145 Q67.4735 218.145 69.3022 215.992 Q71.1541 213.816 71.1541 210.089 Q71.1541 206.339 69.3022 204.187 Q67.4735 202.034 64.3254 202.034 M73.6077 187.381 L73.6077 191.64 Q71.8485 190.807 70.0429 190.367 Q68.2606 189.927 66.5013 189.927 Q61.8717 189.927 59.418 193.052 Q56.9875 196.177 56.6402 202.497 Q58.006 200.483 60.0662 199.418 Q62.1263 198.33 64.6032 198.33 Q69.8115 198.33 72.8207 201.501 Q75.8531 204.65 75.8531 210.089 Q75.8531 215.413 72.705 218.631 Q69.5568 221.849 64.3254 221.849 Q58.33 221.849 55.1588 217.265 Q51.9875 212.659 51.9875 203.932 Q51.9875 195.738 55.8764 190.876 Q59.7652 185.992 66.3161 185.992 Q68.0754 185.992 69.8578 186.339 Q71.6633 186.687 73.6077 187.381 Z\" fill=\"#000000\" fill-rule=\"nonzero\" fill-opacity=\"1\" /><path clip-path=\"url(#clip770)\" d=\"M93.9086 189.696 Q90.2975 189.696 88.4688 193.261 Q86.6632 196.802 86.6632 203.932 Q86.6632 211.038 88.4688 214.603 Q90.2975 218.145 93.9086 218.145 Q97.5428 218.145 99.3483 214.603 Q101.177 211.038 101.177 203.932 Q101.177 196.802 99.3483 193.261 Q97.5428 189.696 93.9086 189.696 M93.9086 185.992 Q99.7187 185.992 102.774 190.599 Q105.853 195.182 105.853 203.932 Q105.853 212.659 102.774 217.265 Q99.7187 221.849 93.9086 221.849 Q88.0984 221.849 85.0197 217.265 Q81.9642 212.659 81.9642 203.932 Q81.9642 195.182 85.0197 190.599 Q88.0984 185.992 93.9086 185.992 Z\" fill=\"#000000\" fill-rule=\"nonzero\" fill-opacity=\"1\" /><path clip-path=\"url(#clip770)\" d=\"M52.5662 106.192 L74.7883 106.192 L74.7883 108.183 L62.2421 140.752 L57.3578 140.752 L69.1633 110.127 L52.5662 110.127 L52.5662 106.192 Z\" fill=\"#000000\" fill-rule=\"nonzero\" fill-opacity=\"1\" /><path clip-path=\"url(#clip770)\" d=\"M93.9086 109.271 Q90.2975 109.271 88.4688 112.836 Q86.6632 116.377 86.6632 123.507 Q86.6632 130.613 88.4688 134.178 Q90.2975 137.72 93.9086 137.72 Q97.5428 137.72 99.3483 134.178 Q101.177 130.613 101.177 123.507 Q101.177 116.377 99.3483 112.836 Q97.5428 109.271 93.9086 109.271 M93.9086 105.567 Q99.7187 105.567 102.774 110.174 Q105.853 114.757 105.853 123.507 Q105.853 132.234 102.774 136.84 Q99.7187 141.423 93.9086 141.423 Q88.0984 141.423 85.0197 136.84 Q81.9642 132.234 81.9642 123.507 Q81.9642 114.757 85.0197 110.174 Q88.0984 105.567 93.9086 105.567 Z\" fill=\"#000000\" fill-rule=\"nonzero\" fill-opacity=\"1\" /><path clip-path=\"url(#clip770)\" d=\"M774.058 17.6457 Q765.146 17.6457 759.879 24.2892 Q754.654 30.9327 754.654 42.3968 Q754.654 53.8203 759.879 60.4638 Q765.146 67.1073 774.058 67.1073 Q782.97 67.1073 788.155 60.4638 Q793.38 53.8203 793.38 42.3968 Q793.38 30.9327 788.155 24.2892 Q782.97 17.6457 774.058 17.6457 M774.058 11.0023 Q786.777 11.0023 794.393 19.5497 Q802.009 28.0566 802.009 42.3968 Q802.009 56.6965 794.393 65.2439 Q786.777 73.7508 774.058 73.7508 Q761.297 73.7508 753.641 65.2439 Q746.025 56.737 746.025 42.3968 Q746.025 28.0566 753.641 19.5497 Q761.297 11.0023 774.058 11.0023 Z\" fill=\"#000000\" fill-rule=\"nonzero\" fill-opacity=\"1\" /><path clip-path=\"url(#clip770)\" d=\"M840.776 34.1734 Q839.52 33.4443 838.021 33.1202 Q836.563 32.7556 834.781 32.7556 Q828.461 32.7556 825.058 36.8875 Q821.696 40.9789 821.696 48.6757 L821.696 72.576 L814.202 72.576 L814.202 27.2059 L821.696 27.2059 L821.696 34.2544 Q824.046 30.1225 827.813 28.1376 Q831.58 26.1121 836.968 26.1121 Q837.738 26.1121 838.669 26.2337 Q839.601 26.3147 840.735 26.5172 L840.776 34.1734 Z\" fill=\"#000000\" fill-rule=\"nonzero\" fill-opacity=\"1\" /><path clip-path=\"url(#clip770)\" d=\"M848.594 27.2059 L856.048 27.2059 L856.048 72.576 L848.594 72.576 L848.594 27.2059 M848.594 9.54393 L856.048 9.54393 L856.048 18.9825 L848.594 18.9825 L848.594 9.54393 Z\" fill=\"#000000\" fill-rule=\"nonzero\" fill-opacity=\"1\" /><path clip-path=\"url(#clip770)\" d=\"M901.499 49.3643 Q901.499 41.2625 898.137 36.8065 Q894.815 32.3505 888.779 32.3505 Q882.784 32.3505 879.422 36.8065 Q876.1 41.2625 876.1 49.3643 Q876.1 57.4256 879.422 61.8816 Q882.784 66.3376 888.779 66.3376 Q894.815 66.3376 898.137 61.8816 Q901.499 57.4256 901.499 49.3643 M908.953 66.9452 Q908.953 78.5308 903.808 84.1616 Q898.663 89.8329 888.05 89.8329 Q884.121 89.8329 880.637 89.2252 Q877.153 88.6581 873.872 87.4428 L873.872 80.1917 Q877.153 81.9741 880.353 82.8248 Q883.553 83.6755 886.875 83.6755 Q894.207 83.6755 897.853 79.8271 Q901.499 76.0193 901.499 68.282 L901.499 64.5957 Q899.19 68.6061 895.585 70.5911 Q891.979 72.576 886.956 72.576 Q878.611 72.576 873.507 66.2161 Q868.403 59.8562 868.403 49.3643 Q868.403 38.832 873.507 32.472 Q878.611 26.1121 886.956 26.1121 Q891.979 26.1121 895.585 28.0971 Q899.19 30.082 901.499 34.0924 L901.499 27.2059 L908.953 27.2059 L908.953 66.9452 Z\" fill=\"#000000\" fill-rule=\"nonzero\" fill-opacity=\"1\" /><path clip-path=\"url(#clip770)\" d=\"M924.306 27.2059 L931.759 27.2059 L931.759 72.576 L924.306 72.576 L924.306 27.2059 M924.306 9.54393 L931.759 9.54393 L931.759 18.9825 L924.306 18.9825 L924.306 9.54393 Z\" fill=\"#000000\" fill-rule=\"nonzero\" fill-opacity=\"1\" /><path clip-path=\"url(#clip770)\" d=\"M985.069 45.1919 L985.069 72.576 L977.615 72.576 L977.615 45.4349 Q977.615 38.994 975.104 35.7938 Q972.592 32.5936 967.569 32.5936 Q961.533 32.5936 958.05 36.4419 Q954.566 40.2903 954.566 46.9338 L954.566 72.576 L947.072 72.576 L947.072 27.2059 L954.566 27.2059 L954.566 34.2544 Q957.239 30.163 960.845 28.1376 Q964.491 26.1121 969.23 26.1121 Q977.048 26.1121 981.059 30.9732 Q985.069 35.7938 985.069 45.1919 Z\" fill=\"#000000\" fill-rule=\"nonzero\" fill-opacity=\"1\" /><path clip-path=\"url(#clip770)\" d=\"M1020.56 49.7694 Q1011.52 49.7694 1008.04 51.8354 Q1004.55 53.9013 1004.55 58.8839 Q1004.55 62.8538 1007.15 65.2034 Q1009.78 67.5124 1014.28 67.5124 Q1020.47 67.5124 1024.2 63.1374 Q1027.97 58.7219 1027.97 51.4303 L1027.97 49.7694 L1020.56 49.7694 M1035.42 46.6907 L1035.42 72.576 L1027.97 72.576 L1027.97 65.6895 Q1025.42 69.8214 1021.61 71.8063 Q1017.8 73.7508 1012.29 73.7508 Q1005.32 73.7508 1001.19 69.8619 Q997.1 65.9325 997.1 59.3701 Q997.1 51.7138 1002.2 47.825 Q1007.35 43.9361 1017.52 43.9361 L1027.97 43.9361 L1027.97 43.2069 Q1027.97 38.0623 1024.57 35.2672 Q1021.2 32.4315 1015.09 32.4315 Q1011.2 32.4315 1007.51 33.3632 Q1003.82 34.295 1000.42 36.1584 L1000.42 29.2718 Q1004.51 27.692 1008.36 26.9223 Q1012.21 26.1121 1015.86 26.1121 Q1025.7 26.1121 1030.56 31.2163 Q1035.42 36.3204 1035.42 46.6907 Z\" fill=\"#000000\" fill-rule=\"nonzero\" fill-opacity=\"1\" /><path clip-path=\"url(#clip770)\" d=\"M1050.77 9.54393 L1058.23 9.54393 L1058.23 72.576 L1050.77 72.576 L1050.77 9.54393 Z\" fill=\"#000000\" fill-rule=\"nonzero\" fill-opacity=\"1\" /><path clip-path=\"url(#clip770)\" d=\"M1100.52 12.096 L1135.28 12.096 L1135.28 18.9825 L1108.7 18.9825 L1108.7 36.8065 L1132.68 36.8065 L1132.68 43.6931 L1108.7 43.6931 L1108.7 72.576 L1100.52 72.576 L1100.52 12.096 Z\" fill=\"#000000\" fill-rule=\"nonzero\" fill-opacity=\"1\" /><path clip-path=\"url(#clip770)\" d=\"M1148.24 12.096 L1183 12.096 L1183 18.9825 L1156.42 18.9825 L1156.42 36.8065 L1180.4 36.8065 L1180.4 43.6931 L1156.42 43.6931 L1156.42 72.576 L1148.24 72.576 L1148.24 12.096 Z\" fill=\"#000000\" fill-rule=\"nonzero\" fill-opacity=\"1\" /><path clip-path=\"url(#clip770)\" d=\"M1186.12 12.096 L1237.28 12.096 L1237.28 18.9825 L1215.81 18.9825 L1215.81 72.576 L1207.59 72.576 L1207.59 18.9825 L1186.12 18.9825 L1186.12 12.096 Z\" fill=\"#000000\" fill-rule=\"nonzero\" fill-opacity=\"1\" /><path clip-path=\"url(#clip770)\" d=\"M1316.84 16.7545 L1316.84 25.383 Q1312.71 21.5346 1308.01 19.6307 Q1303.35 17.7268 1298.08 17.7268 Q1287.71 17.7268 1282.2 24.0867 Q1276.69 30.4061 1276.69 42.3968 Q1276.69 54.3469 1282.2 60.7069 Q1287.71 67.0263 1298.08 67.0263 Q1303.35 67.0263 1308.01 65.1223 Q1312.71 63.2184 1316.84 59.3701 L1316.84 67.9175 Q1312.54 70.8341 1307.72 72.2924 Q1302.94 73.7508 1297.6 73.7508 Q1283.86 73.7508 1275.96 65.3654 Q1268.07 56.9395 1268.07 42.3968 Q1268.07 27.8135 1275.96 19.4281 Q1283.86 11.0023 1297.6 11.0023 Q1303.02 11.0023 1307.8 12.4606 Q1312.63 13.8784 1316.84 16.7545 Z\" fill=\"#000000\" fill-rule=\"nonzero\" fill-opacity=\"1\" /><path clip-path=\"url(#clip770)\" d=\"M1346.73 32.4315 Q1340.74 32.4315 1337.25 37.1306 Q1333.77 41.7891 1333.77 49.9314 Q1333.77 58.0738 1337.21 62.7728 Q1340.7 67.4314 1346.73 67.4314 Q1352.69 67.4314 1356.17 62.7323 Q1359.66 58.0333 1359.66 49.9314 Q1359.66 41.8701 1356.17 37.1711 Q1352.69 32.4315 1346.73 32.4315 M1346.73 26.1121 Q1356.46 26.1121 1362.01 32.4315 Q1367.56 38.7509 1367.56 49.9314 Q1367.56 61.0714 1362.01 67.4314 Q1356.46 73.7508 1346.73 73.7508 Q1336.97 73.7508 1331.42 67.4314 Q1325.91 61.0714 1325.91 49.9314 Q1325.91 38.7509 1331.42 32.4315 Q1336.97 26.1121 1346.73 26.1121 Z\" fill=\"#000000\" fill-rule=\"nonzero\" fill-opacity=\"1\" /><path clip-path=\"url(#clip770)\" d=\"M1418.72 48.0275 L1418.72 51.6733 L1384.45 51.6733 Q1384.93 59.3701 1389.07 63.421 Q1393.24 67.4314 1400.65 67.4314 Q1404.95 67.4314 1408.96 66.3781 Q1413.01 65.3249 1416.98 63.2184 L1416.98 70.267 Q1412.97 71.9684 1408.75 72.8596 Q1404.54 73.7508 1400.21 73.7508 Q1389.35 73.7508 1382.99 67.4314 Q1376.67 61.1119 1376.67 50.3365 Q1376.67 39.1965 1382.67 32.6746 Q1388.7 26.1121 1398.91 26.1121 Q1408.06 26.1121 1413.37 32.0264 Q1418.72 37.9003 1418.72 48.0275 M1411.26 45.84 Q1411.18 39.7232 1407.82 36.0774 Q1404.5 32.4315 1398.99 32.4315 Q1392.75 32.4315 1388.98 35.9558 Q1385.26 39.4801 1384.69 45.8805 L1411.26 45.84 Z\" fill=\"#000000\" fill-rule=\"nonzero\" fill-opacity=\"1\" /><path clip-path=\"url(#clip770)\" d=\"M1453.92 9.54393 L1453.92 15.7418 L1446.79 15.7418 Q1442.78 15.7418 1441.2 17.3622 Q1439.66 18.9825 1439.66 23.1955 L1439.66 27.2059 L1451.94 27.2059 L1451.94 32.9987 L1439.66 32.9987 L1439.66 72.576 L1432.17 72.576 L1432.17 32.9987 L1425.04 32.9987 L1425.04 27.2059 L1432.17 27.2059 L1432.17 24.0462 Q1432.17 16.471 1435.69 13.0277 Q1439.22 9.54393 1446.87 9.54393 L1453.92 9.54393 Z\" fill=\"#000000\" fill-rule=\"nonzero\" fill-opacity=\"1\" /><path clip-path=\"url(#clip770)\" d=\"M1483.13 9.54393 L1483.13 15.7418 L1476 15.7418 Q1471.99 15.7418 1470.41 17.3622 Q1468.87 18.9825 1468.87 23.1955 L1468.87 27.2059 L1481.14 27.2059 L1481.14 32.9987 L1468.87 32.9987 L1468.87 72.576 L1461.37 72.576 L1461.37 32.9987 L1454.24 32.9987 L1454.24 27.2059 L1461.37 27.2059 L1461.37 24.0462 Q1461.37 16.471 1464.9 13.0277 Q1468.42 9.54393 1476.08 9.54393 L1483.13 9.54393 Z\" fill=\"#000000\" fill-rule=\"nonzero\" fill-opacity=\"1\" /><path clip-path=\"url(#clip770)\" d=\"M1489.37 27.2059 L1496.82 27.2059 L1496.82 72.576 L1489.37 72.576 L1489.37 27.2059 M1489.37 9.54393 L1496.82 9.54393 L1496.82 18.9825 L1489.37 18.9825 L1489.37 9.54393 Z\" fill=\"#000000\" fill-rule=\"nonzero\" fill-opacity=\"1\" /><path clip-path=\"url(#clip770)\" d=\"M1545.07 28.9478 L1545.07 35.9153 Q1541.91 34.1734 1538.71 33.3227 Q1535.55 32.4315 1532.31 32.4315 Q1525.05 32.4315 1521.04 37.0496 Q1517.03 41.6271 1517.03 49.9314 Q1517.03 58.2358 1521.04 62.8538 Q1525.05 67.4314 1532.31 67.4314 Q1535.55 67.4314 1538.71 66.5807 Q1541.91 65.6895 1545.07 63.9476 L1545.07 70.8341 Q1541.95 72.2924 1538.58 73.0216 Q1535.26 73.7508 1531.5 73.7508 Q1521.25 73.7508 1515.21 67.3098 Q1509.18 60.8689 1509.18 49.9314 Q1509.18 38.832 1515.25 32.472 Q1521.37 26.1121 1531.98 26.1121 Q1535.42 26.1121 1538.71 26.8413 Q1541.99 27.5299 1545.07 28.9478 Z\" fill=\"#000000\" fill-rule=\"nonzero\" fill-opacity=\"1\" /><path clip-path=\"url(#clip770)\" d=\"M1558.03 27.2059 L1565.48 27.2059 L1565.48 72.576 L1558.03 72.576 L1558.03 27.2059 M1558.03 9.54393 L1565.48 9.54393 L1565.48 18.9825 L1558.03 18.9825 L1558.03 9.54393 Z\" fill=\"#000000\" fill-rule=\"nonzero\" fill-opacity=\"1\" /><path clip-path=\"url(#clip770)\" d=\"M1619.89 48.0275 L1619.89 51.6733 L1585.62 51.6733 Q1586.1 59.3701 1590.23 63.421 Q1594.41 67.4314 1601.82 67.4314 Q1606.11 67.4314 1610.12 66.3781 Q1614.17 65.3249 1618.14 63.2184 L1618.14 70.267 Q1614.13 71.9684 1609.92 72.8596 Q1605.71 73.7508 1601.37 73.7508 Q1590.52 73.7508 1584.16 67.4314 Q1577.84 61.1119 1577.84 50.3365 Q1577.84 39.1965 1583.83 32.6746 Q1589.87 26.1121 1600.08 26.1121 Q1609.23 26.1121 1614.54 32.0264 Q1619.89 37.9003 1619.89 48.0275 M1612.43 45.84 Q1612.35 39.7232 1608.99 36.0774 Q1605.67 32.4315 1600.16 32.4315 Q1593.92 32.4315 1590.15 35.9558 Q1586.43 39.4801 1585.86 45.8805 L1612.43 45.84 Z\" fill=\"#000000\" fill-rule=\"nonzero\" fill-opacity=\"1\" /><path clip-path=\"url(#clip770)\" d=\"M1669.83 45.1919 L1669.83 72.576 L1662.38 72.576 L1662.38 45.4349 Q1662.38 38.994 1659.87 35.7938 Q1657.36 32.5936 1652.33 32.5936 Q1646.3 32.5936 1642.81 36.4419 Q1639.33 40.2903 1639.33 46.9338 L1639.33 72.576 L1631.84 72.576 L1631.84 27.2059 L1639.33 27.2059 L1639.33 34.2544 Q1642 30.163 1645.61 28.1376 Q1649.26 26.1121 1653.99 26.1121 Q1661.81 26.1121 1665.82 30.9732 Q1669.83 35.7938 1669.83 45.1919 Z\" fill=\"#000000\" fill-rule=\"nonzero\" fill-opacity=\"1\" /><path clip-path=\"url(#clip770)\" d=\"M1692.07 14.324 L1692.07 27.2059 L1707.43 27.2059 L1707.43 32.9987 L1692.07 32.9987 L1692.07 57.6282 Q1692.07 63.1779 1693.57 64.7578 Q1695.11 66.3376 1699.77 66.3376 L1707.43 66.3376 L1707.43 72.576 L1699.77 72.576 Q1691.14 72.576 1687.86 69.3758 Q1684.58 66.1351 1684.58 57.6282 L1684.58 32.9987 L1679.11 32.9987 L1679.11 27.2059 L1684.58 27.2059 L1684.58 14.324 L1692.07 14.324 Z\" fill=\"#000000\" fill-rule=\"nonzero\" fill-opacity=\"1\" /><path clip-path=\"url(#clip770)\" d=\"M1746.15 28.5427 L1746.15 35.5912 Q1742.99 33.9709 1739.59 33.1607 Q1736.19 32.3505 1732.54 32.3505 Q1726.99 32.3505 1724.2 34.0519 Q1721.44 35.7533 1721.44 39.156 Q1721.44 41.7486 1723.43 43.2475 Q1725.41 44.7058 1731.41 46.0426 L1733.96 46.6097 Q1741.9 48.3111 1745.22 51.4303 Q1748.58 54.509 1748.58 60.0587 Q1748.58 66.3781 1743.56 70.0644 Q1738.58 73.7508 1729.83 73.7508 Q1726.18 73.7508 1722.21 73.0216 Q1718.28 72.3329 1713.91 70.9151 L1713.91 63.2184 Q1718.04 65.3654 1722.05 66.4591 Q1726.06 67.5124 1729.99 67.5124 Q1735.26 67.5124 1738.09 65.73 Q1740.93 63.9071 1740.93 60.6258 Q1740.93 57.5877 1738.86 55.9673 Q1736.84 54.3469 1729.91 52.8481 L1727.32 52.2405 Q1720.39 50.7821 1717.31 47.7845 Q1714.23 44.7463 1714.23 39.4801 Q1714.23 33.0797 1718.77 29.5959 Q1723.31 26.1121 1731.65 26.1121 Q1735.78 26.1121 1739.43 26.7198 Q1743.07 27.3274 1746.15 28.5427 Z\" fill=\"#000000\" fill-rule=\"nonzero\" fill-opacity=\"1\" /><polyline clip-path=\"url(#clip772)\" style=\"stroke:#009af9; stroke-linecap:round; stroke-linejoin:round; stroke-width:4; stroke-opacity:1; fill:none\" points=\"204.426,593.057 308.714,675.14 413.001,678.624 517.289,674.807 621.577,669.128 725.865,677.066 830.153,181.102 934.441,683.175 1038.73,685.576 1143.02,675.289 1247.3,680.424 1351.59,680.424 1455.88,675.289 1560.17,685.576 1664.46,683.175 1768.74,675.729 1873.03,677.066 1977.32,362.665 2081.61,674.807 2185.9,678.624 2290.18,675.14 \"/>\n",
       "<polyline clip-path=\"url(#clip772)\" style=\"stroke:#ffffff; stroke-linecap:round; stroke-linejoin:round; stroke-width:4; stroke-opacity:1; fill:none\" points=\"204.426,593.057 830.153,181.102 1977.32,362.665 \"/>\n",
       "<circle clip-path=\"url(#clip772)\" cx=\"204.426\" cy=\"593.057\" r=\"21.6\" fill=\"#e26f46\" fill-rule=\"evenodd\" fill-opacity=\"1\" stroke=\"#000000\" stroke-opacity=\"1\" stroke-width=\"3.2\"/>\n",
       "<circle clip-path=\"url(#clip772)\" cx=\"830.153\" cy=\"181.102\" r=\"21.6\" fill=\"#e26f46\" fill-rule=\"evenodd\" fill-opacity=\"1\" stroke=\"#000000\" stroke-opacity=\"1\" stroke-width=\"3.2\"/>\n",
       "<circle clip-path=\"url(#clip772)\" cx=\"1977.32\" cy=\"362.665\" r=\"21.6\" fill=\"#e26f46\" fill-rule=\"evenodd\" fill-opacity=\"1\" stroke=\"#000000\" stroke-opacity=\"1\" stroke-width=\"3.2\"/>\n",
       "<path clip-path=\"url(#clip770)\" d=\"M141.853 1486.45 L2352.76 1486.45 L2352.76 923.472 L141.853 923.472  Z\" fill=\"#ffffff\" fill-rule=\"evenodd\" fill-opacity=\"1\"/>\n",
       "<defs>\n",
       "  <clipPath id=\"clip773\">\n",
       "    <rect x=\"141\" y=\"923\" width=\"2212\" height=\"564\"/>\n",
       "  </clipPath>\n",
       "</defs>\n",
       "<polyline clip-path=\"url(#clip773)\" style=\"stroke:#000000; stroke-linecap:round; stroke-linejoin:round; stroke-width:2; stroke-opacity:0.1; fill:none\" points=\"204.426,1486.45 204.426,923.472 \"/>\n",
       "<polyline clip-path=\"url(#clip773)\" style=\"stroke:#000000; stroke-linecap:round; stroke-linejoin:round; stroke-width:2; stroke-opacity:0.1; fill:none\" points=\"413.001,1486.45 413.001,923.472 \"/>\n",
       "<polyline clip-path=\"url(#clip773)\" style=\"stroke:#000000; stroke-linecap:round; stroke-linejoin:round; stroke-width:2; stroke-opacity:0.1; fill:none\" points=\"621.577,1486.45 621.577,923.472 \"/>\n",
       "<polyline clip-path=\"url(#clip773)\" style=\"stroke:#000000; stroke-linecap:round; stroke-linejoin:round; stroke-width:2; stroke-opacity:0.1; fill:none\" points=\"830.153,1486.45 830.153,923.472 \"/>\n",
       "<polyline clip-path=\"url(#clip773)\" style=\"stroke:#000000; stroke-linecap:round; stroke-linejoin:round; stroke-width:2; stroke-opacity:0.1; fill:none\" points=\"1038.73,1486.45 1038.73,923.472 \"/>\n",
       "<polyline clip-path=\"url(#clip773)\" style=\"stroke:#000000; stroke-linecap:round; stroke-linejoin:round; stroke-width:2; stroke-opacity:0.1; fill:none\" points=\"1247.3,1486.45 1247.3,923.472 \"/>\n",
       "<polyline clip-path=\"url(#clip773)\" style=\"stroke:#000000; stroke-linecap:round; stroke-linejoin:round; stroke-width:2; stroke-opacity:0.1; fill:none\" points=\"1455.88,1486.45 1455.88,923.472 \"/>\n",
       "<polyline clip-path=\"url(#clip773)\" style=\"stroke:#000000; stroke-linecap:round; stroke-linejoin:round; stroke-width:2; stroke-opacity:0.1; fill:none\" points=\"1664.46,1486.45 1664.46,923.472 \"/>\n",
       "<polyline clip-path=\"url(#clip773)\" style=\"stroke:#000000; stroke-linecap:round; stroke-linejoin:round; stroke-width:2; stroke-opacity:0.1; fill:none\" points=\"1873.03,1486.45 1873.03,923.472 \"/>\n",
       "<polyline clip-path=\"url(#clip773)\" style=\"stroke:#000000; stroke-linecap:round; stroke-linejoin:round; stroke-width:2; stroke-opacity:0.1; fill:none\" points=\"2081.61,1486.45 2081.61,923.472 \"/>\n",
       "<polyline clip-path=\"url(#clip773)\" style=\"stroke:#000000; stroke-linecap:round; stroke-linejoin:round; stroke-width:2; stroke-opacity:0.1; fill:none\" points=\"2290.18,1486.45 2290.18,923.472 \"/>\n",
       "<polyline clip-path=\"url(#clip770)\" style=\"stroke:#000000; stroke-linecap:round; stroke-linejoin:round; stroke-width:4; stroke-opacity:1; fill:none\" points=\"141.853,1486.45 2352.76,1486.45 \"/>\n",
       "<polyline clip-path=\"url(#clip770)\" style=\"stroke:#000000; stroke-linecap:round; stroke-linejoin:round; stroke-width:4; stroke-opacity:1; fill:none\" points=\"204.426,1486.45 204.426,1467.55 \"/>\n",
       "<polyline clip-path=\"url(#clip770)\" style=\"stroke:#000000; stroke-linecap:round; stroke-linejoin:round; stroke-width:4; stroke-opacity:1; fill:none\" points=\"413.001,1486.45 413.001,1467.55 \"/>\n",
       "<polyline clip-path=\"url(#clip770)\" style=\"stroke:#000000; stroke-linecap:round; stroke-linejoin:round; stroke-width:4; stroke-opacity:1; fill:none\" points=\"621.577,1486.45 621.577,1467.55 \"/>\n",
       "<polyline clip-path=\"url(#clip770)\" style=\"stroke:#000000; stroke-linecap:round; stroke-linejoin:round; stroke-width:4; stroke-opacity:1; fill:none\" points=\"830.153,1486.45 830.153,1467.55 \"/>\n",
       "<polyline clip-path=\"url(#clip770)\" style=\"stroke:#000000; stroke-linecap:round; stroke-linejoin:round; stroke-width:4; stroke-opacity:1; fill:none\" points=\"1038.73,1486.45 1038.73,1467.55 \"/>\n",
       "<polyline clip-path=\"url(#clip770)\" style=\"stroke:#000000; stroke-linecap:round; stroke-linejoin:round; stroke-width:4; stroke-opacity:1; fill:none\" points=\"1247.3,1486.45 1247.3,1467.55 \"/>\n",
       "<polyline clip-path=\"url(#clip770)\" style=\"stroke:#000000; stroke-linecap:round; stroke-linejoin:round; stroke-width:4; stroke-opacity:1; fill:none\" points=\"1455.88,1486.45 1455.88,1467.55 \"/>\n",
       "<polyline clip-path=\"url(#clip770)\" style=\"stroke:#000000; stroke-linecap:round; stroke-linejoin:round; stroke-width:4; stroke-opacity:1; fill:none\" points=\"1664.46,1486.45 1664.46,1467.55 \"/>\n",
       "<polyline clip-path=\"url(#clip770)\" style=\"stroke:#000000; stroke-linecap:round; stroke-linejoin:round; stroke-width:4; stroke-opacity:1; fill:none\" points=\"1873.03,1486.45 1873.03,1467.55 \"/>\n",
       "<polyline clip-path=\"url(#clip770)\" style=\"stroke:#000000; stroke-linecap:round; stroke-linejoin:round; stroke-width:4; stroke-opacity:1; fill:none\" points=\"2081.61,1486.45 2081.61,1467.55 \"/>\n",
       "<polyline clip-path=\"url(#clip770)\" style=\"stroke:#000000; stroke-linecap:round; stroke-linejoin:round; stroke-width:4; stroke-opacity:1; fill:none\" points=\"2290.18,1486.45 2290.18,1467.55 \"/>\n",
       "<path clip-path=\"url(#clip770)\" d=\"M158.488 1532.02 L188.164 1532.02 L188.164 1535.95 L158.488 1535.95 L158.488 1532.02 Z\" fill=\"#000000\" fill-rule=\"nonzero\" fill-opacity=\"1\" /><path clip-path=\"url(#clip770)\" d=\"M199.067 1544.91 L206.706 1544.91 L206.706 1518.55 L198.396 1520.21 L198.396 1515.95 L206.659 1514.29 L211.335 1514.29 L211.335 1544.91 L218.974 1544.91 L218.974 1548.85 L199.067 1548.85 L199.067 1544.91 Z\" fill=\"#000000\" fill-rule=\"nonzero\" fill-opacity=\"1\" /><path clip-path=\"url(#clip770)\" d=\"M238.419 1517.37 Q234.807 1517.37 232.979 1520.93 Q231.173 1524.47 231.173 1531.6 Q231.173 1538.71 232.979 1542.27 Q234.807 1545.82 238.419 1545.82 Q242.053 1545.82 243.858 1542.27 Q245.687 1538.71 245.687 1531.6 Q245.687 1524.47 243.858 1520.93 Q242.053 1517.37 238.419 1517.37 M238.419 1513.66 Q244.229 1513.66 247.284 1518.27 Q250.363 1522.85 250.363 1531.6 Q250.363 1540.33 247.284 1544.94 Q244.229 1549.52 238.419 1549.52 Q232.608 1549.52 229.53 1544.94 Q226.474 1540.33 226.474 1531.6 Q226.474 1522.85 229.53 1518.27 Q232.608 1513.66 238.419 1513.66 Z\" fill=\"#000000\" fill-rule=\"nonzero\" fill-opacity=\"1\" /><path clip-path=\"url(#clip770)\" d=\"M382.191 1532.02 L411.867 1532.02 L411.867 1535.95 L382.191 1535.95 L382.191 1532.02 Z\" fill=\"#000000\" fill-rule=\"nonzero\" fill-opacity=\"1\" /><path clip-path=\"url(#clip770)\" d=\"M431.96 1532.44 Q428.626 1532.44 426.705 1534.22 Q424.807 1536 424.807 1539.13 Q424.807 1542.25 426.705 1544.03 Q428.626 1545.82 431.96 1545.82 Q435.293 1545.82 437.214 1544.03 Q439.136 1542.23 439.136 1539.13 Q439.136 1536 437.214 1534.22 Q435.316 1532.44 431.96 1532.44 M427.284 1530.45 Q424.275 1529.7 422.585 1527.64 Q420.918 1525.58 420.918 1522.62 Q420.918 1518.48 423.858 1516.07 Q426.821 1513.66 431.96 1513.66 Q437.122 1513.66 440.061 1516.07 Q443.001 1518.48 443.001 1522.62 Q443.001 1525.58 441.311 1527.64 Q439.645 1529.7 436.659 1530.45 Q440.038 1531.23 441.913 1533.52 Q443.811 1535.82 443.811 1539.13 Q443.811 1544.15 440.733 1546.83 Q437.677 1549.52 431.96 1549.52 Q426.242 1549.52 423.163 1546.83 Q420.108 1544.15 420.108 1539.13 Q420.108 1535.82 422.006 1533.52 Q423.904 1531.23 427.284 1530.45 M425.571 1523.06 Q425.571 1525.75 427.237 1527.25 Q428.927 1528.76 431.96 1528.76 Q434.969 1528.76 436.659 1527.25 Q438.372 1525.75 438.372 1523.06 Q438.372 1520.38 436.659 1518.87 Q434.969 1517.37 431.96 1517.37 Q428.927 1517.37 427.237 1518.87 Q425.571 1520.38 425.571 1523.06 Z\" fill=\"#000000\" fill-rule=\"nonzero\" fill-opacity=\"1\" /><path clip-path=\"url(#clip770)\" d=\"M590.64 1532.02 L620.316 1532.02 L620.316 1535.95 L590.64 1535.95 L590.64 1532.02 Z\" fill=\"#000000\" fill-rule=\"nonzero\" fill-opacity=\"1\" /><path clip-path=\"url(#clip770)\" d=\"M640.987 1529.7 Q637.839 1529.7 635.987 1531.86 Q634.158 1534.01 634.158 1537.76 Q634.158 1541.49 635.987 1543.66 Q637.839 1545.82 640.987 1545.82 Q644.135 1545.82 645.964 1543.66 Q647.815 1541.49 647.815 1537.76 Q647.815 1534.01 645.964 1531.86 Q644.135 1529.7 640.987 1529.7 M650.269 1515.05 L650.269 1519.31 Q648.51 1518.48 646.704 1518.04 Q644.922 1517.6 643.163 1517.6 Q638.533 1517.6 636.079 1520.72 Q633.649 1523.85 633.302 1530.17 Q634.667 1528.15 636.728 1527.09 Q638.788 1526 641.265 1526 Q646.473 1526 649.482 1529.17 Q652.515 1532.32 652.515 1537.76 Q652.515 1543.08 649.366 1546.3 Q646.218 1549.52 640.987 1549.52 Q634.991 1549.52 631.82 1544.94 Q628.649 1540.33 628.649 1531.6 Q628.649 1523.41 632.538 1518.55 Q636.427 1513.66 642.978 1513.66 Q644.737 1513.66 646.519 1514.01 Q648.325 1514.36 650.269 1515.05 Z\" fill=\"#000000\" fill-rule=\"nonzero\" fill-opacity=\"1\" /><path clip-path=\"url(#clip770)\" d=\"M799.054 1532.02 L828.729 1532.02 L828.729 1535.95 L799.054 1535.95 L799.054 1532.02 Z\" fill=\"#000000\" fill-rule=\"nonzero\" fill-opacity=\"1\" /><path clip-path=\"url(#clip770)\" d=\"M851.669 1518.36 L839.864 1536.81 L851.669 1536.81 L851.669 1518.36 M850.442 1514.29 L856.322 1514.29 L856.322 1536.81 L861.252 1536.81 L861.252 1540.7 L856.322 1540.7 L856.322 1548.85 L851.669 1548.85 L851.669 1540.7 L836.067 1540.7 L836.067 1536.19 L850.442 1514.29 Z\" fill=\"#000000\" fill-rule=\"nonzero\" fill-opacity=\"1\" /><path clip-path=\"url(#clip770)\" d=\"M1008.67 1532.02 L1038.35 1532.02 L1038.35 1535.95 L1008.67 1535.95 L1008.67 1532.02 Z\" fill=\"#000000\" fill-rule=\"nonzero\" fill-opacity=\"1\" /><path clip-path=\"url(#clip770)\" d=\"M1052.47 1544.91 L1068.79 1544.91 L1068.79 1548.85 L1046.84 1548.85 L1046.84 1544.91 Q1049.5 1542.16 1054.09 1537.53 Q1058.69 1532.88 1059.87 1531.53 Q1062.12 1529.01 1063 1527.27 Q1063.9 1525.51 1063.9 1523.82 Q1063.9 1521.07 1061.96 1519.33 Q1060.04 1517.6 1056.93 1517.6 Q1054.74 1517.6 1052.28 1518.36 Q1049.85 1519.13 1047.07 1520.68 L1047.07 1515.95 Q1049.9 1514.82 1052.35 1514.24 Q1054.8 1513.66 1056.84 1513.66 Q1062.21 1513.66 1065.41 1516.35 Q1068.6 1519.03 1068.6 1523.52 Q1068.6 1525.65 1067.79 1527.57 Q1067 1529.47 1064.9 1532.07 Q1064.32 1532.74 1061.22 1535.95 Q1058.12 1539.15 1052.47 1544.91 Z\" fill=\"#000000\" fill-rule=\"nonzero\" fill-opacity=\"1\" /><path clip-path=\"url(#clip770)\" d=\"M1247.3 1517.37 Q1243.69 1517.37 1241.86 1520.93 Q1240.06 1524.47 1240.06 1531.6 Q1240.06 1538.71 1241.86 1542.27 Q1243.69 1545.82 1247.3 1545.82 Q1250.94 1545.82 1252.74 1542.27 Q1254.57 1538.71 1254.57 1531.6 Q1254.57 1524.47 1252.74 1520.93 Q1250.94 1517.37 1247.3 1517.37 M1247.3 1513.66 Q1253.11 1513.66 1256.17 1518.27 Q1259.25 1522.85 1259.25 1531.6 Q1259.25 1540.33 1256.17 1544.94 Q1253.11 1549.52 1247.3 1549.52 Q1241.49 1549.52 1238.42 1544.94 Q1235.36 1540.33 1235.36 1531.6 Q1235.36 1522.85 1238.42 1518.27 Q1241.49 1513.66 1247.3 1513.66 Z\" fill=\"#000000\" fill-rule=\"nonzero\" fill-opacity=\"1\" /><path clip-path=\"url(#clip770)\" d=\"M1450.53 1544.91 L1466.85 1544.91 L1466.85 1548.85 L1444.91 1548.85 L1444.91 1544.91 Q1447.57 1542.16 1452.15 1537.53 Q1456.76 1532.88 1457.94 1531.53 Q1460.19 1529.01 1461.07 1527.27 Q1461.97 1525.51 1461.97 1523.82 Q1461.97 1521.07 1460.02 1519.33 Q1458.1 1517.6 1455 1517.6 Q1452.8 1517.6 1450.35 1518.36 Q1447.92 1519.13 1445.14 1520.68 L1445.14 1515.95 Q1447.96 1514.82 1450.42 1514.24 Q1452.87 1513.66 1454.91 1513.66 Q1460.28 1513.66 1463.47 1516.35 Q1466.67 1519.03 1466.67 1523.52 Q1466.67 1525.65 1465.86 1527.57 Q1465.07 1529.47 1462.96 1532.07 Q1462.38 1532.74 1459.28 1535.95 Q1456.18 1539.15 1450.53 1544.91 Z\" fill=\"#000000\" fill-rule=\"nonzero\" fill-opacity=\"1\" /><path clip-path=\"url(#clip770)\" d=\"M1667.47 1518.36 L1655.66 1536.81 L1667.47 1536.81 L1667.47 1518.36 M1666.24 1514.29 L1672.12 1514.29 L1672.12 1536.81 L1677.05 1536.81 L1677.05 1540.7 L1672.12 1540.7 L1672.12 1548.85 L1667.47 1548.85 L1667.47 1540.7 L1651.86 1540.7 L1651.86 1536.19 L1666.24 1514.29 Z\" fill=\"#000000\" fill-rule=\"nonzero\" fill-opacity=\"1\" /><path clip-path=\"url(#clip770)\" d=\"M1873.44 1529.7 Q1870.29 1529.7 1868.44 1531.86 Q1866.61 1534.01 1866.61 1537.76 Q1866.61 1541.49 1868.44 1543.66 Q1870.29 1545.82 1873.44 1545.82 Q1876.58 1545.82 1878.41 1543.66 Q1880.27 1541.49 1880.27 1537.76 Q1880.27 1534.01 1878.41 1531.86 Q1876.58 1529.7 1873.44 1529.7 M1882.72 1515.05 L1882.72 1519.31 Q1880.96 1518.48 1879.15 1518.04 Q1877.37 1517.6 1875.61 1517.6 Q1870.98 1517.6 1868.53 1520.72 Q1866.1 1523.85 1865.75 1530.17 Q1867.12 1528.15 1869.18 1527.09 Q1871.24 1526 1873.71 1526 Q1878.92 1526 1881.93 1529.17 Q1884.96 1532.32 1884.96 1537.76 Q1884.96 1543.08 1881.82 1546.3 Q1878.67 1549.52 1873.44 1549.52 Q1867.44 1549.52 1864.27 1544.94 Q1861.1 1540.33 1861.1 1531.6 Q1861.1 1523.41 1864.99 1518.55 Q1868.88 1513.66 1875.43 1513.66 Q1877.19 1513.66 1878.97 1514.01 Q1880.77 1514.36 1882.72 1515.05 Z\" fill=\"#000000\" fill-rule=\"nonzero\" fill-opacity=\"1\" /><path clip-path=\"url(#clip770)\" d=\"M2081.61 1532.44 Q2078.27 1532.44 2076.35 1534.22 Q2074.45 1536 2074.45 1539.13 Q2074.45 1542.25 2076.35 1544.03 Q2078.27 1545.82 2081.61 1545.82 Q2084.94 1545.82 2086.86 1544.03 Q2088.78 1542.23 2088.78 1539.13 Q2088.78 1536 2086.86 1534.22 Q2084.96 1532.44 2081.61 1532.44 M2076.93 1530.45 Q2073.92 1529.7 2072.23 1527.64 Q2070.57 1525.58 2070.57 1522.62 Q2070.57 1518.48 2073.51 1516.07 Q2076.47 1513.66 2081.61 1513.66 Q2086.77 1513.66 2089.71 1516.07 Q2092.65 1518.48 2092.65 1522.62 Q2092.65 1525.58 2090.96 1527.64 Q2089.29 1529.7 2086.31 1530.45 Q2089.69 1531.23 2091.56 1533.52 Q2093.46 1535.82 2093.46 1539.13 Q2093.46 1544.15 2090.38 1546.83 Q2087.32 1549.52 2081.61 1549.52 Q2075.89 1549.52 2072.81 1546.83 Q2069.76 1544.15 2069.76 1539.13 Q2069.76 1535.82 2071.65 1533.52 Q2073.55 1531.23 2076.93 1530.45 M2075.22 1523.06 Q2075.22 1525.75 2076.89 1527.25 Q2078.58 1528.76 2081.61 1528.76 Q2084.62 1528.76 2086.31 1527.25 Q2088.02 1525.75 2088.02 1523.06 Q2088.02 1520.38 2086.31 1518.87 Q2084.62 1517.37 2081.61 1517.37 Q2078.58 1517.37 2076.89 1518.87 Q2075.22 1520.38 2075.22 1523.06 Z\" fill=\"#000000\" fill-rule=\"nonzero\" fill-opacity=\"1\" /><path clip-path=\"url(#clip770)\" d=\"M2264.87 1544.91 L2272.51 1544.91 L2272.51 1518.55 L2264.2 1520.21 L2264.2 1515.95 L2272.46 1514.29 L2277.14 1514.29 L2277.14 1544.91 L2284.78 1544.91 L2284.78 1548.85 L2264.87 1548.85 L2264.87 1544.91 Z\" fill=\"#000000\" fill-rule=\"nonzero\" fill-opacity=\"1\" /><path clip-path=\"url(#clip770)\" d=\"M2304.22 1517.37 Q2300.61 1517.37 2298.78 1520.93 Q2296.98 1524.47 2296.98 1531.6 Q2296.98 1538.71 2298.78 1542.27 Q2300.61 1545.82 2304.22 1545.82 Q2307.86 1545.82 2309.66 1542.27 Q2311.49 1538.71 2311.49 1531.6 Q2311.49 1524.47 2309.66 1520.93 Q2307.86 1517.37 2304.22 1517.37 M2304.22 1513.66 Q2310.03 1513.66 2313.09 1518.27 Q2316.17 1522.85 2316.17 1531.6 Q2316.17 1540.33 2313.09 1544.94 Q2310.03 1549.52 2304.22 1549.52 Q2298.41 1549.52 2295.33 1544.94 Q2292.28 1540.33 2292.28 1531.6 Q2292.28 1522.85 2295.33 1518.27 Q2298.41 1513.66 2304.22 1513.66 Z\" fill=\"#000000\" fill-rule=\"nonzero\" fill-opacity=\"1\" /><polyline clip-path=\"url(#clip773)\" style=\"stroke:#000000; stroke-linecap:round; stroke-linejoin:round; stroke-width:2; stroke-opacity:0.1; fill:none\" points=\"141.853,1486.45 2352.76,1486.45 \"/>\n",
       "<polyline clip-path=\"url(#clip773)\" style=\"stroke:#000000; stroke-linecap:round; stroke-linejoin:round; stroke-width:2; stroke-opacity:0.1; fill:none\" points=\"141.853,1406.02 2352.76,1406.02 \"/>\n",
       "<polyline clip-path=\"url(#clip773)\" style=\"stroke:#000000; stroke-linecap:round; stroke-linejoin:round; stroke-width:2; stroke-opacity:0.1; fill:none\" points=\"141.853,1325.6 2352.76,1325.6 \"/>\n",
       "<polyline clip-path=\"url(#clip773)\" style=\"stroke:#000000; stroke-linecap:round; stroke-linejoin:round; stroke-width:2; stroke-opacity:0.1; fill:none\" points=\"141.853,1245.17 2352.76,1245.17 \"/>\n",
       "<polyline clip-path=\"url(#clip773)\" style=\"stroke:#000000; stroke-linecap:round; stroke-linejoin:round; stroke-width:2; stroke-opacity:0.1; fill:none\" points=\"141.853,1164.75 2352.76,1164.75 \"/>\n",
       "<polyline clip-path=\"url(#clip773)\" style=\"stroke:#000000; stroke-linecap:round; stroke-linejoin:round; stroke-width:2; stroke-opacity:0.1; fill:none\" points=\"141.853,1084.32 2352.76,1084.32 \"/>\n",
       "<polyline clip-path=\"url(#clip773)\" style=\"stroke:#000000; stroke-linecap:round; stroke-linejoin:round; stroke-width:2; stroke-opacity:0.1; fill:none\" points=\"141.853,1003.9 2352.76,1003.9 \"/>\n",
       "<polyline clip-path=\"url(#clip773)\" style=\"stroke:#000000; stroke-linecap:round; stroke-linejoin:round; stroke-width:2; stroke-opacity:0.1; fill:none\" points=\"141.853,923.472 2352.76,923.472 \"/>\n",
       "<polyline clip-path=\"url(#clip770)\" style=\"stroke:#000000; stroke-linecap:round; stroke-linejoin:round; stroke-width:4; stroke-opacity:1; fill:none\" points=\"141.853,1486.45 141.853,923.472 \"/>\n",
       "<polyline clip-path=\"url(#clip770)\" style=\"stroke:#000000; stroke-linecap:round; stroke-linejoin:round; stroke-width:4; stroke-opacity:1; fill:none\" points=\"141.853,1486.45 160.751,1486.45 \"/>\n",
       "<polyline clip-path=\"url(#clip770)\" style=\"stroke:#000000; stroke-linecap:round; stroke-linejoin:round; stroke-width:4; stroke-opacity:1; fill:none\" points=\"141.853,1406.02 160.751,1406.02 \"/>\n",
       "<polyline clip-path=\"url(#clip770)\" style=\"stroke:#000000; stroke-linecap:round; stroke-linejoin:round; stroke-width:4; stroke-opacity:1; fill:none\" points=\"141.853,1325.6 160.751,1325.6 \"/>\n",
       "<polyline clip-path=\"url(#clip770)\" style=\"stroke:#000000; stroke-linecap:round; stroke-linejoin:round; stroke-width:4; stroke-opacity:1; fill:none\" points=\"141.853,1245.17 160.751,1245.17 \"/>\n",
       "<polyline clip-path=\"url(#clip770)\" style=\"stroke:#000000; stroke-linecap:round; stroke-linejoin:round; stroke-width:4; stroke-opacity:1; fill:none\" points=\"141.853,1164.75 160.751,1164.75 \"/>\n",
       "<polyline clip-path=\"url(#clip770)\" style=\"stroke:#000000; stroke-linecap:round; stroke-linejoin:round; stroke-width:4; stroke-opacity:1; fill:none\" points=\"141.853,1084.32 160.751,1084.32 \"/>\n",
       "<polyline clip-path=\"url(#clip770)\" style=\"stroke:#000000; stroke-linecap:round; stroke-linejoin:round; stroke-width:4; stroke-opacity:1; fill:none\" points=\"141.853,1003.9 160.751,1003.9 \"/>\n",
       "<polyline clip-path=\"url(#clip770)\" style=\"stroke:#000000; stroke-linecap:round; stroke-linejoin:round; stroke-width:4; stroke-opacity:1; fill:none\" points=\"141.853,923.472 160.751,923.472 \"/>\n",
       "<path clip-path=\"url(#clip770)\" d=\"M93.9086 1472.25 Q90.2975 1472.25 88.4688 1475.81 Q86.6632 1479.35 86.6632 1486.48 Q86.6632 1493.59 88.4688 1497.15 Q90.2975 1500.7 93.9086 1500.7 Q97.5428 1500.7 99.3483 1497.15 Q101.177 1493.59 101.177 1486.48 Q101.177 1479.35 99.3483 1475.81 Q97.5428 1472.25 93.9086 1472.25 M93.9086 1468.54 Q99.7187 1468.54 102.774 1473.15 Q105.853 1477.73 105.853 1486.48 Q105.853 1495.21 102.774 1499.82 Q99.7187 1504.4 93.9086 1504.4 Q88.0984 1504.4 85.0197 1499.82 Q81.9642 1495.21 81.9642 1486.48 Q81.9642 1477.73 85.0197 1473.15 Q88.0984 1468.54 93.9086 1468.54 Z\" fill=\"#000000\" fill-rule=\"nonzero\" fill-opacity=\"1\" /><path clip-path=\"url(#clip770)\" d=\"M54.5569 1419.37 L62.1958 1419.37 L62.1958 1393 L53.8856 1394.67 L53.8856 1390.41 L62.1495 1388.74 L66.8254 1388.74 L66.8254 1419.37 L74.4642 1419.37 L74.4642 1423.3 L54.5569 1423.3 L54.5569 1419.37 Z\" fill=\"#000000\" fill-rule=\"nonzero\" fill-opacity=\"1\" /><path clip-path=\"url(#clip770)\" d=\"M93.9086 1391.82 Q90.2975 1391.82 88.4688 1395.39 Q86.6632 1398.93 86.6632 1406.06 Q86.6632 1413.16 88.4688 1416.73 Q90.2975 1420.27 93.9086 1420.27 Q97.5428 1420.27 99.3483 1416.73 Q101.177 1413.16 101.177 1406.06 Q101.177 1398.93 99.3483 1395.39 Q97.5428 1391.82 93.9086 1391.82 M93.9086 1388.12 Q99.7187 1388.12 102.774 1392.72 Q105.853 1397.31 105.853 1406.06 Q105.853 1414.78 102.774 1419.39 Q99.7187 1423.97 93.9086 1423.97 Q88.0984 1423.97 85.0197 1419.39 Q81.9642 1414.78 81.9642 1406.06 Q81.9642 1397.31 85.0197 1392.72 Q88.0984 1388.12 93.9086 1388.12 Z\" fill=\"#000000\" fill-rule=\"nonzero\" fill-opacity=\"1\" /><path clip-path=\"url(#clip770)\" d=\"M57.7745 1338.94 L74.0939 1338.94 L74.0939 1342.88 L52.1495 1342.88 L52.1495 1338.94 Q54.8115 1336.19 59.3949 1331.56 Q64.0013 1326.91 65.1819 1325.56 Q67.4272 1323.04 68.3068 1321.3 Q69.2096 1319.54 69.2096 1317.85 Q69.2096 1315.1 67.2652 1313.36 Q65.3439 1311.63 62.2421 1311.63 Q60.043 1311.63 57.5893 1312.39 Q55.1588 1313.16 52.381 1314.71 L52.381 1309.98 Q55.2051 1308.85 57.6588 1308.27 Q60.1124 1307.69 62.1495 1307.69 Q67.5198 1307.69 70.7142 1310.38 Q73.9087 1313.06 73.9087 1317.55 Q73.9087 1319.68 73.0985 1321.6 Q72.3115 1323.5 70.205 1326.1 Q69.6263 1326.77 66.5245 1329.98 Q63.4226 1333.18 57.7745 1338.94 Z\" fill=\"#000000\" fill-rule=\"nonzero\" fill-opacity=\"1\" /><path clip-path=\"url(#clip770)\" d=\"M93.9086 1311.4 Q90.2975 1311.4 88.4688 1314.96 Q86.6632 1318.5 86.6632 1325.63 Q86.6632 1332.74 88.4688 1336.3 Q90.2975 1339.85 93.9086 1339.85 Q97.5428 1339.85 99.3483 1336.3 Q101.177 1332.74 101.177 1325.63 Q101.177 1318.5 99.3483 1314.96 Q97.5428 1311.4 93.9086 1311.4 M93.9086 1307.69 Q99.7187 1307.69 102.774 1312.3 Q105.853 1316.88 105.853 1325.63 Q105.853 1334.36 102.774 1338.97 Q99.7187 1343.55 93.9086 1343.55 Q88.0984 1343.55 85.0197 1338.97 Q81.9642 1334.36 81.9642 1325.63 Q81.9642 1316.88 85.0197 1312.3 Q88.0984 1307.69 93.9086 1307.69 Z\" fill=\"#000000\" fill-rule=\"nonzero\" fill-opacity=\"1\" /><path clip-path=\"url(#clip770)\" d=\"M67.9133 1243.82 Q71.2698 1244.54 73.1448 1246.8 Q75.0429 1249.07 75.0429 1252.41 Q75.0429 1257.52 71.5244 1260.32 Q68.0059 1263.12 61.5245 1263.12 Q59.3486 1263.12 57.0338 1262.68 Q54.7421 1262.27 52.2884 1261.41 L52.2884 1256.9 Q54.2328 1258.03 56.5477 1258.61 Q58.8625 1259.19 61.3856 1259.19 Q65.7837 1259.19 68.0754 1257.45 Q70.3902 1255.72 70.3902 1252.41 Q70.3902 1249.35 68.2374 1247.64 Q66.1078 1245.9 62.2884 1245.9 L58.2606 1245.9 L58.2606 1242.06 L62.4735 1242.06 Q65.9226 1242.06 67.7513 1240.69 Q69.58 1239.3 69.58 1236.71 Q69.58 1234.05 67.6819 1232.64 Q65.8069 1231.2 62.2884 1231.2 Q60.3671 1231.2 58.168 1231.62 Q55.969 1232.04 53.3301 1232.92 L53.3301 1228.75 Q55.9921 1228.01 58.3069 1227.64 Q60.6449 1227.27 62.705 1227.27 Q68.0291 1227.27 71.1309 1229.7 Q74.2327 1232.11 74.2327 1236.23 Q74.2327 1239.1 72.5892 1241.09 Q70.9457 1243.05 67.9133 1243.82 Z\" fill=\"#000000\" fill-rule=\"nonzero\" fill-opacity=\"1\" /><path clip-path=\"url(#clip770)\" d=\"M93.9086 1230.97 Q90.2975 1230.97 88.4688 1234.54 Q86.6632 1238.08 86.6632 1245.21 Q86.6632 1252.31 88.4688 1255.88 Q90.2975 1259.42 93.9086 1259.42 Q97.5428 1259.42 99.3483 1255.88 Q101.177 1252.31 101.177 1245.21 Q101.177 1238.08 99.3483 1234.54 Q97.5428 1230.97 93.9086 1230.97 M93.9086 1227.27 Q99.7187 1227.27 102.774 1231.87 Q105.853 1236.46 105.853 1245.21 Q105.853 1253.93 102.774 1258.54 Q99.7187 1263.12 93.9086 1263.12 Q88.0984 1263.12 85.0197 1258.54 Q81.9642 1253.93 81.9642 1245.21 Q81.9642 1236.46 85.0197 1231.87 Q88.0984 1227.27 93.9086 1227.27 Z\" fill=\"#000000\" fill-rule=\"nonzero\" fill-opacity=\"1\" /><path clip-path=\"url(#clip770)\" d=\"M66.5939 1151.54 L54.7884 1169.99 L66.5939 1169.99 L66.5939 1151.54 M65.367 1147.47 L71.2466 1147.47 L71.2466 1169.99 L76.1772 1169.99 L76.1772 1173.88 L71.2466 1173.88 L71.2466 1182.03 L66.5939 1182.03 L66.5939 1173.88 L50.9921 1173.88 L50.9921 1169.37 L65.367 1147.47 Z\" fill=\"#000000\" fill-rule=\"nonzero\" fill-opacity=\"1\" /><path clip-path=\"url(#clip770)\" d=\"M93.9086 1150.55 Q90.2975 1150.55 88.4688 1154.11 Q86.6632 1157.65 86.6632 1164.78 Q86.6632 1171.89 88.4688 1175.45 Q90.2975 1179 93.9086 1179 Q97.5428 1179 99.3483 1175.45 Q101.177 1171.89 101.177 1164.78 Q101.177 1157.65 99.3483 1154.11 Q97.5428 1150.55 93.9086 1150.55 M93.9086 1146.84 Q99.7187 1146.84 102.774 1151.45 Q105.853 1156.03 105.853 1164.78 Q105.853 1173.51 102.774 1178.12 Q99.7187 1182.7 93.9086 1182.7 Q88.0984 1182.7 85.0197 1178.12 Q81.9642 1173.51 81.9642 1164.78 Q81.9642 1156.03 85.0197 1151.45 Q88.0984 1146.84 93.9086 1146.84 Z\" fill=\"#000000\" fill-rule=\"nonzero\" fill-opacity=\"1\" /><path clip-path=\"url(#clip770)\" d=\"M53.793 1067.04 L72.1494 1067.04 L72.1494 1070.98 L58.0754 1070.98 L58.0754 1079.45 Q59.0939 1079.1 60.1124 1078.94 Q61.131 1078.76 62.1495 1078.76 Q67.9365 1078.76 71.3161 1081.93 Q74.6957 1085.1 74.6957 1090.51 Q74.6957 1096.09 71.2235 1099.19 Q67.7513 1102.27 61.4319 1102.27 Q59.256 1102.27 56.9875 1101.9 Q54.7421 1101.53 52.3347 1100.79 L52.3347 1096.09 Q54.418 1097.23 56.6402 1097.78 Q58.8625 1098.34 61.3393 1098.34 Q65.3439 1098.34 67.6819 1096.23 Q70.0198 1094.13 70.0198 1090.51 Q70.0198 1086.9 67.6819 1084.8 Q65.3439 1082.69 61.3393 1082.69 Q59.4643 1082.69 57.5893 1083.11 Q55.7375 1083.52 53.793 1084.4 L53.793 1067.04 Z\" fill=\"#000000\" fill-rule=\"nonzero\" fill-opacity=\"1\" /><path clip-path=\"url(#clip770)\" d=\"M93.9086 1070.12 Q90.2975 1070.12 88.4688 1073.69 Q86.6632 1077.23 86.6632 1084.36 Q86.6632 1091.46 88.4688 1095.03 Q90.2975 1098.57 93.9086 1098.57 Q97.5428 1098.57 99.3483 1095.03 Q101.177 1091.46 101.177 1084.36 Q101.177 1077.23 99.3483 1073.69 Q97.5428 1070.12 93.9086 1070.12 M93.9086 1066.42 Q99.7187 1066.42 102.774 1071.02 Q105.853 1075.61 105.853 1084.36 Q105.853 1093.08 102.774 1097.69 Q99.7187 1102.27 93.9086 1102.27 Q88.0984 1102.27 85.0197 1097.69 Q81.9642 1093.08 81.9642 1084.36 Q81.9642 1075.61 85.0197 1071.02 Q88.0984 1066.42 93.9086 1066.42 Z\" fill=\"#000000\" fill-rule=\"nonzero\" fill-opacity=\"1\" /><path clip-path=\"url(#clip770)\" d=\"M64.3254 1002.03 Q61.1773 1002.03 59.3254 1004.19 Q57.4967 1006.34 57.4967 1010.09 Q57.4967 1013.82 59.3254 1015.99 Q61.1773 1018.14 64.3254 1018.14 Q67.4735 1018.14 69.3022 1015.99 Q71.1541 1013.82 71.1541 1010.09 Q71.1541 1006.34 69.3022 1004.19 Q67.4735 1002.03 64.3254 1002.03 M73.6077 987.381 L73.6077 991.64 Q71.8485 990.807 70.0429 990.367 Q68.2606 989.927 66.5013 989.927 Q61.8717 989.927 59.418 993.052 Q56.9875 996.177 56.6402 1002.5 Q58.006 1000.48 60.0662 999.418 Q62.1263 998.33 64.6032 998.33 Q69.8115 998.33 72.8207 1001.5 Q75.8531 1004.65 75.8531 1010.09 Q75.8531 1015.41 72.705 1018.63 Q69.5568 1021.85 64.3254 1021.85 Q58.33 1021.85 55.1588 1017.27 Q51.9875 1012.66 51.9875 1003.93 Q51.9875 995.738 55.8764 990.876 Q59.7652 985.992 66.3161 985.992 Q68.0754 985.992 69.8578 986.339 Q71.6633 986.687 73.6077 987.381 Z\" fill=\"#000000\" fill-rule=\"nonzero\" fill-opacity=\"1\" /><path clip-path=\"url(#clip770)\" d=\"M93.9086 989.696 Q90.2975 989.696 88.4688 993.261 Q86.6632 996.802 86.6632 1003.93 Q86.6632 1011.04 88.4688 1014.6 Q90.2975 1018.14 93.9086 1018.14 Q97.5428 1018.14 99.3483 1014.6 Q101.177 1011.04 101.177 1003.93 Q101.177 996.802 99.3483 993.261 Q97.5428 989.696 93.9086 989.696 M93.9086 985.992 Q99.7187 985.992 102.774 990.599 Q105.853 995.182 105.853 1003.93 Q105.853 1012.66 102.774 1017.27 Q99.7187 1021.85 93.9086 1021.85 Q88.0984 1021.85 85.0197 1017.27 Q81.9642 1012.66 81.9642 1003.93 Q81.9642 995.182 85.0197 990.599 Q88.0984 985.992 93.9086 985.992 Z\" fill=\"#000000\" fill-rule=\"nonzero\" fill-opacity=\"1\" /><path clip-path=\"url(#clip770)\" d=\"M52.5662 906.192 L74.7883 906.192 L74.7883 908.183 L62.2421 940.752 L57.3578 940.752 L69.1633 910.127 L52.5662 910.127 L52.5662 906.192 Z\" fill=\"#000000\" fill-rule=\"nonzero\" fill-opacity=\"1\" /><path clip-path=\"url(#clip770)\" d=\"M93.9086 909.271 Q90.2975 909.271 88.4688 912.836 Q86.6632 916.377 86.6632 923.507 Q86.6632 930.613 88.4688 934.178 Q90.2975 937.72 93.9086 937.72 Q97.5428 937.72 99.3483 934.178 Q101.177 930.613 101.177 923.507 Q101.177 916.377 99.3483 912.836 Q97.5428 909.271 93.9086 909.271 M93.9086 905.567 Q99.7187 905.567 102.774 910.174 Q105.853 914.757 105.853 923.507 Q105.853 932.234 102.774 936.84 Q99.7187 941.423 93.9086 941.423 Q88.0984 941.423 85.0197 936.84 Q81.9642 932.234 81.9642 923.507 Q81.9642 914.757 85.0197 910.174 Q88.0984 905.567 93.9086 905.567 Z\" fill=\"#000000\" fill-rule=\"nonzero\" fill-opacity=\"1\" /><path clip-path=\"url(#clip770)\" d=\"M801.543 814.081 L801.543 822.061 Q796.884 819.833 792.752 818.739 Q788.621 817.646 784.772 817.646 Q778.088 817.646 774.442 820.238 Q770.837 822.831 770.837 827.611 Q770.837 831.621 773.227 833.687 Q775.658 835.713 782.382 836.969 L787.324 837.981 Q796.479 839.723 800.814 844.139 Q805.189 848.514 805.189 855.886 Q805.189 864.677 799.274 869.214 Q793.401 873.751 782.018 873.751 Q777.724 873.751 772.863 872.779 Q768.042 871.806 762.857 869.902 L762.857 861.477 Q767.839 864.272 772.619 865.689 Q777.4 867.107 782.018 867.107 Q789.026 867.107 792.833 864.353 Q796.641 861.598 796.641 856.494 Q796.641 852.038 793.887 849.526 Q791.173 847.015 784.934 845.759 L779.952 844.787 Q770.797 842.964 766.705 839.075 Q762.614 835.186 762.614 828.259 Q762.614 820.238 768.244 815.62 Q773.916 811.002 783.84 811.002 Q788.094 811.002 792.509 811.772 Q796.925 812.542 801.543 814.081 Z\" fill=\"#000000\" fill-rule=\"nonzero\" fill-opacity=\"1\" /><path clip-path=\"url(#clip770)\" d=\"M855.339 845.192 L855.339 872.576 L847.885 872.576 L847.885 845.435 Q847.885 838.994 845.374 835.794 Q842.862 832.594 837.839 832.594 Q831.803 832.594 828.319 836.442 Q824.836 840.29 824.836 846.934 L824.836 872.576 L817.341 872.576 L817.341 809.544 L824.836 809.544 L824.836 834.254 Q827.509 830.163 831.115 828.138 Q834.76 826.112 839.5 826.112 Q847.318 826.112 851.329 830.973 Q855.339 835.794 855.339 845.192 Z\" fill=\"#000000\" fill-rule=\"nonzero\" fill-opacity=\"1\" /><path clip-path=\"url(#clip770)\" d=\"M870.206 827.206 L877.659 827.206 L877.659 872.576 L870.206 872.576 L870.206 827.206 M870.206 809.544 L877.659 809.544 L877.659 818.983 L870.206 818.983 L870.206 809.544 Z\" fill=\"#000000\" fill-rule=\"nonzero\" fill-opacity=\"1\" /><path clip-path=\"url(#clip770)\" d=\"M916.224 809.544 L916.224 815.742 L909.094 815.742 Q905.084 815.742 903.504 817.362 Q901.965 818.983 901.965 823.195 L901.965 827.206 L914.239 827.206 L914.239 832.999 L901.965 832.999 L901.965 872.576 L894.471 872.576 L894.471 832.999 L887.341 832.999 L887.341 827.206 L894.471 827.206 L894.471 824.046 Q894.471 816.471 897.995 813.028 Q901.519 809.544 909.175 809.544 L916.224 809.544 Z\" fill=\"#000000\" fill-rule=\"nonzero\" fill-opacity=\"1\" /><path clip-path=\"url(#clip770)\" d=\"M928.377 814.324 L928.377 827.206 L943.73 827.206 L943.73 832.999 L928.377 832.999 L928.377 857.628 Q928.377 863.178 929.876 864.758 Q931.415 866.338 936.073 866.338 L943.73 866.338 L943.73 872.576 L936.073 872.576 Q927.445 872.576 924.164 869.376 Q920.883 866.135 920.883 857.628 L920.883 832.999 L915.414 832.999 L915.414 827.206 L920.883 827.206 L920.883 814.324 L928.377 814.324 Z\" fill=\"#000000\" fill-rule=\"nonzero\" fill-opacity=\"1\" /><path clip-path=\"url(#clip770)\" d=\"M992.341 848.028 L992.341 851.673 L958.07 851.673 Q958.556 859.37 962.688 863.421 Q966.86 867.431 974.273 867.431 Q978.567 867.431 982.578 866.378 Q986.629 865.325 990.599 863.218 L990.599 870.267 Q986.588 871.968 982.375 872.86 Q978.162 873.751 973.828 873.751 Q962.971 873.751 956.612 867.431 Q950.292 861.112 950.292 850.337 Q950.292 839.197 956.287 832.675 Q962.323 826.112 972.532 826.112 Q981.687 826.112 986.993 832.026 Q992.341 837.9 992.341 848.028 M984.887 845.84 Q984.806 839.723 981.444 836.077 Q978.122 832.432 972.613 832.432 Q966.374 832.432 962.607 835.956 Q958.88 839.48 958.313 845.881 L984.887 845.84 Z\" fill=\"#000000\" fill-rule=\"nonzero\" fill-opacity=\"1\" /><path clip-path=\"url(#clip770)\" d=\"M1034.43 834.092 L1034.43 809.544 L1041.88 809.544 L1041.88 872.576 L1034.43 872.576 L1034.43 865.77 Q1032.08 869.821 1028.47 871.806 Q1024.91 873.751 1019.89 873.751 Q1011.66 873.751 1006.48 867.188 Q1001.33 860.626 1001.33 849.931 Q1001.33 839.237 1006.48 832.675 Q1011.66 826.112 1019.89 826.112 Q1024.91 826.112 1028.47 828.097 Q1032.08 830.042 1034.43 834.092 M1009.03 849.931 Q1009.03 858.155 1012.39 862.854 Q1015.8 867.512 1021.71 867.512 Q1027.62 867.512 1031.03 862.854 Q1034.43 858.155 1034.43 849.931 Q1034.43 841.708 1031.03 837.05 Q1027.62 832.351 1021.71 832.351 Q1015.8 832.351 1012.39 837.05 Q1009.03 841.708 1009.03 849.931 Z\" fill=\"#000000\" fill-rule=\"nonzero\" fill-opacity=\"1\" /><path clip-path=\"url(#clip770)\" d=\"M1083.93 812.096 L1118.69 812.096 L1118.69 818.983 L1092.11 818.983 L1092.11 836.807 L1116.1 836.807 L1116.1 843.693 L1092.11 843.693 L1092.11 872.576 L1083.93 872.576 L1083.93 812.096 Z\" fill=\"#000000\" fill-rule=\"nonzero\" fill-opacity=\"1\" /><path clip-path=\"url(#clip770)\" d=\"M1131.65 812.096 L1166.41 812.096 L1166.41 818.983 L1139.83 818.983 L1139.83 836.807 L1163.82 836.807 L1163.82 843.693 L1139.83 843.693 L1139.83 872.576 L1131.65 872.576 L1131.65 812.096 Z\" fill=\"#000000\" fill-rule=\"nonzero\" fill-opacity=\"1\" /><path clip-path=\"url(#clip770)\" d=\"M1169.53 812.096 L1220.69 812.096 L1220.69 818.983 L1199.22 818.983 L1199.22 872.576 L1191 872.576 L1191 818.983 L1169.53 818.983 L1169.53 812.096 Z\" fill=\"#000000\" fill-rule=\"nonzero\" fill-opacity=\"1\" /><path clip-path=\"url(#clip770)\" d=\"M1300.25 816.755 L1300.25 825.383 Q1296.12 821.535 1291.42 819.631 Q1286.76 817.727 1281.49 817.727 Q1271.12 817.727 1265.61 824.087 Q1260.11 830.406 1260.11 842.397 Q1260.11 854.347 1265.61 860.707 Q1271.12 867.026 1281.49 867.026 Q1286.76 867.026 1291.42 865.122 Q1296.12 863.218 1300.25 859.37 L1300.25 867.917 Q1295.96 870.834 1291.14 872.292 Q1286.36 873.751 1281.01 873.751 Q1267.28 873.751 1259.38 865.365 Q1251.48 856.94 1251.48 842.397 Q1251.48 827.814 1259.38 819.428 Q1267.28 811.002 1281.01 811.002 Q1286.44 811.002 1291.22 812.461 Q1296.04 813.878 1300.25 816.755 Z\" fill=\"#000000\" fill-rule=\"nonzero\" fill-opacity=\"1\" /><path clip-path=\"url(#clip770)\" d=\"M1330.15 832.432 Q1324.15 832.432 1320.67 837.131 Q1317.18 841.789 1317.18 849.931 Q1317.18 858.074 1320.63 862.773 Q1324.11 867.431 1330.15 867.431 Q1336.1 867.431 1339.58 862.732 Q1343.07 858.033 1343.07 849.931 Q1343.07 841.87 1339.58 837.171 Q1336.1 832.432 1330.15 832.432 M1330.15 826.112 Q1339.87 826.112 1345.42 832.432 Q1350.97 838.751 1350.97 849.931 Q1350.97 861.071 1345.42 867.431 Q1339.87 873.751 1330.15 873.751 Q1320.38 873.751 1314.83 867.431 Q1309.32 861.071 1309.32 849.931 Q1309.32 838.751 1314.83 832.432 Q1320.38 826.112 1330.15 826.112 Z\" fill=\"#000000\" fill-rule=\"nonzero\" fill-opacity=\"1\" /><path clip-path=\"url(#clip770)\" d=\"M1402.13 848.028 L1402.13 851.673 L1367.86 851.673 Q1368.35 859.37 1372.48 863.421 Q1376.65 867.431 1384.06 867.431 Q1388.36 867.431 1392.37 866.378 Q1396.42 865.325 1400.39 863.218 L1400.39 870.267 Q1396.38 871.968 1392.16 872.86 Q1387.95 873.751 1383.62 873.751 Q1372.76 873.751 1366.4 867.431 Q1360.08 861.112 1360.08 850.337 Q1360.08 839.197 1366.08 832.675 Q1372.11 826.112 1382.32 826.112 Q1391.48 826.112 1396.78 832.026 Q1402.13 837.9 1402.13 848.028 M1394.68 845.84 Q1394.6 839.723 1391.23 836.077 Q1387.91 832.432 1382.4 832.432 Q1376.16 832.432 1372.4 835.956 Q1368.67 839.48 1368.1 845.881 L1394.68 845.84 Z\" fill=\"#000000\" fill-rule=\"nonzero\" fill-opacity=\"1\" /><path clip-path=\"url(#clip770)\" d=\"M1437.33 809.544 L1437.33 815.742 L1430.2 815.742 Q1426.19 815.742 1424.61 817.362 Q1423.07 818.983 1423.07 823.195 L1423.07 827.206 L1435.35 827.206 L1435.35 832.999 L1423.07 832.999 L1423.07 872.576 L1415.58 872.576 L1415.58 832.999 L1408.45 832.999 L1408.45 827.206 L1415.58 827.206 L1415.58 824.046 Q1415.58 816.471 1419.1 813.028 Q1422.63 809.544 1430.28 809.544 L1437.33 809.544 Z\" fill=\"#000000\" fill-rule=\"nonzero\" fill-opacity=\"1\" /><path clip-path=\"url(#clip770)\" d=\"M1466.54 809.544 L1466.54 815.742 L1459.41 815.742 Q1455.4 815.742 1453.82 817.362 Q1452.28 818.983 1452.28 823.195 L1452.28 827.206 L1464.55 827.206 L1464.55 832.999 L1452.28 832.999 L1452.28 872.576 L1444.79 872.576 L1444.79 832.999 L1437.66 832.999 L1437.66 827.206 L1444.79 827.206 L1444.79 824.046 Q1444.79 816.471 1448.31 813.028 Q1451.83 809.544 1459.49 809.544 L1466.54 809.544 Z\" fill=\"#000000\" fill-rule=\"nonzero\" fill-opacity=\"1\" /><path clip-path=\"url(#clip770)\" d=\"M1472.78 827.206 L1480.23 827.206 L1480.23 872.576 L1472.78 872.576 L1472.78 827.206 M1472.78 809.544 L1480.23 809.544 L1480.23 818.983 L1472.78 818.983 L1472.78 809.544 Z\" fill=\"#000000\" fill-rule=\"nonzero\" fill-opacity=\"1\" /><path clip-path=\"url(#clip770)\" d=\"M1528.48 828.948 L1528.48 835.915 Q1525.32 834.173 1522.12 833.323 Q1518.96 832.432 1515.72 832.432 Q1508.47 832.432 1504.46 837.05 Q1500.45 841.627 1500.45 849.931 Q1500.45 858.236 1504.46 862.854 Q1508.47 867.431 1515.72 867.431 Q1518.96 867.431 1522.12 866.581 Q1525.32 865.689 1528.48 863.948 L1528.48 870.834 Q1525.36 872.292 1522 873.022 Q1518.67 873.751 1514.91 873.751 Q1504.66 873.751 1498.62 867.31 Q1492.59 860.869 1492.59 849.931 Q1492.59 838.832 1498.66 832.472 Q1504.78 826.112 1515.39 826.112 Q1518.84 826.112 1522.12 826.841 Q1525.4 827.53 1528.48 828.948 Z\" fill=\"#000000\" fill-rule=\"nonzero\" fill-opacity=\"1\" /><path clip-path=\"url(#clip770)\" d=\"M1541.44 827.206 L1548.89 827.206 L1548.89 872.576 L1541.44 872.576 L1541.44 827.206 M1541.44 809.544 L1548.89 809.544 L1548.89 818.983 L1541.44 818.983 L1541.44 809.544 Z\" fill=\"#000000\" fill-rule=\"nonzero\" fill-opacity=\"1\" /><path clip-path=\"url(#clip770)\" d=\"M1603.3 848.028 L1603.3 851.673 L1569.03 851.673 Q1569.51 859.37 1573.65 863.421 Q1577.82 867.431 1585.23 867.431 Q1589.52 867.431 1593.54 866.378 Q1597.59 865.325 1601.56 863.218 L1601.56 870.267 Q1597.55 871.968 1593.33 872.86 Q1589.12 873.751 1584.79 873.751 Q1573.93 873.751 1567.57 867.431 Q1561.25 861.112 1561.25 850.337 Q1561.25 839.197 1567.24 832.675 Q1573.28 826.112 1583.49 826.112 Q1592.64 826.112 1597.95 832.026 Q1603.3 837.9 1603.3 848.028 M1595.84 845.84 Q1595.76 839.723 1592.4 836.077 Q1589.08 832.432 1583.57 832.432 Q1577.33 832.432 1573.56 835.956 Q1569.84 839.48 1569.27 845.881 L1595.84 845.84 Z\" fill=\"#000000\" fill-rule=\"nonzero\" fill-opacity=\"1\" /><path clip-path=\"url(#clip770)\" d=\"M1653.25 845.192 L1653.25 872.576 L1645.79 872.576 L1645.79 845.435 Q1645.79 838.994 1643.28 835.794 Q1640.77 832.594 1635.75 832.594 Q1629.71 832.594 1626.23 836.442 Q1622.74 840.29 1622.74 846.934 L1622.74 872.576 L1615.25 872.576 L1615.25 827.206 L1622.74 827.206 L1622.74 834.254 Q1625.42 830.163 1629.02 828.138 Q1632.67 826.112 1637.41 826.112 Q1645.22 826.112 1649.24 830.973 Q1653.25 835.794 1653.25 845.192 Z\" fill=\"#000000\" fill-rule=\"nonzero\" fill-opacity=\"1\" /><path clip-path=\"url(#clip770)\" d=\"M1675.49 814.324 L1675.49 827.206 L1690.84 827.206 L1690.84 832.999 L1675.49 832.999 L1675.49 857.628 Q1675.49 863.178 1676.98 864.758 Q1678.52 866.338 1683.18 866.338 L1690.84 866.338 L1690.84 872.576 L1683.18 872.576 Q1674.55 872.576 1671.27 869.376 Q1667.99 866.135 1667.99 857.628 L1667.99 832.999 L1662.52 832.999 L1662.52 827.206 L1667.99 827.206 L1667.99 814.324 L1675.49 814.324 Z\" fill=\"#000000\" fill-rule=\"nonzero\" fill-opacity=\"1\" /><path clip-path=\"url(#clip770)\" d=\"M1729.56 828.543 L1729.56 835.591 Q1726.4 833.971 1723 833.161 Q1719.6 832.351 1715.95 832.351 Q1710.4 832.351 1707.61 834.052 Q1704.85 835.753 1704.85 839.156 Q1704.85 841.749 1706.84 843.247 Q1708.82 844.706 1714.82 846.043 L1717.37 846.61 Q1725.31 848.311 1728.63 851.43 Q1732 854.509 1732 860.059 Q1732 866.378 1726.97 870.064 Q1721.99 873.751 1713.24 873.751 Q1709.59 873.751 1705.62 873.022 Q1701.69 872.333 1697.32 870.915 L1697.32 863.218 Q1701.45 865.365 1705.46 866.459 Q1709.47 867.512 1713.4 867.512 Q1718.67 867.512 1721.5 865.73 Q1724.34 863.907 1724.34 860.626 Q1724.34 857.588 1722.27 855.967 Q1720.25 854.347 1713.32 852.848 L1710.73 852.24 Q1703.8 850.782 1700.72 847.784 Q1697.64 844.746 1697.64 839.48 Q1697.64 833.08 1702.18 829.596 Q1706.72 826.112 1715.06 826.112 Q1719.19 826.112 1722.84 826.72 Q1726.49 827.327 1729.56 828.543 Z\" fill=\"#000000\" fill-rule=\"nonzero\" fill-opacity=\"1\" /><polyline clip-path=\"url(#clip773)\" style=\"stroke:#009af9; stroke-linecap:round; stroke-linejoin:round; stroke-width:4; stroke-opacity:1; fill:none\" points=\"204.426,1480.42 308.714,1475.29 413.001,1485.58 517.289,1483.18 621.577,1475.73 725.865,1477.07 830.153,1162.67 934.441,1474.81 1038.73,1478.62 1143.02,1475.14 1247.3,1393.06 1351.59,1475.14 1455.88,1478.62 1560.17,1474.81 1664.46,1469.13 1768.74,1477.07 1873.03,981.102 1977.32,1483.18 2081.61,1485.58 2185.9,1475.29 2290.18,1480.42 \"/>\n",
       "<polyline clip-path=\"url(#clip773)\" style=\"stroke:#ffffff; stroke-linecap:round; stroke-linejoin:round; stroke-width:4; stroke-opacity:1; fill:none\" points=\"830.153,1162.67 1247.3,1393.06 1873.03,981.102 \"/>\n",
       "<circle clip-path=\"url(#clip773)\" cx=\"830.153\" cy=\"1162.67\" r=\"21.6\" fill=\"#e26f46\" fill-rule=\"evenodd\" fill-opacity=\"1\" stroke=\"#000000\" stroke-opacity=\"1\" stroke-width=\"3.2\"/>\n",
       "<circle clip-path=\"url(#clip773)\" cx=\"1247.3\" cy=\"1393.06\" r=\"21.6\" fill=\"#e26f46\" fill-rule=\"evenodd\" fill-opacity=\"1\" stroke=\"#000000\" stroke-opacity=\"1\" stroke-width=\"3.2\"/>\n",
       "<circle clip-path=\"url(#clip773)\" cx=\"1873.03\" cy=\"981.102\" r=\"21.6\" fill=\"#e26f46\" fill-rule=\"evenodd\" fill-opacity=\"1\" stroke=\"#000000\" stroke-opacity=\"1\" stroke-width=\"3.2\"/>\n",
       "</svg>\n"
      ]
     },
     "metadata": {},
     "output_type": "display_data"
    }
   ],
   "source": [
    "using FFTW\n",
    "using Plots\n",
    "\n",
    "N = 21\n",
    "xj = (0:N-1)*2*π/N\n",
    "f = 2*exp.(17*im*xj) + 3*exp.(6*im*xj) + rand(N)\n",
    "\n",
    "original_k = 1:N\n",
    "shifted_k = fftshift(fftfreq(N)*N)\n",
    "\n",
    "original_fft = fft(f)\n",
    "shifted_fft = fftshift(fft(f))\n",
    "\n",
    "p1 = plot(original_k,abs.(original_fft),title=\"Original FFT Coefficients\", xticks=original_k[1:2:end], legend=false, ylims=(0,70));\n",
    "p1 = plot!([1,7,18],abs.(original_fft[[1,7,18]]),markershape=:circle,markersize=6,linecolor=\"white\");\n",
    "p2 = plot(shifted_k,abs.(shifted_fft),title=\"Shifted FFT Coefficients\",xticks=shifted_k[1:2:end], legend=false, ylims=(0,70));\n",
    "p2 = plot!([-4,0,6],abs.(shifted_fft[[7,11,17]]),markershape=:circle,markersize=6,linecolor=\"white\");\n",
    "plot(p1,p2,layout=(2,1))"
   ]
  },
  {
   "cell_type": "code",
   "execution_count": 72,
   "id": "0ea676b3",
   "metadata": {},
   "outputs": [
    {
     "data": {
      "text/plain": [
       "\u001b[32m\u001b[1mTest Passed\u001b[22m\u001b[39m"
      ]
     },
     "metadata": {},
     "output_type": "display_data"
    }
   ],
   "source": [
    "using FFTW\n",
    "using Test\n",
    "\n",
    "N = 22\n",
    "xj = (0:N-1)*2*π/N\n",
    "f = 2*sin.(6*xj) + 0.1*rand(N)\n",
    "z = zeros(ComplexF64, 12)\n",
    "\n",
    "p = plan_rfft(f)\n",
    "ip = plan_irfft(z,N)\n",
    "\n",
    "Y = p * f\n",
    "f2 = ip * Y\n",
    "\n",
    "@test f ≈ f2\n",
    "# Test Passed"
   ]
  },
  {
   "cell_type": "code",
   "execution_count": 3,
   "id": "32dd00ff",
   "metadata": {},
   "outputs": [
    {
     "ename": "BoundsError",
     "evalue": "BoundsError: attempt to access 1×10 Matrix{Float64} at index [11]",
     "output_type": "error",
     "traceback": [
      "BoundsError: attempt to access 1×10 Matrix{Float64} at index [11]\n",
      "\n",
      "Stacktrace:\n",
      " [1] setindex!(A::Matrix{Float64}, x::Float64, i1::Int64)\n",
      "   @ Base .\\array.jl:966\n",
      " [2] top-level scope\n",
      "   @ c:\\Users\\tkoike3\\Code\\LiftAndLearn.jl\\examples\\scribble.ipynb:4"
     ]
    }
   ],
   "source": [
    "i = 1\n",
    "foo = zeros(1,10)\n",
    "for k in rand(10,1)\n",
    "    foo[i+=1] = k\n",
    "end\n",
    "foo"
   ]
  },
  {
   "cell_type": "code",
   "execution_count": 3,
   "id": "73f3a471",
   "metadata": {},
   "outputs": [
    {
     "data": {
      "text/plain": [
       "10×2 Matrix{ComplexF64}:\n",
       " 9.49137e-312+9.49133e-312im  9.49138e-312+9.49133e-312im\n",
       " 9.49133e-312+9.49123e-312im  9.49133e-312+5.0e-324im\n",
       " 9.49137e-312+9.49137e-312im  9.49137e-312+9.49137e-312im\n",
       " 9.49137e-312+9.49133e-312im  9.49137e-312+9.49133e-312im\n",
       " 9.49133e-312+9.49133e-312im  9.49133e-312+9.49133e-312im\n",
       " 9.49137e-312+9.49135e-312im  9.49137e-312+9.49137e-312im\n",
       " 9.49135e-312+9.49135e-312im  9.49137e-312+9.49133e-312im\n",
       " 9.49123e-312+9.49133e-312im  9.49133e-312+9.49133e-312im\n",
       " 9.49133e-312+9.49135e-312im  9.49133e-312+7.4e-323im\n",
       " 9.49133e-312+9.49133e-312im      7.4e-323+4.0e-323im"
      ]
     },
     "metadata": {},
     "output_type": "display_data"
    }
   ],
   "source": [
    "using LinearAlgebra, FFTW\n",
    "\n",
    "a = Matrix{ComplexF64}(undef, 10, 2)\n"
   ]
  }
 ],
 "metadata": {
  "kernelspec": {
   "display_name": "Julia 1.8.5",
   "language": "julia",
   "name": "julia-1.8"
  },
  "language_info": {
   "file_extension": ".jl",
   "mimetype": "application/julia",
   "name": "julia",
   "version": "1.8.5"
  }
 },
 "nbformat": 4,
 "nbformat_minor": 5
}
